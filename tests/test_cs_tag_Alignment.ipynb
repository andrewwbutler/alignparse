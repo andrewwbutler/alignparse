{
 "cells": [
  {
   "cell_type": "markdown",
   "metadata": {},
   "source": [
    "# Test the `cs_tag.Alignment.extract_cs` objects\n",
    "This notebook is designed to be run with `nbval` as a test.\n",
    "\n",
    "First, create a `DummyAlignedSegment` class that emulates the necessary part of a `pysam.AlignedSegment`.\n",
    "It returns all the required attributes for internal functioning of `cs_tag.Alignment`, even if many of these just have dummy values:"
   ]
  },
  {
   "cell_type": "code",
   "execution_count": 1,
   "metadata": {},
   "outputs": [],
   "source": [
    "class DummyAlignedSegment:\n",
    "    \"\"\"Emulates `pysam.AlignedSegment` for testing `cs_tag.Alignment`.\"\"\"\n",
    "    \n",
    "    def __init__(self, *, reference_start, cs):\n",
    "        # attributes with hardcoded values are irrelevant to test\n",
    "        self.query_name = 'queryname'\n",
    "        self.reference_name = 'refname'\n",
    "        self.query_alignment_start = 0\n",
    "        self.query_length = 0\n",
    "        self.query_alignment_end = 0\n",
    "        self.is_reverse = '+'\n",
    "        self.reference_end = 0\n",
    "        self.is_unmapped = False\n",
    "        \n",
    "        # relevant attributes\n",
    "        self.reference_start = reference_start\n",
    "        self._cs = cs\n",
    "        \n",
    "    def get_tag(self, tag):\n",
    "        if tag == 'cs':\n",
    "            return self._cs\n",
    "        else:\n",
    "            raise ValueError('invalid tag')"
   ]
  },
  {
   "cell_type": "markdown",
   "metadata": {},
   "source": [
    "We will test `cs_tag.Alignment` objects:"
   ]
  },
  {
   "cell_type": "code",
   "execution_count": 2,
   "metadata": {},
   "outputs": [],
   "source": [
    "from alignparse.cs_tag import Alignment"
   ]
  },
  {
   "cell_type": "markdown",
   "metadata": {},
   "source": [
    "First test segment that is all identities:"
   ]
  },
  {
   "cell_type": "code",
   "execution_count": 3,
   "metadata": {},
   "outputs": [],
   "source": [
    "a_ident = Alignment(DummyAlignedSegment(\n",
    "                reference_start=0,\n",
    "                cs=':20'))"
   ]
  },
  {
   "cell_type": "code",
   "execution_count": 4,
   "metadata": {},
   "outputs": [
    {
     "data": {
      "text/plain": [
       "(':20', 0, 0)"
      ]
     },
     "execution_count": 4,
     "metadata": {},
     "output_type": "execute_result"
    }
   ],
   "source": [
    "a_ident.extract_cs(0, 20)"
   ]
  },
  {
   "cell_type": "code",
   "execution_count": 5,
   "metadata": {},
   "outputs": [
    {
     "data": {
      "text/plain": [
       "(':15', 0, 6)"
      ]
     },
     "execution_count": 5,
     "metadata": {},
     "output_type": "execute_result"
    }
   ],
   "source": [
    "a_ident.extract_cs(5, 26)"
   ]
  },
  {
   "cell_type": "markdown",
   "metadata": {},
   "source": [
    "Another segment that is all identities but starts shifted:"
   ]
  },
  {
   "cell_type": "code",
   "execution_count": 6,
   "metadata": {},
   "outputs": [],
   "source": [
    "a_ident_shifted = Alignment(DummyAlignedSegment(\n",
    "                reference_start=5,\n",
    "                cs=':20'))"
   ]
  },
  {
   "cell_type": "code",
   "execution_count": 7,
   "metadata": {},
   "outputs": [
    {
     "data": {
      "text/plain": [
       "(':15', 5, 0)"
      ]
     },
     "execution_count": 7,
     "metadata": {},
     "output_type": "execute_result"
    }
   ],
   "source": [
    "a_ident_shifted.extract_cs(0, 20)"
   ]
  },
  {
   "cell_type": "code",
   "execution_count": 8,
   "metadata": {},
   "outputs": [
    {
     "data": {
      "text/plain": [
       "(':20', 1, 1)"
      ]
     },
     "execution_count": 8,
     "metadata": {},
     "output_type": "execute_result"
    }
   ],
   "source": [
    "a_ident_shifted.extract_cs(4, 26)"
   ]
  },
  {
   "cell_type": "code",
   "execution_count": 9,
   "metadata": {},
   "outputs": [
    {
     "data": {
      "text/plain": [
       "(':13', 2, 0)"
      ]
     },
     "execution_count": 9,
     "metadata": {},
     "output_type": "execute_result"
    }
   ],
   "source": [
    "a_ident_shifted.extract_cs(3, 18)"
   ]
  },
  {
   "cell_type": "code",
   "execution_count": 10,
   "metadata": {},
   "outputs": [],
   "source": [
    "a_del = Alignment(DummyAlignedSegment(\n",
    "                reference_start=0,\n",
    "                cs='-aatgccgcttcaatgcc'))"
   ]
  },
  {
   "cell_type": "code",
   "execution_count": 11,
   "metadata": {},
   "outputs": [
    {
     "ename": "AssertionError",
     "evalue": "-gcttc,0,0",
     "output_type": "error",
     "traceback": [
      "\u001b[0;31m----------------------------------------------------------------------\u001b[0m",
      "\u001b[0;31mAssertionError\u001b[0m                       Traceback (most recent call last)",
      "\u001b[0;32m<ipython-input-11-d4e84a6ca966>\u001b[0m in \u001b[0;36m<module>\u001b[0;34m\u001b[0m\n\u001b[0;32m----> 1\u001b[0;31m \u001b[0ma_del\u001b[0m\u001b[0;34m.\u001b[0m\u001b[0mextract_cs\u001b[0m\u001b[0;34m(\u001b[0m\u001b[0;36m6\u001b[0m\u001b[0;34m,\u001b[0m \u001b[0;36m10\u001b[0m\u001b[0;34m)\u001b[0m\u001b[0;34m\u001b[0m\u001b[0;34m\u001b[0m\u001b[0m\n\u001b[0m",
      "\u001b[0;32m/fh/fast/bloom_j/computational_notebooks/kdusenbu/2019/alignparse/alignparse/cs_tag.py\u001b[0m in \u001b[0;36mextract_cs\u001b[0;34m(self, start, end)\u001b[0m\n\u001b[1;32m    357\u001b[0m         \u001b[0;31m# this next assert might be costly, so maybe remove eventually\u001b[0m\u001b[0;34m\u001b[0m\u001b[0;34m\u001b[0m\u001b[0;34m\u001b[0m\u001b[0m\n\u001b[1;32m    358\u001b[0m         assert (sum(cs_op_len_target(op) for op in split_cs(feature_cs)) +\n\u001b[0;32m--> 359\u001b[0;31m                 clip5 + clip3 == end - start), f\"{feature_cs},{clip5},{clip3}\"\n\u001b[0m\u001b[1;32m    360\u001b[0m \u001b[0;34m\u001b[0m\u001b[0m\n\u001b[1;32m    361\u001b[0m         \u001b[0;32mreturn\u001b[0m \u001b[0;34m(\u001b[0m\u001b[0mfeature_cs\u001b[0m\u001b[0;34m,\u001b[0m \u001b[0mclip5\u001b[0m\u001b[0;34m,\u001b[0m \u001b[0mclip3\u001b[0m\u001b[0;34m)\u001b[0m\u001b[0;34m\u001b[0m\u001b[0;34m\u001b[0m\u001b[0m\n",
      "\u001b[0;31mAssertionError\u001b[0m: -gcttc,0,0"
     ]
    }
   ],
   "source": [
    "a_del.extract_cs(6, 10)"
   ]
  },
  {
   "cell_type": "code",
   "execution_count": null,
   "metadata": {},
   "outputs": [],
   "source": [
    "a_del.extract_cs(6, 7)"
   ]
  },
  {
   "cell_type": "code",
   "execution_count": null,
   "metadata": {},
   "outputs": [],
   "source": [
    "a_ins_split = Alignment(DummyAlignedSegment(\n",
    "                reference_start=0,\n",
    "                cs=':5+atg:3'))"
   ]
  },
  {
   "cell_type": "code",
   "execution_count": null,
   "metadata": {},
   "outputs": [],
   "source": [
    "a_ins_split.extract_cs(0, 5)"
   ]
  },
  {
   "cell_type": "code",
   "execution_count": null,
   "metadata": {},
   "outputs": [],
   "source": [
    "a_ins_split.extract_cs(4, 8)"
   ]
  },
  {
   "cell_type": "code",
   "execution_count": null,
   "metadata": {},
   "outputs": [],
   "source": []
  },
  {
   "cell_type": "code",
   "execution_count": null,
   "metadata": {},
   "outputs": [],
   "source": []
  }
 ],
 "metadata": {
  "kernelspec": {
   "display_name": "Python 3",
   "language": "python",
   "name": "python3"
  },
  "language_info": {
   "codemirror_mode": {
    "name": "ipython",
    "version": 3
   },
   "file_extension": ".py",
   "mimetype": "text/x-python",
   "name": "python",
   "nbconvert_exporter": "python",
   "pygments_lexer": "ipython3",
   "version": "3.6.7"
  },
  "toc": {
   "base_numbering": 1,
   "nav_menu": {},
   "number_sections": false,
   "sideBar": true,
   "skip_h1_title": false,
   "title_cell": "Table of Contents",
   "title_sidebar": "Contents",
   "toc_cell": false,
   "toc_position": {},
   "toc_section_display": true,
   "toc_window_display": false
  }
 },
 "nbformat": 4,
 "nbformat_minor": 2
}
