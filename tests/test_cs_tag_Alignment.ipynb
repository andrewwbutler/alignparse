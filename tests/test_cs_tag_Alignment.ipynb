{
 "cells": [
  {
   "cell_type": "markdown",
   "metadata": {},
   "source": [
    "# Test the `cs_tag.Alignment.extract_cs` objects\n",
    "This notebook is designed to be run with `nbval` as a test.\n",
    "\n",
    "First, create a `DummyAlignedSegment` class that emulates the necessary part of a `pysam.AlignedSegment`.\n",
    "It returns all the required attributes for internal functioning of `cs_tag.Alignment`, even if many of these just have dummy values:"
   ]
  },
  {
   "cell_type": "code",
   "execution_count": 1,
   "metadata": {},
   "outputs": [],
   "source": [
    "class DummyAlignedSegment:\n",
    "    \"\"\"Emulates `pysam.AlignedSegment` for testing `cs_tag.Alignment`.\"\"\"\n",
    "    \n",
    "    def __init__(self, *, reference_start, cs):\n",
    "        # attributes with hardcoded values are irrelevant to test\n",
    "        self.query_name = 'queryname'\n",
    "        self.reference_name = 'refname'\n",
    "        self.query_alignment_start = 0\n",
    "        self.query_length = 0\n",
    "        self.query_alignment_end = 0\n",
    "        self.is_reverse = '+'\n",
    "        self.reference_end = 0\n",
    "        self.is_unmapped = False\n",
    "        \n",
    "        # relevant attributes\n",
    "        self.reference_start = reference_start\n",
    "        self._cs = cs\n",
    "        \n",
    "    def get_tag(self, tag):\n",
    "        if tag == 'cs':\n",
    "            return self._cs\n",
    "        else:\n",
    "            raise ValueError('invalid tag')"
   ]
  },
  {
   "cell_type": "markdown",
   "metadata": {},
   "source": [
    "We will test `cs_tag.Alignment` objects:"
   ]
  },
  {
   "cell_type": "code",
   "execution_count": 2,
   "metadata": {},
   "outputs": [],
   "source": [
    "from alignparse.cs_tag import Alignment"
   ]
  },
  {
   "cell_type": "markdown",
   "metadata": {},
   "source": [
    "First test segment that is all identities:"
   ]
  },
  {
   "cell_type": "code",
   "execution_count": 3,
   "metadata": {},
   "outputs": [],
   "source": [
    "a_ident = Alignment(DummyAlignedSegment(\n",
    "                reference_start=0,\n",
    "                cs=':20'))"
   ]
  },
  {
   "cell_type": "code",
   "execution_count": 4,
   "metadata": {},
   "outputs": [
    {
     "data": {
      "text/plain": [
       "(':20', 0, 0)"
      ]
     },
     "execution_count": 4,
     "metadata": {},
     "output_type": "execute_result"
    }
   ],
   "source": [
    "a_ident.extract_cs(0, 20)"
   ]
  },
  {
   "cell_type": "code",
   "execution_count": 5,
   "metadata": {},
   "outputs": [
    {
     "data": {
      "text/plain": [
       "(':15', 0, 6)"
      ]
     },
     "execution_count": 5,
     "metadata": {},
     "output_type": "execute_result"
    }
   ],
   "source": [
    "a_ident.extract_cs(5, 26)"
   ]
  },
  {
   "cell_type": "markdown",
   "metadata": {},
   "source": [
    "Another segment that is all identities but starts shifted:"
   ]
  },
  {
   "cell_type": "code",
   "execution_count": 6,
   "metadata": {},
   "outputs": [],
   "source": [
    "a_ident_shifted = Alignment(DummyAlignedSegment(\n",
    "                reference_start=5,\n",
    "                cs=':20'))"
   ]
  },
  {
   "cell_type": "code",
   "execution_count": 7,
   "metadata": {},
   "outputs": [
    {
     "data": {
      "text/plain": [
       "(':15', 5, 0)"
      ]
     },
     "execution_count": 7,
     "metadata": {},
     "output_type": "execute_result"
    }
   ],
   "source": [
    "a_ident_shifted.extract_cs(0, 20)"
   ]
  },
  {
   "cell_type": "code",
   "execution_count": 8,
   "metadata": {},
   "outputs": [
    {
     "data": {
      "text/plain": [
       "(':20', 1, 1)"
      ]
     },
     "execution_count": 8,
     "metadata": {},
     "output_type": "execute_result"
    }
   ],
   "source": [
    "a_ident_shifted.extract_cs(4, 26)"
   ]
  },
  {
   "cell_type": "code",
   "execution_count": 9,
   "metadata": {},
   "outputs": [
    {
     "data": {
      "text/plain": [
       "(':13', 2, 0)"
      ]
     },
     "execution_count": 9,
     "metadata": {},
     "output_type": "execute_result"
    }
   ],
   "source": [
    "a_ident_shifted.extract_cs(3, 18)"
   ]
  },
  {
   "cell_type": "code",
   "execution_count": 10,
   "metadata": {},
   "outputs": [],
   "source": [
    "a_del = Alignment(DummyAlignedSegment(\n",
    "                reference_start=0,\n",
    "                cs='-aatgccgcttcaatgcc'))"
   ]
  },
  {
   "cell_type": "code",
   "execution_count": 11,
   "metadata": {},
   "outputs": [
    {
     "data": {
      "text/plain": [
       "('-gcttcaatgcc', 0, 18)"
      ]
     },
     "execution_count": 11,
     "metadata": {},
     "output_type": "execute_result"
    }
   ],
   "source": [
    "a_del.extract_cs(6, 35)"
   ]
  },
  {
   "cell_type": "code",
   "execution_count": 12,
   "metadata": {},
   "outputs": [],
   "source": [
    "a_ins_split = Alignment(DummyAlignedSegment(\n",
    "                reference_start=0,\n",
    "                cs=':5+atg:3'))"
   ]
  },
  {
   "cell_type": "code",
   "execution_count": 13,
   "metadata": {},
   "outputs": [
    {
     "data": {
      "text/plain": [
       "(':5+atg', 0, 0)"
      ]
     },
     "execution_count": 13,
     "metadata": {},
     "output_type": "execute_result"
    }
   ],
   "source": [
    "a_ins_split.extract_cs(0, 5)"
   ]
  },
  {
   "cell_type": "code",
   "execution_count": null,
   "metadata": {},
   "outputs": [],
   "source": []
  },
  {
   "cell_type": "code",
   "execution_count": null,
   "metadata": {},
   "outputs": [],
   "source": []
  }
 ],
 "metadata": {
  "kernelspec": {
   "display_name": "Python 3",
   "language": "python",
   "name": "python3"
  },
  "language_info": {
   "codemirror_mode": {
    "name": "ipython",
    "version": 3
   },
   "file_extension": ".py",
   "mimetype": "text/x-python",
   "name": "python",
   "nbconvert_exporter": "python",
   "pygments_lexer": "ipython3",
   "version": "3.6.7"
  },
  "toc": {
   "base_numbering": 1,
   "nav_menu": {},
   "number_sections": false,
   "sideBar": true,
   "skip_h1_title": false,
   "title_cell": "Table of Contents",
   "title_sidebar": "Contents",
   "toc_cell": false,
   "toc_position": {},
   "toc_section_display": true,
   "toc_window_display": false
  }
 },
 "nbformat": 4,
 "nbformat_minor": 2
}
