{
 "cells": [
  {
   "cell_type": "markdown",
   "metadata": {},
   "source": [
    "# Test alignment parsing by `Targets`\n",
    "This Jupyter notebook is designed to test parsing of alignments by `Targets`."
   ]
  },
  {
   "cell_type": "markdown",
   "metadata": {},
   "source": [
    "## Import Python modules"
   ]
  },
  {
   "cell_type": "code",
   "execution_count": 1,
   "metadata": {},
   "outputs": [],
   "source": [
    "import contextlib\n",
    "import os\n",
    "import random\n",
    "import re\n",
    "import tempfile\n",
    "\n",
    "from IPython.display import display\n",
    "\n",
    "import pandas as pd\n",
    "\n",
    "import alignparse.minimap2\n",
    "import alignparse.targets"
   ]
  },
  {
   "cell_type": "markdown",
   "metadata": {},
   "source": [
    "## Set up `Targets`\n",
    "Read in the RecA target used in the notebook examples:"
   ]
  },
  {
   "cell_type": "code",
   "execution_count": 2,
   "metadata": {},
   "outputs": [
    {
     "name": "stdout",
     "output_type": "stream",
     "text": [
      "There is just one target: ['RecA_PacBio_amplicon']\n",
      "It has the following features: ['termini5', 'gene', 'spacer', 'barcode', 'termini3', 'variant_tag5', 'variant_tag3']\n"
     ]
    },
    {
     "data": {
      "image/png": "[encoded data removed]",
      "text/plain": [
       "<Figure size 360x216 with 1 Axes>"
      ]
     },
     "metadata": {
      "needs_background": "light"
     },
     "output_type": "display_data"
    }
   ],
   "source": [
    "targetfile = '../notebooks/input_files/recA_amplicon.gb'\n",
    "\n",
    "targets = alignparse.targets.Targets(seqsfile=targetfile, allow_extra_features=True)\n",
    "\n",
    "print(f\"There is just one target: {targets.target_names}\")\n",
    "target = targets.targets[0]\n",
    "\n",
    "print(f\"It has the following features: {target.feature_names}\")\n",
    "\n",
    "_ = targets.plot()"
   ]
  },
  {
   "cell_type": "markdown",
   "metadata": {},
   "source": [
    "Location of features in 0-indexed scheme:"
   ]
  },
  {
   "cell_type": "code",
   "execution_count": 3,
   "metadata": {},
   "outputs": [
    {
     "name": "stdout",
     "output_type": "stream",
     "text": [
      "termini5 0 147\n",
      "gene 147 1206\n",
      "spacer 1206 1285\n",
      "barcode 1285 1303\n",
      "termini3 1303 1342\n",
      "variant_tag5 32 33\n",
      "variant_tag3 1310 1311\n"
     ]
    }
   ],
   "source": [
    "for feature in target.features:\n",
    "    print(feature.name, feature.start, feature.end)"
   ]
  },
  {
   "cell_type": "markdown",
   "metadata": {},
   "source": [
    "## Make some queries\n",
    "We make some query sequences that we will align against the target.\n",
    "The name of each query is a description of all ways that it differs from target:"
   ]
  },
  {
   "cell_type": "code",
   "execution_count": 4,
   "metadata": {},
   "outputs": [],
   "source": [
    "random.seed(1)  # for reproducible output\n",
    "nts = 'ACGT'  # valid nucleotides\n",
    "\n",
    "def randseq(length):\n",
    "    \"\"\"Random nucleotide sequence of given length.\"\"\"\n",
    "    return ''.join(random.choices(nts, k=length))\n",
    "\n",
    "def mutseq(wtseq):\n",
    "    \"\"\"Random mutant sequence from a wildtype sequence.\"\"\"\n",
    "    return ''.join(random.choice([nt for nt in nts if nt != wt]) for wt in wtseq)\n",
    "\n",
    "def get_wt_query(target, ambiguous_features=('barcode', 'variant_tag5', 'variant_tag3')):\n",
    "    \"\"\"`(description, seq)` for wildtype query, ambiguous features assigned.\"\"\"\n",
    "    seq = target.seq\n",
    "    description = []\n",
    "    for fname in ambiguous_features:\n",
    "        f = target.get_feature(fname)\n",
    "        fseq = randseq(f.length)\n",
    "        seq = seq[: f.start] + fseq + seq[f.end:]\n",
    "        description.append(f\"{f.name}={fseq}\")\n",
    "    assert len(seq) == len(target.seq)\n",
    "    assert re.fullmatch(f\"[{nts}]+\", seq)\n",
    "    return ','.join(description), seq\n",
    "\n",
    "queries = []\n",
    "\n",
    "# get two random (unmappable) queries\n",
    "queries.append(('unmapped_1', randseq(target.length)))\n",
    "queries.append(('unmapped_2', randseq(target.length // 2)))\n",
    "\n",
    "# get a fully wildtype query\n",
    "queries.append(get_wt_query(target))\n",
    "\n",
    "# query with query clipping at both ends and a codon substitution in gene\n",
    "desc, seq = get_wt_query(target)\n",
    "# add substitution to gene\n",
    "gene = target.get_feature('gene')\n",
    "geneseq = gene.seq\n",
    "mutstart = 6\n",
    "mutlength = 3\n",
    "mutcodon = mutseq(gene.seq[mutstart: mutstart + mutlength])\n",
    "sub_desc = []\n",
    "for i in range(mutlength):\n",
    "    wt = geneseq[i + mutstart]\n",
    "    mut = mutcodon[i]\n",
    "    sub_desc.append(f\"{wt}{mutstart + i}{mut}\")\n",
    "    geneseq = geneseq[: mutstart + i] + mut + geneseq[mutstart + i + 1:]\n",
    "seq = seq[: gene.start] + geneseq + seq[gene.end:]\n",
    "desc += f\",gene_{'-'.join(sub_desc)}\"\n",
    "# add clipping\n",
    "desc += ',query_clip5=9'\n",
    "seq = randseq(9) + seq\n",
    "desc += ',query_clip3=7'\n",
    "seq += randseq(7)\n",
    "# add to list of queries\n",
    "queries.append((desc, seq))\n",
    "\n",
    "# query with a deletion in gene and in insertion in spacer\n",
    "desc, seq = get_wt_query(target)\n",
    "delstart = 7\n",
    "dellength = 15\n",
    "geneseq = gene.seq[: delstart] + gene.seq[delstart + dellength:]\n",
    "spacer = target.get_feature('spacer')\n",
    "insstart = 4\n",
    "ins = 'GATCTA'\n",
    "spacerseq = spacer.seq[: insstart] + ins + spacer.seq[insstart:]\n",
    "seq = seq[: gene.start] + geneseq + seq[gene.end: spacer.start] + spacerseq + seq[spacer.end:] \n",
    "desc += f\",gene_del{delstart}to{delstart + dellength}\"\n",
    "desc += f\",spacer_ins{insstart}{ins}\"\n",
    "queries.append((desc, seq))\n",
    "\n",
    "# query with deletion spanning gene and spacer\n",
    "desc, seq = get_wt_query(target)\n",
    "delstartgene = gene.length - 7\n",
    "delendgene = delstartgene + 7\n",
    "geneseq = gene.seq[: delstartgene]\n",
    "delendspacer = 9\n",
    "spacerseq = spacer.seq[delendspacer:]\n",
    "seq = seq[: gene.start] + geneseq + spacerseq + seq[spacer.end:]\n",
    "desc += f\",gene_del{delstartgene}to{delendgene},spacer_del1to{delendspacer}\"\n",
    "queries.append((desc, seq))\n",
    "\n",
    "# query with insertion at boundary of gene and spacer, note how\n",
    "# it is assigned as being at end of gene\n",
    "desc, seq = get_wt_query(target)\n",
    "ins = randseq(14)\n",
    "seq = seq[: gene.end] + ins + seq[spacer.start:]\n",
    "desc += f\",gene_ins{gene.length}{ins}\"\n",
    "queries.append((desc, seq))\n",
    "\n",
    "# query with target clipping at both ends\n",
    "desc, seq = get_wt_query(target)\n",
    "target_clip5 = target.get_feature('termini5').length + 4\n",
    "target_clip3 = 2\n",
    "seq = seq[target_clip5: -target_clip3]\n",
    "desc = desc.split(',')\n",
    "desc = ','.join([desc[0], 'variant_tag5=None', desc[2]])\n",
    "desc += f\",target_clip5={target_clip5},target_clip3={target_clip3}\"\n",
    "desc += ',termini5=None,gene=<clip4>,termini3=<clip3>'\n",
    "queries.append((desc, seq))"
   ]
  },
  {
   "cell_type": "markdown",
   "metadata": {},
   "source": [
    "## Align the queries to the target"
   ]
  },
  {
   "cell_type": "code",
   "execution_count": 5,
   "metadata": {},
   "outputs": [],
   "source": [
    "mapper = alignparse.minimap2.Mapper(alignparse.minimap2.OPTIONS_CODON_DMS)\n",
    "\n",
    "with contextlib.ExitStack() as stack:\n",
    "    \n",
    "    # write queries to FASTA file\n",
    "    queryfile = tempfile.NamedTemporaryFile('r+', suffix='.fasta')\n",
    "    queryfile.write('\\n'.join(f\">{desc}\\n{seq}\" for desc, seq in queries))\n",
    "    queryfile.flush()\n",
    "    \n",
    "    # align the queries to the target\n",
    "    alignmentfile = tempfile.NamedTemporaryFile('r+', suffix='.sam')\n",
    "    targets.align(queryfile.name, alignmentfile.name, mapper)\n",
    "    \n",
    "    # get the alignment cs data frame\n",
    "    alignments_cs = targets.parse_alignment_cs(alignmentfile)"
   ]
  },
  {
   "cell_type": "markdown",
   "metadata": {},
   "source": [
    "## Check results of `Targets.parse_alignment_cs`\n",
    "We now check if the feature-specific `cs` strings returned by `Targets.parse_alignment_cs` are correct.\n",
    "\n",
    "We expect there to be alignments for just our one target plus the number of unmapped reads:"
   ]
  },
  {
   "cell_type": "code",
   "execution_count": 6,
   "metadata": {},
   "outputs": [
    {
     "data": {
      "text/plain": [
       "True"
      ]
     },
     "execution_count": 6,
     "metadata": {},
     "output_type": "execute_result"
    }
   ],
   "source": [
    "sorted(alignments_cs.keys()) == [target.name, 'unmapped']"
   ]
  },
  {
   "cell_type": "markdown",
   "metadata": {},
   "source": [
    "Make sure the number of unmapped queries equals the number we passed in:"
   ]
  },
  {
   "cell_type": "code",
   "execution_count": 7,
   "metadata": {},
   "outputs": [
    {
     "data": {
      "text/plain": [
       "True"
      ]
     },
     "execution_count": 7,
     "metadata": {},
     "output_type": "execute_result"
    }
   ],
   "source": [
    "unmapped_queries = [(desc, query) for desc, query in queries if 'unmapped' in desc]\n",
    "len(unmapped_queries) == alignments_cs['unmapped']"
   ]
  },
  {
   "cell_type": "markdown",
   "metadata": {},
   "source": [
    "Make sure we get the expected queries mapped to our target:"
   ]
  },
  {
   "cell_type": "code",
   "execution_count": 8,
   "metadata": {},
   "outputs": [
    {
     "data": {
      "text/plain": [
       "True"
      ]
     },
     "execution_count": 8,
     "metadata": {},
     "output_type": "execute_result"
    }
   ],
   "source": [
    "mapped_queries = [tup for tup in queries if tup not in unmapped_queries]\n",
    "len(mapped_queries) == len(alignments_cs[target.name])"
   ]
  },
  {
   "cell_type": "markdown",
   "metadata": {},
   "source": [
    "Now we look manually at whether we got the expected `cs` strings for features.\n",
    "We do **not** programatically check that these are correct based on how the queries were created (that will be done below using the more human-readable results from `Targets.parse_alignment`).\n",
    "But the `cs` strings below have been examined manually, and they appear to be correct:"
   ]
  },
  {
   "cell_type": "code",
   "execution_count": 9,
   "metadata": {},
   "outputs": [
    {
     "data": {
      "text/html": [
       "<div>\n",
       "<style scoped>\n",
       "    .dataframe tbody tr th:only-of-type {\n",
       "        vertical-align: middle;\n",
       "    }\n",
       "\n",
       "    .dataframe tbody tr th {\n",
       "        vertical-align: top;\n",
       "    }\n",
       "\n",
       "    .dataframe thead th {\n",
       "        text-align: right;\n",
       "    }\n",
       "</style>\n",
       "<table border=\"1\" class=\"dataframe\">\n",
       "  <thead>\n",
       "    <tr style=\"text-align: right;\">\n",
       "      <th></th>\n",
       "      <th>query_name</th>\n",
       "      <th>query_clip5</th>\n",
       "      <th>query_clip3</th>\n",
       "      <th>target_clip5</th>\n",
       "      <th>target_clip3</th>\n",
       "      <th>termini5</th>\n",
       "      <th>gene</th>\n",
       "      <th>spacer</th>\n",
       "      <th>barcode</th>\n",
       "      <th>termini3</th>\n",
       "      <th>variant_tag5</th>\n",
       "      <th>variant_tag3</th>\n",
       "    </tr>\n",
       "  </thead>\n",
       "  <tbody>\n",
       "    <tr>\n",
       "      <th>0</th>\n",
       "      <td>barcode=CTAACTCGAGCTGCAATG,variant_tag5=A,variant_tag3=T</td>\n",
       "      <td>0</td>\n",
       "      <td>0</td>\n",
       "      <td>0</td>\n",
       "      <td>0</td>\n",
       "      <td>:32*na:114</td>\n",
       "      <td>:1059</td>\n",
       "      <td>:79</td>\n",
       "      <td>*nc*nt*na*na*nc*nt*nc*ng*na*ng*nc*nt*ng*nc*na*na*nt*ng</td>\n",
       "      <td>:7*nt:31</td>\n",
       "      <td>*na</td>\n",
       "      <td>*nt</td>\n",
       "    </tr>\n",
       "    <tr>\n",
       "      <th>1</th>\n",
       "      <td>barcode=ACTAAAACCCACCGCGCT,variant_tag5=A,variant_tag3=C,gene_A6G-T7A-C8G,query_clip5=9,query_clip3=7</td>\n",
       "      <td>9</td>\n",
       "      <td>7</td>\n",
       "      <td>0</td>\n",
       "      <td>0</td>\n",
       "      <td>:32*na:114</td>\n",
       "      <td>:6*ag*ta*cg:1050</td>\n",
       "      <td>:79</td>\n",
       "      <td>*na*nc*nt*na*na*na*na*nc*nc*nc*na*nc*nc*ng*nc*ng*nc*nt</td>\n",
       "      <td>:7*nc:31</td>\n",
       "      <td>*na</td>\n",
       "      <td>*nc</td>\n",
       "    </tr>\n",
       "    <tr>\n",
       "      <th>2</th>\n",
       "      <td>barcode=GTTACGACACGTTATTTC,variant_tag5=T,variant_tag3=C,gene_del7to22,spacer_ins4GATCTA</td>\n",
       "      <td>0</td>\n",
       "      <td>0</td>\n",
       "      <td>0</td>\n",
       "      <td>0</td>\n",
       "      <td>:32*nt:114</td>\n",
       "      <td>:7-tcgacgaaaacaaac:1037</td>\n",
       "      <td>:4+gatcta:75</td>\n",
       "      <td>*ng*nt*nt*na*nc*ng*na*nc*na*nc*ng*nt*nt*na*nt*nt*nt*nc</td>\n",
       "      <td>:7*nc:31</td>\n",
       "      <td>*nt</td>\n",
       "      <td>*nc</td>\n",
       "    </tr>\n",
       "    <tr>\n",
       "      <th>3</th>\n",
       "      <td>barcode=TAGTCTGTATCATAACTT,variant_tag5=A,variant_tag3=T,gene_del1052to1059,spacer_del1to9</td>\n",
       "      <td>0</td>\n",
       "      <td>0</td>\n",
       "      <td>0</td>\n",
       "      <td>0</td>\n",
       "      <td>:32*na:114</td>\n",
       "      <td>:1052-agatttt</td>\n",
       "      <td>-taatcgtct:70</td>\n",
       "      <td>*nt*na*ng*nt*nc*nt*ng*nt*na*nt*nc*na*nt*na*na*nc*nt*nt</td>\n",
       "      <td>:7*nt:31</td>\n",
       "      <td>*na</td>\n",
       "      <td>*nt</td>\n",
       "    </tr>\n",
       "    <tr>\n",
       "      <th>4</th>\n",
       "      <td>barcode=TACCCTTGCTAAGTACGC,variant_tag5=T,variant_tag3=G,gene_ins1059GGGATAGGAGACTA</td>\n",
       "      <td>0</td>\n",
       "      <td>0</td>\n",
       "      <td>0</td>\n",
       "      <td>0</td>\n",
       "      <td>:32*nt:114</td>\n",
       "      <td>:1059+gggataggagacta</td>\n",
       "      <td>:79</td>\n",
       "      <td>*nt*na*nc*nc*nc*nt*nt*ng*nc*nt*na*na*ng*nt*na*nc*ng*nc</td>\n",
       "      <td>:7*ng:31</td>\n",
       "      <td>*nt</td>\n",
       "      <td>*ng</td>\n",
       "    </tr>\n",
       "    <tr>\n",
       "      <th>5</th>\n",
       "      <td>barcode=GCGTCACAAGTGCCGAAT,variant_tag5=None,variant_tag3=T,target_clip5=151,target_clip3=2,termini5=None,gene=&lt;clip4&gt;,termini3=&lt;clip3&gt;</td>\n",
       "      <td>0</td>\n",
       "      <td>0</td>\n",
       "      <td>151</td>\n",
       "      <td>2</td>\n",
       "      <td>None</td>\n",
       "      <td>&lt;clip4&gt;:1055</td>\n",
       "      <td>:79</td>\n",
       "      <td>*ng*nc*ng*nt*nc*na*nc*na*na*ng*nt*ng*nc*nc*ng*na*na*nt</td>\n",
       "      <td>:7*nt:29&lt;clip2&gt;</td>\n",
       "      <td>None</td>\n",
       "      <td>*nt</td>\n",
       "    </tr>\n",
       "  </tbody>\n",
       "</table>\n",
       "</div>"
      ],
      "text/plain": [
       "                                                                                                                                query_name  \\\n",
       "0  barcode=CTAACTCGAGCTGCAATG,variant_tag5=A,variant_tag3=T                                                                                  \n",
       "1  barcode=ACTAAAACCCACCGCGCT,variant_tag5=A,variant_tag3=C,gene_A6G-T7A-C8G,query_clip5=9,query_clip3=7                                     \n",
       "2  barcode=GTTACGACACGTTATTTC,variant_tag5=T,variant_tag3=C,gene_del7to22,spacer_ins4GATCTA                                                  \n",
       "3  barcode=TAGTCTGTATCATAACTT,variant_tag5=A,variant_tag3=T,gene_del1052to1059,spacer_del1to9                                                \n",
       "4  barcode=TACCCTTGCTAAGTACGC,variant_tag5=T,variant_tag3=G,gene_ins1059GGGATAGGAGACTA                                                       \n",
       "5  barcode=GCGTCACAAGTGCCGAAT,variant_tag5=None,variant_tag3=T,target_clip5=151,target_clip3=2,termini5=None,gene=<clip4>,termini3=<clip3>   \n",
       "\n",
       "   query_clip5  query_clip3  target_clip5  target_clip3    termini5  \\\n",
       "0  0            0            0             0             :32*na:114   \n",
       "1  9            7            0             0             :32*na:114   \n",
       "2  0            0            0             0             :32*nt:114   \n",
       "3  0            0            0             0             :32*na:114   \n",
       "4  0            0            0             0             :32*nt:114   \n",
       "5  0            0            151           2             None         \n",
       "\n",
       "                      gene         spacer  \\\n",
       "0  :1059                    :79             \n",
       "1  :6*ag*ta*cg:1050         :79             \n",
       "2  :7-tcgacgaaaacaaac:1037  :4+gatcta:75    \n",
       "3  :1052-agatttt            -taatcgtct:70   \n",
       "4  :1059+gggataggagacta     :79             \n",
       "5  <clip4>:1055             :79             \n",
       "\n",
       "                                                  barcode         termini3  \\\n",
       "0  *nc*nt*na*na*nc*nt*nc*ng*na*ng*nc*nt*ng*nc*na*na*nt*ng  :7*nt:31          \n",
       "1  *na*nc*nt*na*na*na*na*nc*nc*nc*na*nc*nc*ng*nc*ng*nc*nt  :7*nc:31          \n",
       "2  *ng*nt*nt*na*nc*ng*na*nc*na*nc*ng*nt*nt*na*nt*nt*nt*nc  :7*nc:31          \n",
       "3  *nt*na*ng*nt*nc*nt*ng*nt*na*nt*nc*na*nt*na*na*nc*nt*nt  :7*nt:31          \n",
       "4  *nt*na*nc*nc*nc*nt*nt*ng*nc*nt*na*na*ng*nt*na*nc*ng*nc  :7*ng:31          \n",
       "5  *ng*nc*ng*nt*nc*na*nc*na*na*ng*nt*ng*nc*nc*ng*na*na*nt  :7*nt:29<clip2>   \n",
       "\n",
       "  variant_tag5 variant_tag3  \n",
       "0  *na          *nt          \n",
       "1  *na          *nc          \n",
       "2  *nt          *nc          \n",
       "3  *na          *nt          \n",
       "4  *nt          *ng          \n",
       "5  None         *nt          "
      ]
     },
     "metadata": {},
     "output_type": "display_data"
    }
   ],
   "source": [
    "with pd.option_context('display.max_colwidth', -1):\n",
    "    display(alignments_cs[target.name])"
   ]
  },
  {
   "cell_type": "code",
   "execution_count": null,
   "metadata": {},
   "outputs": [],
   "source": []
  }
 ],
 "metadata": {
  "kernelspec": {
   "display_name": "Python 3",
   "language": "python",
   "name": "python3"
  },
  "language_info": {
   "codemirror_mode": {
    "name": "ipython",
    "version": 3
   },
   "file_extension": ".py",
   "mimetype": "text/x-python",
   "name": "python",
   "nbconvert_exporter": "python",
   "pygments_lexer": "ipython3",
   "version": "3.6.7"
  },
  "toc": {
   "base_numbering": 1,
   "nav_menu": {},
   "number_sections": false,
   "sideBar": true,
   "skip_h1_title": false,
   "title_cell": "Table of Contents",
   "title_sidebar": "Contents",
   "toc_cell": false,
   "toc_position": {},
   "toc_section_display": true,
   "toc_window_display": true
  }
 },
 "nbformat": 4,
 "nbformat_minor": 2
}
