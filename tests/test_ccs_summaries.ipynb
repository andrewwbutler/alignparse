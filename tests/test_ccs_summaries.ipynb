{
 "cells": [
  {
   "cell_type": "markdown",
   "metadata": {},
   "source": [
    "# Test `alignparse.ccs.Summaries`\n",
    "Tests this class and makes sure it works with and without reports and `np` tags giving number of passes.\n",
    "This Jupyter notebook is designed to be run with `nbval` for the testing.\n",
    "\n",
    "First, import Python modules:"
   ]
  },
  {
   "cell_type": "code",
   "execution_count": 1,
   "metadata": {},
   "outputs": [],
   "source": [
    "import contextlib\n",
    "import os\n",
    "import tempfile\n",
    "import warnings\n",
    "\n",
    "import Bio.SeqIO\n",
    "\n",
    "import pandas as pd\n",
    "\n",
    "import alignparse.ccs"
   ]
  },
  {
   "cell_type": "markdown",
   "metadata": {},
   "source": [
    "Hide warnings that clutter output:"
   ]
  },
  {
   "cell_type": "code",
   "execution_count": 2,
   "metadata": {},
   "outputs": [],
   "source": [
    "warnings.simplefilter('ignore')"
   ]
  },
  {
   "cell_type": "markdown",
   "metadata": {},
   "source": [
    "Data frame giving the `ccs` report file and the CCS FASTQ file for each run:"
   ]
  },
  {
   "cell_type": "code",
   "execution_count": 3,
   "metadata": {},
   "outputs": [],
   "source": [
    "run_names = ['recA_lib-1', 'recA_lib-2']\n",
    "ccs_dir = '../notebooks/input_files'\n",
    "\n",
    "ccs_df = pd.DataFrame(\n",
    "            {'name': run_names,\n",
    "             'report': [f\"{ccs_dir}/{name}_report.txt\" for name in run_names],\n",
    "             'fastq': [f\"{ccs_dir}/{name}_ccs.fastq\" for name in run_names]\n",
    "             })"
   ]
  },
  {
   "cell_type": "markdown",
   "metadata": {},
   "source": [
    "Create an `alignparse.ccs.Summaries` object:"
   ]
  },
  {
   "cell_type": "code",
   "execution_count": 4,
   "metadata": {},
   "outputs": [
    {
     "name": "stdout",
     "output_type": "stream",
     "text": [
      "recA_lib-1\n",
      "recA_lib-2\n"
     ]
    }
   ],
   "source": [
    "summaries = alignparse.ccs.Summaries(ccs_df)\n",
    "\n",
    "for summary in summaries.summaries:\n",
    "    print(summary.name)"
   ]
  },
  {
   "cell_type": "markdown",
   "metadata": {},
   "source": [
    "Confirm ZMW stats exist:"
   ]
  },
  {
   "cell_type": "code",
   "execution_count": 5,
   "metadata": {},
   "outputs": [
    {
     "data": {
      "text/plain": [
       "True"
      ]
     },
     "execution_count": 5,
     "metadata": {},
     "output_type": "execute_result"
    }
   ],
   "source": [
    "summaries.has_zmw_stats()"
   ]
  },
  {
   "cell_type": "markdown",
   "metadata": {},
   "source": [
    "Get and plot the ZMW stats:"
   ]
  },
  {
   "cell_type": "code",
   "execution_count": 6,
   "metadata": {},
   "outputs": [
    {
     "data": {
      "text/html": [
       "<div>\n",
       "<style scoped>\n",
       "    .dataframe tbody tr th:only-of-type {\n",
       "        vertical-align: middle;\n",
       "    }\n",
       "\n",
       "    .dataframe tbody tr th {\n",
       "        vertical-align: top;\n",
       "    }\n",
       "\n",
       "    .dataframe thead th {\n",
       "        text-align: right;\n",
       "    }\n",
       "</style>\n",
       "<table border=\"1\" class=\"dataframe\">\n",
       "  <thead>\n",
       "    <tr style=\"text-align: right;\">\n",
       "      <th></th>\n",
       "      <th>name</th>\n",
       "      <th>status</th>\n",
       "      <th>number</th>\n",
       "      <th>fraction</th>\n",
       "    </tr>\n",
       "  </thead>\n",
       "  <tbody>\n",
       "    <tr>\n",
       "      <td>0</td>\n",
       "      <td>recA_lib-1</td>\n",
       "      <td>Success -- CCS generated</td>\n",
       "      <td>98</td>\n",
       "      <td>0.6125</td>\n",
       "    </tr>\n",
       "    <tr>\n",
       "      <td>1</td>\n",
       "      <td>recA_lib-1</td>\n",
       "      <td>Failed -- Not enough full passes</td>\n",
       "      <td>38</td>\n",
       "      <td>0.2375</td>\n",
       "    </tr>\n",
       "    <tr>\n",
       "      <td>2</td>\n",
       "      <td>recA_lib-1</td>\n",
       "      <td>Failed -- CCS below minimum predicted accuracy</td>\n",
       "      <td>23</td>\n",
       "      <td>0.1437</td>\n",
       "    </tr>\n",
       "    <tr>\n",
       "      <td>3</td>\n",
       "      <td>recA_lib-1</td>\n",
       "      <td>Failed -- Other reason</td>\n",
       "      <td>1</td>\n",
       "      <td>0.0063</td>\n",
       "    </tr>\n",
       "    <tr>\n",
       "      <td>4</td>\n",
       "      <td>recA_lib-2</td>\n",
       "      <td>Success -- CCS generated</td>\n",
       "      <td>100</td>\n",
       "      <td>0.6410</td>\n",
       "    </tr>\n",
       "    <tr>\n",
       "      <td>5</td>\n",
       "      <td>recA_lib-2</td>\n",
       "      <td>Failed -- Not enough full passes</td>\n",
       "      <td>36</td>\n",
       "      <td>0.2308</td>\n",
       "    </tr>\n",
       "    <tr>\n",
       "      <td>6</td>\n",
       "      <td>recA_lib-2</td>\n",
       "      <td>Failed -- CCS below minimum predicted accuracy</td>\n",
       "      <td>20</td>\n",
       "      <td>0.1282</td>\n",
       "    </tr>\n",
       "    <tr>\n",
       "      <td>7</td>\n",
       "      <td>recA_lib-2</td>\n",
       "      <td>Failed -- Other reason</td>\n",
       "      <td>0</td>\n",
       "      <td>0.0000</td>\n",
       "    </tr>\n",
       "  </tbody>\n",
       "</table>\n",
       "</div>"
      ],
      "text/plain": [
       "         name                                          status  number  \\\n",
       "0  recA_lib-1                        Success -- CCS generated      98   \n",
       "1  recA_lib-1                Failed -- Not enough full passes      38   \n",
       "2  recA_lib-1  Failed -- CCS below minimum predicted accuracy      23   \n",
       "3  recA_lib-1                          Failed -- Other reason       1   \n",
       "4  recA_lib-2                        Success -- CCS generated     100   \n",
       "5  recA_lib-2                Failed -- Not enough full passes      36   \n",
       "6  recA_lib-2  Failed -- CCS below minimum predicted accuracy      20   \n",
       "7  recA_lib-2                          Failed -- Other reason       0   \n",
       "\n",
       "   fraction  \n",
       "0    0.6125  \n",
       "1    0.2375  \n",
       "2    0.1437  \n",
       "3    0.0063  \n",
       "4    0.6410  \n",
       "5    0.2308  \n",
       "6    0.1282  \n",
       "7    0.0000  "
      ]
     },
     "execution_count": 6,
     "metadata": {},
     "output_type": "execute_result"
    }
   ],
   "source": [
    "summaries.zmw_stats()"
   ]
  },
  {
   "cell_type": "markdown",
   "metadata": {},
   "source": [
    "Plot these stats:"
   ]
  },
  {
   "cell_type": "code",
   "execution_count": 7,
   "metadata": {},
   "outputs": [
    {
     "data": {
      "image/png": "[encoded data removed]",
      "text/plain": [
       "<Figure size 80x250 with 1 Axes>"
      ]
     },
     "metadata": {},
     "output_type": "display_data"
    }
   ],
   "source": [
    "p = summaries.plot_zmw_stats()\n",
    "_ = p.draw()"
   ]
  },
  {
   "cell_type": "markdown",
   "metadata": {},
   "source": [
    "Now do the same with a `Summaries` object with no reports defined:"
   ]
  },
  {
   "cell_type": "code",
   "execution_count": 8,
   "metadata": {},
   "outputs": [],
   "source": [
    "summaries_no_zmw = alignparse.ccs.Summaries(ccs_df, report_col=None, ncpus=1)"
   ]
  },
  {
   "cell_type": "markdown",
   "metadata": {},
   "source": [
    "No ZMW stats defined:"
   ]
  },
  {
   "cell_type": "code",
   "execution_count": 9,
   "metadata": {},
   "outputs": [
    {
     "data": {
      "text/plain": [
       "False"
      ]
     },
     "execution_count": 9,
     "metadata": {},
     "output_type": "execute_result"
    }
   ],
   "source": [
    "summaries_no_zmw.has_zmw_stats()"
   ]
  },
  {
   "cell_type": "markdown",
   "metadata": {},
   "source": [
    "So trying to get stats raises an error:"
   ]
  },
  {
   "cell_type": "code",
   "execution_count": 10,
   "metadata": {},
   "outputs": [
    {
     "name": "stdout",
     "output_type": "stream",
     "text": [
      "cannot plot ZMW stats\n"
     ]
    }
   ],
   "source": [
    "try:\n",
    "    summaries_no_zmw.plot_zmw_stats()\n",
    "except ValueError:\n",
    "    print('cannot plot ZMW stats')"
   ]
  },
  {
   "cell_type": "markdown",
   "metadata": {},
   "source": [
    "Now get information on CCS statistics:"
   ]
  },
  {
   "cell_type": "code",
   "execution_count": 11,
   "metadata": {},
   "outputs": [
    {
     "name": "stdout",
     "output_type": "stream",
     "text": [
      "         name  passes\n",
      "0  recA_lib-1      27\n",
      "1  recA_lib-1     127\n",
      "2  recA_lib-1      45\n",
      "3  recA_lib-1      17\n",
      "4  recA_lib-1      17\n",
      "\n",
      "         name  length\n",
      "0  recA_lib-1    1344\n",
      "1  recA_lib-1    1342\n",
      "2  recA_lib-1    1342\n",
      "3  recA_lib-1    1344\n",
      "4  recA_lib-1    1342\n",
      "\n",
      "         name  accuracy\n",
      "0  recA_lib-1  0.999664\n",
      "1  recA_lib-1  1.000000\n",
      "2  recA_lib-1  1.000000\n",
      "3  recA_lib-1  0.999094\n",
      "4  recA_lib-1  0.999450\n",
      "\n"
     ]
    }
   ],
   "source": [
    "for stat in ['passes', 'length', 'accuracy']:\n",
    "    if summaries.has_stat(stat):\n",
    "        print(summaries.ccs_stats(stat).head(n=5))\n",
    "        print()\n",
    "    else:\n",
    "        print(f\"no {stat} stat\\n\")"
   ]
  },
  {
   "cell_type": "markdown",
   "metadata": {},
   "source": [
    "Plot these stats:"
   ]
  },
  {
   "cell_type": "code",
   "execution_count": 12,
   "metadata": {},
   "outputs": [
    {
     "data": {
      "image/png": "[encoded data removed]",
      "text/plain": [
       "<Figure size 350x175 with 2 Axes>"
      ]
     },
     "metadata": {},
     "output_type": "display_data"
    },
    {
     "data": {
      "image/png": "[encoded data removed]",
      "text/plain": [
       "<Figure size 350x175 with 2 Axes>"
      ]
     },
     "metadata": {},
     "output_type": "display_data"
    },
    {
     "data": {
      "image/png": "[encoded data removed]",
      "text/plain": [
       "<Figure size 350x175 with 2 Axes>"
      ]
     },
     "metadata": {},
     "output_type": "display_data"
    }
   ],
   "source": [
    "for stat in ['length', 'passes', 'accuracy']:\n",
    "    try:\n",
    "        p = summaries.plot_ccs_stats(stat)\n",
    "        _ = p.draw()\n",
    "    except ValueError:\n",
    "        print(f\"Cannot plot {stat}\")"
   ]
  },
  {
   "cell_type": "markdown",
   "metadata": {},
   "source": [
    "Now do the same for a `Summaries` defined using FASTQ files without the `np` tag giving the number of passes:"
   ]
  },
  {
   "cell_type": "code",
   "execution_count": 13,
   "metadata": {},
   "outputs": [],
   "source": [
    "with contextlib.ExitStack() as stack:\n",
    "    tempfiles = [stack.enter_context(tempfile.NamedTemporaryFile('wt', suffix='.fastq'))\n",
    "                 for _ in range(len(ccs_df))]\n",
    "    ccs_df = ccs_df.assign(fastq_nopasstag=[f.name for f in tempfiles])\n",
    "    for fout, tup in zip(tempfiles, ccs_df.itertuples()):\n",
    "        seqs = []\n",
    "        for iseq, seq in enumerate(Bio.SeqIO.parse(tup.fastq, 'fastq')):\n",
    "            if iseq == 0:  # drop np tag from just first\n",
    "                seq.description = seq.description.split()[0]\n",
    "            seqs.append(seq)\n",
    "        Bio.SeqIO.write(seqs, fout, 'fastq')\n",
    "        fout.flush()\n",
    "    summaries_nopasstag = alignparse.ccs.Summaries(ccs_df, fastq_col='fastq_nopasstag')"
   ]
  },
  {
   "cell_type": "markdown",
   "metadata": {},
   "source": [
    "Now print and plot information without `np` tag:"
   ]
  },
  {
   "cell_type": "code",
   "execution_count": 14,
   "metadata": {},
   "outputs": [
    {
     "name": "stdout",
     "output_type": "stream",
     "text": [
      "no passes stat\n",
      "\n",
      "         name  length\n",
      "0  recA_lib-1    1344\n",
      "1  recA_lib-1    1342\n",
      "2  recA_lib-1    1342\n",
      "3  recA_lib-1    1344\n",
      "4  recA_lib-1    1342\n",
      "\n",
      "         name  accuracy\n",
      "0  recA_lib-1  0.999664\n",
      "1  recA_lib-1  1.000000\n",
      "2  recA_lib-1  1.000000\n",
      "3  recA_lib-1  0.999094\n",
      "4  recA_lib-1  0.999450\n",
      "\n"
     ]
    }
   ],
   "source": [
    "for stat in ['passes', 'length', 'accuracy']:\n",
    "    if summaries_nopasstag.has_stat(stat):\n",
    "        print(summaries_nopasstag.ccs_stats(stat).head(n=5))\n",
    "        print()\n",
    "    else:\n",
    "        print(f\"no {stat} stat\\n\")"
   ]
  },
  {
   "cell_type": "code",
   "execution_count": 15,
   "metadata": {},
   "outputs": [
    {
     "name": "stdout",
     "output_type": "stream",
     "text": [
      "Cannot plot passes\n"
     ]
    },
    {
     "data": {
      "image/png": "[encoded data removed]",
      "text/plain": [
       "<Figure size 350x175 with 2 Axes>"
      ]
     },
     "metadata": {},
     "output_type": "display_data"
    },
    {
     "data": {
      "image/png": "[encoded data removed]",
      "text/plain": [
       "<Figure size 350x175 with 2 Axes>"
      ]
     },
     "metadata": {},
     "output_type": "display_data"
    }
   ],
   "source": [
    "for stat in ['length', 'passes', 'accuracy']:\n",
    "    try:\n",
    "        p = summaries_nopasstag.plot_ccs_stats(stat)\n",
    "        _ = p.draw()\n",
    "    except ValueError:\n",
    "        print(f\"Cannot plot {stat}\")"
   ]
  }
 ],
 "metadata": {
  "kernelspec": {
   "display_name": "Python 3",
   "language": "python",
   "name": "python3"
  },
  "language_info": {
   "codemirror_mode": {
    "name": "ipython",
    "version": 3
   },
   "file_extension": ".py",
   "mimetype": "text/x-python",
   "name": "python",
   "nbconvert_exporter": "python",
   "pygments_lexer": "ipython3",
   "version": "3.6.7"
  },
  "toc": {
   "nav_menu": {},
   "number_sections": false,
   "sideBar": true,
   "skip_h1_title": false,
   "toc_cell": false,
   "toc_position": {},
   "toc_section_display": true,
   "toc_window_display": true
  }
 },
 "nbformat": 4,
 "nbformat_minor": 2
}
