{
 "cells": [
  {
   "cell_type": "markdown",
   "metadata": {},
   "source": [
    "# Profile performance on RecA example\n",
    "This Python Jupyter notebook profiles the code on the RecA example data.\n",
    "The goal is to find slow spots to optimize."
   ]
  },
  {
   "cell_type": "markdown",
   "metadata": {},
   "source": [
    "Import necessary Python modules."
   ]
  },
  {
   "cell_type": "code",
   "execution_count": 1,
   "metadata": {},
   "outputs": [],
   "source": [
    "import contextlib\n",
    "import cProfile\n",
    "import os\n",
    "import pstats\n",
    "import tempfile\n",
    "import warnings\n",
    "\n",
    "import pandas as pd\n",
    "\n",
    "import alignparse.minimap2\n",
    "import alignparse.targets"
   ]
  },
  {
   "cell_type": "markdown",
   "metadata": {},
   "source": [
    "Suppress warnings that clutter output:"
   ]
  },
  {
   "cell_type": "code",
   "execution_count": 2,
   "metadata": {},
   "outputs": [],
   "source": [
    "warnings.simplefilter('ignore')"
   ]
  },
  {
   "cell_type": "markdown",
   "metadata": {},
   "source": [
    "Initialize the `Targets` object:"
   ]
  },
  {
   "cell_type": "code",
   "execution_count": 3,
   "metadata": {},
   "outputs": [],
   "source": [
    "recA_targetfile = '../notebooks/input_files/recA_amplicon.gb'\n",
    "recA_parse_specs_file = '../notebooks/input_files/recA_feature_parse_specs.yaml'\n",
    "\n",
    "targets = alignparse.targets.Targets(\n",
    "                seqsfile=recA_targetfile,\n",
    "                feature_parse_specs=recA_parse_specs_file)"
   ]
  },
  {
   "cell_type": "markdown",
   "metadata": {},
   "source": [
    "Create a `Mapper` to run `minimap2`:"
   ]
  },
  {
   "cell_type": "code",
   "execution_count": 4,
   "metadata": {},
   "outputs": [],
   "source": [
    "mapper = alignparse.minimap2.Mapper(alignparse.minimap2.OPTIONS_CODON_DMS)"
   ]
  },
  {
   "cell_type": "markdown",
   "metadata": {},
   "source": [
    "FASTQ file to align and parse:"
   ]
  },
  {
   "cell_type": "code",
   "execution_count": 5,
   "metadata": {},
   "outputs": [],
   "source": [
    "fastq_files = ['../notebooks/input_files/recA_lib-1_ccs.fastq',\n",
    "               '../notebooks/input_files/recA_lib-1_ccs.fastq']"
   ]
  },
  {
   "cell_type": "markdown",
   "metadata": {},
   "source": [
    "Now create the SAM file with the mapper, and then parse it:"
   ]
  },
  {
   "cell_type": "code",
   "execution_count": 6,
   "metadata": {},
   "outputs": [],
   "source": [
    "with contextlib.ExitStack() as stack:\n",
    "    # Combine both FASTQ files for slightly bigger query\n",
    "    queryfile = stack.enter_context(tempfile.NamedTemporaryFile(mode='wt',\n",
    "                                                                suffix='.fastq'))\n",
    "    text = []\n",
    "    for fastq_file in fastq_files:\n",
    "        with open(fastq_file) as f:\n",
    "            text.append(f.read().rstrip())\n",
    "    queryfile.write('\\n'.join(text))\n",
    "    queryfile.flush()\n",
    "    \n",
    "    # Create samfile with alignments\n",
    "    samfile = stack.enter_context(tempfile.NamedTemporaryFile(mode='wt',\n",
    "                                                              suffix='.sam'))\n",
    "    targets.align(queryfile=queryfile.name,\n",
    "                  alignmentfile=samfile.name,\n",
    "                  mapper=mapper)\n",
    "    \n",
    "    # temporary file for profiling stats\n",
    "    pstats_file = stack.enter_context(tempfile.NamedTemporaryFile(mode='wt'))\n",
    "    \n",
    "    # profile the alignment parsing\n",
    "    cProfile.runctx('targets.parse_alignment(samfile.name)',\n",
    "                    globals(),\n",
    "                    locals(),\n",
    "                    filename=pstats_file.name)\n",
    "\n",
    "    stats = pstats.Stats(pstats_file.name)"
   ]
  },
  {
   "cell_type": "markdown",
   "metadata": {},
   "source": [
    "Now print the top most time-intensive functions by total and cumulative time:"
   ]
  },
  {
   "cell_type": "code",
   "execution_count": 7,
   "metadata": {
    "tags": [
     "nbval-ignore-output"
    ]
   },
   "outputs": [
    {
     "name": "stdout",
     "output_type": "stream",
     "text": [
      "-------------------- Top 10 by tottime --------------------\n",
      "Wed Aug 28 15:01:34 2019    /var/folders/fc/7sw280c13755gkvcsqlhlrfc0000gp/T/tmpki1guyjo\n",
      "\n",
      "         196351 function calls (195089 primitive calls) in 0.277 seconds\n",
      "\n",
      "   Ordered by: internal time\n",
      "   List reduced from 808 to 10 due to restriction <10>\n",
      "\n",
      "   ncalls  tottime  percall  cumtime  percall filename:lineno(function)\n",
      "    38276    0.086    0.000    0.086    0.000 {method 'fullmatch' of '_regex.Pattern' objects}\n",
      "     1252    0.035    0.000    0.109    0.000 cs_tag.py:239(extract_cs)\n",
      "    33640    0.017    0.000    0.087    0.000 cs_tag.py:76(cs_op_type)\n",
      "     2727    0.010    0.000    0.010    0.000 {method 'reduce' of 'numpy.ufunc' objects}\n",
      "    13500    0.008    0.000    0.043    0.000 cs_tag.py:119(cs_op_len_target)\n",
      "      200    0.008    0.000    0.191    0.001 targets.py:859(_parse_single_Alignment)\n",
      "     2492    0.005    0.000    0.005    0.000 {method 'searchsorted' of 'numpy.ndarray' objects}\n",
      "5835/5425    0.005    0.000    0.033    0.000 {built-in method numpy.core._multiarray_umath.implement_array_function}\n",
      "      200    0.004    0.000    0.037    0.000 cs_tag.py:203(__init__)\n",
      "     1252    0.004    0.000    0.025    0.000 cs_tag.py:474(cs_to_nt_mutation_count)\n",
      "\n",
      "\n",
      "-------------------- Top 10 by cumtime --------------------\n",
      "Wed Aug 28 15:01:34 2019    /var/folders/fc/7sw280c13755gkvcsqlhlrfc0000gp/T/tmpki1guyjo\n",
      "\n",
      "         196351 function calls (195089 primitive calls) in 0.277 seconds\n",
      "\n",
      "   Ordered by: cumulative time\n",
      "   List reduced from 808 to 10 due to restriction <10>\n",
      "\n",
      "   ncalls  tottime  percall  cumtime  percall filename:lineno(function)\n",
      "      3/1    0.000    0.000    0.277    0.277 {built-in method builtins.exec}\n",
      "        1    0.000    0.000    0.277    0.277 <string>:1(<module>)\n",
      "        1    0.003    0.003    0.277    0.277 targets.py:657(parse_alignment)\n",
      "      200    0.008    0.000    0.191    0.001 targets.py:859(_parse_single_Alignment)\n",
      "     1252    0.035    0.000    0.109    0.000 cs_tag.py:239(extract_cs)\n",
      "    33640    0.017    0.000    0.087    0.000 cs_tag.py:76(cs_op_type)\n",
      "    38276    0.086    0.000    0.086    0.000 {method 'fullmatch' of '_regex.Pattern' objects}\n",
      "    13500    0.008    0.000    0.043    0.000 cs_tag.py:119(cs_op_len_target)\n",
      "      200    0.004    0.000    0.037    0.000 cs_tag.py:203(__init__)\n",
      "5835/5425    0.005    0.000    0.033    0.000 {built-in method numpy.core._multiarray_umath.implement_array_function}\n",
      "\n",
      "\n"
     ]
    }
   ],
   "source": [
    "topn = 10\n",
    "for timetype in ['tottime', 'cumtime']:\n",
    "    print('-' * 20 + f\" Top {topn} by {timetype} \" + '-' * 20)\n",
    "    (stats\n",
    "     .strip_dirs()\n",
    "     .sort_stats(timetype)\n",
    "     .print_stats(topn)\n",
    "     )"
   ]
  }
 ],
 "metadata": {
  "kernelspec": {
   "display_name": "Python 3",
   "language": "python",
   "name": "python3"
  },
  "language_info": {
   "codemirror_mode": {
    "name": "ipython",
    "version": 3
   },
   "file_extension": ".py",
   "mimetype": "text/x-python",
   "name": "python",
   "nbconvert_exporter": "python",
   "pygments_lexer": "ipython3",
   "version": "3.6.7"
  },
  "toc": {
   "nav_menu": {},
   "number_sections": false,
   "sideBar": true,
   "skip_h1_title": false,
   "toc_cell": false,
   "toc_position": {},
   "toc_section_display": true,
   "toc_window_display": true
  }
 },
 "nbformat": 4,
 "nbformat_minor": 2
}
