{
 "cells": [
  {
   "cell_type": "markdown",
   "metadata": {},
   "source": [
    "# Lassa virus glycoprotein PacBio sequencing \n",
    "This example shows how to use [alignparse](https://jbloomlab.github.io/alignparse/) to process circular consensus sequences that map to multiple different targets. Here, our two targets are a wildtype and a codon optimized sequence for the Lassa virus (LASV) glycoprotein from the Josiah strain. For such targets we do not expect large internal deletions, so we use alignment settings optimized for codon-level mutations as these will be the settings used when analyzing mutant LASV GP sequences in later experiments.\n",
    "\n",
    "Here we analyze a snippet of the full data set of circular consensus sequences so that the example is small and fast.\n",
    "\n",
    "In the other included example notebooks, we aligned and parsed the PacBio reads using the single `align_and_parse` function. Here we use separate functions to do the aligning and parsing steps. This illustrates an additional use case and shows how this package could be used to parse alignments generated elsewhere as long as they have a [cs tag](https://lh3.github.io/minimap2/minimap2.html#10) and are in the SAM file format."
   ]
  },
  {
   "cell_type": "markdown",
   "metadata": {},
   "source": [
    "## Set up for analysis\n",
    "Import necessary Python modules:"
   ]
  },
  {
   "cell_type": "code",
   "execution_count": 1,
   "metadata": {},
   "outputs": [],
   "source": [
    "import os\n",
    "import tempfile\n",
    "import warnings\n",
    "\n",
    "import Bio.SeqIO\n",
    "\n",
    "import pandas as pd\n",
    "import numpy\n",
    "\n",
    "from plotnine import *\n",
    "\n",
    "import pysam\n",
    "\n",
    "import alignparse.ccs\n",
    "import alignparse.minimap2\n",
    "import alignparse.targets\n",
    "import alignparse.cs_tag\n",
    "import alignparse.consensus"
   ]
  },
  {
   "cell_type": "markdown",
   "metadata": {},
   "source": [
    "Suppress warnings that clutter output:"
   ]
  },
  {
   "cell_type": "code",
   "execution_count": 2,
   "metadata": {},
   "outputs": [],
   "source": [
    "warnings.simplefilter('ignore')"
   ]
  },
  {
   "cell_type": "markdown",
   "metadata": {},
   "source": [
    "Directory for output:"
   ]
  },
  {
   "cell_type": "code",
   "execution_count": 3,
   "metadata": {},
   "outputs": [],
   "source": [
    "outdir = './output_files/'\n",
    "os.makedirs(outdir, exist_ok=True)"
   ]
  },
  {
   "cell_type": "markdown",
   "metadata": {},
   "source": [
    "Color palette for plots:"
   ]
  },
  {
   "cell_type": "code",
   "execution_count": 4,
   "metadata": {},
   "outputs": [],
   "source": [
    "CBPALETTE = ('#E69F00', '#56B4E9', '#009E73', '#999999')"
   ]
  },
  {
   "cell_type": "markdown",
   "metadata": {},
   "source": [
    "## Target amplicons\n",
    "We have performed sequencing of several LASV GP amplicons that include the glycoprotein sequence along with a PacBio index and several other features. Here we analyze reads mapping to two of these amplicons.\n",
    "The amplicons are defined as Genbank files.\n",
    "First, let's just look at the files:"
   ]
  },
  {
   "cell_type": "code",
   "execution_count": 5,
   "metadata": {},
   "outputs": [
    {
     "name": "stdout",
     "output_type": "stream",
     "text": [
      "LOCUS       LASV_Josiah_WT          1730 bp ds-DNA     linear       14-JUN-2019\n",
      "DEFINITION  .\n",
      "ACCESSION   \n",
      "VERSION     \n",
      "SOURCE      Kate Crawford\n",
      "  ORGANISM  .\n",
      "COMMENT     \n",
      "COMMENT     \n",
      "COMMENT     PacBio amplicon for LASV Josiah WT sequence\n",
      "COMMENT     \n",
      "COMMENT     ApEinfo:methylated:1\n",
      "FEATURES             Location/Qualifiers\n",
      "     T2A             85..147\n",
      "                     /label=\"T2A\"\n",
      "     WPRE            1639..1730\n",
      "                     /label=\"WPRE\"\n",
      "     ZsGreen         15..84\n",
      "                     /label=\"ZsGreen\"\n",
      "     termini3        1639..1730\n",
      "                     /label=\"3'Termini\"\n",
      "     index           9..14\n",
      "                     /label=\"index\"\n",
      "     leader5         1..8\n",
      "                     /label=\"5' leader\"\n",
      "     termini5        1..147\n",
      "                     /label=\"5'Termini\"\n",
      "     variant_tag5    34..34\n",
      "                     /variant_1=T\n",
      "                     /variant_2=C\n",
      "                     /label=\"5'VariantTag\"\n",
      "     variant_tag3    1702..1702\n",
      "                     /variant_1=G\n",
      "                     /variant_2=A\n",
      "                     /label=\"3'VariantTag\"\n",
      "     spacer          1624..1638\n",
      "                     /label=\"3'Spacer\"\n",
      "     gene            148..1623\n",
      "                     /label=\"LASV_Josiah_WT\"\n",
      "\n",
      "ORIGIN\n",
      "        1 GACTGATANN NNNNcagcga cgccaagaac cagYagtggc acctgaccga gcacgccatc\n",
      "       61 gcctccggcT CCGCCTTGCC CGCTGGATCC GGCGAGGGCA GAGGAAGTCT GCTAACATGC\n",
      "      121 GGTGACGTCG AGGAGAATCC TGGCCCAATG GGACAAATAG TGACATTCTT CCAGGAAGTG\n",
      "      181 CCTCATGTAA TAGAAGAGGT GATGAACATT GTTCTCATTG CACTGTCTGT ACTAGCAGTG\n",
      "      241 CTGAAAGGTC TGTACAATTT TGCAACGTGT GGCCTTGTTG GTTTGGTCAC TTTCCTCCTG\n",
      "      301 TTGTGTGGTA GGTCTTGCAC AACCAGTCTT TATAAAGGGG TTTATGAGCT TCAGACTCTG\n",
      "      361 GAACTAAACA TGGAGACACT CAATATGACC ATGCCTCTCT CCTGCACAAA GAACAACAGT\n",
      "      421 CATCATTATA TAATGGTGGG CAATGAGACA GGACTAGAAC TGACCTTGAC CAACACGAGC\n",
      "      481 ATTATTAATC ACAAATTTTG CAATCTGTCT GATGCCCACA AAAAGAACCT CTATGACCAC\n",
      "      541 GCTCTTATGA GCATAATCTC AACTTtccac ttgtccatcc ccaacTTCAA TCAGTATGAG\n",
      "      601 GCAATGAGCT GCGATTTTAA TGGGGGAAAG ATTAGTGTGC AGTACAACCT GAGTCACAGC\n",
      "      661 TATGCTGGGG ATGCAGCCAA CCATTGTGGT ACTGTTGCAA ATGGTGTGTT ACAGACTTTT\n",
      "      721 ATGAGGATGG CTTGGGGTGG GAGCTACATT GCTCTTGACT CAGGCCGTGG CAACTGGGAC\n",
      "      781 TGTATTATGA CTAGTTATCA ATATCTGATA ATCCAAAATA CAACCTGGGA AGATCACTGC\n",
      "      841 CAATTCTCGA GACCATCTCC CATCGGTTAT CTCGGGCTCC TCTCACAAAG GACTAGAGAT\n",
      "      901 ATTTATATTA GTAGAAGATT GCTAGGCACA TTCACATGGA CACTGTCAGA TTCTGAAGGT\n",
      "      961 AAAGACACAC CAGGGGGATA TTGTCTGACC AGGTGGATGC TAATTGAGGC TGAACTAAAA\n",
      "     1021 TGCTTCGGGA ACACAGCTGT GGCAAAATGT AATGAGAAGC ATGATGAgga attttgtgac\n",
      "     1081 atgctgaggc TGTTTGACTT CAACAAACAA GCCATTCAAA GGTTGAAAGC TGAAGCACAA\n",
      "     1141 ATGAGCATTC AGTTGATCAA CAAAGCAGTA AATGCTTTGA TAAATGACCA ACTTATAATG\n",
      "     1201 AAGAACCATC TACGGGACAT CATGGGAATT CCATACTGTA ATTACAGCAA GTATTGGTAC\n",
      "     1261 CTCAACCACA CAACTACTGG GAGAACATCA CTGCCCAAAT GTTGGCTTGT ATCAAATGGT\n",
      "     1321 TCATACTTGA ACGAGACCCA CTTTTCTGAT GATATTGAAC AACAAGCTGA CAATATGATC\n",
      "     1381 ACTGAGATGT TACAGAAGGA GTATATGGAG AGGCAGGGGA AGACACCATT GGGTCTAGTT\n",
      "     1441 GACCTCTTTG TGTTCAGCAC AAGTTTCTAT CTTATTAGCA TCTTCCTTCA CCTAGTCAAA\n",
      "     1501 ATACCAACTC ATAGGCATAT TGTAGGCAAG TCGTGTCCCA AACCTCACAG ATTGAATCAT\n",
      "     1561 ATGGGCATTT GTTCCTGTGG ACTCTACAAA CAGCCTGGTG TGCCTGTGAA ATGGAAGAGA\n",
      "     1621 TGAGCTAGCT AAACGCGTTG ATCCtaatca acctctggat tacaaaattt gtgaaagatt\n",
      "     1681 gactggtatt cttaactatg tRgctccttt tacgctatgt ggatacgctg \n",
      "//\n",
      "\n",
      "LOCUS       LASV_Josiah_OPT          1730 bp ds-DNA     linear       14-JUN-2019\n",
      "DEFINITION  .\n",
      "ACCESSION   \n",
      "VERSION     \n",
      "SOURCE      Kate Crawford\n",
      "  ORGANISM  .\n",
      "COMMENT     \n",
      "COMMENT     \n",
      "COMMENT     PacBio amplicon for LASV Josiah OPT sequence\n",
      "COMMENT     \n",
      "COMMENT     ApEinfo:methylated:1\n",
      "FEATURES             Location/Qualifiers\n",
      "     T2A             85..147\n",
      "                     /label=\"T2A\"\n",
      "     WPRE            1639..1730\n",
      "                     /label=\"WPRE\"\n",
      "     ZsGreen         15..84\n",
      "                     /label=\"ZsGreen\"\n",
      "     termini3        1639..1730\n",
      "                     /label=\"3'Termini\"\n",
      "     index           9..14\n",
      "                     /label=\"index\"\n",
      "     leader5         1..8\n",
      "                     /label=\"5' leader\"\n",
      "     termini5        1..147\n",
      "                     /label=\"5'Termini\"\n",
      "     variant_tag5     34..34\n",
      "                     /variant_1=T\n",
      "                     /variant_2=C\n",
      "                     /label=\"5'VariantTag\"\n",
      "     variant_tag3     1702..1702\n",
      "                     /variant_1=G\n",
      "                     /variant_2=A\n",
      "                     /label=\"3'VariantTag\"\n",
      "     spacer          1624..1638\n",
      "                     /label=\"3'Spacer\"\n",
      "     gene            148..1623\n",
      "                     /label=\"LASV_Josiah_OPT\"\n",
      "\n",
      "ORIGIN\n",
      "        1 GACTGATANN NNNNcagcga cgccaagaac cagYagtggc acctgaccga gcacgccatc\n",
      "       61 gcctccggcT CCGCCTTGCC CGCTGGATCC GGCGAGGGCA GAGGAAGTCT GCTAACATGC\n",
      "      121 GGTGACGTCG AGGAGAATCC TGGCCCAATG GGCCAGATCG TGACCTTCTT CCAAGAAGTG\n",
      "      181 CCTCATGTGA TTGAGGAGGT GATGAATATC GTGCTGATCG CTTTAAGCGT GCTGGCCGTT\n",
      "      241 CTTAAGGGCC TCTATAACTT CGCCACTTGT GGTTTAGTCG GACTGGTGAC ATTTCTGCTG\n",
      "      301 CTGTGTGGCA GATCTTGTAC CACATCTTTA TACAAGGGCG TGTACGAGCT GCAGACTTTA\n",
      "      361 GAACTGAACA TGGAGACTTT AAACATGACC ATGCCTTTAA GCTGTACCAA GAACAATAGC\n",
      "      421 CACCACTACA TCATGGTGGG CAACGAGACC GGTTTAGAAC TGACACTCAC CAACACCAGC\n",
      "      481 ATTATCAACC ATAAGTTCTG CAACCTCTCC GACGCTCACA AGAAGAATTT ATACGACCAC\n",
      "      541 GCTTTAATGA GCATCATCTC CACCTTCCAT CTCTCCATTC CTAATttcaa ccagtacgag\n",
      "      601 gccatgAGCT GCGACTTTAA CGGCGGCAAG ATCTCCGTGC AGTACAATTT ATCCCATAGC\n",
      "      661 TACGCCGGCG ATGCCGCCAA TCACTGCGGA ACCGTGGCCA ACGGCGTGCT GCAGACATTC\n",
      "      721 ATGAGGATGG CTTGGGGCGG CTCCTATATC GCTTTAGACT CCGGCAGAGG AAACTGGGAC\n",
      "      781 TGTATCATGA CCAGCTACCA ATATTTAATC ATTCAGAACA CCACATGGGA GGACCACTGC\n",
      "      841 CAATTCTCTC GTCCCTCTCC TATCGGCTAT CTGGGACTGC TGTCCCAGAG GACCAGAGAC\n",
      "      901 ATCTACATCT CTCGTAGGCT GCTGGGCACA TTCACTTGGA CTTTAAGCGA CAGCGAAGGC\n",
      "      961 AAAGATACTC CCGGTGGCTA CTGTTTAACA AGATGGATGC TGATCGAGGC CGAGCTCAAG\n",
      "     1021 TGCTTCGGAA ATACCGCCGT GGCCAAATGC AACGAGAAAC ACGACGAGGA GTTCTGCGAC\n",
      "     1081 ATGCTGAGGC TCTTCGACTT CAacaagcaa gccattcaga ggcTGAAGGC CGAAGCCCAG\n",
      "     1141 ATGTCCATCC AGCTGATTAA TAAGGCCGTG AATGCCCTCA TTAACGACCA GCTGATCATG\n",
      "     1201 AAGAACCATT TAAGGGACAT CATGGGCATC CCTTATTGCA ACTACAGCAA ATACTGGTAT\n",
      "     1261 TTAAATCATA CCACCACCGG TCGTACATCC TTACCTAAGT GCTGGCTGGT CAGCAATGGC\n",
      "     1321 TCCTATTTAA ACGAGACACA CTTCTCCGAC GACATCGAGC AGCAAGCCGA CAACATGATC\n",
      "     1381 ACCGAAATGC TCCAGAAGGA GTACATGGAG AGGCAAGGTA AGACTCCTCT GGGTTTAGTG\n",
      "     1441 GATTTATTCG TCTTCAGCAC CTCCTTCTAT TTAATCTCCA TCTTTCTTCA TCTGGTGAAG\n",
      "     1501 ATTCCTACCC ACAGACACAT TGTGGGCAAG AGCTGTCCTA AGCCTCATAG ACTGAACCAC\n",
      "     1561 ATGGGCATCT GTAGCTGCGG TTTATATAAA CAGCCCGGTG TTCCCGTTAA GTGGAAGAGG\n",
      "     1621 TGAGCTAGCT AAACGCGTTG ATCCtaatca acctctggat tacaaaattt gtgaaagatt\n",
      "     1681 gactggtatt cttaactatg tRgctccttt tacgctatgt ggatacgctg \n",
      "//\n",
      "\n"
     ]
    }
   ],
   "source": [
    "target_file_names = ['LASV_Josiah_WT', 'LASV_Josiah_OPT']\n",
    "\n",
    "targetfiles = [f\"input_files/{target_file_name}.gb\" for target_file_name in target_file_names]\n",
    "\n",
    "\n",
    "for targetfile in targetfiles:\n",
    "    with open(targetfile) as f:\n",
    "        print(f.read())"
   ]
  },
  {
   "cell_type": "markdown",
   "metadata": {},
   "source": [
    "Read the amplicons into a `Targets` object, specifying the features that we require the target to contain:\n",
    "\n",
    "First, read in the `.yaml` file containing the `feature_parse_specs` for these targets. Here, the `feature_parse_specs` are the same for both targets, but this is not required."
   ]
  },
  {
   "cell_type": "code",
   "execution_count": 6,
   "metadata": {},
   "outputs": [],
   "source": [
    "parse_specs_file = 'input_files/lasv_feature_parse_specs.yaml'"
   ]
  },
  {
   "cell_type": "code",
   "execution_count": 7,
   "metadata": {},
   "outputs": [],
   "source": [
    "targets = alignparse.targets.Targets(seqsfile=targetfiles,\n",
    "                  feature_parse_specs=parse_specs_file,\n",
    "                  allow_extra_features=True,\n",
    "                  allow_clipped_muts_seqs=True)"
   ]
  },
  {
   "cell_type": "markdown",
   "metadata": {},
   "source": [
    "Plot the targets:"
   ]
  },
  {
   "cell_type": "code",
   "execution_count": 8,
   "metadata": {},
   "outputs": [
    {
     "data": {
      "image/png": "[encoded data removed]",
      "text/plain": [
       "<Figure size 720x432 with 2 Axes>"
      ]
     },
     "metadata": {},
     "output_type": "display_data"
    }
   ],
   "source": [
    "_ = targets.plot(ax_width=10)"
   ]
  },
  {
   "cell_type": "markdown",
   "metadata": {},
   "source": [
    "We can also look at the featue parsing specifications as a dict or YAML string (here we do it as YAML string):"
   ]
  },
  {
   "cell_type": "code",
   "execution_count": 9,
   "metadata": {},
   "outputs": [
    {
     "name": "stdout",
     "output_type": "stream",
     "text": [
      "LASV_Josiah_WT: &id001\n",
      "  query_clip5: 10\n",
      "  query_clip3: 10\n",
      "  termini5:\n",
      "    filter:\n",
      "      clip5: 10\n",
      "      mutation_nt_count: 1\n",
      "      mutation_op_count: null\n",
      "      clip3: 0\n",
      "    return: []\n",
      "  termini3:\n",
      "    filter:\n",
      "      clip3: 4\n",
      "      mutation_nt_count: 1\n",
      "      mutation_op_count: null\n",
      "      clip5: 0\n",
      "    return: []\n",
      "  gene:\n",
      "    filter:\n",
      "      mutation_nt_count: 30\n",
      "      mutation_op_count: null\n",
      "      clip5: 0\n",
      "      clip3: 0\n",
      "    return:\n",
      "    - mutations\n",
      "    - accuracy\n",
      "  spacer:\n",
      "    filter:\n",
      "      mutation_nt_count: 1\n",
      "      mutation_op_count: null\n",
      "      clip5: 0\n",
      "      clip3: 0\n",
      "    return: []\n",
      "  index:\n",
      "    filter:\n",
      "      clip5: 3\n",
      "      clip3: 0\n",
      "      mutation_nt_count: 0\n",
      "      mutation_op_count: 0\n",
      "    return:\n",
      "    - sequence\n",
      "  variant_tag5:\n",
      "    return:\n",
      "    - sequence\n",
      "    filter:\n",
      "      clip5: 0\n",
      "      clip3: 0\n",
      "      mutation_nt_count: 0\n",
      "      mutation_op_count: 0\n",
      "  variant_tag3:\n",
      "    return:\n",
      "    - sequence\n",
      "    filter:\n",
      "      clip5: 0\n",
      "      clip3: 0\n",
      "      mutation_nt_count: 0\n",
      "      mutation_op_count: 0\n",
      "LASV_Josiah_OPT: *id001\n",
      "\n"
     ]
    }
   ],
   "source": [
    "print(targets.feature_parse_specs('yaml'))"
   ]
  },
  {
   "cell_type": "markdown",
   "metadata": {},
   "source": [
    "## PacBio CCSs\n",
    "We will align PacBio circular consensus sequences (CCSs) to the target.\n",
    "First, we want to look at the CCSs.\n",
    "A FASTQ file with these CCSs along with an associated report file were generated using the PacBio `ccs` program (see [here](https://github.com/PacificBiosciences/ccs) for details on `ccs`) using commands like the following (generates report file and BAM of CCSs):\n",
    "\n",
    "    ccs --minLength 50 --maxLength 5000 \\\n",
    "        --minPasses 3  --minPredictedAccuracy 0.999 \\\n",
    "        --reportFile lasv_pilot_report.txt \\\n",
    "        --polish --numThreads 16 \\\n",
    "        lasv_pilot_subreads.bam lasv_pilot_ccs.bam\n",
    "        \n",
    "The BAM file was then converted to a FASTQ file using [samtools](http://www.htslib.org/) with a flag to retain the number of passes (`np`):\n",
    "\n",
    "    samtools bam2fq -T np lasv_pilot_ccs.bam > lasv_pilot_ccs.fastq\n",
    "    \n",
    "Here is a data frame with the resulting FASTQ and BAM files:"
   ]
  },
  {
   "cell_type": "code",
   "execution_count": 10,
   "metadata": {},
   "outputs": [
    {
     "data": {
      "text/html": [
       "<div>\n",
       "<style scoped>\n",
       "    .dataframe tbody tr th:only-of-type {\n",
       "        vertical-align: middle;\n",
       "    }\n",
       "\n",
       "    .dataframe tbody tr th {\n",
       "        vertical-align: top;\n",
       "    }\n",
       "\n",
       "    .dataframe thead th {\n",
       "        text-align: right;\n",
       "    }\n",
       "</style>\n",
       "<table border=\"1\" class=\"dataframe\">\n",
       "  <thead>\n",
       "    <tr style=\"text-align: right;\">\n",
       "      <th></th>\n",
       "      <th>name</th>\n",
       "      <th>report</th>\n",
       "      <th>fastq</th>\n",
       "    </tr>\n",
       "  </thead>\n",
       "  <tbody>\n",
       "    <tr>\n",
       "      <th>0</th>\n",
       "      <td>lasv_pilot</td>\n",
       "      <td>input_files/lasv_pilot_report.txt</td>\n",
       "      <td>input_files/lasv_example_ccs.fastq</td>\n",
       "    </tr>\n",
       "  </tbody>\n",
       "</table>\n",
       "</div>"
      ],
      "text/plain": [
       "         name                             report  \\\n",
       "0  lasv_pilot  input_files/lasv_pilot_report.txt   \n",
       "\n",
       "                                fastq  \n",
       "0  input_files/lasv_example_ccs.fastq  "
      ]
     },
     "execution_count": 10,
     "metadata": {},
     "output_type": "execute_result"
    }
   ],
   "source": [
    "run_names = ['lasv_pilot']\n",
    "ccs_dir = 'input_files'\n",
    "file_name = 'lasv_example'\n",
    "\n",
    "pacbio_runs = pd.DataFrame(\n",
    "            {'name': run_names,\n",
    "             'report': [f\"{ccs_dir}/{name}_report.txt\" for name in run_names],\n",
    "             'fastq': [f\"{ccs_dir}/{file_name}_ccs.fastq\"]\n",
    "             })\n",
    "\n",
    "pacbio_runs"
   ]
  },
  {
   "cell_type": "markdown",
   "metadata": {},
   "source": [
    "We create a `Summaries` object for these CCSs:"
   ]
  },
  {
   "cell_type": "code",
   "execution_count": 11,
   "metadata": {},
   "outputs": [],
   "source": [
    "ccs_summaries = alignparse.ccs.Summaries(pacbio_runs, ncpus=1)"
   ]
  },
  {
   "cell_type": "markdown",
   "metadata": {},
   "source": [
    "Plot how many ZMWs yielded CCSs:"
   ]
  },
  {
   "cell_type": "code",
   "execution_count": 12,
   "metadata": {},
   "outputs": [
    {
     "data": {
      "image/png": "[encoded data removed]",
      "text/plain": [
       "<Figure size 40x250 with 1 Axes>"
      ]
     },
     "metadata": {},
     "output_type": "display_data"
    }
   ],
   "source": [
    "p = ccs_summaries.plot_zmw_stats()\n",
    "_ = p.draw()"
   ]
  },
  {
   "cell_type": "code",
   "execution_count": 13,
   "metadata": {},
   "outputs": [
    {
     "data": {
      "text/html": [
       "<div>\n",
       "<style scoped>\n",
       "    .dataframe tbody tr th:only-of-type {\n",
       "        vertical-align: middle;\n",
       "    }\n",
       "\n",
       "    .dataframe tbody tr th {\n",
       "        vertical-align: top;\n",
       "    }\n",
       "\n",
       "    .dataframe thead th {\n",
       "        text-align: right;\n",
       "    }\n",
       "</style>\n",
       "<table border=\"1\" class=\"dataframe\">\n",
       "  <thead>\n",
       "    <tr style=\"text-align: right;\">\n",
       "      <th></th>\n",
       "      <th>name</th>\n",
       "      <th>status</th>\n",
       "      <th>number</th>\n",
       "      <th>fraction</th>\n",
       "    </tr>\n",
       "  </thead>\n",
       "  <tbody>\n",
       "    <tr>\n",
       "      <th>0</th>\n",
       "      <td>lasv_pilot</td>\n",
       "      <td>Success -- CCS generated</td>\n",
       "      <td>250</td>\n",
       "      <td>0.4996</td>\n",
       "    </tr>\n",
       "    <tr>\n",
       "      <th>1</th>\n",
       "      <td>lasv_pilot</td>\n",
       "      <td>Failed -- Not enough full passes</td>\n",
       "      <td>157</td>\n",
       "      <td>0.3144</td>\n",
       "    </tr>\n",
       "    <tr>\n",
       "      <th>2</th>\n",
       "      <td>lasv_pilot</td>\n",
       "      <td>Failed -- CCS below minimum predicted accuracy</td>\n",
       "      <td>86</td>\n",
       "      <td>0.1720</td>\n",
       "    </tr>\n",
       "    <tr>\n",
       "      <th>3</th>\n",
       "      <td>lasv_pilot</td>\n",
       "      <td>Failed -- No usable subreads</td>\n",
       "      <td>6</td>\n",
       "      <td>0.0137</td>\n",
       "    </tr>\n",
       "    <tr>\n",
       "      <th>4</th>\n",
       "      <td>lasv_pilot</td>\n",
       "      <td>Failed -- Other reason</td>\n",
       "      <td>0</td>\n",
       "      <td>0.0000</td>\n",
       "    </tr>\n",
       "  </tbody>\n",
       "</table>\n",
       "</div>"
      ],
      "text/plain": [
       "         name                                          status  number  \\\n",
       "0  lasv_pilot                        Success -- CCS generated     250   \n",
       "1  lasv_pilot                Failed -- Not enough full passes     157   \n",
       "2  lasv_pilot  Failed -- CCS below minimum predicted accuracy      86   \n",
       "3  lasv_pilot                    Failed -- No usable subreads       6   \n",
       "4  lasv_pilot                          Failed -- Other reason       0   \n",
       "\n",
       "   fraction  \n",
       "0    0.4996  \n",
       "1    0.3144  \n",
       "2    0.1720  \n",
       "3    0.0137  \n",
       "4    0.0000  "
      ]
     },
     "execution_count": 13,
     "metadata": {},
     "output_type": "execute_result"
    }
   ],
   "source": [
    "ccs_summaries.zmw_stats()"
   ]
  },
  {
   "cell_type": "markdown",
   "metadata": {},
   "source": [
    "Statistics on the CCSs (length, number of subread passes, accuracy):"
   ]
  },
  {
   "cell_type": "code",
   "execution_count": 14,
   "metadata": {},
   "outputs": [
    {
     "data": {
      "image/png": "[encoded data removed]",
      "text/plain": [
       "<Figure size 175x175 with 1 Axes>"
      ]
     },
     "metadata": {},
     "output_type": "display_data"
    },
    {
     "data": {
      "image/png": "[encoded data removed]",
      "text/plain": [
       "<Figure size 175x175 with 1 Axes>"
      ]
     },
     "metadata": {},
     "output_type": "display_data"
    },
    {
     "data": {
      "image/png": "[encoded data removed]",
      "text/plain": [
       "<Figure size 175x175 with 1 Axes>"
      ]
     },
     "metadata": {},
     "output_type": "display_data"
    }
   ],
   "source": [
    "for stat in ['length', 'passes', 'accuracy']:\n",
    "    if ccs_summaries.has_stat(stat):\n",
    "        p = ccs_summaries.plot_ccs_stats(stat)\n",
    "        _ = p.draw()\n",
    "    else:\n",
    "        print(f\"No information available on CCS {stat}\")"
   ]
  },
  {
   "cell_type": "markdown",
   "metadata": {},
   "source": [
    "## Align CCSs to target\n",
    "Now we use `minimap2` to align the CCSs to the target.\n",
    "\n",
    "First, we create a `Mapper` object to run `minimap2`, using the options for codon-level deep mutational scanning:"
   ]
  },
  {
   "cell_type": "code",
   "execution_count": 15,
   "metadata": {},
   "outputs": [
    {
     "ename": "ValueError",
     "evalue": "Can't execute `prog` minimap2. Is it installed?",
     "output_type": "error",
     "traceback": [
      "\u001b[0;31m----------------------------------------------------------------------\u001b[0m",
      "\u001b[0;31mFileNotFoundError\u001b[0m                    Traceback (most recent call last)",
      "\u001b[0;32m~/Desktop/alignparse/alignparse/minimap2.py\u001b[0m in \u001b[0;36m__init__\u001b[0;34m(self, options, prog, min_version, check_cs, retain_tags)\u001b[0m\n\u001b[1;32m    183\u001b[0m         \u001b[0;32mtry\u001b[0m\u001b[0;34m:\u001b[0m\u001b[0;34m\u001b[0m\u001b[0;34m\u001b[0m\u001b[0m\n\u001b[0;32m--> 184\u001b[0;31m             \u001b[0mversion\u001b[0m \u001b[0;34m=\u001b[0m \u001b[0msubprocess\u001b[0m\u001b[0;34m.\u001b[0m\u001b[0mcheck_output\u001b[0m\u001b[0;34m(\u001b[0m\u001b[0;34m[\u001b[0m\u001b[0mprog\u001b[0m\u001b[0;34m,\u001b[0m \u001b[0;34m'--version'\u001b[0m\u001b[0;34m]\u001b[0m\u001b[0;34m)\u001b[0m\u001b[0;34m\u001b[0m\u001b[0;34m\u001b[0m\u001b[0m\n\u001b[0m\u001b[1;32m    185\u001b[0m         \u001b[0;32mexcept\u001b[0m \u001b[0mException\u001b[0m\u001b[0;34m:\u001b[0m\u001b[0;34m\u001b[0m\u001b[0;34m\u001b[0m\u001b[0m\n",
      "\u001b[0;32m~/miniconda3/lib/python3.6/subprocess.py\u001b[0m in \u001b[0;36mcheck_output\u001b[0;34m(timeout, *popenargs, **kwargs)\u001b[0m\n\u001b[1;32m    355\u001b[0m     return run(*popenargs, stdout=PIPE, timeout=timeout, check=True,\n\u001b[0;32m--> 356\u001b[0;31m                **kwargs).stdout\n\u001b[0m\u001b[1;32m    357\u001b[0m \u001b[0;34m\u001b[0m\u001b[0m\n",
      "\u001b[0;32m~/miniconda3/lib/python3.6/subprocess.py\u001b[0m in \u001b[0;36mrun\u001b[0;34m(input, timeout, check, *popenargs, **kwargs)\u001b[0m\n\u001b[1;32m    422\u001b[0m \u001b[0;34m\u001b[0m\u001b[0m\n\u001b[0;32m--> 423\u001b[0;31m     \u001b[0;32mwith\u001b[0m \u001b[0mPopen\u001b[0m\u001b[0;34m(\u001b[0m\u001b[0;34m*\u001b[0m\u001b[0mpopenargs\u001b[0m\u001b[0;34m,\u001b[0m \u001b[0;34m**\u001b[0m\u001b[0mkwargs\u001b[0m\u001b[0;34m)\u001b[0m \u001b[0;32mas\u001b[0m \u001b[0mprocess\u001b[0m\u001b[0;34m:\u001b[0m\u001b[0;34m\u001b[0m\u001b[0;34m\u001b[0m\u001b[0m\n\u001b[0m\u001b[1;32m    424\u001b[0m         \u001b[0;32mtry\u001b[0m\u001b[0;34m:\u001b[0m\u001b[0;34m\u001b[0m\u001b[0;34m\u001b[0m\u001b[0m\n",
      "\u001b[0;32m~/miniconda3/lib/python3.6/subprocess.py\u001b[0m in \u001b[0;36m__init__\u001b[0;34m(self, args, bufsize, executable, stdin, stdout, stderr, preexec_fn, close_fds, shell, cwd, env, universal_newlines, startupinfo, creationflags, restore_signals, start_new_session, pass_fds, encoding, errors)\u001b[0m\n\u001b[1;32m    728\u001b[0m                                 \u001b[0merrread\u001b[0m\u001b[0;34m,\u001b[0m \u001b[0merrwrite\u001b[0m\u001b[0;34m,\u001b[0m\u001b[0;34m\u001b[0m\u001b[0;34m\u001b[0m\u001b[0m\n\u001b[0;32m--> 729\u001b[0;31m                                 restore_signals, start_new_session)\n\u001b[0m\u001b[1;32m    730\u001b[0m         \u001b[0;32mexcept\u001b[0m\u001b[0;34m:\u001b[0m\u001b[0;34m\u001b[0m\u001b[0;34m\u001b[0m\u001b[0m\n",
      "\u001b[0;32m~/miniconda3/lib/python3.6/subprocess.py\u001b[0m in \u001b[0;36m_execute_child\u001b[0;34m(self, args, executable, preexec_fn, close_fds, pass_fds, cwd, env, startupinfo, creationflags, shell, p2cread, p2cwrite, c2pread, c2pwrite, errread, errwrite, restore_signals, start_new_session)\u001b[0m\n\u001b[1;32m   1363\u001b[0m                             \u001b[0merr_msg\u001b[0m \u001b[0;34m+=\u001b[0m \u001b[0;34m': '\u001b[0m \u001b[0;34m+\u001b[0m \u001b[0mrepr\u001b[0m\u001b[0;34m(\u001b[0m\u001b[0merr_filename\u001b[0m\u001b[0;34m)\u001b[0m\u001b[0;34m\u001b[0m\u001b[0;34m\u001b[0m\u001b[0m\n\u001b[0;32m-> 1364\u001b[0;31m                     \u001b[0;32mraise\u001b[0m \u001b[0mchild_exception_type\u001b[0m\u001b[0;34m(\u001b[0m\u001b[0merrno_num\u001b[0m\u001b[0;34m,\u001b[0m \u001b[0merr_msg\u001b[0m\u001b[0;34m,\u001b[0m \u001b[0merr_filename\u001b[0m\u001b[0;34m)\u001b[0m\u001b[0;34m\u001b[0m\u001b[0;34m\u001b[0m\u001b[0m\n\u001b[0m\u001b[1;32m   1365\u001b[0m                 \u001b[0;32mraise\u001b[0m \u001b[0mchild_exception_type\u001b[0m\u001b[0;34m(\u001b[0m\u001b[0merr_msg\u001b[0m\u001b[0;34m)\u001b[0m\u001b[0;34m\u001b[0m\u001b[0;34m\u001b[0m\u001b[0m\n",
      "\u001b[0;31mFileNotFoundError\u001b[0m: [Errno 2] No such file or directory: 'minimap2': 'minimap2'",
      "\nDuring handling of the above exception, another exception occurred:\n",
      "\u001b[0;31mValueError\u001b[0m                           Traceback (most recent call last)",
      "\u001b[0;32m<ipython-input-15-6c068f0ca991>\u001b[0m in \u001b[0;36m<module>\u001b[0;34m\u001b[0m\n\u001b[0;32m----> 1\u001b[0;31m \u001b[0mmapper\u001b[0m \u001b[0;34m=\u001b[0m \u001b[0malignparse\u001b[0m\u001b[0;34m.\u001b[0m\u001b[0mminimap2\u001b[0m\u001b[0;34m.\u001b[0m\u001b[0mMapper\u001b[0m\u001b[0;34m(\u001b[0m\u001b[0malignparse\u001b[0m\u001b[0;34m.\u001b[0m\u001b[0mminimap2\u001b[0m\u001b[0;34m.\u001b[0m\u001b[0mOPTIONS_CODON_DMS\u001b[0m\u001b[0;34m)\u001b[0m\u001b[0;34m\u001b[0m\u001b[0;34m\u001b[0m\u001b[0m\n\u001b[0m\u001b[1;32m      2\u001b[0m \u001b[0;34m\u001b[0m\u001b[0m\n\u001b[1;32m      3\u001b[0m print(f\"Using `minimap2` {mapper.version} with these options:\\n\" +\n\u001b[1;32m      4\u001b[0m       ' '.join(mapper.options))\n",
      "\u001b[0;32m~/Desktop/alignparse/alignparse/minimap2.py\u001b[0m in \u001b[0;36m__init__\u001b[0;34m(self, options, prog, min_version, check_cs, retain_tags)\u001b[0m\n\u001b[1;32m    184\u001b[0m             \u001b[0mversion\u001b[0m \u001b[0;34m=\u001b[0m \u001b[0msubprocess\u001b[0m\u001b[0;34m.\u001b[0m\u001b[0mcheck_output\u001b[0m\u001b[0;34m(\u001b[0m\u001b[0;34m[\u001b[0m\u001b[0mprog\u001b[0m\u001b[0;34m,\u001b[0m \u001b[0;34m'--version'\u001b[0m\u001b[0;34m]\u001b[0m\u001b[0;34m)\u001b[0m\u001b[0;34m\u001b[0m\u001b[0;34m\u001b[0m\u001b[0m\n\u001b[1;32m    185\u001b[0m         \u001b[0;32mexcept\u001b[0m \u001b[0mException\u001b[0m\u001b[0;34m:\u001b[0m\u001b[0;34m\u001b[0m\u001b[0;34m\u001b[0m\u001b[0m\n\u001b[0;32m--> 186\u001b[0;31m             \u001b[0;32mraise\u001b[0m \u001b[0mValueError\u001b[0m\u001b[0;34m(\u001b[0m\u001b[0;34mf\"Can't execute `prog` {prog}. Is it installed?\"\u001b[0m\u001b[0;34m)\u001b[0m\u001b[0;34m\u001b[0m\u001b[0;34m\u001b[0m\u001b[0m\n\u001b[0m\u001b[1;32m    187\u001b[0m         \u001b[0mself\u001b[0m\u001b[0;34m.\u001b[0m\u001b[0mversion\u001b[0m \u001b[0;34m=\u001b[0m \u001b[0mversion\u001b[0m\u001b[0;34m.\u001b[0m\u001b[0mstrip\u001b[0m\u001b[0;34m(\u001b[0m\u001b[0;34m)\u001b[0m\u001b[0;34m.\u001b[0m\u001b[0mdecode\u001b[0m\u001b[0;34m(\u001b[0m\u001b[0;34m'utf-8'\u001b[0m\u001b[0;34m)\u001b[0m\u001b[0;34m\u001b[0m\u001b[0;34m\u001b[0m\u001b[0m\n\u001b[1;32m    188\u001b[0m         \u001b[0mmin_version\u001b[0m \u001b[0;34m=\u001b[0m \u001b[0mpackaging\u001b[0m\u001b[0;34m.\u001b[0m\u001b[0mversion\u001b[0m\u001b[0;34m.\u001b[0m\u001b[0mparse\u001b[0m\u001b[0;34m(\u001b[0m\u001b[0mmin_version\u001b[0m\u001b[0;34m)\u001b[0m\u001b[0;34m\u001b[0m\u001b[0;34m\u001b[0m\u001b[0m\n",
      "\u001b[0;31mValueError\u001b[0m: Can't execute `prog` minimap2. Is it installed?"
     ]
    }
   ],
   "source": [
    "mapper = alignparse.minimap2.Mapper(alignparse.minimap2.OPTIONS_CODON_DMS)\n",
    "\n",
    "print(f\"Using `minimap2` {mapper.version} with these options:\\n\" +\n",
    "      ' '.join(mapper.options))"
   ]
  },
  {
   "cell_type": "markdown",
   "metadata": {},
   "source": [
    "Now use this mapper to do the alignments to a SAM file.\n",
    "First, add the names of the desired alignment files to our data frame:"
   ]
  },
  {
   "cell_type": "code",
   "execution_count": null,
   "metadata": {
    "scrolled": true
   },
   "outputs": [],
   "source": [
    "pacbio_runs = pacbio_runs.assign(alignments=lambda x: outdir + x['name'] + '_alignments.sam')\n",
    "\n",
    "pacbio_runs"
   ]
  },
  {
   "cell_type": "markdown",
   "metadata": {},
   "source": [
    "Now use the mapper to actually align the FASTQ queries to the target:"
   ]
  },
  {
   "cell_type": "code",
   "execution_count": null,
   "metadata": {},
   "outputs": [],
   "source": [
    "for tup in pacbio_runs.itertuples(index=False):\n",
    "    print(f\"Aligning {tup.fastq} to create {tup.alignments}...\")\n",
    "    targets.align(queryfile=tup.fastq,\n",
    "                  alignmentfile=tup.alignments,\n",
    "                  mapper=mapper)"
   ]
  },
  {
   "cell_type": "markdown",
   "metadata": {},
   "source": [
    "These SAM files now contain the alignments along with the [`cs` tag](https://github.com/lh3/minimap2#cs), which contains details on the mutations:"
   ]
  },
  {
   "cell_type": "code",
   "execution_count": null,
   "metadata": {},
   "outputs": [],
   "source": [
    "for fname in pacbio_runs['alignments'][:1]:\n",
    "    with pysam.AlignmentFile(fname) as f:\n",
    "        a = next(f)\n",
    "        print(f\"First alignment in {fname} has `cs` tag:\\n\" + a.get_tag('cs'))"
   ]
  },
  {
   "cell_type": "markdown",
   "metadata": {},
   "source": [
    "## Parse the alignments\n",
    "Now we use `Targets.parse_alignments` to parse the SAM files to get the information we specified for return.\n",
    "This function returns a data frames (`readstats`) on the overall parsing stats, plus dicts keyed by the names of each target in `Targets` giving data frames on the aligned and filtered reads.\n",
    "We concatenate the data frames for each PacBio run and then look at them together:"
   ]
  },
  {
   "cell_type": "code",
   "execution_count": null,
   "metadata": {},
   "outputs": [],
   "source": [
    "readstats = []\n",
    "aligned = {targetname: [] for targetname in targets.target_names}\n",
    "filtered = {targetname: [] for targetname in targets.target_names}\n",
    "\n",
    "for run in pacbio_runs.itertuples():\n",
    "    \n",
    "    print(f\"Parsing PacBio run {run.name}\")\n",
    "    run_readstats, run_aligned, run_filtered = targets.parse_alignment(run.alignments, filtered_cs=True)\n",
    "    \n",
    "    # when concatenating add the run name to keep track of runs for results\n",
    "    readstats.append(run_readstats\n",
    "                     .assign(run_name=run.name)\n",
    "                     )\n",
    "    for targetname in targets.target_names:\n",
    "        aligned[targetname].append(run_aligned[targetname]\n",
    "                                   .assign(run_name=run.name)\n",
    "                                   )\n",
    "        filtered[targetname].append(run_filtered[targetname]\n",
    "                                    .assign(run_name=run.name)\n",
    "                                    )\n",
    "        \n",
    "# now concatenate the data frames for each run\n",
    "readstats = pd.concat(readstats, ignore_index=True, sort=False)\n",
    "for targetname in targets.target_names:\n",
    "    aligned[targetname] = pd.concat(aligned[targetname], ignore_index=True, sort=False)\n",
    "    filtered[targetname] = pd.concat(filtered[targetname], ignore_index=True, sort=False)"
   ]
  },
  {
   "cell_type": "markdown",
   "metadata": {},
   "source": [
    "First lets look at the read stats:\n",
    "\n",
    "From the known composition of the library, there should be more LASV_Josiah_OPT reads than LASV_Josiah_WT."
   ]
  },
  {
   "cell_type": "code",
   "execution_count": null,
   "metadata": {
    "scrolled": true
   },
   "outputs": [],
   "source": [
    "readstats"
   ]
  },
  {
   "cell_type": "code",
   "execution_count": null,
   "metadata": {},
   "outputs": [],
   "source": [
    "p = (\n",
    "    ggplot(readstats, aes('category', 'count')) +\n",
    "    geom_bar(stat='identity') +\n",
    "    facet_wrap('~ run_name', nrow=1) +\n",
    "    theme(axis_text_x=element_text(angle=90),\n",
    "          figure_size=(1.5 * len(pacbio_runs), 2.5)\n",
    "          )\n",
    "    )\n",
    "_ = p.draw()"
   ]
  },
  {
   "cell_type": "markdown",
   "metadata": {},
   "source": [
    "Now look at the information on the filtered reads.\n",
    "This is a bigger data frame, so we just look at the first few lines for the first target (of which there is only one anyway):"
   ]
  },
  {
   "cell_type": "code",
   "execution_count": null,
   "metadata": {},
   "outputs": [],
   "source": [
    "filtered[targets.target_names[0]].head()"
   ]
  },
  {
   "cell_type": "code",
   "execution_count": null,
   "metadata": {
    "scrolled": true
   },
   "outputs": [],
   "source": [
    "for targetname in targets.target_names:\n",
    "    target_filtered = filtered[targetname]\n",
    "    nreasons = target_filtered['filter_reason'].nunique()\n",
    "    p = (\n",
    "        ggplot(target_filtered, aes('filter_reason')) +\n",
    "        geom_bar() +\n",
    "        facet_wrap('~ run_name', nrow=1) +\n",
    "        labs(title=targetname) +\n",
    "        theme(axis_text_x=element_text(angle=90),\n",
    "              figure_size=(0.3 * nreasons * len(pacbio_runs), 2.5),\n",
    "              )\n",
    "        )\n",
    "    _ = p.draw()"
   ]
  },
  {
   "cell_type": "markdown",
   "metadata": {},
   "source": [
    "## Error filtering\n",
    "\n",
    "Before looking at the information for the validly aligned (not filtered) reads, it is important to get a sense of the error rate for these sequencing reads. \n",
    "\n",
    "These reads do not have barcodes on each initial viral entry protein plasmid, but we can use the 'gene_accuracy' information output from constructing the `ccs`s to examine accuracy. \n",
    "\n",
    "We will do this using a similar method to that implemented in the [recA_DMS.ipynb](https://jbloomlab.github.io/alignparse/recA_DMS.html) example notebook. However, here we will plot the graphs for each target. \n",
    "\n",
    "We anticipate excluding all CCSs for which the error rate for either the gene or barcode is $>10^{-4}$.\n",
    "We specify this cutoff below."
   ]
  },
  {
   "cell_type": "code",
   "execution_count": null,
   "metadata": {
    "scrolled": false
   },
   "outputs": [],
   "source": [
    "error_rate_floor = 1e-7  # error rates < this set to this\n",
    "error_cutoff = 1e-4\n",
    "\n",
    "for targetname in targets.target_names:\n",
    "    aligned[targetname] = (\n",
    "                  aligned[targetname]\n",
    "                  .assign(\n",
    "                          gene_error=lambda x: numpy.clip(1 - x['gene_accuracy'],\n",
    "                                                          error_rate_floor, None)\n",
    "                          )\n",
    "                  )\n",
    "    p = (\n",
    "         ggplot(aligned[targetname]\n",
    "                .melt(id_vars=['run_name'],\n",
    "                      value_vars=['gene_error'],\n",
    "                      var_name='feature_type', value_name='error rate'),\n",
    "                aes('error rate')) +\n",
    "         geom_histogram(bins=25) +\n",
    "         geom_vline(xintercept=error_cutoff,\n",
    "                    linetype='dashed',\n",
    "                    color=CBPALETTE[0]) +\n",
    "         facet_grid('~ feature_type') +\n",
    "         theme(figure_size=(3, 3)) +\n",
    "         labs(y=('number of CCSs'), title=(targetname)) +\n",
    "         scale_x_log10()\n",
    "         )\n",
    "\n",
    "    _ = p.draw()"
   ]
  },
  {
   "cell_type": "markdown",
   "metadata": {},
   "source": [
    "Store all reads with an error rate <1e-4 in new dataframes for retained sequences. \n",
    "\n",
    "We will use these retained sequences for further analyses."
   ]
  },
  {
   "cell_type": "code",
   "execution_count": null,
   "metadata": {},
   "outputs": [],
   "source": [
    "retained = {targetname: [] for targetname in targets.target_names}\n",
    "for targetname in targets.target_names:\n",
    "    target_retained = aligned[targetname][aligned[targetname]['gene_error'] <= error_cutoff].reset_index(drop=True)\n",
    "    retained[targetname] = target_retained"
   ]
  },
  {
   "cell_type": "markdown",
   "metadata": {},
   "source": [
    "## Data analysis\n",
    "\n",
    "Now we can examine our data in more detail. First, let's look at the first few entries in the data frame for the each target:"
   ]
  },
  {
   "cell_type": "code",
   "execution_count": null,
   "metadata": {},
   "outputs": [],
   "source": [
    "for target_name in targets.target_names:\n",
    "    print(target_name)\n",
    "    display(retained[target_name].head())"
   ]
  },
  {
   "cell_type": "markdown",
   "metadata": {},
   "source": [
    "As seen by the 'index_sequence' columns, each target here has 2 or 3 different indices that map to it. These indicies indicate different samples. \n",
    "\n",
    "We can then split these dataframes into sample-specific dataframes based on the known starting index sequences for each target. We will store these dataframes in a new dictionary, keyed by target and index."
   ]
  },
  {
   "cell_type": "code",
   "execution_count": null,
   "metadata": {},
   "outputs": [],
   "source": [
    "indices = {'LASV_Josiah_WT': ['AGACAC', 'GGTATG'], 'LASV_Josiah_OPT': ['ACGACC', 'CTTCAC', 'GAGACG']}\n",
    "target_idx_retained = {}\n",
    "index_counts = {target: [] for target in indices}\n",
    "index_counts_dfs = {}\n",
    "for target_name in targets.target_names:\n",
    "    for index in indices[target_name]:\n",
    "        target_idx_retained[f\"{target_name}_{index}\"] = retained[target_name][retained[target_name]['index_sequence'] == index].reset_index(drop=True)\n",
    "        index_counts[f\"{target_name}\"].append((index, len(target_idx_retained[f\"{target_name}_{index}\"])))\n",
    "    index_counts[f\"{target_name}\"].append(('invalid', (len(retained[target_name]) - \n",
    "                                                          sum(idx_tup[1] for idx_tup in index_counts[target_name]))))\n",
    "    index_counts_dfs[target_name] = pd.DataFrame(index_counts[target_name], columns=['index', 'count'])"
   ]
  },
  {
   "cell_type": "markdown",
   "metadata": {},
   "source": [
    "In the process of making these separate dataframes, we also kept track of how many reads for each target map to each index or don't map to an index (so have an 'invalid' index) and can now plot these counts."
   ]
  },
  {
   "cell_type": "code",
   "execution_count": null,
   "metadata": {},
   "outputs": [],
   "source": [
    "for target_name in targets.target_names:\n",
    "    df = index_counts_dfs[target_name]\n",
    "    df['target'] = [target_name]*len(df)\n",
    "    index_count_plot = (ggplot(df, aes(x='target', y='count', fill='index')) +\n",
    "                        geom_bar(stat='identity', position='stack') +\n",
    "                        scale_fill_manual(values=CBPALETTE) +\n",
    "                        theme(axis_text_x=element_text(angle=90, vjust=1, hjust=0.5),\n",
    "                        figure_size=(1, 2)) +\n",
    "                        ylab('Reads') +\n",
    "                        xlab('Target') +\n",
    "                        ggtitle('Reads per Sample Index'))\n",
    "    \n",
    "    _ = index_count_plot.draw()"
   ]
  },
  {
   "cell_type": "markdown",
   "metadata": {},
   "source": [
    "The two target-specific dataframes are now five index-specific dataframes."
   ]
  },
  {
   "cell_type": "code",
   "execution_count": 16,
   "metadata": {
    "scrolled": true
   },
   "outputs": [
    {
     "ename": "NameError",
     "evalue": "name 'target_idx_retained' is not defined",
     "output_type": "error",
     "traceback": [
      "\u001b[0;31m----------------------------------------------------------------------\u001b[0m",
      "\u001b[0;31mNameError\u001b[0m                            Traceback (most recent call last)",
      "\u001b[0;32m<ipython-input-16-11b027a3b223>\u001b[0m in \u001b[0;36m<module>\u001b[0;34m\u001b[0m\n\u001b[0;32m----> 1\u001b[0;31m \u001b[0;32mfor\u001b[0m \u001b[0mtarget_idx\u001b[0m \u001b[0;32min\u001b[0m \u001b[0mtarget_idx_retained\u001b[0m\u001b[0;34m:\u001b[0m\u001b[0;34m\u001b[0m\u001b[0;34m\u001b[0m\u001b[0m\n\u001b[0m\u001b[1;32m      2\u001b[0m     \u001b[0mprint\u001b[0m\u001b[0;34m(\u001b[0m\u001b[0mtarget_idx\u001b[0m\u001b[0;34m)\u001b[0m\u001b[0;34m\u001b[0m\u001b[0;34m\u001b[0m\u001b[0m\n\u001b[1;32m      3\u001b[0m     \u001b[0mdisplay\u001b[0m\u001b[0;34m(\u001b[0m\u001b[0mtarget_idx_retained\u001b[0m\u001b[0;34m[\u001b[0m\u001b[0mtarget_idx\u001b[0m\u001b[0;34m]\u001b[0m\u001b[0;34m.\u001b[0m\u001b[0mhead\u001b[0m\u001b[0;34m(\u001b[0m\u001b[0;36m3\u001b[0m\u001b[0;34m)\u001b[0m\u001b[0;34m)\u001b[0m\u001b[0;34m\u001b[0m\u001b[0;34m\u001b[0m\u001b[0m\n",
      "\u001b[0;31mNameError\u001b[0m: name 'target_idx_retained' is not defined"
     ]
    }
   ],
   "source": [
    "for target_idx in target_idx_retained:\n",
    "    print(target_idx)\n",
    "    display(target_idx_retained[target_idx].head(3))"
   ]
  },
  {
   "cell_type": "markdown",
   "metadata": {},
   "source": [
    "We can add mutation info for the genes in these targets."
   ]
  },
  {
   "cell_type": "code",
   "execution_count": null,
   "metadata": {},
   "outputs": [],
   "source": [
    "for target_idx in target_idx_retained:\n",
    "    target_idx_retained[target_idx] = alignparse.consensus.add_mut_info_cols(target_idx_retained[target_idx],\n",
    "                                                                              mutation_col='gene_mutations',\n",
    "                                                                              n_sub_col='n_gene_subs',\n",
    "                                                                              n_indel_col='n_gene_indels')"
   ]
  },
  {
   "cell_type": "markdown",
   "metadata": {},
   "source": [
    "We can then plot the number of reads for each sample that has each number of substitutions or indels to get a sense of how many mutations are in these reads, if some smaples have more mutations than others, and if substitutions or indels are more prevalent in these sequences. "
   ]
  },
  {
   "cell_type": "code",
   "execution_count": null,
   "metadata": {},
   "outputs": [],
   "source": [
    "mut_cols = ['n_gene_subs', 'n_gene_indels']\n",
    "for target_idx in target_idx_retained:\n",
    "    target_idx_plot_muts = target_idx_retained[target_idx][mut_cols].melt()\n",
    "    mut_counts_plot = (\n",
    "                        ggplot(target_idx_plot_muts, aes('value')) +\n",
    "                        geom_bar() +\n",
    "                        facet_wrap('~ variable', ncol=2) +\n",
    "                        xlim(-0.5, 2.5) +\n",
    "                        labs(title=f\"{target_idx}\") +\n",
    "                        theme(axis_text_x=element_text(angle=90),\n",
    "                              figure_size=(3, 2.5),\n",
    "                              )\n",
    "    )\n",
    "    _ = mut_counts_plot.draw()"
   ]
  },
  {
   "cell_type": "markdown",
   "metadata": {},
   "source": []
  }
 ],
 "metadata": {
  "kernelspec": {
   "display_name": "Python 3",
   "language": "python",
   "name": "python3"
  },
  "language_info": {
   "codemirror_mode": {
    "name": "ipython",
    "version": 3
   },
   "file_extension": ".py",
   "mimetype": "text/x-python",
   "name": "python",
   "nbconvert_exporter": "python",
   "pygments_lexer": "ipython3",
   "version": "3.6.8"
  },
  "toc": {
   "nav_menu": {},
   "number_sections": false,
   "sideBar": true,
   "skip_h1_title": false,
   "toc_cell": false,
   "toc_position": {},
   "toc_section_display": true,
   "toc_window_display": true
  }
 },
 "nbformat": 4,
 "nbformat_minor": 2
}
