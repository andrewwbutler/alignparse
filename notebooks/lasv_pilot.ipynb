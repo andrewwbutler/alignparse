{
 "cells": [
  {
   "cell_type": "markdown",
   "metadata": {},
   "source": [
    "# Lassa virus glycoprotein PacBio sequencing \n",
    "This example shows how to use [alignparse](https://jbloomlab.github.io/alignparse/) to process circular consensus sequences that map to multiple different targets. Here, our two targets are a wildtype and a codon optimized sequence for the Lassa virus (LASV) glycoprotein from the Josiah strain. For such targets we do not expect large internal deletions, so we use alignment settings optimized for codon-level mutations as these will be the settings used when analyzing mutant LASV GP sequences in later experiments.\n",
    "\n",
    "Here we analyze a snippet of the full data set of circular consensus sequences so that the example is small and fast.\n",
    "\n",
    "In the other included example notebooks, we aligned and parsed the PacBio reads using the single [align_and_parse](https://jbloomlab.github.io/alignparse/alignparse.targets.html#alignparse.targets.Targets.align_and_parse) function. Here we use separate functions to do the aligning and parsing steps. This illustrates an additional use case and shows how this package could be used to parse alignments generated elsewhere as long as they have a [cs tag](https://lh3.github.io/minimap2/minimap2.html#10) and are in the SAM file format."
   ]
  },
  {
   "cell_type": "markdown",
   "metadata": {},
   "source": [
    "## Set up for analysis\n",
    "Import necessary Python modules:"
   ]
  },
  {
   "cell_type": "code",
   "execution_count": 1,
   "metadata": {},
   "outputs": [],
   "source": [
    "import os\n",
    "import tempfile\n",
    "import warnings\n",
    "\n",
    "import Bio.SeqIO\n",
    "\n",
    "import pandas as pd\n",
    "import numpy\n",
    "\n",
    "from plotnine import *\n",
    "\n",
    "import pysam\n",
    "\n",
    "import alignparse.ccs\n",
    "import alignparse.minimap2\n",
    "import alignparse.targets\n",
    "import alignparse.cs_tag\n",
    "import alignparse.consensus"
   ]
  },
  {
   "cell_type": "markdown",
   "metadata": {},
   "source": [
    "Suppress warnings that clutter output:"
   ]
  },
  {
   "cell_type": "code",
   "execution_count": 2,
   "metadata": {},
   "outputs": [],
   "source": [
    "warnings.simplefilter('ignore')"
   ]
  },
  {
   "cell_type": "markdown",
   "metadata": {},
   "source": [
    "Directory for output:"
   ]
  },
  {
   "cell_type": "code",
   "execution_count": 3,
   "metadata": {},
   "outputs": [],
   "source": [
    "outdir = './output_files/'\n",
    "os.makedirs(outdir, exist_ok=True)"
   ]
  },
  {
   "cell_type": "markdown",
   "metadata": {},
   "source": [
    "Color palette for plots:"
   ]
  },
  {
   "cell_type": "code",
   "execution_count": 4,
   "metadata": {},
   "outputs": [],
   "source": [
    "CBPALETTE = ('#E69F00', '#56B4E9', '#009E73', '#999999')"
   ]
  },
  {
   "cell_type": "markdown",
   "metadata": {},
   "source": [
    "## Target amplicons\n",
    "We have performed sequencing of several LASV GP amplicons that include the glycoprotein sequence along with a PacBio index and several other features. Here we analyze reads mapping to two of these amplicons.\n",
    "The amplicons are defined as Genbank files.\n",
    "First, let's just look at the files:"
   ]
  },
  {
   "cell_type": "code",
   "execution_count": 5,
   "metadata": {},
   "outputs": [
    {
     "name": "stdout",
     "output_type": "stream",
     "text": [
      "LOCUS       LASV_Josiah_WT          1730 bp ds-DNA     linear       14-JUN-2019\n",
      "DEFINITION  .\n",
      "ACCESSION   \n",
      "VERSION     \n",
      "SOURCE      Kate Crawford\n",
      "  ORGANISM  .\n",
      "COMMENT     \n",
      "COMMENT     \n",
      "COMMENT     PacBio amplicon for LASV Josiah WT sequence\n",
      "COMMENT     \n",
      "COMMENT     ApEinfo:methylated:1\n",
      "FEATURES             Location/Qualifiers\n",
      "     T2A             85..147\n",
      "                     /label=\"T2A\"\n",
      "     WPRE            1639..1730\n",
      "                     /label=\"WPRE\"\n",
      "     ZsGreen         15..84\n",
      "                     /label=\"ZsGreen\"\n",
      "     termini3        1639..1730\n",
      "                     /label=\"3'Termini\"\n",
      "     index           9..14\n",
      "                     /label=\"index\"\n",
      "     leader5         1..8\n",
      "                     /label=\"5' leader\"\n",
      "     termini5        1..147\n",
      "                     /label=\"5'Termini\"\n",
      "     variant_tag5    34..34\n",
      "                     /variant_1=T\n",
      "                     /variant_2=C\n",
      "                     /label=\"5'VariantTag\"\n",
      "     variant_tag3    1702..1702\n",
      "                     /variant_1=G\n",
      "                     /variant_2=A\n",
      "                     /label=\"3'VariantTag\"\n",
      "     spacer          1624..1638\n",
      "                     /label=\"3'Spacer\"\n",
      "     gene            148..1623\n",
      "                     /label=\"LASV_Josiah_WT\"\n",
      "\n",
      "ORIGIN\n",
      "        1 GACTGATANN NNNNcagcga cgccaagaac cagYagtggc acctgaccga gcacgccatc\n",
      "       61 gcctccggcT CCGCCTTGCC CGCTGGATCC GGCGAGGGCA GAGGAAGTCT GCTAACATGC\n",
      "      121 GGTGACGTCG AGGAGAATCC TGGCCCAATG GGACAAATAG TGACATTCTT CCAGGAAGTG\n",
      "      181 CCTCATGTAA TAGAAGAGGT GATGAACATT GTTCTCATTG CACTGTCTGT ACTAGCAGTG\n",
      "      241 CTGAAAGGTC TGTACAATTT TGCAACGTGT GGCCTTGTTG GTTTGGTCAC TTTCCTCCTG\n",
      "      301 TTGTGTGGTA GGTCTTGCAC AACCAGTCTT TATAAAGGGG TTTATGAGCT TCAGACTCTG\n",
      "      361 GAACTAAACA TGGAGACACT CAATATGACC ATGCCTCTCT CCTGCACAAA GAACAACAGT\n",
      "      421 CATCATTATA TAATGGTGGG CAATGAGACA GGACTAGAAC TGACCTTGAC CAACACGAGC\n",
      "      481 ATTATTAATC ACAAATTTTG CAATCTGTCT GATGCCCACA AAAAGAACCT CTATGACCAC\n",
      "      541 GCTCTTATGA GCATAATCTC AACTTtccac ttgtccatcc ccaacTTCAA TCAGTATGAG\n",
      "      601 GCAATGAGCT GCGATTTTAA TGGGGGAAAG ATTAGTGTGC AGTACAACCT GAGTCACAGC\n",
      "      661 TATGCTGGGG ATGCAGCCAA CCATTGTGGT ACTGTTGCAA ATGGTGTGTT ACAGACTTTT\n",
      "      721 ATGAGGATGG CTTGGGGTGG GAGCTACATT GCTCTTGACT CAGGCCGTGG CAACTGGGAC\n",
      "      781 TGTATTATGA CTAGTTATCA ATATCTGATA ATCCAAAATA CAACCTGGGA AGATCACTGC\n",
      "      841 CAATTCTCGA GACCATCTCC CATCGGTTAT CTCGGGCTCC TCTCACAAAG GACTAGAGAT\n",
      "      901 ATTTATATTA GTAGAAGATT GCTAGGCACA TTCACATGGA CACTGTCAGA TTCTGAAGGT\n",
      "      961 AAAGACACAC CAGGGGGATA TTGTCTGACC AGGTGGATGC TAATTGAGGC TGAACTAAAA\n",
      "     1021 TGCTTCGGGA ACACAGCTGT GGCAAAATGT AATGAGAAGC ATGATGAgga attttgtgac\n",
      "     1081 atgctgaggc TGTTTGACTT CAACAAACAA GCCATTCAAA GGTTGAAAGC TGAAGCACAA\n",
      "     1141 ATGAGCATTC AGTTGATCAA CAAAGCAGTA AATGCTTTGA TAAATGACCA ACTTATAATG\n",
      "     1201 AAGAACCATC TACGGGACAT CATGGGAATT CCATACTGTA ATTACAGCAA GTATTGGTAC\n",
      "     1261 CTCAACCACA CAACTACTGG GAGAACATCA CTGCCCAAAT GTTGGCTTGT ATCAAATGGT\n",
      "     1321 TCATACTTGA ACGAGACCCA CTTTTCTGAT GATATTGAAC AACAAGCTGA CAATATGATC\n",
      "     1381 ACTGAGATGT TACAGAAGGA GTATATGGAG AGGCAGGGGA AGACACCATT GGGTCTAGTT\n",
      "     1441 GACCTCTTTG TGTTCAGCAC AAGTTTCTAT CTTATTAGCA TCTTCCTTCA CCTAGTCAAA\n",
      "     1501 ATACCAACTC ATAGGCATAT TGTAGGCAAG TCGTGTCCCA AACCTCACAG ATTGAATCAT\n",
      "     1561 ATGGGCATTT GTTCCTGTGG ACTCTACAAA CAGCCTGGTG TGCCTGTGAA ATGGAAGAGA\n",
      "     1621 TGAGCTAGCT AAACGCGTTG ATCCtaatca acctctggat tacaaaattt gtgaaagatt\n",
      "     1681 gactggtatt cttaactatg tRgctccttt tacgctatgt ggatacgctg \n",
      "//\n",
      "\n",
      "LOCUS       LASV_Josiah_OPT          1730 bp ds-DNA     linear       14-JUN-2019\n",
      "DEFINITION  .\n",
      "ACCESSION   \n",
      "VERSION     \n",
      "SOURCE      Kate Crawford\n",
      "  ORGANISM  .\n",
      "COMMENT     \n",
      "COMMENT     \n",
      "COMMENT     PacBio amplicon for LASV Josiah OPT sequence\n",
      "COMMENT     \n",
      "COMMENT     ApEinfo:methylated:1\n",
      "FEATURES             Location/Qualifiers\n",
      "     T2A             85..147\n",
      "                     /label=\"T2A\"\n",
      "     WPRE            1639..1730\n",
      "                     /label=\"WPRE\"\n",
      "     ZsGreen         15..84\n",
      "                     /label=\"ZsGreen\"\n",
      "     termini3        1639..1730\n",
      "                     /label=\"3'Termini\"\n",
      "     index           9..14\n",
      "                     /label=\"index\"\n",
      "     leader5         1..8\n",
      "                     /label=\"5' leader\"\n",
      "     termini5        1..147\n",
      "                     /label=\"5'Termini\"\n",
      "     variant_tag5     34..34\n",
      "                     /variant_1=T\n",
      "                     /variant_2=C\n",
      "                     /label=\"5'VariantTag\"\n",
      "     variant_tag3     1702..1702\n",
      "                     /variant_1=G\n",
      "                     /variant_2=A\n",
      "                     /label=\"3'VariantTag\"\n",
      "     spacer          1624..1638\n",
      "                     /label=\"3'Spacer\"\n",
      "     gene            148..1623\n",
      "                     /label=\"LASV_Josiah_OPT\"\n",
      "\n",
      "ORIGIN\n",
      "        1 GACTGATANN NNNNcagcga cgccaagaac cagYagtggc acctgaccga gcacgccatc\n",
      "       61 gcctccggcT CCGCCTTGCC CGCTGGATCC GGCGAGGGCA GAGGAAGTCT GCTAACATGC\n",
      "      121 GGTGACGTCG AGGAGAATCC TGGCCCAATG GGCCAGATCG TGACCTTCTT CCAAGAAGTG\n",
      "      181 CCTCATGTGA TTGAGGAGGT GATGAATATC GTGCTGATCG CTTTAAGCGT GCTGGCCGTT\n",
      "      241 CTTAAGGGCC TCTATAACTT CGCCACTTGT GGTTTAGTCG GACTGGTGAC ATTTCTGCTG\n",
      "      301 CTGTGTGGCA GATCTTGTAC CACATCTTTA TACAAGGGCG TGTACGAGCT GCAGACTTTA\n",
      "      361 GAACTGAACA TGGAGACTTT AAACATGACC ATGCCTTTAA GCTGTACCAA GAACAATAGC\n",
      "      421 CACCACTACA TCATGGTGGG CAACGAGACC GGTTTAGAAC TGACACTCAC CAACACCAGC\n",
      "      481 ATTATCAACC ATAAGTTCTG CAACCTCTCC GACGCTCACA AGAAGAATTT ATACGACCAC\n",
      "      541 GCTTTAATGA GCATCATCTC CACCTTCCAT CTCTCCATTC CTAATttcaa ccagtacgag\n",
      "      601 gccatgAGCT GCGACTTTAA CGGCGGCAAG ATCTCCGTGC AGTACAATTT ATCCCATAGC\n",
      "      661 TACGCCGGCG ATGCCGCCAA TCACTGCGGA ACCGTGGCCA ACGGCGTGCT GCAGACATTC\n",
      "      721 ATGAGGATGG CTTGGGGCGG CTCCTATATC GCTTTAGACT CCGGCAGAGG AAACTGGGAC\n",
      "      781 TGTATCATGA CCAGCTACCA ATATTTAATC ATTCAGAACA CCACATGGGA GGACCACTGC\n",
      "      841 CAATTCTCTC GTCCCTCTCC TATCGGCTAT CTGGGACTGC TGTCCCAGAG GACCAGAGAC\n",
      "      901 ATCTACATCT CTCGTAGGCT GCTGGGCACA TTCACTTGGA CTTTAAGCGA CAGCGAAGGC\n",
      "      961 AAAGATACTC CCGGTGGCTA CTGTTTAACA AGATGGATGC TGATCGAGGC CGAGCTCAAG\n",
      "     1021 TGCTTCGGAA ATACCGCCGT GGCCAAATGC AACGAGAAAC ACGACGAGGA GTTCTGCGAC\n",
      "     1081 ATGCTGAGGC TCTTCGACTT CAacaagcaa gccattcaga ggcTGAAGGC CGAAGCCCAG\n",
      "     1141 ATGTCCATCC AGCTGATTAA TAAGGCCGTG AATGCCCTCA TTAACGACCA GCTGATCATG\n",
      "     1201 AAGAACCATT TAAGGGACAT CATGGGCATC CCTTATTGCA ACTACAGCAA ATACTGGTAT\n",
      "     1261 TTAAATCATA CCACCACCGG TCGTACATCC TTACCTAAGT GCTGGCTGGT CAGCAATGGC\n",
      "     1321 TCCTATTTAA ACGAGACACA CTTCTCCGAC GACATCGAGC AGCAAGCCGA CAACATGATC\n",
      "     1381 ACCGAAATGC TCCAGAAGGA GTACATGGAG AGGCAAGGTA AGACTCCTCT GGGTTTAGTG\n",
      "     1441 GATTTATTCG TCTTCAGCAC CTCCTTCTAT TTAATCTCCA TCTTTCTTCA TCTGGTGAAG\n",
      "     1501 ATTCCTACCC ACAGACACAT TGTGGGCAAG AGCTGTCCTA AGCCTCATAG ACTGAACCAC\n",
      "     1561 ATGGGCATCT GTAGCTGCGG TTTATATAAA CAGCCCGGTG TTCCCGTTAA GTGGAAGAGG\n",
      "     1621 TGAGCTAGCT AAACGCGTTG ATCCtaatca acctctggat tacaaaattt gtgaaagatt\n",
      "     1681 gactggtatt cttaactatg tRgctccttt tacgctatgt ggatacgctg \n",
      "//\n",
      "\n"
     ]
    }
   ],
   "source": [
    "target_file_names = ['LASV_Josiah_WT', 'LASV_Josiah_OPT']\n",
    "\n",
    "targetfiles = [f\"input_files/{target_file_name}.gb\" for target_file_name in target_file_names]\n",
    "\n",
    "\n",
    "for targetfile in targetfiles:\n",
    "    with open(targetfile) as f:\n",
    "        print(f.read())"
   ]
  },
  {
   "cell_type": "markdown",
   "metadata": {},
   "source": [
    "Along with the Genbank file giving the sequences of the amplicons, we have a YAML file specifying how to filter and parse alignments to this amplicon.\n",
    "\n",
    "Below is the text of the YAML file.\n",
    "\n",
    "Additional information about these filters can be found in the [RecA deep mutational scanning libraries](https://jbloomlab.github.io/alignparse/recA_DMS.html) example notebook or the [Targets](https://jbloomlab.github.io/alignparse/alignparse.targets.html#alignparse.targets.Targets) documentation. \n",
    "\n",
    "A filter setting of `null` indicates this filter is not applied. When filters are missing for a feature, they are automatically set to zero.\n",
    "\n",
    "Here we filter the `gene` based on `mutation_op_counts` by setting the `mutation_nt_counts` filter for the `gene` to `null`. Although we do not expect these sequences to have large indels, we want to confirm this. Filtering on mutation \"operations\" allows us to retain sequences with large indels by only filtering on the number of indels, not the number of nucleotides inserted or deleted. Overall, this example uses very loose filters to allow us to do further analyses of the types of mutations that are arising in these samples.\n",
    "\n",
    "The YAML file also specifies what information is parsed from alignments that are not filtered out.\n",
    "As you can see, for some features we parse the mutations or the full sequence of the feature, along with the accuracy of that feature in the sequencing query (computed from the Q-values). \n",
    "\n",
    "As seen below, we can use YAML syntax to apply one set of filters to multiple targets. Here, we apply the same filters to both targets, but this is not necessary."
   ]
  },
  {
   "cell_type": "code",
   "execution_count": 6,
   "metadata": {},
   "outputs": [
    {
     "name": "stdout",
     "output_type": "stream",
     "text": [
      "LASV_Josiah_WT: &LASV_target_parse_specs\n",
      "  query_clip5: 10\n",
      "  query_clip3: 10\n",
      "  termini5:\n",
      "    filter:\n",
      "      clip5: 10\n",
      "      mutation_nt_count: 5\n",
      "      mutation_op_count: null\n",
      "  termini3:\n",
      "    filter:\n",
      "      clip3: 10\n",
      "      mutation_nt_count: 5\n",
      "      mutation_op_count: null\n",
      "  gene:\n",
      "    filter:\n",
      "      mutation_nt_count: null\n",
      "      mutation_op_count: 30\n",
      "    return: [mutations, accuracy]\n",
      "  spacer:\n",
      "    filter:\n",
      "      mutation_nt_count: 1\n",
      "      mutation_op_count: null\n",
      "  index:\n",
      "    return: sequence\n",
      "  variant_tag5:\n",
      "    return: sequence\n",
      "  variant_tag3:\n",
      "    return: sequence\n",
      "\n",
      "LASV_Josiah_OPT: *LASV_target_parse_specs\n",
      "\n"
     ]
    }
   ],
   "source": [
    "lasv_parse_specs_file = 'input_files/lasv_feature_parse_specs.yaml'\n",
    "with open(lasv_parse_specs_file) as f:\n",
    "    print(f.read())"
   ]
  },
  {
   "cell_type": "markdown",
   "metadata": {},
   "source": [
    "Read the amplicons in `feature_parse_specs` into a [Targets](https://jbloomlab.github.io/alignparse/alignparse.targets.html#alignparse.targets.Targets) object, specifying the features that we require the target to contain. The [Targets](https://jbloomlab.github.io/alignparse/alignparse.targets.html#alignparse.targets.Targets) in this example have more features specified in their Genbank files than we want to parse, so we set `allow_extra_features` to `True`."
   ]
  },
  {
   "cell_type": "code",
   "execution_count": 7,
   "metadata": {},
   "outputs": [],
   "source": [
    "targets = alignparse.targets.Targets(seqsfile=targetfiles,\n",
    "                  feature_parse_specs=lasv_parse_specs_file,\n",
    "                  allow_extra_features=True)"
   ]
  },
  {
   "cell_type": "markdown",
   "metadata": {},
   "source": [
    "When we look at the [targets.feature_parse_specs](https://jbloomlab.github.io/alignparse/alignparse.targets.html#alignparse.targets.Targets.feature_parse_specs), we now see that the previously unspecified specs have been filled in with the defaults."
   ]
  },
  {
   "cell_type": "code",
   "execution_count": 8,
   "metadata": {},
   "outputs": [
    {
     "name": "stdout",
     "output_type": "stream",
     "text": [
      "LASV_Josiah_WT: &id001\n",
      "  query_clip5: 10\n",
      "  query_clip3: 10\n",
      "  termini5:\n",
      "    filter:\n",
      "      clip5: 10\n",
      "      mutation_nt_count: 5\n",
      "      mutation_op_count: null\n",
      "      clip3: 0\n",
      "    return: []\n",
      "  termini3:\n",
      "    filter:\n",
      "      clip3: 10\n",
      "      mutation_nt_count: 5\n",
      "      mutation_op_count: null\n",
      "      clip5: 0\n",
      "    return: []\n",
      "  gene:\n",
      "    filter:\n",
      "      mutation_nt_count: null\n",
      "      mutation_op_count: 30\n",
      "      clip5: 0\n",
      "      clip3: 0\n",
      "    return:\n",
      "    - mutations\n",
      "    - accuracy\n",
      "  spacer:\n",
      "    filter:\n",
      "      mutation_nt_count: 1\n",
      "      mutation_op_count: null\n",
      "      clip5: 0\n",
      "      clip3: 0\n",
      "    return: []\n",
      "  index:\n",
      "    return:\n",
      "    - sequence\n",
      "    filter:\n",
      "      clip5: 0\n",
      "      clip3: 0\n",
      "      mutation_nt_count: 0\n",
      "      mutation_op_count: 0\n",
      "  variant_tag5:\n",
      "    return:\n",
      "    - sequence\n",
      "    filter:\n",
      "      clip5: 0\n",
      "      clip3: 0\n",
      "      mutation_nt_count: 0\n",
      "      mutation_op_count: 0\n",
      "  variant_tag3:\n",
      "    return:\n",
      "    - sequence\n",
      "    filter:\n",
      "      clip5: 0\n",
      "      clip3: 0\n",
      "      mutation_nt_count: 0\n",
      "      mutation_op_count: 0\n",
      "LASV_Josiah_OPT: *id001\n",
      "\n"
     ]
    }
   ],
   "source": [
    "print(targets.feature_parse_specs('yaml'))"
   ]
  },
  {
   "cell_type": "markdown",
   "metadata": {},
   "source": [
    "We can also plot the [Targets](https://jbloomlab.github.io/alignparse/alignparse.targets.html#alignparse.targets.Targets). All features specified in the targets' Genbank files will be annotated, even if they are not in `feature_parse_specs`."
   ]
  },
  {
   "cell_type": "code",
   "execution_count": 9,
   "metadata": {},
   "outputs": [
    {
     "data": {
      "image/png": "[encoded data removed]",
      "text/plain": [
       "<Figure size 720x432 with 2 Axes>"
      ]
     },
     "metadata": {},
     "output_type": "display_data"
    }
   ],
   "source": [
    "_ = targets.plot(ax_width=10)"
   ]
  },
  {
   "cell_type": "markdown",
   "metadata": {},
   "source": [
    "## PacBio CCSs\n",
    "We will align PacBio circular consensus sequences (CCSs) to the target.\n",
    "First, we want to look at the CCSs.\n",
    "A FASTQ file with these CCSs along with an associated report file were generated using the PacBio `ccs` program (see [here](https://github.com/PacificBiosciences/ccs) for details on `ccs`) using commands like the following (generates report file and BAM of CCSs):\n",
    "\n",
    "    ccs --minLength 50 --maxLength 5000 \\\n",
    "        --minPasses 3  --minPredictedAccuracy 0.999 \\\n",
    "        --reportFile lasv_pilot_report.txt \\\n",
    "        --polish --numThreads 16 \\\n",
    "        lasv_pilot_subreads.bam lasv_pilot_ccs.bam\n",
    "        \n",
    "The BAM file was then converted to a FASTQ file using [samtools](http://www.htslib.org/) with a flag to retain the number of passes (`np`):\n",
    "\n",
    "    samtools bam2fq -T np lasv_pilot_ccs.bam > lasv_pilot_ccs.fastq\n",
    "    \n",
    "Here is a data frame with the resulting FASTQ and BAM files:"
   ]
  },
  {
   "cell_type": "code",
   "execution_count": 10,
   "metadata": {},
   "outputs": [
    {
     "data": {
      "text/html": [
       "<div>\n",
       "<style scoped>\n",
       "    .dataframe tbody tr th:only-of-type {\n",
       "        vertical-align: middle;\n",
       "    }\n",
       "\n",
       "    .dataframe tbody tr th {\n",
       "        vertical-align: top;\n",
       "    }\n",
       "\n",
       "    .dataframe thead th {\n",
       "        text-align: right;\n",
       "    }\n",
       "</style>\n",
       "<table border=\"1\" class=\"dataframe\">\n",
       "  <thead>\n",
       "    <tr style=\"text-align: right;\">\n",
       "      <th></th>\n",
       "      <th>name</th>\n",
       "      <th>report</th>\n",
       "      <th>fastq</th>\n",
       "    </tr>\n",
       "  </thead>\n",
       "  <tbody>\n",
       "    <tr>\n",
       "      <th>0</th>\n",
       "      <td>lasv_pilot</td>\n",
       "      <td>input_files/lasv_pilot_report.txt</td>\n",
       "      <td>input_files/lasv_example_ccs.fastq</td>\n",
       "    </tr>\n",
       "  </tbody>\n",
       "</table>\n",
       "</div>"
      ],
      "text/plain": [
       "         name                             report  \\\n",
       "0  lasv_pilot  input_files/lasv_pilot_report.txt   \n",
       "\n",
       "                                fastq  \n",
       "0  input_files/lasv_example_ccs.fastq  "
      ]
     },
     "execution_count": 10,
     "metadata": {},
     "output_type": "execute_result"
    }
   ],
   "source": [
    "run_names = ['lasv_pilot']\n",
    "ccs_dir = 'input_files'\n",
    "file_name = 'lasv_example'\n",
    "\n",
    "pacbio_runs = pd.DataFrame(\n",
    "            {'name': run_names,\n",
    "             'report': [f\"{ccs_dir}/{name}_report.txt\" for name in run_names],\n",
    "             'fastq': [f\"{ccs_dir}/{file_name}_ccs.fastq\"]\n",
    "             })\n",
    "\n",
    "pacbio_runs"
   ]
  },
  {
   "cell_type": "markdown",
   "metadata": {},
   "source": [
    "We create a [Summaries](https://jbloomlab.github.io/alignparse/alignparse.ccs.html#alignparse.ccs.Summaries) object for these CCSs:"
   ]
  },
  {
   "cell_type": "code",
   "execution_count": 11,
   "metadata": {},
   "outputs": [],
   "source": [
    "ccs_summaries = alignparse.ccs.Summaries(pacbio_runs, ncpus=1)"
   ]
  },
  {
   "cell_type": "markdown",
   "metadata": {},
   "source": [
    "Plot how many ZMWs yielded CCSs:"
   ]
  },
  {
   "cell_type": "code",
   "execution_count": 12,
   "metadata": {},
   "outputs": [
    {
     "data": {
      "image/png": "[encoded data removed]",
      "text/plain": [
       "<Figure size 40x250 with 1 Axes>"
      ]
     },
     "metadata": {},
     "output_type": "display_data"
    }
   ],
   "source": [
    "p = ccs_summaries.plot_zmw_stats()\n",
    "_ = p.draw()"
   ]
  },
  {
   "cell_type": "code",
   "execution_count": 13,
   "metadata": {},
   "outputs": [
    {
     "data": {
      "text/html": [
       "<div>\n",
       "<style scoped>\n",
       "    .dataframe tbody tr th:only-of-type {\n",
       "        vertical-align: middle;\n",
       "    }\n",
       "\n",
       "    .dataframe tbody tr th {\n",
       "        vertical-align: top;\n",
       "    }\n",
       "\n",
       "    .dataframe thead th {\n",
       "        text-align: right;\n",
       "    }\n",
       "</style>\n",
       "<table border=\"1\" class=\"dataframe\">\n",
       "  <thead>\n",
       "    <tr style=\"text-align: right;\">\n",
       "      <th></th>\n",
       "      <th>name</th>\n",
       "      <th>status</th>\n",
       "      <th>number</th>\n",
       "      <th>fraction</th>\n",
       "    </tr>\n",
       "  </thead>\n",
       "  <tbody>\n",
       "    <tr>\n",
       "      <th>0</th>\n",
       "      <td>lasv_pilot</td>\n",
       "      <td>Success -- CCS generated</td>\n",
       "      <td>250</td>\n",
       "      <td>0.4996</td>\n",
       "    </tr>\n",
       "    <tr>\n",
       "      <th>1</th>\n",
       "      <td>lasv_pilot</td>\n",
       "      <td>Failed -- Not enough full passes</td>\n",
       "      <td>157</td>\n",
       "      <td>0.3144</td>\n",
       "    </tr>\n",
       "    <tr>\n",
       "      <th>2</th>\n",
       "      <td>lasv_pilot</td>\n",
       "      <td>Failed -- CCS below minimum predicted accuracy</td>\n",
       "      <td>86</td>\n",
       "      <td>0.1720</td>\n",
       "    </tr>\n",
       "    <tr>\n",
       "      <th>3</th>\n",
       "      <td>lasv_pilot</td>\n",
       "      <td>Failed -- No usable subreads</td>\n",
       "      <td>6</td>\n",
       "      <td>0.0137</td>\n",
       "    </tr>\n",
       "    <tr>\n",
       "      <th>4</th>\n",
       "      <td>lasv_pilot</td>\n",
       "      <td>Failed -- Other reason</td>\n",
       "      <td>0</td>\n",
       "      <td>0.0000</td>\n",
       "    </tr>\n",
       "  </tbody>\n",
       "</table>\n",
       "</div>"
      ],
      "text/plain": [
       "         name                                          status  number  \\\n",
       "0  lasv_pilot                        Success -- CCS generated     250   \n",
       "1  lasv_pilot                Failed -- Not enough full passes     157   \n",
       "2  lasv_pilot  Failed -- CCS below minimum predicted accuracy      86   \n",
       "3  lasv_pilot                    Failed -- No usable subreads       6   \n",
       "4  lasv_pilot                          Failed -- Other reason       0   \n",
       "\n",
       "   fraction  \n",
       "0    0.4996  \n",
       "1    0.3144  \n",
       "2    0.1720  \n",
       "3    0.0137  \n",
       "4    0.0000  "
      ]
     },
     "execution_count": 13,
     "metadata": {},
     "output_type": "execute_result"
    }
   ],
   "source": [
    "ccs_summaries.zmw_stats()"
   ]
  },
  {
   "cell_type": "markdown",
   "metadata": {},
   "source": [
    "Statistics on the CCSs (length, number of subread passes, accuracy):"
   ]
  },
  {
   "cell_type": "code",
   "execution_count": 14,
   "metadata": {},
   "outputs": [
    {
     "data": {
      "image/png": "[encoded data removed]",
      "text/plain": [
       "<Figure size 175x175 with 1 Axes>"
      ]
     },
     "metadata": {},
     "output_type": "display_data"
    },
    {
     "data": {
      "image/png": "[encoded data removed]",
      "text/plain": [
       "<Figure size 175x175 with 1 Axes>"
      ]
     },
     "metadata": {},
     "output_type": "display_data"
    },
    {
     "data": {
      "image/png": "[encoded data removed]",
      "text/plain": [
       "<Figure size 175x175 with 1 Axes>"
      ]
     },
     "metadata": {},
     "output_type": "display_data"
    }
   ],
   "source": [
    "for stat in ['length', 'passes', 'accuracy']:\n",
    "    if ccs_summaries.has_stat(stat):\n",
    "        p = ccs_summaries.plot_ccs_stats(stat)\n",
    "        _ = p.draw()\n",
    "    else:\n",
    "        print(f\"No information available on CCS {stat}\")"
   ]
  },
  {
   "cell_type": "markdown",
   "metadata": {},
   "source": [
    "## Align CCSs to target\n",
    "Now we use [minimap2](https://github.com/lh3/minimap2) to align the CCSs to the target.\n",
    "\n",
    "First, we create a [Mapper](https://jbloomlab.github.io/alignparse/alignparse.minimap2.html#alignparse.minimap2.Mapper) object to run [minimap2](https://github.com/lh3/minimap2), using the options for codon-level deep mutational scanning (specified by [alignparse.minimap2.OPTIONS_CODON_DMS](https://jbloomlab.github.io/alignparse/alignparse.minimap2.html#alignparse.minimap2.OPTIONS_CODON_DMS)):"
   ]
  },
  {
   "cell_type": "code",
   "execution_count": 15,
   "metadata": {},
   "outputs": [
    {
     "name": "stdout",
     "output_type": "stream",
     "text": [
      "Using `minimap2` 2.17-r941 with these options:\n",
      "-A2 -B4 -O12 -E2 --end-bonus=13 --secondary=no --cs\n"
     ]
    }
   ],
   "source": [
    "mapper = alignparse.minimap2.Mapper(alignparse.minimap2.OPTIONS_CODON_DMS)\n",
    "\n",
    "print(f\"Using `minimap2` {mapper.version} with these options:\\n\" +\n",
    "      ' '.join(mapper.options))"
   ]
  },
  {
   "cell_type": "markdown",
   "metadata": {},
   "source": [
    "Now use this mapper to do the alignments to a SAM file.\n",
    "First, add the names of the desired alignment files to our data frame:"
   ]
  },
  {
   "cell_type": "code",
   "execution_count": 16,
   "metadata": {
    "scrolled": true
   },
   "outputs": [
    {
     "data": {
      "text/html": [
       "<div>\n",
       "<style scoped>\n",
       "    .dataframe tbody tr th:only-of-type {\n",
       "        vertical-align: middle;\n",
       "    }\n",
       "\n",
       "    .dataframe tbody tr th {\n",
       "        vertical-align: top;\n",
       "    }\n",
       "\n",
       "    .dataframe thead th {\n",
       "        text-align: right;\n",
       "    }\n",
       "</style>\n",
       "<table border=\"1\" class=\"dataframe\">\n",
       "  <thead>\n",
       "    <tr style=\"text-align: right;\">\n",
       "      <th></th>\n",
       "      <th>name</th>\n",
       "      <th>report</th>\n",
       "      <th>fastq</th>\n",
       "      <th>alignments</th>\n",
       "    </tr>\n",
       "  </thead>\n",
       "  <tbody>\n",
       "    <tr>\n",
       "      <th>0</th>\n",
       "      <td>lasv_pilot</td>\n",
       "      <td>input_files/lasv_pilot_report.txt</td>\n",
       "      <td>input_files/lasv_example_ccs.fastq</td>\n",
       "      <td>./output_files/lasv_pilot_alignments.sam</td>\n",
       "    </tr>\n",
       "  </tbody>\n",
       "</table>\n",
       "</div>"
      ],
      "text/plain": [
       "         name                             report  \\\n",
       "0  lasv_pilot  input_files/lasv_pilot_report.txt   \n",
       "\n",
       "                                fastq  \\\n",
       "0  input_files/lasv_example_ccs.fastq   \n",
       "\n",
       "                                 alignments  \n",
       "0  ./output_files/lasv_pilot_alignments.sam  "
      ]
     },
     "execution_count": 16,
     "metadata": {},
     "output_type": "execute_result"
    }
   ],
   "source": [
    "pacbio_runs = pacbio_runs.assign(alignments=lambda x: outdir + x['name'] + '_alignments.sam')\n",
    "\n",
    "pacbio_runs"
   ]
  },
  {
   "cell_type": "markdown",
   "metadata": {},
   "source": [
    "Now we run [targets.align](https://jbloomlab.github.io/alignparse/alignparse.targets.html#alignparse.targets.Targets.align) using the mapper to actually align the FASTQ queries to the target:"
   ]
  },
  {
   "cell_type": "code",
   "execution_count": 17,
   "metadata": {},
   "outputs": [
    {
     "name": "stdout",
     "output_type": "stream",
     "text": [
      "Aligning input_files/lasv_example_ccs.fastq to create ./output_files/lasv_pilot_alignments.sam...\n"
     ]
    }
   ],
   "source": [
    "for tup in pacbio_runs.itertuples(index=False):\n",
    "    print(f\"Aligning {tup.fastq} to create {tup.alignments}...\")\n",
    "    targets.align(queryfile=tup.fastq,\n",
    "                  alignmentfile=tup.alignments,\n",
    "                  mapper=mapper)"
   ]
  },
  {
   "cell_type": "markdown",
   "metadata": {},
   "source": [
    "These SAM files now contain the alignments along with the [cs tag](https://github.com/lh3/minimap2#cs). \n",
    "\n",
    "An example [cs tag](https://github.com/lh3/minimap2#cs) is:"
   ]
  },
  {
   "cell_type": "code",
   "execution_count": 18,
   "metadata": {},
   "outputs": [
    {
     "name": "stdout",
     "output_type": "stream",
     "text": [
      "First alignment in ./output_files/lasv_pilot_alignments.sam has `cs` tag:\n",
      ":8*ng*na*ng*na*nc*ng:19*nc:1667*na:28\n"
     ]
    }
   ],
   "source": [
    "for fname in pacbio_runs['alignments'][:1]:\n",
    "    with pysam.AlignmentFile(fname) as f:\n",
    "        a = next(f)\n",
    "        print(f\"First alignment in {fname} has `cs` tag:\\n\" + a.get_tag('cs'))"
   ]
  },
  {
   "cell_type": "markdown",
   "metadata": {},
   "source": [
    "## Parse the alignments\n",
    "Now we use [Targets.parse_alignments](https://jbloomlab.github.io/alignparse/alignparse.targets.html#alignparse.targets.Targets.parse_alignment) to parse the SAM files to get the information we specified for return.\n",
    "This function returns a data frames (`readstats`) on the overall parsing stats, plus dicts keyed by the names of each target in [Targets](https://jbloomlab.github.io/alignparse/alignparse.targets.html#alignparse.targets.Targets) giving data frames on the aligned and filtered reads.\n",
    "We concatenate the data frames for each PacBio run and then look at them together:"
   ]
  },
  {
   "cell_type": "code",
   "execution_count": 19,
   "metadata": {},
   "outputs": [
    {
     "name": "stdout",
     "output_type": "stream",
     "text": [
      "Parsing PacBio run lasv_pilot\n"
     ]
    }
   ],
   "source": [
    "readstats = []\n",
    "aligned = {targetname: [] for targetname in targets.target_names}\n",
    "filtered = {targetname: [] for targetname in targets.target_names}\n",
    "\n",
    "for run in pacbio_runs.itertuples():\n",
    "    \n",
    "    print(f\"Parsing PacBio run {run.name}\")\n",
    "    run_readstats, run_aligned, run_filtered = targets.parse_alignment(run.alignments, filtered_cs=True)\n",
    "    \n",
    "    # when concatenating add the run name to keep track of runs for results\n",
    "    readstats.append(run_readstats\n",
    "                     .assign(run_name=run.name)\n",
    "                     )\n",
    "    for targetname in targets.target_names:\n",
    "        aligned[targetname].append(run_aligned[targetname]\n",
    "                                   .assign(run_name=run.name)\n",
    "                                   )\n",
    "        filtered[targetname].append(run_filtered[targetname]\n",
    "                                    .assign(run_name=run.name)\n",
    "                                    )\n",
    "        \n",
    "# now concatenate the data frames for each run\n",
    "readstats = pd.concat(readstats, ignore_index=True, sort=False)\n",
    "for targetname in targets.target_names:\n",
    "    aligned[targetname] = pd.concat(aligned[targetname], ignore_index=True, sort=False)\n",
    "    filtered[targetname] = pd.concat(filtered[targetname], ignore_index=True, sort=False)"
   ]
  },
  {
   "cell_type": "markdown",
   "metadata": {},
   "source": [
    "First lets look at the read stats:\n",
    "\n",
    "From the known composition of the library, there should be more `LASV_Josiah_OPT` reads than `LASV_Josiah_WT`."
   ]
  },
  {
   "cell_type": "code",
   "execution_count": 20,
   "metadata": {
    "scrolled": true
   },
   "outputs": [
    {
     "data": {
      "text/html": [
       "<div>\n",
       "<style scoped>\n",
       "    .dataframe tbody tr th:only-of-type {\n",
       "        vertical-align: middle;\n",
       "    }\n",
       "\n",
       "    .dataframe tbody tr th {\n",
       "        vertical-align: top;\n",
       "    }\n",
       "\n",
       "    .dataframe thead th {\n",
       "        text-align: right;\n",
       "    }\n",
       "</style>\n",
       "<table border=\"1\" class=\"dataframe\">\n",
       "  <thead>\n",
       "    <tr style=\"text-align: right;\">\n",
       "      <th></th>\n",
       "      <th>category</th>\n",
       "      <th>count</th>\n",
       "      <th>run_name</th>\n",
       "    </tr>\n",
       "  </thead>\n",
       "  <tbody>\n",
       "    <tr>\n",
       "      <th>0</th>\n",
       "      <td>filtered LASV_Josiah_WT</td>\n",
       "      <td>23</td>\n",
       "      <td>lasv_pilot</td>\n",
       "    </tr>\n",
       "    <tr>\n",
       "      <th>1</th>\n",
       "      <td>aligned LASV_Josiah_WT</td>\n",
       "      <td>84</td>\n",
       "      <td>lasv_pilot</td>\n",
       "    </tr>\n",
       "    <tr>\n",
       "      <th>2</th>\n",
       "      <td>filtered LASV_Josiah_OPT</td>\n",
       "      <td>32</td>\n",
       "      <td>lasv_pilot</td>\n",
       "    </tr>\n",
       "    <tr>\n",
       "      <th>3</th>\n",
       "      <td>aligned LASV_Josiah_OPT</td>\n",
       "      <td>111</td>\n",
       "      <td>lasv_pilot</td>\n",
       "    </tr>\n",
       "    <tr>\n",
       "      <th>4</th>\n",
       "      <td>unmapped</td>\n",
       "      <td>0</td>\n",
       "      <td>lasv_pilot</td>\n",
       "    </tr>\n",
       "  </tbody>\n",
       "</table>\n",
       "</div>"
      ],
      "text/plain": [
       "                   category  count    run_name\n",
       "0   filtered LASV_Josiah_WT     23  lasv_pilot\n",
       "1    aligned LASV_Josiah_WT     84  lasv_pilot\n",
       "2  filtered LASV_Josiah_OPT     32  lasv_pilot\n",
       "3   aligned LASV_Josiah_OPT    111  lasv_pilot\n",
       "4                  unmapped      0  lasv_pilot"
      ]
     },
     "execution_count": 20,
     "metadata": {},
     "output_type": "execute_result"
    }
   ],
   "source": [
    "readstats"
   ]
  },
  {
   "cell_type": "code",
   "execution_count": 21,
   "metadata": {},
   "outputs": [
    {
     "data": {
      "image/png": "[encoded data removed]",
      "text/plain": [
       "<Figure size 150x250 with 1 Axes>"
      ]
     },
     "metadata": {},
     "output_type": "display_data"
    }
   ],
   "source": [
    "p = (\n",
    "    ggplot(readstats, aes('category', 'count')) +\n",
    "    geom_bar(stat='identity') +\n",
    "    facet_wrap('~ run_name', nrow=1) +\n",
    "    theme(axis_text_x=element_text(angle=90),\n",
    "          figure_size=(1.5 * len(pacbio_runs), 2.5)\n",
    "          )\n",
    "    )\n",
    "_ = p.draw()"
   ]
  },
  {
   "cell_type": "markdown",
   "metadata": {},
   "source": [
    "Now look at the information on the filtered reads.\n",
    "This is a bigger data frame, so we just look at the first few lines for the first target (of which there is only one anyway):"
   ]
  },
  {
   "cell_type": "code",
   "execution_count": 22,
   "metadata": {},
   "outputs": [
    {
     "data": {
      "text/html": [
       "<div>\n",
       "<style scoped>\n",
       "    .dataframe tbody tr th:only-of-type {\n",
       "        vertical-align: middle;\n",
       "    }\n",
       "\n",
       "    .dataframe tbody tr th {\n",
       "        vertical-align: top;\n",
       "    }\n",
       "\n",
       "    .dataframe thead th {\n",
       "        text-align: right;\n",
       "    }\n",
       "</style>\n",
       "<table border=\"1\" class=\"dataframe\">\n",
       "  <thead>\n",
       "    <tr style=\"text-align: right;\">\n",
       "      <th></th>\n",
       "      <th>query_name</th>\n",
       "      <th>filter_reason</th>\n",
       "      <th>filter_cs</th>\n",
       "      <th>run_name</th>\n",
       "    </tr>\n",
       "  </thead>\n",
       "  <tbody>\n",
       "    <tr>\n",
       "      <th>0</th>\n",
       "      <td>m54228_190605_190010/4194989/ccs</td>\n",
       "      <td>termini5 clip5</td>\n",
       "      <td>*nc*na*nc:19*nc:113</td>\n",
       "      <td>lasv_pilot</td>\n",
       "    </tr>\n",
       "    <tr>\n",
       "      <th>1</th>\n",
       "      <td>m54228_190605_190010/4260241/ccs</td>\n",
       "      <td>index clip5</td>\n",
       "      <td>*ng*na*nc*na*nc</td>\n",
       "      <td>lasv_pilot</td>\n",
       "    </tr>\n",
       "    <tr>\n",
       "      <th>2</th>\n",
       "      <td>m54228_190605_190010/4260334/ccs</td>\n",
       "      <td>query_clip5</td>\n",
       "      <td>None</td>\n",
       "      <td>lasv_pilot</td>\n",
       "    </tr>\n",
       "    <tr>\n",
       "      <th>3</th>\n",
       "      <td>m54228_190605_190010/4391712/ccs</td>\n",
       "      <td>termini5 clip5</td>\n",
       "      <td></td>\n",
       "      <td>lasv_pilot</td>\n",
       "    </tr>\n",
       "    <tr>\n",
       "      <th>4</th>\n",
       "      <td>m54228_190605_190010/4456843/ccs</td>\n",
       "      <td>termini3 clip3</td>\n",
       "      <td></td>\n",
       "      <td>lasv_pilot</td>\n",
       "    </tr>\n",
       "  </tbody>\n",
       "</table>\n",
       "</div>"
      ],
      "text/plain": [
       "                         query_name   filter_reason            filter_cs  \\\n",
       "0  m54228_190605_190010/4194989/ccs  termini5 clip5  *nc*na*nc:19*nc:113   \n",
       "1  m54228_190605_190010/4260241/ccs     index clip5      *ng*na*nc*na*nc   \n",
       "2  m54228_190605_190010/4260334/ccs     query_clip5                 None   \n",
       "3  m54228_190605_190010/4391712/ccs  termini5 clip5                        \n",
       "4  m54228_190605_190010/4456843/ccs  termini3 clip3                        \n",
       "\n",
       "     run_name  \n",
       "0  lasv_pilot  \n",
       "1  lasv_pilot  \n",
       "2  lasv_pilot  \n",
       "3  lasv_pilot  \n",
       "4  lasv_pilot  "
      ]
     },
     "execution_count": 22,
     "metadata": {},
     "output_type": "execute_result"
    }
   ],
   "source": [
    "filtered[targets.target_names[0]].head()"
   ]
  },
  {
   "cell_type": "code",
   "execution_count": 23,
   "metadata": {
    "scrolled": true
   },
   "outputs": [
    {
     "data": {
      "image/png": "[encoded data removed]",
      "text/plain": [
       "<Figure size 180x250 with 1 Axes>"
      ]
     },
     "metadata": {},
     "output_type": "display_data"
    },
    {
     "data": {
      "image/png": "[encoded data removed]",
      "text/plain": [
       "<Figure size 180x250 with 1 Axes>"
      ]
     },
     "metadata": {},
     "output_type": "display_data"
    }
   ],
   "source": [
    "for targetname in targets.target_names:\n",
    "    target_filtered = filtered[targetname]\n",
    "    nreasons = target_filtered['filter_reason'].nunique()\n",
    "    p = (\n",
    "        ggplot(target_filtered, aes('filter_reason')) +\n",
    "        geom_bar() +\n",
    "        facet_wrap('~ run_name', nrow=1) +\n",
    "        labs(title=targetname) +\n",
    "        theme(axis_text_x=element_text(angle=90),\n",
    "              figure_size=(0.3 * nreasons * len(pacbio_runs), 2.5),\n",
    "              )\n",
    "        )\n",
    "    _ = p.draw()"
   ]
  },
  {
   "cell_type": "markdown",
   "metadata": {},
   "source": [
    "## Error filtering\n",
    "\n",
    "Before looking at the information for the validly aligned (not filtered) reads, it is important to get a sense of the error rate for these sequencing reads. \n",
    "\n",
    "These reads do not have barcodes on each initial viral entry protein plasmid, but we can use the `gene_accuracy` information output from constructing the `ccs`s to examine accuracy. \n",
    "\n",
    "We will do this using a similar method to that implemented in the [recA_DMS.ipynb](https://jbloomlab.github.io/alignparse/recA_DMS.html) example notebook. However, here we will plot the graphs for each target. \n",
    "\n",
    "We anticipate excluding all CCSs for which the error rate for either the gene or barcode is $>10^{-4}$.\n",
    "We specify this cutoff below."
   ]
  },
  {
   "cell_type": "code",
   "execution_count": 24,
   "metadata": {
    "scrolled": false
   },
   "outputs": [
    {
     "data": {
      "image/png": "[encoded data removed]",
      "text/plain": [
       "<Figure size 300x300 with 1 Axes>"
      ]
     },
     "metadata": {},
     "output_type": "display_data"
    },
    {
     "data": {
      "image/png": "[encoded data removed]",
      "text/plain": [
       "<Figure size 300x300 with 1 Axes>"
      ]
     },
     "metadata": {},
     "output_type": "display_data"
    }
   ],
   "source": [
    "error_rate_floor = 1e-7  # error rates < this set to this\n",
    "error_cutoff = 1e-4\n",
    "\n",
    "for targetname in targets.target_names:\n",
    "    aligned[targetname] = (\n",
    "                  aligned[targetname]\n",
    "                  .assign(\n",
    "                          gene_error=lambda x: numpy.clip(1 - x['gene_accuracy'],\n",
    "                                                          error_rate_floor, None)\n",
    "                          )\n",
    "                  )\n",
    "    p = (\n",
    "         ggplot(aligned[targetname]\n",
    "                .melt(id_vars=['run_name'],\n",
    "                      value_vars=['gene_error'],\n",
    "                      var_name='feature_type', value_name='error rate'),\n",
    "                aes('error rate')) +\n",
    "         geom_histogram(bins=25) +\n",
    "         geom_vline(xintercept=error_cutoff,\n",
    "                    linetype='dashed',\n",
    "                    color=CBPALETTE[0]) +\n",
    "         facet_grid('~ feature_type') +\n",
    "         theme(figure_size=(3, 3)) +\n",
    "         labs(y=('number of CCSs'), title=(targetname)) +\n",
    "         scale_x_log10()\n",
    "         )\n",
    "\n",
    "    _ = p.draw()"
   ]
  },
  {
   "cell_type": "markdown",
   "metadata": {},
   "source": [
    "Next, we store all reads with an error rate $<10^{-4}$ in new dataframes for retained sequences. \n",
    "\n",
    "We will use these retained sequences for further analyses."
   ]
  },
  {
   "cell_type": "code",
   "execution_count": 25,
   "metadata": {},
   "outputs": [],
   "source": [
    "retained = {targetname: [] for targetname in targets.target_names}\n",
    "for targetname in targets.target_names:\n",
    "    target_retained = aligned[targetname][aligned[targetname]['gene_error'] <= error_cutoff].reset_index(drop=True)\n",
    "    retained[targetname] = target_retained"
   ]
  },
  {
   "cell_type": "markdown",
   "metadata": {},
   "source": [
    "## Data analysis\n",
    "\n",
    "Now we can examine our data in more detail. First, let's look at the first few entries in the `retained` dataframe for each target:"
   ]
  },
  {
   "cell_type": "code",
   "execution_count": 26,
   "metadata": {},
   "outputs": [
    {
     "name": "stdout",
     "output_type": "stream",
     "text": [
      "LASV_Josiah_WT\n"
     ]
    },
    {
     "data": {
      "text/html": [
       "<div>\n",
       "<style scoped>\n",
       "    .dataframe tbody tr th:only-of-type {\n",
       "        vertical-align: middle;\n",
       "    }\n",
       "\n",
       "    .dataframe tbody tr th {\n",
       "        vertical-align: top;\n",
       "    }\n",
       "\n",
       "    .dataframe thead th {\n",
       "        text-align: right;\n",
       "    }\n",
       "</style>\n",
       "<table border=\"1\" class=\"dataframe\">\n",
       "  <thead>\n",
       "    <tr style=\"text-align: right;\">\n",
       "      <th></th>\n",
       "      <th>query_name</th>\n",
       "      <th>query_clip5</th>\n",
       "      <th>query_clip3</th>\n",
       "      <th>gene_mutations</th>\n",
       "      <th>gene_accuracy</th>\n",
       "      <th>index_sequence</th>\n",
       "      <th>variant_tag5_sequence</th>\n",
       "      <th>variant_tag3_sequence</th>\n",
       "      <th>run_name</th>\n",
       "      <th>gene_error</th>\n",
       "    </tr>\n",
       "  </thead>\n",
       "  <tbody>\n",
       "    <tr>\n",
       "      <th>0</th>\n",
       "      <td>m54228_190605_190010/4194436/ccs</td>\n",
       "      <td>0</td>\n",
       "      <td>0</td>\n",
       "      <td></td>\n",
       "      <td>1.0</td>\n",
       "      <td>GGTATG</td>\n",
       "      <td>C</td>\n",
       "      <td>A</td>\n",
       "      <td>lasv_pilot</td>\n",
       "      <td>1.000000e-07</td>\n",
       "    </tr>\n",
       "    <tr>\n",
       "      <th>1</th>\n",
       "      <td>m54228_190605_190010/4194472/ccs</td>\n",
       "      <td>0</td>\n",
       "      <td>0</td>\n",
       "      <td>T572C</td>\n",
       "      <td>1.0</td>\n",
       "      <td>GGTATG</td>\n",
       "      <td>T</td>\n",
       "      <td>G</td>\n",
       "      <td>lasv_pilot</td>\n",
       "      <td>1.000000e-07</td>\n",
       "    </tr>\n",
       "    <tr>\n",
       "      <th>2</th>\n",
       "      <td>m54228_190605_190010/4194509/ccs</td>\n",
       "      <td>0</td>\n",
       "      <td>0</td>\n",
       "      <td></td>\n",
       "      <td>1.0</td>\n",
       "      <td>GGTATG</td>\n",
       "      <td>C</td>\n",
       "      <td>A</td>\n",
       "      <td>lasv_pilot</td>\n",
       "      <td>1.000000e-07</td>\n",
       "    </tr>\n",
       "    <tr>\n",
       "      <th>3</th>\n",
       "      <td>m54228_190605_190010/4194553/ccs</td>\n",
       "      <td>0</td>\n",
       "      <td>0</td>\n",
       "      <td></td>\n",
       "      <td>1.0</td>\n",
       "      <td>GGTATG</td>\n",
       "      <td>C</td>\n",
       "      <td>A</td>\n",
       "      <td>lasv_pilot</td>\n",
       "      <td>1.000000e-07</td>\n",
       "    </tr>\n",
       "    <tr>\n",
       "      <th>4</th>\n",
       "      <td>m54228_190605_190010/4194576/ccs</td>\n",
       "      <td>0</td>\n",
       "      <td>0</td>\n",
       "      <td></td>\n",
       "      <td>1.0</td>\n",
       "      <td>AGACAC</td>\n",
       "      <td>T</td>\n",
       "      <td>G</td>\n",
       "      <td>lasv_pilot</td>\n",
       "      <td>1.000000e-07</td>\n",
       "    </tr>\n",
       "  </tbody>\n",
       "</table>\n",
       "</div>"
      ],
      "text/plain": [
       "                         query_name  query_clip5  query_clip3 gene_mutations  \\\n",
       "0  m54228_190605_190010/4194436/ccs            0            0                  \n",
       "1  m54228_190605_190010/4194472/ccs            0            0          T572C   \n",
       "2  m54228_190605_190010/4194509/ccs            0            0                  \n",
       "3  m54228_190605_190010/4194553/ccs            0            0                  \n",
       "4  m54228_190605_190010/4194576/ccs            0            0                  \n",
       "\n",
       "   gene_accuracy index_sequence variant_tag5_sequence variant_tag3_sequence  \\\n",
       "0            1.0         GGTATG                     C                     A   \n",
       "1            1.0         GGTATG                     T                     G   \n",
       "2            1.0         GGTATG                     C                     A   \n",
       "3            1.0         GGTATG                     C                     A   \n",
       "4            1.0         AGACAC                     T                     G   \n",
       "\n",
       "     run_name    gene_error  \n",
       "0  lasv_pilot  1.000000e-07  \n",
       "1  lasv_pilot  1.000000e-07  \n",
       "2  lasv_pilot  1.000000e-07  \n",
       "3  lasv_pilot  1.000000e-07  \n",
       "4  lasv_pilot  1.000000e-07  "
      ]
     },
     "metadata": {},
     "output_type": "display_data"
    },
    {
     "name": "stdout",
     "output_type": "stream",
     "text": [
      "LASV_Josiah_OPT\n"
     ]
    },
    {
     "data": {
      "text/html": [
       "<div>\n",
       "<style scoped>\n",
       "    .dataframe tbody tr th:only-of-type {\n",
       "        vertical-align: middle;\n",
       "    }\n",
       "\n",
       "    .dataframe tbody tr th {\n",
       "        vertical-align: top;\n",
       "    }\n",
       "\n",
       "    .dataframe thead th {\n",
       "        text-align: right;\n",
       "    }\n",
       "</style>\n",
       "<table border=\"1\" class=\"dataframe\">\n",
       "  <thead>\n",
       "    <tr style=\"text-align: right;\">\n",
       "      <th></th>\n",
       "      <th>query_name</th>\n",
       "      <th>query_clip5</th>\n",
       "      <th>query_clip3</th>\n",
       "      <th>gene_mutations</th>\n",
       "      <th>gene_accuracy</th>\n",
       "      <th>index_sequence</th>\n",
       "      <th>variant_tag5_sequence</th>\n",
       "      <th>variant_tag3_sequence</th>\n",
       "      <th>run_name</th>\n",
       "      <th>gene_error</th>\n",
       "    </tr>\n",
       "  </thead>\n",
       "  <tbody>\n",
       "    <tr>\n",
       "      <th>0</th>\n",
       "      <td>m54228_190605_190010/4194382/ccs</td>\n",
       "      <td>0</td>\n",
       "      <td>0</td>\n",
       "      <td></td>\n",
       "      <td>1.0</td>\n",
       "      <td>GAGACG</td>\n",
       "      <td>C</td>\n",
       "      <td>A</td>\n",
       "      <td>lasv_pilot</td>\n",
       "      <td>1.000000e-07</td>\n",
       "    </tr>\n",
       "    <tr>\n",
       "      <th>1</th>\n",
       "      <td>m54228_190605_190010/4194390/ccs</td>\n",
       "      <td>0</td>\n",
       "      <td>0</td>\n",
       "      <td></td>\n",
       "      <td>1.0</td>\n",
       "      <td>ACGACC</td>\n",
       "      <td>C</td>\n",
       "      <td>A</td>\n",
       "      <td>lasv_pilot</td>\n",
       "      <td>1.000000e-07</td>\n",
       "    </tr>\n",
       "    <tr>\n",
       "      <th>2</th>\n",
       "      <td>m54228_190605_190010/4194399/ccs</td>\n",
       "      <td>0</td>\n",
       "      <td>0</td>\n",
       "      <td></td>\n",
       "      <td>1.0</td>\n",
       "      <td>ACGACC</td>\n",
       "      <td>C</td>\n",
       "      <td>A</td>\n",
       "      <td>lasv_pilot</td>\n",
       "      <td>1.000000e-07</td>\n",
       "    </tr>\n",
       "    <tr>\n",
       "      <th>3</th>\n",
       "      <td>m54228_190605_190010/4194439/ccs</td>\n",
       "      <td>0</td>\n",
       "      <td>0</td>\n",
       "      <td></td>\n",
       "      <td>1.0</td>\n",
       "      <td>ACGACC</td>\n",
       "      <td>T</td>\n",
       "      <td>G</td>\n",
       "      <td>lasv_pilot</td>\n",
       "      <td>1.000000e-07</td>\n",
       "    </tr>\n",
       "    <tr>\n",
       "      <th>4</th>\n",
       "      <td>m54228_190605_190010/4194445/ccs</td>\n",
       "      <td>0</td>\n",
       "      <td>0</td>\n",
       "      <td></td>\n",
       "      <td>1.0</td>\n",
       "      <td>CTTCAC</td>\n",
       "      <td>T</td>\n",
       "      <td>G</td>\n",
       "      <td>lasv_pilot</td>\n",
       "      <td>1.000000e-07</td>\n",
       "    </tr>\n",
       "  </tbody>\n",
       "</table>\n",
       "</div>"
      ],
      "text/plain": [
       "                         query_name  query_clip5  query_clip3 gene_mutations  \\\n",
       "0  m54228_190605_190010/4194382/ccs            0            0                  \n",
       "1  m54228_190605_190010/4194390/ccs            0            0                  \n",
       "2  m54228_190605_190010/4194399/ccs            0            0                  \n",
       "3  m54228_190605_190010/4194439/ccs            0            0                  \n",
       "4  m54228_190605_190010/4194445/ccs            0            0                  \n",
       "\n",
       "   gene_accuracy index_sequence variant_tag5_sequence variant_tag3_sequence  \\\n",
       "0            1.0         GAGACG                     C                     A   \n",
       "1            1.0         ACGACC                     C                     A   \n",
       "2            1.0         ACGACC                     C                     A   \n",
       "3            1.0         ACGACC                     T                     G   \n",
       "4            1.0         CTTCAC                     T                     G   \n",
       "\n",
       "     run_name    gene_error  \n",
       "0  lasv_pilot  1.000000e-07  \n",
       "1  lasv_pilot  1.000000e-07  \n",
       "2  lasv_pilot  1.000000e-07  \n",
       "3  lasv_pilot  1.000000e-07  \n",
       "4  lasv_pilot  1.000000e-07  "
      ]
     },
     "metadata": {},
     "output_type": "display_data"
    }
   ],
   "source": [
    "for target_name in targets.target_names:\n",
    "    print(target_name)\n",
    "    display(retained[target_name].head())"
   ]
  },
  {
   "cell_type": "markdown",
   "metadata": {},
   "source": [
    "As seen by the `index_sequence` columns, each target here has 2 or 3 different indices that map to it. These indicies indicate different samples. \n",
    "\n",
    "We can then split these dataframes into sample-specific dataframes based on the known starting index sequences for each target. We will store these dataframes in a new dictionary, keyed by target and index."
   ]
  },
  {
   "cell_type": "code",
   "execution_count": 27,
   "metadata": {},
   "outputs": [],
   "source": [
    "indices = {'LASV_Josiah_WT': ['AGACAC', 'GGTATG'], 'LASV_Josiah_OPT': ['ACGACC', 'CTTCAC', 'GAGACG']}\n",
    "target_idx_retained = {}\n",
    "index_counts = {target: [] for target in indices}\n",
    "index_counts_dfs = {}\n",
    "for target_name in targets.target_names:\n",
    "    for index in indices[target_name]:\n",
    "        target_idx_retained[f\"{target_name}_{index}\"] = retained[target_name][retained[target_name]['index_sequence'] == index].reset_index(drop=True)\n",
    "        index_counts[f\"{target_name}\"].append((index, len(target_idx_retained[f\"{target_name}_{index}\"])))\n",
    "    index_counts[f\"{target_name}\"].append(('invalid', (len(retained[target_name]) - \n",
    "                                                          sum(idx_tup[1] for idx_tup in index_counts[target_name]))))\n",
    "    index_counts_dfs[target_name] = pd.DataFrame(index_counts[target_name], columns=['index', 'count'])"
   ]
  },
  {
   "cell_type": "markdown",
   "metadata": {},
   "source": [
    "In the process of making these separate dataframes, we also kept track of how many reads for each target map to each index or don't map to an index (so have an 'invalid' index) and can now plot these counts. As seen below, only one sequence in this example has an invalid index and it maps to the `LASV_Josiah_OPT` target."
   ]
  },
  {
   "cell_type": "code",
   "execution_count": 28,
   "metadata": {},
   "outputs": [
    {
     "data": {
      "image/png": "[encoded data removed]",
      "text/plain": [
       "<Figure size 100x200 with 1 Axes>"
      ]
     },
     "metadata": {},
     "output_type": "display_data"
    },
    {
     "data": {
      "image/png": "[encoded data removed]",
      "text/plain": [
       "<Figure size 100x200 with 1 Axes>"
      ]
     },
     "metadata": {},
     "output_type": "display_data"
    }
   ],
   "source": [
    "for target_name in targets.target_names:\n",
    "    df = index_counts_dfs[target_name]\n",
    "    df['target'] = [target_name]*len(df)\n",
    "    index_count_plot = (ggplot(df, aes(x='target', y='count', fill='index')) +\n",
    "                        geom_bar(stat='identity', position='stack') +\n",
    "                        scale_fill_manual(values=CBPALETTE) +\n",
    "                        theme(axis_text_x=element_text(angle=90, vjust=1, hjust=0.5),\n",
    "                        figure_size=(1, 2)) +\n",
    "                        ylab('Reads') +\n",
    "                        xlab('Target') +\n",
    "                        ggtitle('Reads per Sample Index'))\n",
    "    \n",
    "    _ = index_count_plot.draw()"
   ]
  },
  {
   "cell_type": "markdown",
   "metadata": {},
   "source": [
    "The two target-specific dataframes are now five index-specific dataframes."
   ]
  },
  {
   "cell_type": "code",
   "execution_count": 29,
   "metadata": {
    "scrolled": true
   },
   "outputs": [
    {
     "name": "stdout",
     "output_type": "stream",
     "text": [
      "LASV_Josiah_WT_AGACAC\n"
     ]
    },
    {
     "data": {
      "text/html": [
       "<div>\n",
       "<style scoped>\n",
       "    .dataframe tbody tr th:only-of-type {\n",
       "        vertical-align: middle;\n",
       "    }\n",
       "\n",
       "    .dataframe tbody tr th {\n",
       "        vertical-align: top;\n",
       "    }\n",
       "\n",
       "    .dataframe thead th {\n",
       "        text-align: right;\n",
       "    }\n",
       "</style>\n",
       "<table border=\"1\" class=\"dataframe\">\n",
       "  <thead>\n",
       "    <tr style=\"text-align: right;\">\n",
       "      <th></th>\n",
       "      <th>query_name</th>\n",
       "      <th>query_clip5</th>\n",
       "      <th>query_clip3</th>\n",
       "      <th>gene_mutations</th>\n",
       "      <th>gene_accuracy</th>\n",
       "      <th>index_sequence</th>\n",
       "      <th>variant_tag5_sequence</th>\n",
       "      <th>variant_tag3_sequence</th>\n",
       "      <th>run_name</th>\n",
       "      <th>gene_error</th>\n",
       "    </tr>\n",
       "  </thead>\n",
       "  <tbody>\n",
       "    <tr>\n",
       "      <th>0</th>\n",
       "      <td>m54228_190605_190010/4194576/ccs</td>\n",
       "      <td>0</td>\n",
       "      <td>0</td>\n",
       "      <td></td>\n",
       "      <td>1.0</td>\n",
       "      <td>AGACAC</td>\n",
       "      <td>T</td>\n",
       "      <td>G</td>\n",
       "      <td>lasv_pilot</td>\n",
       "      <td>1.000000e-07</td>\n",
       "    </tr>\n",
       "    <tr>\n",
       "      <th>1</th>\n",
       "      <td>m54228_190605_190010/4194612/ccs</td>\n",
       "      <td>0</td>\n",
       "      <td>0</td>\n",
       "      <td></td>\n",
       "      <td>1.0</td>\n",
       "      <td>AGACAC</td>\n",
       "      <td>C</td>\n",
       "      <td>A</td>\n",
       "      <td>lasv_pilot</td>\n",
       "      <td>1.000000e-07</td>\n",
       "    </tr>\n",
       "    <tr>\n",
       "      <th>2</th>\n",
       "      <td>m54228_190605_190010/4194613/ccs</td>\n",
       "      <td>0</td>\n",
       "      <td>0</td>\n",
       "      <td></td>\n",
       "      <td>1.0</td>\n",
       "      <td>AGACAC</td>\n",
       "      <td>T</td>\n",
       "      <td>G</td>\n",
       "      <td>lasv_pilot</td>\n",
       "      <td>1.000000e-07</td>\n",
       "    </tr>\n",
       "  </tbody>\n",
       "</table>\n",
       "</div>"
      ],
      "text/plain": [
       "                         query_name  query_clip5  query_clip3 gene_mutations  \\\n",
       "0  m54228_190605_190010/4194576/ccs            0            0                  \n",
       "1  m54228_190605_190010/4194612/ccs            0            0                  \n",
       "2  m54228_190605_190010/4194613/ccs            0            0                  \n",
       "\n",
       "   gene_accuracy index_sequence variant_tag5_sequence variant_tag3_sequence  \\\n",
       "0            1.0         AGACAC                     T                     G   \n",
       "1            1.0         AGACAC                     C                     A   \n",
       "2            1.0         AGACAC                     T                     G   \n",
       "\n",
       "     run_name    gene_error  \n",
       "0  lasv_pilot  1.000000e-07  \n",
       "1  lasv_pilot  1.000000e-07  \n",
       "2  lasv_pilot  1.000000e-07  "
      ]
     },
     "metadata": {},
     "output_type": "display_data"
    },
    {
     "name": "stdout",
     "output_type": "stream",
     "text": [
      "LASV_Josiah_WT_GGTATG\n"
     ]
    },
    {
     "data": {
      "text/html": [
       "<div>\n",
       "<style scoped>\n",
       "    .dataframe tbody tr th:only-of-type {\n",
       "        vertical-align: middle;\n",
       "    }\n",
       "\n",
       "    .dataframe tbody tr th {\n",
       "        vertical-align: top;\n",
       "    }\n",
       "\n",
       "    .dataframe thead th {\n",
       "        text-align: right;\n",
       "    }\n",
       "</style>\n",
       "<table border=\"1\" class=\"dataframe\">\n",
       "  <thead>\n",
       "    <tr style=\"text-align: right;\">\n",
       "      <th></th>\n",
       "      <th>query_name</th>\n",
       "      <th>query_clip5</th>\n",
       "      <th>query_clip3</th>\n",
       "      <th>gene_mutations</th>\n",
       "      <th>gene_accuracy</th>\n",
       "      <th>index_sequence</th>\n",
       "      <th>variant_tag5_sequence</th>\n",
       "      <th>variant_tag3_sequence</th>\n",
       "      <th>run_name</th>\n",
       "      <th>gene_error</th>\n",
       "    </tr>\n",
       "  </thead>\n",
       "  <tbody>\n",
       "    <tr>\n",
       "      <th>0</th>\n",
       "      <td>m54228_190605_190010/4194436/ccs</td>\n",
       "      <td>0</td>\n",
       "      <td>0</td>\n",
       "      <td></td>\n",
       "      <td>1.0</td>\n",
       "      <td>GGTATG</td>\n",
       "      <td>C</td>\n",
       "      <td>A</td>\n",
       "      <td>lasv_pilot</td>\n",
       "      <td>1.000000e-07</td>\n",
       "    </tr>\n",
       "    <tr>\n",
       "      <th>1</th>\n",
       "      <td>m54228_190605_190010/4194472/ccs</td>\n",
       "      <td>0</td>\n",
       "      <td>0</td>\n",
       "      <td>T572C</td>\n",
       "      <td>1.0</td>\n",
       "      <td>GGTATG</td>\n",
       "      <td>T</td>\n",
       "      <td>G</td>\n",
       "      <td>lasv_pilot</td>\n",
       "      <td>1.000000e-07</td>\n",
       "    </tr>\n",
       "    <tr>\n",
       "      <th>2</th>\n",
       "      <td>m54228_190605_190010/4194509/ccs</td>\n",
       "      <td>0</td>\n",
       "      <td>0</td>\n",
       "      <td></td>\n",
       "      <td>1.0</td>\n",
       "      <td>GGTATG</td>\n",
       "      <td>C</td>\n",
       "      <td>A</td>\n",
       "      <td>lasv_pilot</td>\n",
       "      <td>1.000000e-07</td>\n",
       "    </tr>\n",
       "  </tbody>\n",
       "</table>\n",
       "</div>"
      ],
      "text/plain": [
       "                         query_name  query_clip5  query_clip3 gene_mutations  \\\n",
       "0  m54228_190605_190010/4194436/ccs            0            0                  \n",
       "1  m54228_190605_190010/4194472/ccs            0            0          T572C   \n",
       "2  m54228_190605_190010/4194509/ccs            0            0                  \n",
       "\n",
       "   gene_accuracy index_sequence variant_tag5_sequence variant_tag3_sequence  \\\n",
       "0            1.0         GGTATG                     C                     A   \n",
       "1            1.0         GGTATG                     T                     G   \n",
       "2            1.0         GGTATG                     C                     A   \n",
       "\n",
       "     run_name    gene_error  \n",
       "0  lasv_pilot  1.000000e-07  \n",
       "1  lasv_pilot  1.000000e-07  \n",
       "2  lasv_pilot  1.000000e-07  "
      ]
     },
     "metadata": {},
     "output_type": "display_data"
    },
    {
     "name": "stdout",
     "output_type": "stream",
     "text": [
      "LASV_Josiah_OPT_ACGACC\n"
     ]
    },
    {
     "data": {
      "text/html": [
       "<div>\n",
       "<style scoped>\n",
       "    .dataframe tbody tr th:only-of-type {\n",
       "        vertical-align: middle;\n",
       "    }\n",
       "\n",
       "    .dataframe tbody tr th {\n",
       "        vertical-align: top;\n",
       "    }\n",
       "\n",
       "    .dataframe thead th {\n",
       "        text-align: right;\n",
       "    }\n",
       "</style>\n",
       "<table border=\"1\" class=\"dataframe\">\n",
       "  <thead>\n",
       "    <tr style=\"text-align: right;\">\n",
       "      <th></th>\n",
       "      <th>query_name</th>\n",
       "      <th>query_clip5</th>\n",
       "      <th>query_clip3</th>\n",
       "      <th>gene_mutations</th>\n",
       "      <th>gene_accuracy</th>\n",
       "      <th>index_sequence</th>\n",
       "      <th>variant_tag5_sequence</th>\n",
       "      <th>variant_tag3_sequence</th>\n",
       "      <th>run_name</th>\n",
       "      <th>gene_error</th>\n",
       "    </tr>\n",
       "  </thead>\n",
       "  <tbody>\n",
       "    <tr>\n",
       "      <th>0</th>\n",
       "      <td>m54228_190605_190010/4194390/ccs</td>\n",
       "      <td>0</td>\n",
       "      <td>0</td>\n",
       "      <td></td>\n",
       "      <td>1.0</td>\n",
       "      <td>ACGACC</td>\n",
       "      <td>C</td>\n",
       "      <td>A</td>\n",
       "      <td>lasv_pilot</td>\n",
       "      <td>1.000000e-07</td>\n",
       "    </tr>\n",
       "    <tr>\n",
       "      <th>1</th>\n",
       "      <td>m54228_190605_190010/4194399/ccs</td>\n",
       "      <td>0</td>\n",
       "      <td>0</td>\n",
       "      <td></td>\n",
       "      <td>1.0</td>\n",
       "      <td>ACGACC</td>\n",
       "      <td>C</td>\n",
       "      <td>A</td>\n",
       "      <td>lasv_pilot</td>\n",
       "      <td>1.000000e-07</td>\n",
       "    </tr>\n",
       "    <tr>\n",
       "      <th>2</th>\n",
       "      <td>m54228_190605_190010/4194439/ccs</td>\n",
       "      <td>0</td>\n",
       "      <td>0</td>\n",
       "      <td></td>\n",
       "      <td>1.0</td>\n",
       "      <td>ACGACC</td>\n",
       "      <td>T</td>\n",
       "      <td>G</td>\n",
       "      <td>lasv_pilot</td>\n",
       "      <td>1.000000e-07</td>\n",
       "    </tr>\n",
       "  </tbody>\n",
       "</table>\n",
       "</div>"
      ],
      "text/plain": [
       "                         query_name  query_clip5  query_clip3 gene_mutations  \\\n",
       "0  m54228_190605_190010/4194390/ccs            0            0                  \n",
       "1  m54228_190605_190010/4194399/ccs            0            0                  \n",
       "2  m54228_190605_190010/4194439/ccs            0            0                  \n",
       "\n",
       "   gene_accuracy index_sequence variant_tag5_sequence variant_tag3_sequence  \\\n",
       "0            1.0         ACGACC                     C                     A   \n",
       "1            1.0         ACGACC                     C                     A   \n",
       "2            1.0         ACGACC                     T                     G   \n",
       "\n",
       "     run_name    gene_error  \n",
       "0  lasv_pilot  1.000000e-07  \n",
       "1  lasv_pilot  1.000000e-07  \n",
       "2  lasv_pilot  1.000000e-07  "
      ]
     },
     "metadata": {},
     "output_type": "display_data"
    },
    {
     "name": "stdout",
     "output_type": "stream",
     "text": [
      "LASV_Josiah_OPT_CTTCAC\n"
     ]
    },
    {
     "data": {
      "text/html": [
       "<div>\n",
       "<style scoped>\n",
       "    .dataframe tbody tr th:only-of-type {\n",
       "        vertical-align: middle;\n",
       "    }\n",
       "\n",
       "    .dataframe tbody tr th {\n",
       "        vertical-align: top;\n",
       "    }\n",
       "\n",
       "    .dataframe thead th {\n",
       "        text-align: right;\n",
       "    }\n",
       "</style>\n",
       "<table border=\"1\" class=\"dataframe\">\n",
       "  <thead>\n",
       "    <tr style=\"text-align: right;\">\n",
       "      <th></th>\n",
       "      <th>query_name</th>\n",
       "      <th>query_clip5</th>\n",
       "      <th>query_clip3</th>\n",
       "      <th>gene_mutations</th>\n",
       "      <th>gene_accuracy</th>\n",
       "      <th>index_sequence</th>\n",
       "      <th>variant_tag5_sequence</th>\n",
       "      <th>variant_tag3_sequence</th>\n",
       "      <th>run_name</th>\n",
       "      <th>gene_error</th>\n",
       "    </tr>\n",
       "  </thead>\n",
       "  <tbody>\n",
       "    <tr>\n",
       "      <th>0</th>\n",
       "      <td>m54228_190605_190010/4194445/ccs</td>\n",
       "      <td>0</td>\n",
       "      <td>0</td>\n",
       "      <td></td>\n",
       "      <td>1.000000</td>\n",
       "      <td>CTTCAC</td>\n",
       "      <td>T</td>\n",
       "      <td>G</td>\n",
       "      <td>lasv_pilot</td>\n",
       "      <td>1.000000e-07</td>\n",
       "    </tr>\n",
       "    <tr>\n",
       "      <th>1</th>\n",
       "      <td>m54228_190605_190010/4194501/ccs</td>\n",
       "      <td>0</td>\n",
       "      <td>0</td>\n",
       "      <td></td>\n",
       "      <td>1.000000</td>\n",
       "      <td>CTTCAC</td>\n",
       "      <td>T</td>\n",
       "      <td>G</td>\n",
       "      <td>lasv_pilot</td>\n",
       "      <td>1.000000e-07</td>\n",
       "    </tr>\n",
       "    <tr>\n",
       "      <th>2</th>\n",
       "      <td>m54228_190605_190010/4194549/ccs</td>\n",
       "      <td>0</td>\n",
       "      <td>0</td>\n",
       "      <td></td>\n",
       "      <td>0.999915</td>\n",
       "      <td>CTTCAC</td>\n",
       "      <td>T</td>\n",
       "      <td>G</td>\n",
       "      <td>lasv_pilot</td>\n",
       "      <td>8.484769e-05</td>\n",
       "    </tr>\n",
       "  </tbody>\n",
       "</table>\n",
       "</div>"
      ],
      "text/plain": [
       "                         query_name  query_clip5  query_clip3 gene_mutations  \\\n",
       "0  m54228_190605_190010/4194445/ccs            0            0                  \n",
       "1  m54228_190605_190010/4194501/ccs            0            0                  \n",
       "2  m54228_190605_190010/4194549/ccs            0            0                  \n",
       "\n",
       "   gene_accuracy index_sequence variant_tag5_sequence variant_tag3_sequence  \\\n",
       "0       1.000000         CTTCAC                     T                     G   \n",
       "1       1.000000         CTTCAC                     T                     G   \n",
       "2       0.999915         CTTCAC                     T                     G   \n",
       "\n",
       "     run_name    gene_error  \n",
       "0  lasv_pilot  1.000000e-07  \n",
       "1  lasv_pilot  1.000000e-07  \n",
       "2  lasv_pilot  8.484769e-05  "
      ]
     },
     "metadata": {},
     "output_type": "display_data"
    },
    {
     "name": "stdout",
     "output_type": "stream",
     "text": [
      "LASV_Josiah_OPT_GAGACG\n"
     ]
    },
    {
     "data": {
      "text/html": [
       "<div>\n",
       "<style scoped>\n",
       "    .dataframe tbody tr th:only-of-type {\n",
       "        vertical-align: middle;\n",
       "    }\n",
       "\n",
       "    .dataframe tbody tr th {\n",
       "        vertical-align: top;\n",
       "    }\n",
       "\n",
       "    .dataframe thead th {\n",
       "        text-align: right;\n",
       "    }\n",
       "</style>\n",
       "<table border=\"1\" class=\"dataframe\">\n",
       "  <thead>\n",
       "    <tr style=\"text-align: right;\">\n",
       "      <th></th>\n",
       "      <th>query_name</th>\n",
       "      <th>query_clip5</th>\n",
       "      <th>query_clip3</th>\n",
       "      <th>gene_mutations</th>\n",
       "      <th>gene_accuracy</th>\n",
       "      <th>index_sequence</th>\n",
       "      <th>variant_tag5_sequence</th>\n",
       "      <th>variant_tag3_sequence</th>\n",
       "      <th>run_name</th>\n",
       "      <th>gene_error</th>\n",
       "    </tr>\n",
       "  </thead>\n",
       "  <tbody>\n",
       "    <tr>\n",
       "      <th>0</th>\n",
       "      <td>m54228_190605_190010/4194382/ccs</td>\n",
       "      <td>0</td>\n",
       "      <td>0</td>\n",
       "      <td></td>\n",
       "      <td>1.0</td>\n",
       "      <td>GAGACG</td>\n",
       "      <td>C</td>\n",
       "      <td>A</td>\n",
       "      <td>lasv_pilot</td>\n",
       "      <td>1.000000e-07</td>\n",
       "    </tr>\n",
       "    <tr>\n",
       "      <th>1</th>\n",
       "      <td>m54228_190605_190010/4194467/ccs</td>\n",
       "      <td>0</td>\n",
       "      <td>0</td>\n",
       "      <td></td>\n",
       "      <td>1.0</td>\n",
       "      <td>GAGACG</td>\n",
       "      <td>T</td>\n",
       "      <td>G</td>\n",
       "      <td>lasv_pilot</td>\n",
       "      <td>1.000000e-07</td>\n",
       "    </tr>\n",
       "    <tr>\n",
       "      <th>2</th>\n",
       "      <td>m54228_190605_190010/4194491/ccs</td>\n",
       "      <td>0</td>\n",
       "      <td>0</td>\n",
       "      <td></td>\n",
       "      <td>1.0</td>\n",
       "      <td>GAGACG</td>\n",
       "      <td>T</td>\n",
       "      <td>G</td>\n",
       "      <td>lasv_pilot</td>\n",
       "      <td>1.000000e-07</td>\n",
       "    </tr>\n",
       "  </tbody>\n",
       "</table>\n",
       "</div>"
      ],
      "text/plain": [
       "                         query_name  query_clip5  query_clip3 gene_mutations  \\\n",
       "0  m54228_190605_190010/4194382/ccs            0            0                  \n",
       "1  m54228_190605_190010/4194467/ccs            0            0                  \n",
       "2  m54228_190605_190010/4194491/ccs            0            0                  \n",
       "\n",
       "   gene_accuracy index_sequence variant_tag5_sequence variant_tag3_sequence  \\\n",
       "0            1.0         GAGACG                     C                     A   \n",
       "1            1.0         GAGACG                     T                     G   \n",
       "2            1.0         GAGACG                     T                     G   \n",
       "\n",
       "     run_name    gene_error  \n",
       "0  lasv_pilot  1.000000e-07  \n",
       "1  lasv_pilot  1.000000e-07  \n",
       "2  lasv_pilot  1.000000e-07  "
      ]
     },
     "metadata": {},
     "output_type": "display_data"
    }
   ],
   "source": [
    "for target_idx in target_idx_retained:\n",
    "    print(target_idx)\n",
    "    display(target_idx_retained[target_idx].head(3))"
   ]
  },
  {
   "cell_type": "markdown",
   "metadata": {},
   "source": [
    "We can add mutation info for the genes in these targets using [alignparse.consensus.add_mut_info_cols](https://jbloomlab.github.io/alignparse/alignparse.consensus.html#alignparse.consensus.add_mut_info_cols)."
   ]
  },
  {
   "cell_type": "code",
   "execution_count": 30,
   "metadata": {},
   "outputs": [],
   "source": [
    "for target_idx in target_idx_retained:\n",
    "    target_idx_retained[target_idx] = alignparse.consensus.add_mut_info_cols(target_idx_retained[target_idx],\n",
    "                                                                              mutation_col='gene_mutations',\n",
    "                                                                              n_sub_col='n_gene_subs',\n",
    "                                                                              n_indel_col='n_gene_indels')"
   ]
  },
  {
   "cell_type": "markdown",
   "metadata": {},
   "source": [
    "We can then plot the number of reads for each sample that has each number of substitutions or indels to get a sense of how many mutations are in these reads, if some smaples have more mutations than others, and if substitutions or indels are more prevalent in these sequences. \n",
    "\n",
    "With such a small sample snippet of the data, it is difficult to make any conclusions, but with a full dataset, this can provide important information about the mutational processes at work for each sample."
   ]
  },
  {
   "cell_type": "code",
   "execution_count": 31,
   "metadata": {},
   "outputs": [
    {
     "data": {
      "image/png": "[encoded data removed]",
      "text/plain": [
       "<Figure size 300x250 with 2 Axes>"
      ]
     },
     "metadata": {},
     "output_type": "display_data"
    },
    {
     "data": {
      "image/png": "[encoded data removed]",
      "text/plain": [
       "<Figure size 300x250 with 2 Axes>"
      ]
     },
     "metadata": {},
     "output_type": "display_data"
    },
    {
     "data": {
      "image/png": "[encoded data removed]",
      "text/plain": [
       "<Figure size 300x250 with 2 Axes>"
      ]
     },
     "metadata": {},
     "output_type": "display_data"
    },
    {
     "data": {
      "image/png": "[encoded data removed]",
      "text/plain": [
       "<Figure size 300x250 with 2 Axes>"
      ]
     },
     "metadata": {},
     "output_type": "display_data"
    },
    {
     "data": {
      "image/png": "[encoded data removed]",
      "text/plain": [
       "<Figure size 300x250 with 2 Axes>"
      ]
     },
     "metadata": {},
     "output_type": "display_data"
    }
   ],
   "source": [
    "mut_cols = ['n_gene_subs', 'n_gene_indels']\n",
    "for target_idx in target_idx_retained:\n",
    "    target_idx_plot_muts = target_idx_retained[target_idx][mut_cols].melt()\n",
    "    mut_counts_plot = (\n",
    "                        ggplot(target_idx_plot_muts, aes('value')) +\n",
    "                        geom_bar() +\n",
    "                        facet_wrap('~ variable', ncol=2) +\n",
    "                        xlim(-0.5, 2.5) +\n",
    "                        labs(title=f\"{target_idx}\") +\n",
    "                        theme(axis_text_x=element_text(angle=90),\n",
    "                              figure_size=(3, 2.5),\n",
    "                              )\n",
    "    )\n",
    "    _ = mut_counts_plot.draw()"
   ]
  },
  {
   "cell_type": "markdown",
   "metadata": {},
   "source": []
  },
  {
   "cell_type": "code",
   "execution_count": null,
   "metadata": {},
   "outputs": [],
   "source": []
  }
 ],
 "metadata": {
  "kernelspec": {
   "display_name": "Python 3",
   "language": "python",
   "name": "python3"
  },
  "language_info": {
   "codemirror_mode": {
    "name": "ipython",
    "version": 3
   },
   "file_extension": ".py",
   "mimetype": "text/x-python",
   "name": "python",
   "nbconvert_exporter": "python",
   "pygments_lexer": "ipython3",
   "version": "3.6.0"
  },
  "toc": {
   "nav_menu": {},
   "number_sections": false,
   "sideBar": true,
   "skip_h1_title": false,
   "toc_cell": false,
   "toc_position": {},
   "toc_section_display": true,
   "toc_window_display": true
  }
 },
 "nbformat": 4,
 "nbformat_minor": 2
}
