{
 "cells": [
  {
   "cell_type": "markdown",
   "metadata": {},
   "source": [
    "# Summarizing PacBio `ccs` output\n",
    "Example of summarizing the output of the PacBio `ccs` program (see [here](https://github.com/PacificBiosciences/ccs) for details on `ccs`).\n",
    "\n",
    "These summaries are useful after you have run `ccs` on subreads files to create BAM CCS files, and then converted these BAM files to FASTQ files.\n",
    "For the example here, a BAM CCS file and the report file was created using `ccs` version 3.1.0 with a command like the following:\n",
    "\n",
    "    ccs --minLength 50 --maxLength 5000 \\\n",
    "        --minPasses 3  --minPredictedAccuracy 0.999 \\\n",
    "        --reportFile lib-1_report.txt \\\n",
    "        --polish --numThreads 16 \\\n",
    "        lib-1_subreads.bam lib-1_ccs.bam\n",
    "        \n",
    "The BAM CCS file was then converted to a FASTQ file using [samtools](http://www.htslib.org/) with flags to retain the number of passes (`np`) and read quality (`rq`) flags:\n",
    "\n",
    "    samtools bam2fq -T np,rq lib-1_ccs.bam > lib-1_ccs.fastq\n",
    "    \n",
    "Everything that follows simply summarizes the report and FASTQ files created in this manner."
   ]
  },
  {
   "cell_type": "markdown",
   "metadata": {},
   "source": [
    "## Set up for analysis\n",
    "Import necessary Python modules:"
   ]
  },
  {
   "cell_type": "code",
   "execution_count": 1,
   "metadata": {},
   "outputs": [],
   "source": [
    "import warnings\n",
    "\n",
    "import pandas as pd\n",
    "\n",
    "import alignparse.ccs"
   ]
  },
  {
   "cell_type": "markdown",
   "metadata": {},
   "source": [
    "Hide warnings that clutter output:"
   ]
  },
  {
   "cell_type": "code",
   "execution_count": 2,
   "metadata": {},
   "outputs": [],
   "source": [
    "warnings.simplefilter('ignore')"
   ]
  },
  {
   "cell_type": "markdown",
   "metadata": {},
   "source": [
    "## Data frame defining `ccs` output\n",
    "Create a data frame giving the `ccs` report file and the CCS FASTQ file for each run:"
   ]
  },
  {
   "cell_type": "code",
   "execution_count": 3,
   "metadata": {},
   "outputs": [
    {
     "data": {
      "text/html": [
       "<div>\n",
       "<style scoped>\n",
       "    .dataframe tbody tr th:only-of-type {\n",
       "        vertical-align: middle;\n",
       "    }\n",
       "\n",
       "    .dataframe tbody tr th {\n",
       "        vertical-align: top;\n",
       "    }\n",
       "\n",
       "    .dataframe thead th {\n",
       "        text-align: right;\n",
       "    }\n",
       "</style>\n",
       "<table border=\"1\" class=\"dataframe\">\n",
       "  <thead>\n",
       "    <tr style=\"text-align: right;\">\n",
       "      <th></th>\n",
       "      <th>name</th>\n",
       "      <th>report</th>\n",
       "      <th>fastq</th>\n",
       "    </tr>\n",
       "  </thead>\n",
       "  <tbody>\n",
       "    <tr>\n",
       "      <td>0</td>\n",
       "      <td>recA_lib-1</td>\n",
       "      <td>input_files/recA_lib-1_report.txt</td>\n",
       "      <td>input_files/recA_lib-1_ccs.fastq</td>\n",
       "    </tr>\n",
       "    <tr>\n",
       "      <td>1</td>\n",
       "      <td>recA_lib-2</td>\n",
       "      <td>input_files/recA_lib-2_report.txt</td>\n",
       "      <td>input_files/recA_lib-2_ccs.fastq</td>\n",
       "    </tr>\n",
       "    <tr>\n",
       "      <td>2</td>\n",
       "      <td>vep_pilot</td>\n",
       "      <td>input_files/vep_pilot_report.txt</td>\n",
       "      <td>input_files/vep_pilot_ccs.fastq</td>\n",
       "    </tr>\n",
       "  </tbody>\n",
       "</table>\n",
       "</div>"
      ],
      "text/plain": [
       "         name                             report  \\\n",
       "0  recA_lib-1  input_files/recA_lib-1_report.txt   \n",
       "1  recA_lib-2  input_files/recA_lib-2_report.txt   \n",
       "2   vep_pilot   input_files/vep_pilot_report.txt   \n",
       "\n",
       "                              fastq  \n",
       "0  input_files/recA_lib-1_ccs.fastq  \n",
       "1  input_files/recA_lib-2_ccs.fastq  \n",
       "2   input_files/vep_pilot_ccs.fastq  "
      ]
     },
     "execution_count": 3,
     "metadata": {},
     "output_type": "execute_result"
    }
   ],
   "source": [
    "run_names = ['recA_lib-1', 'recA_lib-2', 'vep_pilot']\n",
    "ccs_dir = 'input_files'\n",
    "\n",
    "ccs_df = pd.DataFrame(\n",
    "            {'name': run_names,\n",
    "             'report': [f\"{ccs_dir}/{name}_report.txt\" for name in run_names],\n",
    "             'fastq': [f\"{ccs_dir}/{name}_ccs.fastq\" for name in run_names]\n",
    "             })\n",
    "\n",
    "ccs_df"
   ]
  },
  {
   "cell_type": "markdown",
   "metadata": {},
   "source": [
    "## Create a Summaries object\n",
    "Create an `alignparse.ccs.Summaries` object for each run:"
   ]
  },
  {
   "cell_type": "code",
   "execution_count": 4,
   "metadata": {},
   "outputs": [
    {
     "name": "stdout",
     "output_type": "stream",
     "text": [
      "recA_lib-1\n",
      "recA_lib-2\n",
      "vep_pilot\n"
     ]
    }
   ],
   "source": [
    "summaries = alignparse.ccs.Summaries(ccs_df)\n",
    "\n",
    "for summary in summaries.summaries:\n",
    "    print(summary.name)"
   ]
  },
  {
   "cell_type": "markdown",
   "metadata": {},
   "source": [
    "## Plot the ZMW stats\n",
    "Analyze the stats on how many ZMWs (zero mode wavelengths) produced CCSs:"
   ]
  },
  {
   "cell_type": "code",
   "execution_count": 5,
   "metadata": {},
   "outputs": [
    {
     "data": {
      "text/html": [
       "<div>\n",
       "<style scoped>\n",
       "    .dataframe tbody tr th:only-of-type {\n",
       "        vertical-align: middle;\n",
       "    }\n",
       "\n",
       "    .dataframe tbody tr th {\n",
       "        vertical-align: top;\n",
       "    }\n",
       "\n",
       "    .dataframe thead th {\n",
       "        text-align: right;\n",
       "    }\n",
       "</style>\n",
       "<table border=\"1\" class=\"dataframe\">\n",
       "  <thead>\n",
       "    <tr style=\"text-align: right;\">\n",
       "      <th></th>\n",
       "      <th>name</th>\n",
       "      <th>status</th>\n",
       "      <th>number</th>\n",
       "      <th>fraction</th>\n",
       "    </tr>\n",
       "  </thead>\n",
       "  <tbody>\n",
       "    <tr>\n",
       "      <td>0</td>\n",
       "      <td>recA_lib-1</td>\n",
       "      <td>Success -- CCS generated</td>\n",
       "      <td>98</td>\n",
       "      <td>0.6125</td>\n",
       "    </tr>\n",
       "    <tr>\n",
       "      <td>1</td>\n",
       "      <td>recA_lib-1</td>\n",
       "      <td>Failed -- Not enough full passes</td>\n",
       "      <td>38</td>\n",
       "      <td>0.2375</td>\n",
       "    </tr>\n",
       "    <tr>\n",
       "      <td>2</td>\n",
       "      <td>recA_lib-1</td>\n",
       "      <td>Failed -- CCS below minimum predicted accuracy</td>\n",
       "      <td>23</td>\n",
       "      <td>0.1437</td>\n",
       "    </tr>\n",
       "    <tr>\n",
       "      <td>3</td>\n",
       "      <td>recA_lib-1</td>\n",
       "      <td>Failed -- No usable subreads</td>\n",
       "      <td>1</td>\n",
       "      <td>0.0063</td>\n",
       "    </tr>\n",
       "    <tr>\n",
       "      <td>4</td>\n",
       "      <td>recA_lib-1</td>\n",
       "      <td>Failed -- Other reason</td>\n",
       "      <td>0</td>\n",
       "      <td>0.0000</td>\n",
       "    </tr>\n",
       "    <tr>\n",
       "      <td>5</td>\n",
       "      <td>recA_lib-2</td>\n",
       "      <td>Success -- CCS generated</td>\n",
       "      <td>100</td>\n",
       "      <td>0.6410</td>\n",
       "    </tr>\n",
       "    <tr>\n",
       "      <td>6</td>\n",
       "      <td>recA_lib-2</td>\n",
       "      <td>Failed -- Not enough full passes</td>\n",
       "      <td>36</td>\n",
       "      <td>0.2308</td>\n",
       "    </tr>\n",
       "    <tr>\n",
       "      <td>7</td>\n",
       "      <td>recA_lib-2</td>\n",
       "      <td>Failed -- CCS below minimum predicted accuracy</td>\n",
       "      <td>20</td>\n",
       "      <td>0.1282</td>\n",
       "    </tr>\n",
       "    <tr>\n",
       "      <td>8</td>\n",
       "      <td>recA_lib-2</td>\n",
       "      <td>Failed -- No usable subreads</td>\n",
       "      <td>0</td>\n",
       "      <td>0.0000</td>\n",
       "    </tr>\n",
       "    <tr>\n",
       "      <td>9</td>\n",
       "      <td>recA_lib-2</td>\n",
       "      <td>Failed -- Other reason</td>\n",
       "      <td>0</td>\n",
       "      <td>0.0000</td>\n",
       "    </tr>\n",
       "    <tr>\n",
       "      <td>10</td>\n",
       "      <td>vep_pilot</td>\n",
       "      <td>Success -- CCS generated</td>\n",
       "      <td>250</td>\n",
       "      <td>0.4996</td>\n",
       "    </tr>\n",
       "    <tr>\n",
       "      <td>11</td>\n",
       "      <td>vep_pilot</td>\n",
       "      <td>Failed -- Not enough full passes</td>\n",
       "      <td>157</td>\n",
       "      <td>0.3144</td>\n",
       "    </tr>\n",
       "    <tr>\n",
       "      <td>12</td>\n",
       "      <td>vep_pilot</td>\n",
       "      <td>Failed -- CCS below minimum predicted accuracy</td>\n",
       "      <td>86</td>\n",
       "      <td>0.1720</td>\n",
       "    </tr>\n",
       "    <tr>\n",
       "      <td>13</td>\n",
       "      <td>vep_pilot</td>\n",
       "      <td>Failed -- No usable subreads</td>\n",
       "      <td>6</td>\n",
       "      <td>0.0137</td>\n",
       "    </tr>\n",
       "    <tr>\n",
       "      <td>14</td>\n",
       "      <td>vep_pilot</td>\n",
       "      <td>Failed -- Other reason</td>\n",
       "      <td>0</td>\n",
       "      <td>0.0000</td>\n",
       "    </tr>\n",
       "  </tbody>\n",
       "</table>\n",
       "</div>"
      ],
      "text/plain": [
       "          name                                          status  number  \\\n",
       "0   recA_lib-1                        Success -- CCS generated      98   \n",
       "1   recA_lib-1                Failed -- Not enough full passes      38   \n",
       "2   recA_lib-1  Failed -- CCS below minimum predicted accuracy      23   \n",
       "3   recA_lib-1                    Failed -- No usable subreads       1   \n",
       "4   recA_lib-1                          Failed -- Other reason       0   \n",
       "5   recA_lib-2                        Success -- CCS generated     100   \n",
       "6   recA_lib-2                Failed -- Not enough full passes      36   \n",
       "7   recA_lib-2  Failed -- CCS below minimum predicted accuracy      20   \n",
       "8   recA_lib-2                    Failed -- No usable subreads       0   \n",
       "9   recA_lib-2                          Failed -- Other reason       0   \n",
       "10   vep_pilot                        Success -- CCS generated     250   \n",
       "11   vep_pilot                Failed -- Not enough full passes     157   \n",
       "12   vep_pilot  Failed -- CCS below minimum predicted accuracy      86   \n",
       "13   vep_pilot                    Failed -- No usable subreads       6   \n",
       "14   vep_pilot                          Failed -- Other reason       0   \n",
       "\n",
       "    fraction  \n",
       "0     0.6125  \n",
       "1     0.2375  \n",
       "2     0.1437  \n",
       "3     0.0063  \n",
       "4     0.0000  \n",
       "5     0.6410  \n",
       "6     0.2308  \n",
       "7     0.1282  \n",
       "8     0.0000  \n",
       "9     0.0000  \n",
       "10    0.4996  \n",
       "11    0.3144  \n",
       "12    0.1720  \n",
       "13    0.0137  \n",
       "14    0.0000  "
      ]
     },
     "execution_count": 5,
     "metadata": {},
     "output_type": "execute_result"
    }
   ],
   "source": [
    "summaries.zmw_stats()"
   ]
  },
  {
   "cell_type": "markdown",
   "metadata": {},
   "source": [
    "Plot these stats:"
   ]
  },
  {
   "cell_type": "code",
   "execution_count": 6,
   "metadata": {},
   "outputs": [
    {
     "data": {
      "image/png": "[encoded data removed]",
      "text/plain": [
       "<Figure size 120x250 with 1 Axes>"
      ]
     },
     "metadata": {},
     "output_type": "display_data"
    }
   ],
   "source": [
    "p = summaries.plot_zmw_stats()\n",
    "_ = p.draw()"
   ]
  },
  {
   "cell_type": "markdown",
   "metadata": {},
   "source": [
    "## Plot CCS stats\n",
    "Analyze the stats on the CCSs.\n",
    "We can get a data frame of various stats for all CCSs.\n",
    "For instance, length:"
   ]
  },
  {
   "cell_type": "code",
   "execution_count": 7,
   "metadata": {},
   "outputs": [
    {
     "data": {
      "text/html": [
       "<div>\n",
       "<style scoped>\n",
       "    .dataframe tbody tr th:only-of-type {\n",
       "        vertical-align: middle;\n",
       "    }\n",
       "\n",
       "    .dataframe tbody tr th {\n",
       "        vertical-align: top;\n",
       "    }\n",
       "\n",
       "    .dataframe thead th {\n",
       "        text-align: right;\n",
       "    }\n",
       "</style>\n",
       "<table border=\"1\" class=\"dataframe\">\n",
       "  <thead>\n",
       "    <tr style=\"text-align: right;\">\n",
       "      <th></th>\n",
       "      <th>name</th>\n",
       "      <th>length</th>\n",
       "    </tr>\n",
       "  </thead>\n",
       "  <tbody>\n",
       "    <tr>\n",
       "      <td>0</td>\n",
       "      <td>recA_lib-1</td>\n",
       "      <td>1344</td>\n",
       "    </tr>\n",
       "    <tr>\n",
       "      <td>1</td>\n",
       "      <td>recA_lib-1</td>\n",
       "      <td>1342</td>\n",
       "    </tr>\n",
       "    <tr>\n",
       "      <td>2</td>\n",
       "      <td>recA_lib-1</td>\n",
       "      <td>1342</td>\n",
       "    </tr>\n",
       "    <tr>\n",
       "      <td>3</td>\n",
       "      <td>recA_lib-1</td>\n",
       "      <td>1344</td>\n",
       "    </tr>\n",
       "    <tr>\n",
       "      <td>4</td>\n",
       "      <td>recA_lib-1</td>\n",
       "      <td>1342</td>\n",
       "    </tr>\n",
       "  </tbody>\n",
       "</table>\n",
       "</div>"
      ],
      "text/plain": [
       "         name  length\n",
       "0  recA_lib-1    1344\n",
       "1  recA_lib-1    1342\n",
       "2  recA_lib-1    1342\n",
       "3  recA_lib-1    1344\n",
       "4  recA_lib-1    1342"
      ]
     },
     "execution_count": 7,
     "metadata": {},
     "output_type": "execute_result"
    }
   ],
   "source": [
    "summaries.ccs_stats('length').head(n=5)"
   ]
  },
  {
   "cell_type": "markdown",
   "metadata": {},
   "source": [
    "Or number of subread passes:"
   ]
  },
  {
   "cell_type": "code",
   "execution_count": 8,
   "metadata": {},
   "outputs": [
    {
     "data": {
      "text/html": [
       "<div>\n",
       "<style scoped>\n",
       "    .dataframe tbody tr th:only-of-type {\n",
       "        vertical-align: middle;\n",
       "    }\n",
       "\n",
       "    .dataframe tbody tr th {\n",
       "        vertical-align: top;\n",
       "    }\n",
       "\n",
       "    .dataframe thead th {\n",
       "        text-align: right;\n",
       "    }\n",
       "</style>\n",
       "<table border=\"1\" class=\"dataframe\">\n",
       "  <thead>\n",
       "    <tr style=\"text-align: right;\">\n",
       "      <th></th>\n",
       "      <th>name</th>\n",
       "      <th>passes</th>\n",
       "    </tr>\n",
       "  </thead>\n",
       "  <tbody>\n",
       "    <tr>\n",
       "      <td>443</td>\n",
       "      <td>vep_pilot</td>\n",
       "      <td>10</td>\n",
       "    </tr>\n",
       "    <tr>\n",
       "      <td>444</td>\n",
       "      <td>vep_pilot</td>\n",
       "      <td>101</td>\n",
       "    </tr>\n",
       "    <tr>\n",
       "      <td>445</td>\n",
       "      <td>vep_pilot</td>\n",
       "      <td>19</td>\n",
       "    </tr>\n",
       "    <tr>\n",
       "      <td>446</td>\n",
       "      <td>vep_pilot</td>\n",
       "      <td>18</td>\n",
       "    </tr>\n",
       "    <tr>\n",
       "      <td>447</td>\n",
       "      <td>vep_pilot</td>\n",
       "      <td>19</td>\n",
       "    </tr>\n",
       "  </tbody>\n",
       "</table>\n",
       "</div>"
      ],
      "text/plain": [
       "          name  passes\n",
       "443  vep_pilot      10\n",
       "444  vep_pilot     101\n",
       "445  vep_pilot      19\n",
       "446  vep_pilot      18\n",
       "447  vep_pilot      19"
      ]
     },
     "execution_count": 8,
     "metadata": {},
     "output_type": "execute_result"
    }
   ],
   "source": [
    "summaries.ccs_stats('passes').tail(n=5)"
   ]
  },
  {
   "cell_type": "markdown",
   "metadata": {},
   "source": [
    "Since these data frames are very large when there are many CCSs, it's most convenient just to summarize with histograms:"
   ]
  },
  {
   "cell_type": "code",
   "execution_count": 9,
   "metadata": {},
   "outputs": [
    {
     "data": {
      "image/png": "[encoded data removed]",
      "text/plain": [
       "<Figure size 525x175 with 3 Axes>"
      ]
     },
     "metadata": {},
     "output_type": "display_data"
    },
    {
     "data": {
      "image/png": "[encoded data removed]",
      "text/plain": [
       "<Figure size 525x175 with 3 Axes>"
      ]
     },
     "metadata": {},
     "output_type": "display_data"
    },
    {
     "data": {
      "image/png": "[encoded data removed]",
      "text/plain": [
       "<Figure size 525x175 with 3 Axes>"
      ]
     },
     "metadata": {},
     "output_type": "display_data"
    }
   ],
   "source": [
    "for stat in ['length', 'passes', 'quality']:\n",
    "    p = summaries.plot_ccs_stats(stat)\n",
    "    _ = p.draw()"
   ]
  }
 ],
 "metadata": {
  "kernelspec": {
   "display_name": "Python 3",
   "language": "python",
   "name": "python3"
  },
  "language_info": {
   "codemirror_mode": {
    "name": "ipython",
    "version": 3
   },
   "file_extension": ".py",
   "mimetype": "text/x-python",
   "name": "python",
   "nbconvert_exporter": "python",
   "pygments_lexer": "ipython3",
   "version": "3.6.7"
  },
  "toc": {
   "base_numbering": 1,
   "nav_menu": {},
   "number_sections": false,
   "sideBar": true,
   "skip_h1_title": false,
   "title_cell": "Table of Contents",
   "title_sidebar": "Contents",
   "toc_cell": false,
   "toc_position": {},
   "toc_section_display": true,
   "toc_window_display": true
  }
 },
 "nbformat": 4,
 "nbformat_minor": 2
}
