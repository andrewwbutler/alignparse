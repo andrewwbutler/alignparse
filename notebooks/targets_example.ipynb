{
 "cells": [
  {
   "cell_type": "markdown",
   "metadata": {},
   "source": [
    "# Defining alignment targets\n",
    "Example of how to define alignment targets."
   ]
  },
  {
   "cell_type": "markdown",
   "metadata": {},
   "source": [
    "## Set up for analysis\n",
    "Import necessary Python modules:"
   ]
  },
  {
   "cell_type": "code",
   "execution_count": 1,
   "metadata": {},
   "outputs": [],
   "source": [
    "import Bio.SeqIO\n",
    "\n",
    "from alignparse.targets import Target"
   ]
  },
  {
   "cell_type": "markdown",
   "metadata": {},
   "source": [
    "## A single target\n",
    "First we show how to define a single `Target`, using an example an amplicon for PacBio sequencing of RecA for a deep mutational scanning experiment.\n",
    "The amplicon is defined as a Genbank file.\n",
    "First, let's just look at that file:"
   ]
  },
  {
   "cell_type": "code",
   "execution_count": 2,
   "metadata": {},
   "outputs": [
    {
     "name": "stdout",
     "output_type": "stream",
     "text": [
      "LOCUS       RecA_PacBio_amplicon    1342 bp ds-DNA     linear       06-AUG-2018\n",
      "DEFINITION  PacBio amplicon for deep mutational scanning of E. coli RecA.\n",
      "ACCESSION   None\n",
      "VERSION     \n",
      "SOURCE      Danny Lawrence\n",
      "  ORGANISM  .\n",
      "COMMENT     PacBio amplicon for RecA libraries.\n",
      "COMMENT     There are single nucleotide tags in the 5' and 3' termini to measure strand exchange.\n",
      "FEATURES             Location/Qualifiers\n",
      "     termini5        1..147\n",
      "                     /label=\"termini 5' of gene\"\n",
      "     gene            148..1206\n",
      "                     /label=\"RecA gene\"\n",
      "     spacer          1207..1285\n",
      "                     /label=\"spacer between gene & barcode\"\n",
      "     barcode         1286..1303\n",
      "                     /label=\"18 nucleotide barcode\"\n",
      "     termini3        1304..1342\n",
      "                     /label=\"termini 3' of barcode\"\n",
      "     variant_tag5    33..33\n",
      "                     /label=\"5' variant tag\"\n",
      "     variant_tag3    1311..1311\n",
      "                     /label=\"3' variant tag\"\n",
      "ORIGIN\n",
      "        1 gcacggcgtc acactttgct atgccatagc atRtttatcc ataagattag cggatcctac\n",
      "       61 ctgacgcttt ttatcgcaac tctctactgt ttctccataa cagaacatat tgactatccg\n",
      "      121 gtattacccg gcatgacagg agtaaaaATG GCTATCGACG AAAACAAACA GAAAGCGTTG\n",
      "      181 GCGGCAGCAC TGGGCCAGAT TGAGAAACAA TTTGGTAAAG GCTCCATCAT GCGCCTGGGT\n",
      "      241 GAAGACCGTT CCATGGATGT GGAAACCATC TCTACCGGTT CGCTTTCACT GGATATCGCG\n",
      "      301 CTTGGGGCAG GTGGTCTGCC GATGGGCCGT ATCGTCGAAA TCTACGGACC GGAATCTTCC\n",
      "      361 GGTAAAACCA CGCTGACGCT GCAGGTGATC GCCGCAGCGC AGCGTGAAGG TAAAACCTGT\n",
      "      421 GCGTTTATCG ATGCTGAACA CGCGCTGGAC CCAATCTACG CACGTAAACT GGGCGTCGAT\n",
      "      481 ATCGACAACC TGCTGTGCTC CCAGCCGGAC ACCGGCGAGC AGGCACTGGA AATCTGTGAC\n",
      "      541 GCCCTGGCGC GTTCTGGCGC AGTAGACGTT ATCGTCGTTG ACTCCGTGGC GGCACTGACG\n",
      "      601 CCGAAAGCGG AAATCGAAGG CGAAATCGGC GACTCTCATA TGGGCCTTGC GGCACGTATG\n",
      "      661 ATGAGCCAGG CGATGCGTAA GCTGGCGGGT AACCTGAAGC AGTCCAACAC GCTGCTGATC\n",
      "      721 TTCATCAACC AGATCCGTAT GAAAATTGGT GTGATGTTCG GCAACCCGGA AACCACTACC\n",
      "      781 GGTGGTAACG CGCTGAAATT CTACGCCTCT GTTCGTCTCG ACATCCGTCG TATCGGCGCG\n",
      "      841 GTGAAAGAGG GCGAAAACGT GGTGGGTAGC GAAACCCGCG TGAAAGTGGT GAAGAACAAA\n",
      "      901 ATCGCTGCGC CGTTTAAACA GGCTGAATTC CAGATCCTCT ACGGCGAAGG TATCAACTTC\n",
      "      961 TACGGCGAAC TGGTTGACCT GGGCGTAAAA GAGAAGCTGA TCGAGAAAGC AGGCGCGTGG\n",
      "     1021 TACAGCTACA AAGGTGAGAA GATCGGTCAG GGTAAAGCGA ATGCGACTGC CTGGCTGAAA\n",
      "     1081 GATAACCCGG AAACCGCGAA AGAGATCGAG AAGAAAGTAC GTGAGTTGCT GCTGAGCAAC\n",
      "     1141 CCGAACTCAA CGCCGGATTT CTCTGTAGAT GATAGCGAAG GCGTAGCAGA AACTAACGAA\n",
      "     1201 GATTTTTAAt cgtcttgttt gatacacaag ggtcgcatct gcggcccttt tgctttttta\n",
      "     1261 agttgtaagg atatgccatt ctagannnnn nnnnnnnnnn nnnagatcgg Yagagcgtcg\n",
      "     1321 tgtagggaaa gagtgtggta cc   \n",
      "//\n",
      "\n"
     ]
    }
   ],
   "source": [
    "recA_targetfile = 'targets_example_files/recA_amplicon.gb'\n",
    "\n",
    "with open(recA_targetfile) as f:\n",
    "    print(f.read())"
   ]
  },
  {
   "cell_type": "markdown",
   "metadata": {},
   "source": [
    "Read the Genbank file for the target into a BioPython SeqRecord:"
   ]
  },
  {
   "cell_type": "code",
   "execution_count": null,
   "metadata": {},
   "outputs": [],
   "source": [
    "recA_target = Bio.SeqIO.read(recA_targetfile, format='genbank')\n",
    "recA_target.features"
   ]
  },
  {
   "cell_type": "code",
   "execution_count": null,
   "metadata": {},
   "outputs": [],
   "source": [
    "Bio.SeqIO.SeqRecord\n"
   ]
  },
  {
   "cell_type": "code",
   "execution_count": null,
   "metadata": {},
   "outputs": [],
   "source": []
  }
 ],
 "metadata": {
  "kernelspec": {
   "display_name": "Python 3",
   "language": "python",
   "name": "python3"
  },
  "language_info": {
   "codemirror_mode": {
    "name": "ipython",
    "version": 3
   },
   "file_extension": ".py",
   "mimetype": "text/x-python",
   "name": "python",
   "nbconvert_exporter": "python",
   "pygments_lexer": "ipython3",
   "version": "3.6.7"
  },
  "toc": {
   "base_numbering": 1,
   "nav_menu": {},
   "number_sections": false,
   "sideBar": true,
   "skip_h1_title": false,
   "title_cell": "Table of Contents",
   "title_sidebar": "Contents",
   "toc_cell": false,
   "toc_position": {},
   "toc_section_display": true,
   "toc_window_display": true
  }
 },
 "nbformat": 4,
 "nbformat_minor": 2
}
