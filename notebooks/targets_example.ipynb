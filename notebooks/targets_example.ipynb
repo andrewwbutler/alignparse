{
 "cells": [
  {
   "cell_type": "markdown",
   "metadata": {},
   "source": [
    "# Defining alignment targets\n",
    "Example of how to define alignment targets."
   ]
  },
  {
   "cell_type": "markdown",
   "metadata": {},
   "source": [
    "## Set up for analysis\n",
    "Import necessary Python modules:"
   ]
  },
  {
   "cell_type": "code",
   "execution_count": 1,
   "metadata": {},
   "outputs": [],
   "source": [
    "import tempfile\n",
    "\n",
    "import Bio.SeqIO\n",
    "\n",
    "from alignparse.targets import Target, Targets"
   ]
  },
  {
   "cell_type": "markdown",
   "metadata": {},
   "source": [
    "## A single target\n",
    "First we show how to define a single `Target`, using an example an amplicon for PacBio sequencing of RecA for a deep mutational scanning experiment.\n",
    "The amplicon is defined as a Genbank file.\n",
    "First, let's just look at that file:"
   ]
  },
  {
   "cell_type": "code",
   "execution_count": 2,
   "metadata": {},
   "outputs": [
    {
     "name": "stdout",
     "output_type": "stream",
     "text": [
      "LOCUS       RecA_PacBio_amplicon    1342 bp ds-DNA     linear       06-AUG-2018\n",
      "DEFINITION  PacBio amplicon for deep mutational scanning of E. coli RecA.\n",
      "ACCESSION   None\n",
      "VERSION     \n",
      "SOURCE      Danny Lawrence\n",
      "  ORGANISM  .\n",
      "COMMENT     PacBio amplicon for RecA libraries.\n",
      "COMMENT     There are single nucleotide tags in the 5' and 3' termini to measure strand exchange.\n",
      "FEATURES             Location/Qualifiers\n",
      "     termini5        1..147\n",
      "                     /label=\"termini 5' of gene\"\n",
      "     gene            148..1206\n",
      "                     /label=\"RecA gene\"\n",
      "     spacer          1207..1285\n",
      "                     /label=\"spacer between gene & barcode\"\n",
      "     barcode         1286..1303\n",
      "                     /label=\"18 nucleotide barcode\"\n",
      "     termini3        1304..1342\n",
      "                     /label=\"termini 3' of barcode\"\n",
      "     variant_tag5    33..33\n",
      "                     /label=\"5' variant tag\"\n",
      "     variant_tag3    1311..1311\n",
      "                     /label=\"3' variant tag\"\n",
      "ORIGIN\n",
      "        1 gcacggcgtc acactttgct atgccatagc atRtttatcc ataagattag cggatcctac\n",
      "       61 ctgacgcttt ttatcgcaac tctctactgt ttctccataa cagaacatat tgactatccg\n",
      "      121 gtattacccg gcatgacagg agtaaaaATG GCTATCGACG AAAACAAACA GAAAGCGTTG\n",
      "      181 GCGGCAGCAC TGGGCCAGAT TGAGAAACAA TTTGGTAAAG GCTCCATCAT GCGCCTGGGT\n",
      "      241 GAAGACCGTT CCATGGATGT GGAAACCATC TCTACCGGTT CGCTTTCACT GGATATCGCG\n",
      "      301 CTTGGGGCAG GTGGTCTGCC GATGGGCCGT ATCGTCGAAA TCTACGGACC GGAATCTTCC\n",
      "      361 GGTAAAACCA CGCTGACGCT GCAGGTGATC GCCGCAGCGC AGCGTGAAGG TAAAACCTGT\n",
      "      421 GCGTTTATCG ATGCTGAACA CGCGCTGGAC CCAATCTACG CACGTAAACT GGGCGTCGAT\n",
      "      481 ATCGACAACC TGCTGTGCTC CCAGCCGGAC ACCGGCGAGC AGGCACTGGA AATCTGTGAC\n",
      "      541 GCCCTGGCGC GTTCTGGCGC AGTAGACGTT ATCGTCGTTG ACTCCGTGGC GGCACTGACG\n",
      "      601 CCGAAAGCGG AAATCGAAGG CGAAATCGGC GACTCTCATA TGGGCCTTGC GGCACGTATG\n",
      "      661 ATGAGCCAGG CGATGCGTAA GCTGGCGGGT AACCTGAAGC AGTCCAACAC GCTGCTGATC\n",
      "      721 TTCATCAACC AGATCCGTAT GAAAATTGGT GTGATGTTCG GCAACCCGGA AACCACTACC\n",
      "      781 GGTGGTAACG CGCTGAAATT CTACGCCTCT GTTCGTCTCG ACATCCGTCG TATCGGCGCG\n",
      "      841 GTGAAAGAGG GCGAAAACGT GGTGGGTAGC GAAACCCGCG TGAAAGTGGT GAAGAACAAA\n",
      "      901 ATCGCTGCGC CGTTTAAACA GGCTGAATTC CAGATCCTCT ACGGCGAAGG TATCAACTTC\n",
      "      961 TACGGCGAAC TGGTTGACCT GGGCGTAAAA GAGAAGCTGA TCGAGAAAGC AGGCGCGTGG\n",
      "     1021 TACAGCTACA AAGGTGAGAA GATCGGTCAG GGTAAAGCGA ATGCGACTGC CTGGCTGAAA\n",
      "     1081 GATAACCCGG AAACCGCGAA AGAGATCGAG AAGAAAGTAC GTGAGTTGCT GCTGAGCAAC\n",
      "     1141 CCGAACTCAA CGCCGGATTT CTCTGTAGAT GATAGCGAAG GCGTAGCAGA AACTAACGAA\n",
      "     1201 GATTTTTAAt cgtcttgttt gatacacaag ggtcgcatct gcggcccttt tgctttttta\n",
      "     1261 agttgtaagg atatgccatt ctagannnnn nnnnnnnnnn nnnagatcgg Yagagcgtcg\n",
      "     1321 tgtagggaaa gagtgtggta cc   \n",
      "//\n",
      "\n"
     ]
    }
   ],
   "source": [
    "recA_targetfile = 'files_for_examples/recA_amplicon.gb'\n",
    "\n",
    "with open(recA_targetfile) as f:\n",
    "    print(f.read())"
   ]
  },
  {
   "cell_type": "markdown",
   "metadata": {},
   "source": [
    "Read the Genbank file for the target into a BioPython SeqRecord:"
   ]
  },
  {
   "cell_type": "code",
   "execution_count": 3,
   "metadata": {},
   "outputs": [],
   "source": [
    "recA_seqrecord = Bio.SeqIO.read(recA_targetfile, format='genbank')"
   ]
  },
  {
   "cell_type": "markdown",
   "metadata": {},
   "source": [
    "Create a `Target` object:"
   ]
  },
  {
   "cell_type": "code",
   "execution_count": 4,
   "metadata": {},
   "outputs": [],
   "source": [
    "target = Target(seqrecord=recA_seqrecord,\n",
    "                req_features=['termini5', 'gene', 'spacer', 'barcode',\n",
    "                              'termini3', 'variant_tag5', 'variant_tag3'])"
   ]
  },
  {
   "cell_type": "markdown",
   "metadata": {},
   "source": [
    "We can get specific features out of the `Target` object.\n",
    "Below we look for two features and print the one that exists:"
   ]
  },
  {
   "cell_type": "code",
   "execution_count": 5,
   "metadata": {},
   "outputs": [
    {
     "name": "stdout",
     "output_type": "stream",
     "text": [
      "target lacks feature non-existent\n",
      "\n",
      "Here is feature termini5:\n",
      "Feature(name=termini5, seq=GCACGGCGTCACACTTTGCTATGCCATAGCATRTTTATCCATAAGATTAGCGGATCCTACCTGACGCTTTTTATCGCAACTCTCTACTGTTTCTCCATAACAGAACATATTGACTATCCGGTATTACCCGGCATGACAGGAGTAAAA, start=0, end=147)\n"
     ]
    }
   ],
   "source": [
    "for feature in ['non-existent', 'termini5']:\n",
    "    if target.has_feature(feature):\n",
    "        print(f\"Here is feature {feature}:\\n{target.get_feature(feature)}\")\n",
    "    else:\n",
    "        print(f\"target lacks feature {feature}\\n\")"
   ]
  },
  {
   "cell_type": "markdown",
   "metadata": {},
   "source": [
    "We can get a [dna_features_viewer](https://edinburgh-genome-foundry.github.io/DnaFeaturesViewer/) `GraphicRecord` with `Target.image`, and then plot this using its `.plot` method, which returns a `matplotlib.Axes` instance.\n",
    "(Note that `Target.image` also provides options for setting colors, labels):"
   ]
  },
  {
   "cell_type": "code",
   "execution_count": 6,
   "metadata": {},
   "outputs": [
    {
     "data": {
      "image/png": "[encoded data removed]",
      "text/plain": [
       "<Figure size 576x244.8 with 1 Axes>"
      ]
     },
     "metadata": {
      "needs_background": "light"
     },
     "output_type": "display_data"
    }
   ],
   "source": [
    "image = target.image()\n",
    "ax, _ = image.plot()\n",
    "_ = ax.set_title(target.name)"
   ]
  },
  {
   "cell_type": "markdown",
   "metadata": {},
   "source": [
    "## Multiple targets\n",
    "We can read multiple targets into a `Targets` object. Below is an example with the two LASV GP constructs - wildtype and codon optimized - from strain G1959.\n",
    "\n",
    "First, let's look at these files:"
   ]
  },
  {
   "cell_type": "code",
   "execution_count": 14,
   "metadata": {},
   "outputs": [
    {
     "name": "stdout",
     "output_type": "stream",
     "text": [
      "LOCUS       LASV_G1959_WT           1730 bp ds-DNA     linear       14-JUN-2019\n",
      "DEFINITION  .\n",
      "ACCESSION   \n",
      "VERSION     \n",
      "SOURCE      Kate Dusenbury\n",
      "  ORGANISM  .\n",
      "COMMENT     PacBio amplicon for LASV G1959 WT sequence\n",
      "COMMENT     There are single nucleotide tags in the 5' and 3' termini to measure strand exchange.\n",
      "FEATURES             Location/Qualifiers\n",
      "     T2A             85..147\n",
      "                     /label=\"T2A\"\n",
      "     ZsGreen         15..84\n",
      "                     /label=\"ZsGreen\"\n",
      "     termini3        1639..1730\n",
      "                     /label=\"3'Termini\"\n",
      "     index           9..14\n",
      "                     /label=\"sample_index\"\n",
      "     leader5         1..8\n",
      "                     /label=\"5' leader\"\n",
      "     termini5        1..147\n",
      "                     /label=\"5'Termini\"\n",
      "     variant_tag5    34..34\n",
      "                     /variant_1=T\n",
      "                     /variant_2=C\n",
      "                     /label=\"5'VariantTag\"\n",
      "     variant_tag3    1702..1702\n",
      "                     /variant_1=G\n",
      "                     /variant_2=A\n",
      "                     /label=\"3'VariantTag\"\n",
      "     spacer          1624..1638\n",
      "                     /label=\"3'Spacer\"\n",
      "     gene            148..1623\n",
      "                     /label=\"LASV_G1959_WT\"\n",
      "ORIGIN\n",
      "        1 GACTGATANN NNNNcagcga cgccaagaac cagYagtggc acctgaccga gcacgccatc\n",
      "       61 gcctccggcT CCGCCTTGCC CGCTGGATCC GGCGAGGGCA GAGGAAGTCT GCTAACATGC\n",
      "      121 GGTGACGTCG AGGAGAATCC TGGCCCAATG GGACAGATAG TGACATTCTT CCAGGAAGTA\n",
      "      181 CCTCATGTGA TAGAAGAGGT GATGAACATT GTCCTCATTG CACTGTCTAT ACTAGCAGTG\n",
      "      241 CTGAAAGGTC TGTACAATTT TGCAACATGT GGCCTCGTTG GTTTGGTTAC CTTCCTCCTG\n",
      "      301 TTGTGTGGCA GGTCTTGCAC AACCAGTCTT TACAAAGGGG TCTATGAGCT TCAGACTCTG\n",
      "      361 GAATTAAACA TGGAGACACT CAATATGACC ATGCCCCTCT CCTGTACAAA GAACAACAGT\n",
      "      421 CATCATTATA TTATGGTGGG TAATGAGACA GGTCTAGAGC TGACCTTGAC CAACACGAGC\n",
      "      481 ATCATTAATC ATAAATTTTG CAATCTGTCT GATGCCCACA AAAAGAACCT CTATGATCAC\n",
      "      541 GCTCTTATGA GCATAATTTC AACTTTCCAT CTGTCCATTC CCAACTTCAA TCAGTATGAG\n",
      "      601 GCAATGAGCT GTGATTTCAA TGGGGGAAAG ATTAGTGTGC AGTACAACCT GAGTCACAGT\n",
      "      661 TATGCTGGGG ATGCGGCCAA CCATTGTGGC ACTGTTGCAA ATGGTGTCCT ACAGACCTTC\n",
      "      721 ATGAGGATGG CTTGGGGTGG AAGCTACATT GCTCTTGACT CAGGCCATGG CAGGTGGGAC\n",
      "      781 TGCATTATGA CTAGTTATCA GTACCTGATA ATCCAAAATA CAACCTGGGA AGATCACTGC\n",
      "      841 CAGTTCTCAA GACCATCTCC CATCGGCTAT CTCGGACTCC TCTCACAAAG GACCAGAGAT\n",
      "      901 ATTTATATTA GTAGAAGACT ACTAGGCACA TTCACATGGA CACTGTCAGA TTCTGAAGGT\n",
      "      961 AAGGACACAC CAGGGGGATA TTGTTTGACC AGATGGATGC TAATTGAAGC TGAACTAAAG\n",
      "     1021 TGCTTCGGGA ACACAGCTGT GGCAAAATGT AATGAGAAGC ATGATGAGGA ATTTTGTGAC\n",
      "     1081 ATGCTGAGGC TGTTTGACTT CAACAAACAA GCCATTCAAA GATTGAAAGC TGAAGCACAA\n",
      "     1141 ATGAGCATTC AATTGATCAA CAAGGCAGTA AATGCCTTGA TAAATGACCA GCTTATAATG\n",
      "     1201 AAGAACCATC TACGAGACAT AATGGGAATT CCATACTGTA ATTACAGCAA GTATTGGTAC\n",
      "     1261 CTCAACCACA CAACCACTGG GAAAACATCA CTGCCTAAAT GTTGGCTTGT ATCCAATGGT\n",
      "     1321 TCATACTTGA ATGAGACCCA CTTTTCTGAT GATATTGAAC AACAAGCTGA CAACATGATC\n",
      "     1381 ACTGAGATGT TACAGAAAGA GTACATGGAG AGGCAGGGGA AGACACCATT GGGCCTAGTC\n",
      "     1441 GACCTCTTTG TGTTCAGCAC AAGTTTCTAT CTCATTAGCA TCTTTCTTCA CCTAGTCAAA\n",
      "     1501 ATACCAACTC ATAGACATAT TGTAGGCAAG CCGTGTCCCA AACCTCACAG ATTGAACTAC\n",
      "     1561 ATGGGCATAT GTTCCTGTGG ACTCTACAAA CAGCCCGGTG TGCCTGTGAG ATGGAAGAGA\n",
      "     1621 TGAGCTAGCT AAACGCGTTG ATCCtaatca acctctggat tacaaaattt gtgaaagatt\n",
      "     1681 gactggtatt cttaactatg tRgctccttt tacgctatgt ggatacgctg \n",
      "//\n",
      "\n",
      "LOCUS       LASV_G1959_OPT           1730 bp ds-DNA     linear       14-JUN-2019\n",
      "DEFINITION  .\n",
      "ACCESSION   \n",
      "VERSION     \n",
      "SOURCE      Kate Dusenbury\n",
      "  ORGANISM  .\n",
      "\n",
      "COMMENT     PacBio amplicon for LASV G1959 OPT sequence\n",
      "COMMENT     There are single nucleotide tags in the 5' and 3' termini to measure strand exchange.\n",
      "FEATURES             Location/Qualifiers\n",
      "     T2A             85..147\n",
      "                     /label=\"T2A\"\n",
      "     ZsGreen         15..84\n",
      "                     /label=\"ZsGreen\"\n",
      "     termini3        1639..1730\n",
      "                     /label=\"3'Termini\"\n",
      "     index           9..14\n",
      "                     /label=\"sample_index\"\n",
      "     leader5         1..8\n",
      "                     /label=\"5' leader\"\n",
      "     termini5        1..147\n",
      "                     /label=\"5'Termini\"\n",
      "     variant_tag5    34..34\n",
      "                     /variant_1=T\n",
      "                     /variant_2=C\n",
      "                     /label=\"5'VariantTag\"\n",
      "     variant_tag3    1702..1702\n",
      "                     /variant_1=G\n",
      "                     /variant_2=A\n",
      "                     /label=\"3'VariantTag\"\n",
      "     spacer          1624..1638\n",
      "                     /label=\"3'Spacer\"\n",
      "     gene            148..1623\n",
      "                     /label=\"LASV_G1959_OPT\"\n",
      "ORIGIN\n",
      "        1 GACTGATANN NNNNcagcga cgccaagaac cagYagtggc acctgaccga gcacgccatc\n",
      "       61 gcctccggcT CCGCCTTGCC CGCTGGATCC GGCGAGGGCA GAGGAAGTCT GCTAACATGC\n",
      "      121 GGTGACGTCG AGGAGAATCC TGGCCCAATG GGACAGATCG TCACCTTCTT CCAAGAAGTG\n",
      "      181 CCTCATGTCA TCGAGGAGGT GATGAACATC GTGCTCATCG CTTTAAGCAT CCTCGCCGTT\n",
      "      241 CTTAAAGGTT TATACAACTT CGCCACTTGT GGTTTAGTGG GACTGGTCAC CTTTCTGCTG\n",
      "      301 CTGTGTGGTC GTAGCTGCAC AACCTCTTTA TACAAGGGCG TGTATGAGCT CCAGACTTTA\n",
      "      361 GAGCTGAACA TGGAGACTTT AAACATGACC ATGCCTTTAA GCTGCACAAA GAACAACAGC\n",
      "      421 CACCACTACA TCATGGTGGG CAACGAGACC GGACTCGAGC TGACCCTCAC CAATACCAGC\n",
      "      481 ATTATTAATC ACAAGTTCTG CAATTTAAGC GACGCCCACA AGAAGAATCT CTACGATCAC\n",
      "      541 GCCCTCATGT CCATCATTAG CACCTTCCAT TTAAGCATCC CTAACTTCAA CCAGTATGAA\n",
      "      601 GCCATGAGCT GCGACTTTAA CGGCGGCAAG ATTTCCGTGC AGTACAACCT CTCCCACAGC\n",
      "      661 TATGCCGGAG ACGCCGCCAA TCATTGTGGA ACCGTGGCCA ACGGAGTTCT TCAGACATTT\n",
      "      721 ATGAGGATGG CTTGGGGCGG CTCCTATATC GCTCTGGACT CCGGCCACGG TCGTTGGGAC\n",
      "      781 TGCATCATGA CCAGCTACCA ATATTTAATC ATCCAGAACA CCACTTGGGA GGACCACTGC\n",
      "      841 CAGTTCTCTC GTCCTTCTCC TATCGGATAC CTCGGTTTAC TGAGCCAGAG GACTCGTGAC\n",
      "      901 ATCTATATCT CTCGTAGGCT GCTGGGCACA TTCACTTGGA CTTTAAGCGA TAGCGAGGGC\n",
      "      961 AAGGACACTC CCGGTGGCTA CTGCCTCACT CGTTGGATGC TGATCGAAGC CGAGCTCAAG\n",
      "     1021 TGCTTCGGAA ACACCGCCGT GGCTAAGTGC AACGAGAAGC ACGATGAGGA GTTCTGCGAC\n",
      "     1081 ATGCTGAGGC TGTTTGATTT CAACAAGCAA GCTATCCAGA GGCTGAAAGC CGAAGCCCAG\n",
      "     1141 ATGAGCATCC AGCTGATCAA TAAGGCCGTG AACGCTCTGA TCAACGACCA GCTGATTATG\n",
      "     1201 AAGAATCATT TAAGAGACAT CATGGGCATC CCTTACTGCA ACTACAGCAA GTATTGGTAC\n",
      "     1261 CTCAACCATA CCACCACCGG AAAGACCTCT TTACCTAAAT GCTGGCTGGT GAGCAACGGC\n",
      "     1321 AGCTACCTCA ACGAGACACA TTTCAGCGAC GACATCGAGC AGCAAGCTGA CAACATGATC\n",
      "     1381 ACCGAGATGC TGCAGAAGGA GTATATGGAG AGGCAAGGTA AGACTCCTCT CGGCCTCGTG\n",
      "     1441 GATTTATTCG TGTTCAGCAC CAGCTTCTAC CTCATCAGCA TCTTTCTTCA TCTGGTCAAG\n",
      "     1501 ATTCCTACCC ATAGACACAT CGTGGGCAAG CCTTGTCCCA AGCCTCATAG ACTCAACTAC\n",
      "     1561 ATGGGCATCT GCAGCTGCGG ACTGTACAAG CAACCCGGTG TGCCCGTTAG ATGGAAGAGA\n",
      "     1621 TGAGCTAGCT AAACGCGTTG ATCCtaatca acctctggat tacaaaattt gtgaaagatt\n",
      "     1681 gactggtatt cttaactatg tRgctccttt tacgctatgt ggatacgctg \n",
      "//\n",
      "\n"
     ]
    }
   ],
   "source": [
    "wt_targetfile = 'files_for_examples/LASV_G1959_WT.gb'\n",
    "opt_targetfile = 'files_for_examples/LASV_G1959_OPT.gb'\n",
    "\n",
    "\n",
    "for targetfile in [wt_targetfile, opt_targetfile]:\n",
    "    with open(targetfile) as f:\n",
    "        print(f.read())"
   ]
  },
  {
   "cell_type": "code",
   "execution_count": 15,
   "metadata": {},
   "outputs": [],
   "source": [
    "targets = Targets(seqsfile=[wt_targetfile, opt_targetfile],\n",
    "                  req_features=['termini5', 'gene', 'spacer', 'index',\n",
    "                                'termini3', 'variant_tag5', 'variant_tag3'],\n",
    "                  allow_extra_features=True)"
   ]
  },
  {
   "cell_type": "markdown",
   "metadata": {},
   "source": [
    "We can plot the `Targets`:"
   ]
  },
  {
   "cell_type": "code",
   "execution_count": 16,
   "metadata": {},
   "outputs": [
    {
     "data": {
      "image/png": "[encoded data removed]",
      "text/plain": [
       "<Figure size 720x432 with 2 Axes>"
      ]
     },
     "metadata": {
      "needs_background": "light"
     },
     "output_type": "display_data"
    }
   ],
   "source": [
    "_ = targets.plot(ax_width=10)"
   ]
  },
  {
   "cell_type": "markdown",
   "metadata": {},
   "source": [
    "We can write them to a file for alignment:"
   ]
  },
  {
   "cell_type": "code",
   "execution_count": 19,
   "metadata": {},
   "outputs": [
    {
     "name": "stdout",
     "output_type": "stream",
     "text": [
      ">LASV_G1959_WT\n",
      "GACTGATANNNNNNCAGCGACGCCAAGAACCAGYAGTGGCACCTGACCGAGCACGCCATCGCCTCCGGCTCCGCCTTGCCCGCTGGATCCGGCGAGGGCAGAGGAAGTCTGCTAACATGCGGTGACGTCGAGGAGAATCCTGGCCCAATGGGACAGATAGTGACATTCTTCCAGGAAGTACCTCATGTGATAGAAGAGGTGATGAACATTGTCCTCATTGCACTGTCTATACTAGCAGTGCTGAAAGGTCTGTACAATTTTGCAACATGTGGCCTCGTTGGTTTGGTTACCTTCCTCCTGTTGTGTGGCAGGTCTTGCACAACCAGTCTTTACAAAGGGGTCTATGAGCTTCAGACTCTGGAATTAAACATGGAGACACTCAATATGACCATGCCCCTCTCCTGTACAAAGAACAACAGTCATCATTATATTATGGTGGGTAATGAGACAGGTCTAGAGCTGACCTTGACCAACACGAGCATCATTAATCATAAATTTTGCAATCTGTCTGATGCCCACAAAAAGAACCTCTATGATCACGCTCTTATGAGCATAATTTCAACTTTCCATCTGTCCATTCCCAACTTCAATCAGTATGAGGCAATGAGCTGTGATTTCAATGGGGGAAAGATTAGTGTGCAGTACAACCTGAGTCACAGTTATGCTGGGGATGCGGCCAACCATTGTGGCACTGTTGCAAATGGTGTCCTACAGACCTTCATGAGGATGGCTTGGGGTGGAAGCTACATTGCTCTTGACTCAGGCCATGGCAGGTGGGACTGCATTATGACTAGTTATCAGTACCTGATAATCCAAAATACAACCTGGGAAGATCACTGCCAGTTCTCAAGACCATCTCCCATCGGCTATCTCGGACTCCTCTCACAAAGGACCAGAGATATTTATATTAGTAGAAGACTACTAGGCACATTCACATGGACACTGTCAGATTCTGAAGGTAAGGACACACCAGGGGGATATTGTTTGACCAGATGGATGCTAATTGAAGCTGAACTAAAGTGCTTCGGGAACACAGCTGTGGCAAAATGTAATGAGAAGCATGATGAGGAATTTTGTGACATGCTGAGGCTGTTTGACTTCAACAAACAAGCCATTCAAAGATTGAAAGCTGAAGCACAAATGAGCATTCAATTGATCAACAAGGCAGTAAATGCCTTGATAAATGACCAGCTTATAATGAAGAACCATCTACGAGACATAATGGGAATTCCATACTGTAATTACAGCAAGTATTGGTACCTCAACCACACAACCACTGGGAAAACATCACTGCCTAAATGTTGGCTTGTATCCAATGGTTCATACTTGAATGAGACCCACTTTTCTGATGATATTGAACAACAAGCTGACAACATGATCACTGAGATGTTACAGAAAGAGTACATGGAGAGGCAGGGGAAGACACCATTGGGCCTAGTCGACCTCTTTGTGTTCAGCACAAGTTTCTATCTCATTAGCATCTTTCTTCACCTAGTCAAAATACCAACTCATAGACATATTGTAGGCAAGCCGTGTCCCAAACCTCACAGATTGAACTACATGGGCATATGTTCCTGTGGACTCTACAAACAGCCCGGTGTGCCTGTGAGATGGAAGAGATGAGCTAGCTAAACGCGTTGATCCTAATCAACCTCTGGATTACAAAATTTGTGAAAGATTGACTGGTATTCTTAACTATGTRGCTCCTTTTACGCTATGTGGATACGCTG\n",
      ">LASV_G1959_OPT\n",
      "GACTGATANNNNNNCAGCGACGCCAAGAACCAGYAGTGGCACCTGACCGAGCACGCCATCGCCTCCGGCTCCGCCTTGCCCGCTGGATCCGGCGAGGGCAGAGGAAGTCTGCTAACATGCGGTGACGTCGAGGAGAATCCTGGCCCAATGGGACAGATCGTCACCTTCTTCCAAGAAGTGCCTCATGTCATCGAGGAGGTGATGAACATCGTGCTCATCGCTTTAAGCATCCTCGCCGTTCTTAAAGGTTTATACAACTTCGCCACTTGTGGTTTAGTGGGACTGGTCACCTTTCTGCTGCTGTGTGGTCGTAGCTGCACAACCTCTTTATACAAGGGCGTGTATGAGCTCCAGACTTTAGAGCTGAACATGGAGACTTTAAACATGACCATGCCTTTAAGCTGCACAAAGAACAACAGCCACCACTACATCATGGTGGGCAACGAGACCGGACTCGAGCTGACCCTCACCAATACCAGCATTATTAATCACAAGTTCTGCAATTTAAGCGACGCCCACAAGAAGAATCTCTACGATCACGCCCTCATGTCCATCATTAGCACCTTCCATTTAAGCATCCCTAACTTCAACCAGTATGAAGCCATGAGCTGCGACTTTAACGGCGGCAAGATTTCCGTGCAGTACAACCTCTCCCACAGCTATGCCGGAGACGCCGCCAATCATTGTGGAACCGTGGCCAACGGAGTTCTTCAGACATTTATGAGGATGGCTTGGGGCGGCTCCTATATCGCTCTGGACTCCGGCCACGGTCGTTGGGACTGCATCATGACCAGCTACCAATATTTAATCATCCAGAACACCACTTGGGAGGACCACTGCCAGTTCTCTCGTCCTTCTCCTATCGGATACCTCGGTTTACTGAGCCAGAGGACTCGTGACATCTATATCTCTCGTAGGCTGCTGGGCACATTCACTTGGACTTTAAGCGATAGCGAGGGCAAGGACACTCCCGGTGGCTACTGCCTCACTCGTTGGATGCTGATCGAAGCCGAGCTCAAGTGCTTCGGAAACACCGCCGTGGCTAAGTGCAACGAGAAGCACGATGAGGAGTTCTGCGACATGCTGAGGCTGTTTGATTTCAACAAGCAAGCTATCCAGAGGCTGAAAGCCGAAGCCCAGATGAGCATCCAGCTGATCAATAAGGCCGTGAACGCTCTGATCAACGACCAGCTGATTATGAAGAATCATTTAAGAGACATCATGGGCATCCCTTACTGCAACTACAGCAAGTATTGGTACCTCAACCATACCACCACCGGAAAGACCTCTTTACCTAAATGCTGGCTGGTGAGCAACGGCAGCTACCTCAACGAGACACATTTCAGCGACGACATCGAGCAGCAAGCTGACAACATGATCACCGAGATGCTGCAGAAGGAGTATATGGAGAGGCAAGGTAAGACTCCTCTCGGCCTCGTGGATTTATTCGTGTTCAGCACCAGCTTCTACCTCATCAGCATCTTTCTTCATCTGGTCAAGATTCCTACCCATAGACACATCGTGGGCAAGCCTTGTCCCAAGCCTCATAGACTCAACTACATGGGCATCTGCAGCTGCGGACTGTACAAGCAACCCGGTGTGCCCGTTAGATGGAAGAGATGAGCTAGCTAAACGCGTTGATCCTAATCAACCTCTGGATTACAAAATTTGTGAAAGATTGACTGGTATTCTTAACTATGTRGCTCCTTTTACGCTATGTGGATACGCTG\n",
      "\n"
     ]
    }
   ],
   "source": [
    "fasta_targets = 'files_for_examples/LASV_G1959_targets.fasta'\n",
    "with open(fasta_targets, 'w') as f:\n",
    "    targets.write_fasta(f.name)\n",
    "    f.flush()\n",
    "    fasta_text = open(f.name).read()\n",
    "print(fasta_text)"
   ]
  },
  {
   "cell_type": "code",
   "execution_count": null,
   "metadata": {},
   "outputs": [],
   "source": []
  }
 ],
 "metadata": {
  "kernelspec": {
   "display_name": "Python 3",
   "language": "python",
   "name": "python3"
  },
  "language_info": {
   "codemirror_mode": {
    "name": "ipython",
    "version": 3
   },
   "file_extension": ".py",
   "mimetype": "text/x-python",
   "name": "python",
   "nbconvert_exporter": "python",
   "pygments_lexer": "ipython3",
   "version": "3.6.7"
  },
  "toc": {
   "base_numbering": 1,
   "nav_menu": {},
   "number_sections": false,
   "sideBar": true,
   "skip_h1_title": false,
   "title_cell": "Table of Contents",
   "title_sidebar": "Contents",
   "toc_cell": false,
   "toc_position": {},
   "toc_section_display": true,
   "toc_window_display": true
  }
 },
 "nbformat": 4,
 "nbformat_minor": 2
}
