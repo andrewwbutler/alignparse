{
 "cells": [
  {
   "cell_type": "markdown",
   "metadata": {},
   "source": [
    "# VEP pilot PacBio sequencing \n",
    "This example shows how to process PacBio circular consensus sequencing of a PacBio run containing VEP sequences from several different VEPs. \n",
    "\n",
    "Here we only analyzed two VEPs and use only a snippet of the full data set of circular consensus sequences so that the example is small and fast."
   ]
  },
  {
   "cell_type": "markdown",
   "metadata": {},
   "source": [
    "## Set up for analysis\n",
    "Import necessary Python modules:"
   ]
  },
  {
   "cell_type": "code",
   "execution_count": 1,
   "metadata": {},
   "outputs": [],
   "source": [
    "import os\n",
    "import tempfile\n",
    "import warnings\n",
    "\n",
    "import Bio.SeqIO\n",
    "\n",
    "import pandas as pd\n",
    "\n",
    "from plotnine import *\n",
    "\n",
    "import pysam\n",
    "\n",
    "import alignparse.ccs\n",
    "import alignparse.minimap2\n",
    "import alignparse.targets\n",
    "import alignparse.cs_tag"
   ]
  },
  {
   "cell_type": "markdown",
   "metadata": {},
   "source": [
    "Suppress warnings that clutter output:"
   ]
  },
  {
   "cell_type": "code",
   "execution_count": 2,
   "metadata": {},
   "outputs": [],
   "source": [
    "warnings.simplefilter('ignore')"
   ]
  },
  {
   "cell_type": "markdown",
   "metadata": {},
   "source": [
    "Directory for output:"
   ]
  },
  {
   "cell_type": "code",
   "execution_count": 3,
   "metadata": {},
   "outputs": [],
   "source": [
    "outdir = './output_files/'\n",
    "os.makedirs(outdir, exist_ok=True)"
   ]
  },
  {
   "cell_type": "markdown",
   "metadata": {},
   "source": [
    "## Target amplicon\n",
    "We have performed sequencing of several VEP amplicons that include VEP sequences along with a PacBio index and several other features.\n",
    "The amplicons are defined as Genbank files.\n",
    "First, let's just look at the files:"
   ]
  },
  {
   "cell_type": "code",
   "execution_count": 4,
   "metadata": {},
   "outputs": [
    {
     "name": "stdout",
     "output_type": "stream",
     "text": [
      "LOCUS       LASV_G1959_WT           1730 bp ds-DNA     linear       14-JUN-2019\n",
      "DEFINITION  .\n",
      "ACCESSION   \n",
      "VERSION     \n",
      "SOURCE      Kate Dusenbury\n",
      "  ORGANISM  .\n",
      "COMMENT     PacBio amplicon for LASV G1959 WT sequence\n",
      "COMMENT     There are single nucleotide tags in the 5' and 3' termini to measure strand exchange.\n",
      "FEATURES             Location/Qualifiers\n",
      "     T2A             85..147\n",
      "                     /label=\"T2A\"\n",
      "     ZsGreen         15..84\n",
      "                     /label=\"ZsGreen\"\n",
      "     termini3        1639..1730\n",
      "                     /label=\"3'Termini\"\n",
      "     index           9..14\n",
      "                     /label=\"sample_index\"\n",
      "     leader5         1..8\n",
      "                     /label=\"5' leader\"\n",
      "     termini5        1..147\n",
      "                     /label=\"5'Termini\"\n",
      "     variant_tag5    34..34\n",
      "                     /variant_1=T\n",
      "                     /variant_2=C\n",
      "                     /label=\"5'VariantTag\"\n",
      "     variant_tag3    1702..1702\n",
      "                     /variant_1=G\n",
      "                     /variant_2=A\n",
      "                     /label=\"3'VariantTag\"\n",
      "     spacer          1624..1638\n",
      "                     /label=\"3'Spacer\"\n",
      "     gene            148..1623\n",
      "                     /label=\"LASV_G1959_WT\"\n",
      "ORIGIN\n",
      "        1 GACTGATANN NNNNcagcga cgccaagaac cagYagtggc acctgaccga gcacgccatc\n",
      "       61 gcctccggcT CCGCCTTGCC CGCTGGATCC GGCGAGGGCA GAGGAAGTCT GCTAACATGC\n",
      "      121 GGTGACGTCG AGGAGAATCC TGGCCCAATG GGACAGATAG TGACATTCTT CCAGGAAGTA\n",
      "      181 CCTCATGTGA TAGAAGAGGT GATGAACATT GTCCTCATTG CACTGTCTAT ACTAGCAGTG\n",
      "      241 CTGAAAGGTC TGTACAATTT TGCAACATGT GGCCTCGTTG GTTTGGTTAC CTTCCTCCTG\n",
      "      301 TTGTGTGGCA GGTCTTGCAC AACCAGTCTT TACAAAGGGG TCTATGAGCT TCAGACTCTG\n",
      "      361 GAATTAAACA TGGAGACACT CAATATGACC ATGCCCCTCT CCTGTACAAA GAACAACAGT\n",
      "      421 CATCATTATA TTATGGTGGG TAATGAGACA GGTCTAGAGC TGACCTTGAC CAACACGAGC\n",
      "      481 ATCATTAATC ATAAATTTTG CAATCTGTCT GATGCCCACA AAAAGAACCT CTATGATCAC\n",
      "      541 GCTCTTATGA GCATAATTTC AACTTTCCAT CTGTCCATTC CCAACTTCAA TCAGTATGAG\n",
      "      601 GCAATGAGCT GTGATTTCAA TGGGGGAAAG ATTAGTGTGC AGTACAACCT GAGTCACAGT\n",
      "      661 TATGCTGGGG ATGCGGCCAA CCATTGTGGC ACTGTTGCAA ATGGTGTCCT ACAGACCTTC\n",
      "      721 ATGAGGATGG CTTGGGGTGG AAGCTACATT GCTCTTGACT CAGGCCATGG CAGGTGGGAC\n",
      "      781 TGCATTATGA CTAGTTATCA GTACCTGATA ATCCAAAATA CAACCTGGGA AGATCACTGC\n",
      "      841 CAGTTCTCAA GACCATCTCC CATCGGCTAT CTCGGACTCC TCTCACAAAG GACCAGAGAT\n",
      "      901 ATTTATATTA GTAGAAGACT ACTAGGCACA TTCACATGGA CACTGTCAGA TTCTGAAGGT\n",
      "      961 AAGGACACAC CAGGGGGATA TTGTTTGACC AGATGGATGC TAATTGAAGC TGAACTAAAG\n",
      "     1021 TGCTTCGGGA ACACAGCTGT GGCAAAATGT AATGAGAAGC ATGATGAGGA ATTTTGTGAC\n",
      "     1081 ATGCTGAGGC TGTTTGACTT CAACAAACAA GCCATTCAAA GATTGAAAGC TGAAGCACAA\n",
      "     1141 ATGAGCATTC AATTGATCAA CAAGGCAGTA AATGCCTTGA TAAATGACCA GCTTATAATG\n",
      "     1201 AAGAACCATC TACGAGACAT AATGGGAATT CCATACTGTA ATTACAGCAA GTATTGGTAC\n",
      "     1261 CTCAACCACA CAACCACTGG GAAAACATCA CTGCCTAAAT GTTGGCTTGT ATCCAATGGT\n",
      "     1321 TCATACTTGA ATGAGACCCA CTTTTCTGAT GATATTGAAC AACAAGCTGA CAACATGATC\n",
      "     1381 ACTGAGATGT TACAGAAAGA GTACATGGAG AGGCAGGGGA AGACACCATT GGGCCTAGTC\n",
      "     1441 GACCTCTTTG TGTTCAGCAC AAGTTTCTAT CTCATTAGCA TCTTTCTTCA CCTAGTCAAA\n",
      "     1501 ATACCAACTC ATAGACATAT TGTAGGCAAG CCGTGTCCCA AACCTCACAG ATTGAACTAC\n",
      "     1561 ATGGGCATAT GTTCCTGTGG ACTCTACAAA CAGCCCGGTG TGCCTGTGAG ATGGAAGAGA\n",
      "     1621 TGAGCTAGCT AAACGCGTTG ATCCtaatca acctctggat tacaaaattt gtgaaagatt\n",
      "     1681 gactggtatt cttaactatg tRgctccttt tacgctatgt ggatacgctg \n",
      "//\n",
      "\n",
      "LOCUS       LASV_G1959_OPT           1730 bp ds-DNA     linear       14-JUN-2019\n",
      "DEFINITION  .\n",
      "ACCESSION   \n",
      "VERSION     \n",
      "SOURCE      Kate Dusenbury\n",
      "  ORGANISM  .\n",
      "\n",
      "COMMENT     PacBio amplicon for LASV G1959 OPT sequence\n",
      "COMMENT     There are single nucleotide tags in the 5' and 3' termini to measure strand exchange.\n",
      "FEATURES             Location/Qualifiers\n",
      "     T2A             85..147\n",
      "                     /label=\"T2A\"\n",
      "     ZsGreen         15..84\n",
      "                     /label=\"ZsGreen\"\n",
      "     termini3        1639..1730\n",
      "                     /label=\"3'Termini\"\n",
      "     index           9..14\n",
      "                     /label=\"sample_index\"\n",
      "     leader5         1..8\n",
      "                     /label=\"5' leader\"\n",
      "     termini5        1..147\n",
      "                     /label=\"5'Termini\"\n",
      "     variant_tag5    34..34\n",
      "                     /variant_1=T\n",
      "                     /variant_2=C\n",
      "                     /label=\"5'VariantTag\"\n",
      "     variant_tag3    1702..1702\n",
      "                     /variant_1=G\n",
      "                     /variant_2=A\n",
      "                     /label=\"3'VariantTag\"\n",
      "     spacer          1624..1638\n",
      "                     /label=\"3'Spacer\"\n",
      "     gene            148..1623\n",
      "                     /label=\"LASV_G1959_OPT\"\n",
      "ORIGIN\n",
      "        1 GACTGATANN NNNNcagcga cgccaagaac cagYagtggc acctgaccga gcacgccatc\n",
      "       61 gcctccggcT CCGCCTTGCC CGCTGGATCC GGCGAGGGCA GAGGAAGTCT GCTAACATGC\n",
      "      121 GGTGACGTCG AGGAGAATCC TGGCCCAATG GGACAGATCG TCACCTTCTT CCAAGAAGTG\n",
      "      181 CCTCATGTCA TCGAGGAGGT GATGAACATC GTGCTCATCG CTTTAAGCAT CCTCGCCGTT\n",
      "      241 CTTAAAGGTT TATACAACTT CGCCACTTGT GGTTTAGTGG GACTGGTCAC CTTTCTGCTG\n",
      "      301 CTGTGTGGTC GTAGCTGCAC AACCTCTTTA TACAAGGGCG TGTATGAGCT CCAGACTTTA\n",
      "      361 GAGCTGAACA TGGAGACTTT AAACATGACC ATGCCTTTAA GCTGCACAAA GAACAACAGC\n",
      "      421 CACCACTACA TCATGGTGGG CAACGAGACC GGACTCGAGC TGACCCTCAC CAATACCAGC\n",
      "      481 ATTATTAATC ACAAGTTCTG CAATTTAAGC GACGCCCACA AGAAGAATCT CTACGATCAC\n",
      "      541 GCCCTCATGT CCATCATTAG CACCTTCCAT TTAAGCATCC CTAACTTCAA CCAGTATGAA\n",
      "      601 GCCATGAGCT GCGACTTTAA CGGCGGCAAG ATTTCCGTGC AGTACAACCT CTCCCACAGC\n",
      "      661 TATGCCGGAG ACGCCGCCAA TCATTGTGGA ACCGTGGCCA ACGGAGTTCT TCAGACATTT\n",
      "      721 ATGAGGATGG CTTGGGGCGG CTCCTATATC GCTCTGGACT CCGGCCACGG TCGTTGGGAC\n",
      "      781 TGCATCATGA CCAGCTACCA ATATTTAATC ATCCAGAACA CCACTTGGGA GGACCACTGC\n",
      "      841 CAGTTCTCTC GTCCTTCTCC TATCGGATAC CTCGGTTTAC TGAGCCAGAG GACTCGTGAC\n",
      "      901 ATCTATATCT CTCGTAGGCT GCTGGGCACA TTCACTTGGA CTTTAAGCGA TAGCGAGGGC\n",
      "      961 AAGGACACTC CCGGTGGCTA CTGCCTCACT CGTTGGATGC TGATCGAAGC CGAGCTCAAG\n",
      "     1021 TGCTTCGGAA ACACCGCCGT GGCTAAGTGC AACGAGAAGC ACGATGAGGA GTTCTGCGAC\n",
      "     1081 ATGCTGAGGC TGTTTGATTT CAACAAGCAA GCTATCCAGA GGCTGAAAGC CGAAGCCCAG\n",
      "     1141 ATGAGCATCC AGCTGATCAA TAAGGCCGTG AACGCTCTGA TCAACGACCA GCTGATTATG\n",
      "     1201 AAGAATCATT TAAGAGACAT CATGGGCATC CCTTACTGCA ACTACAGCAA GTATTGGTAC\n",
      "     1261 CTCAACCATA CCACCACCGG AAAGACCTCT TTACCTAAAT GCTGGCTGGT GAGCAACGGC\n",
      "     1321 AGCTACCTCA ACGAGACACA TTTCAGCGAC GACATCGAGC AGCAAGCTGA CAACATGATC\n",
      "     1381 ACCGAGATGC TGCAGAAGGA GTATATGGAG AGGCAAGGTA AGACTCCTCT CGGCCTCGTG\n",
      "     1441 GATTTATTCG TGTTCAGCAC CAGCTTCTAC CTCATCAGCA TCTTTCTTCA TCTGGTCAAG\n",
      "     1501 ATTCCTACCC ATAGACACAT CGTGGGCAAG CCTTGTCCCA AGCCTCATAG ACTCAACTAC\n",
      "     1561 ATGGGCATCT GCAGCTGCGG ACTGTACAAG CAACCCGGTG TGCCCGTTAG ATGGAAGAGA\n",
      "     1621 TGAGCTAGCT AAACGCGTTG ATCCtaatca acctctggat tacaaaattt gtgaaagatt\n",
      "     1681 gactggtatt cttaactatg tRgctccttt tacgctatgt ggatacgctg \n",
      "//\n",
      "\n"
     ]
    }
   ],
   "source": [
    "target_file_names = ['LASV_G1959_WT', 'LASV_G1959_OPT']\n",
    "\n",
    "targetfiles = [f\"input_files/{target_file_name}.gb\" for target_file_name in target_file_names]\n",
    "\n",
    "\n",
    "for targetfile in targetfiles:\n",
    "    with open(targetfile) as f:\n",
    "        print(f.read())"
   ]
  },
  {
   "cell_type": "markdown",
   "metadata": {},
   "source": [
    "Read the amplicons into a `Targets` object, specifying the features that we require the target to contain:\n",
    "\n",
    "First, read in the `.yaml` file containing the `feature_parse_specs` for these targets. Here, I specify a T2A `feature_parse_spec` only for the LASV_G1959_WT target to test slightly different `feature_parse_specs` for each target."
   ]
  },
  {
   "cell_type": "code",
   "execution_count": 5,
   "metadata": {},
   "outputs": [],
   "source": [
    "VEP_parse_specs_file = 'input_files/VEP_target_feature_parse_specs.yaml'"
   ]
  },
  {
   "cell_type": "code",
   "execution_count": 6,
   "metadata": {},
   "outputs": [],
   "source": [
    "targets = alignparse.targets.Targets(seqsfile=targetfiles,\n",
    "                  feature_parse_specs=VEP_parse_specs_file,\n",
    "                  allow_extra_features=True,\n",
    "                  allow_clipped_muts_seqs=True)"
   ]
  },
  {
   "cell_type": "markdown",
   "metadata": {},
   "source": [
    "Plot the targets:"
   ]
  },
  {
   "cell_type": "code",
   "execution_count": 7,
   "metadata": {},
   "outputs": [
    {
     "data": {
      "image/png": "[encoded data removed]",
      "text/plain": [
       "<Figure size 720x432 with 2 Axes>"
      ]
     },
     "metadata": {
      "needs_background": "light"
     },
     "output_type": "display_data"
    }
   ],
   "source": [
    "_ = targets.plot(ax_width=10)"
   ]
  },
  {
   "cell_type": "markdown",
   "metadata": {},
   "source": [
    "We can also look at the featue parsing specifications as a dict or YAML string (here we do it as YAML string):"
   ]
  },
  {
   "cell_type": "code",
   "execution_count": 8,
   "metadata": {},
   "outputs": [
    {
     "name": "stdout",
     "output_type": "stream",
     "text": [
      "LASV_G1959_WT: &id001\n",
      "  query_clip5: 10\n",
      "  query_clip3: 10\n",
      "  termini5:\n",
      "    filter:\n",
      "      clip5: 10\n",
      "      mutation_nt_count: 1\n",
      "      mutation_op_count: null\n",
      "      clip3: 0\n",
      "    return: []\n",
      "  T2A:\n",
      "    filter:\n",
      "      mutation_nt_count: 5\n",
      "      mutation_op_count: null\n",
      "      clip5: 0\n",
      "      clip3: 0\n",
      "    return: []\n",
      "  gene:\n",
      "    filter:\n",
      "      mutation_nt_count: 30\n",
      "      mutation_op_count: null\n",
      "      clip5: 0\n",
      "      clip3: 0\n",
      "    return:\n",
      "    - mutations\n",
      "  spacer:\n",
      "    filter:\n",
      "      mutation_nt_count: 1\n",
      "      mutation_op_count: null\n",
      "      clip5: 0\n",
      "      clip3: 0\n",
      "    return: []\n",
      "  index:\n",
      "    filter:\n",
      "      clip5: 3\n",
      "      clip3: 0\n",
      "      mutation_nt_count: 0\n",
      "      mutation_op_count: 0\n",
      "    return:\n",
      "    - sequence\n",
      "  termini3:\n",
      "    filter:\n",
      "      clip3: 4\n",
      "      mutation_nt_count: 1\n",
      "      mutation_op_count: null\n",
      "      clip5: 0\n",
      "    return: []\n",
      "  variant_tag5:\n",
      "    return:\n",
      "    - sequence\n",
      "    filter:\n",
      "      clip5: 0\n",
      "      clip3: 0\n",
      "      mutation_nt_count: 0\n",
      "      mutation_op_count: 0\n",
      "  variant_tag3:\n",
      "    return:\n",
      "    - sequence\n",
      "    filter:\n",
      "      clip5: 0\n",
      "      clip3: 0\n",
      "      mutation_nt_count: 0\n",
      "      mutation_op_count: 0\n",
      "LASV_G1959_OPT: *id001\n",
      "\n"
     ]
    }
   ],
   "source": [
    "print(targets.feature_parse_specs('yaml'))"
   ]
  },
  {
   "cell_type": "markdown",
   "metadata": {},
   "source": [
    "## PacBio CCSs\n",
    "We will align PacBio circular consensus sequences (CCSs) to the target.\n",
    "First, we want to look at the CCSs.\n",
    "A FASTQ file with these CCSs along with an associated report file were generated using the PacBio `ccs` program (see [here](https://github.com/PacificBiosciences/ccs) for details on `ccs`) using commands like the following (generates report file and BAM of CCSs):\n",
    "\n",
    "    ccs --minLength 50 --maxLength 5000 \\\n",
    "        --minPasses 3  --minPredictedAccuracy 0.999 \\\n",
    "        --reportFile vep_pilot_report.txt \\\n",
    "        --polish --numThreads 16 \\\n",
    "        vep_pilot_subreads.bam vep_pilot_ccs.bam\n",
    "        \n",
    "The BAM file was then converted to a FASTQ file using [samtools](http://www.htslib.org/) with a flag to retain the number of passes (`np`):\n",
    "\n",
    "    samtools bam2fq -T np vep_pilot_ccs.bam > vep_pilot_ccs.fastq\n",
    "    \n",
    "Here is a data frame with the resulting FASTQ and BAM files:"
   ]
  },
  {
   "cell_type": "code",
   "execution_count": 9,
   "metadata": {},
   "outputs": [
    {
     "data": {
      "text/html": [
       "<div>\n",
       "<style scoped>\n",
       "    .dataframe tbody tr th:only-of-type {\n",
       "        vertical-align: middle;\n",
       "    }\n",
       "\n",
       "    .dataframe tbody tr th {\n",
       "        vertical-align: top;\n",
       "    }\n",
       "\n",
       "    .dataframe thead th {\n",
       "        text-align: right;\n",
       "    }\n",
       "</style>\n",
       "<table border=\"1\" class=\"dataframe\">\n",
       "  <thead>\n",
       "    <tr style=\"text-align: right;\">\n",
       "      <th></th>\n",
       "      <th>name</th>\n",
       "      <th>report</th>\n",
       "      <th>fastq</th>\n",
       "    </tr>\n",
       "  </thead>\n",
       "  <tbody>\n",
       "    <tr>\n",
       "      <td>0</td>\n",
       "      <td>vep_pilot</td>\n",
       "      <td>input_files/vep_pilot_report.txt</td>\n",
       "      <td>input_files/vep_pilot_ccs.fastq</td>\n",
       "    </tr>\n",
       "  </tbody>\n",
       "</table>\n",
       "</div>"
      ],
      "text/plain": [
       "        name                            report  \\\n",
       "0  vep_pilot  input_files/vep_pilot_report.txt   \n",
       "\n",
       "                             fastq  \n",
       "0  input_files/vep_pilot_ccs.fastq  "
      ]
     },
     "execution_count": 9,
     "metadata": {},
     "output_type": "execute_result"
    }
   ],
   "source": [
    "run_names = ['vep_pilot']\n",
    "ccs_dir = 'input_files'\n",
    "\n",
    "pacbio_runs = pd.DataFrame(\n",
    "            {'name': run_names,\n",
    "             'report': [f\"{ccs_dir}/{name}_report.txt\" for name in run_names],\n",
    "             'fastq': [f\"{ccs_dir}/{name}_ccs.fastq\" for name in run_names]\n",
    "             })\n",
    "\n",
    "pacbio_runs"
   ]
  },
  {
   "cell_type": "markdown",
   "metadata": {},
   "source": [
    "We create a `Summaries` object for these CCSs:"
   ]
  },
  {
   "cell_type": "code",
   "execution_count": 10,
   "metadata": {},
   "outputs": [],
   "source": [
    "ccs_summaries = alignparse.ccs.Summaries(pacbio_runs)"
   ]
  },
  {
   "cell_type": "markdown",
   "metadata": {},
   "source": [
    "Plot how many ZMWs yielded CCSs:"
   ]
  },
  {
   "cell_type": "code",
   "execution_count": 11,
   "metadata": {},
   "outputs": [
    {
     "data": {
      "image/png": "[encoded data removed]",
      "text/plain": [
       "<Figure size 40x250 with 1 Axes>"
      ]
     },
     "metadata": {},
     "output_type": "display_data"
    }
   ],
   "source": [
    "p = ccs_summaries.plot_zmw_stats()\n",
    "_ = p.draw()"
   ]
  },
  {
   "cell_type": "markdown",
   "metadata": {},
   "source": [
    "Statistics on the CCSs (length, number of subread passes, accuracy):"
   ]
  },
  {
   "cell_type": "code",
   "execution_count": 12,
   "metadata": {},
   "outputs": [
    {
     "data": {
      "image/png": "[encoded data removed]",
      "text/plain": [
       "<Figure size 175x175 with 1 Axes>"
      ]
     },
     "metadata": {},
     "output_type": "display_data"
    },
    {
     "data": {
      "image/png": "[encoded data removed]",
      "text/plain": [
       "<Figure size 175x175 with 1 Axes>"
      ]
     },
     "metadata": {},
     "output_type": "display_data"
    },
    {
     "data": {
      "image/png": "[encoded data removed]",
      "text/plain": [
       "<Figure size 175x175 with 1 Axes>"
      ]
     },
     "metadata": {},
     "output_type": "display_data"
    }
   ],
   "source": [
    "for stat in ['length', 'passes', 'accuracy']:\n",
    "    if ccs_summaries.has_stat(stat):\n",
    "        p = ccs_summaries.plot_ccs_stats(stat)\n",
    "        _ = p.draw()\n",
    "    else:\n",
    "        print(f\"No information available on CCS {stat}\")"
   ]
  },
  {
   "cell_type": "markdown",
   "metadata": {},
   "source": [
    "## Align CCSs to target\n",
    "Now we use `minimap2` to align the CCSs to the target.\n",
    "\n",
    "First, we create a `Mapper` object to run `minimap2`, using the options for codon-level deep mutational scanning:"
   ]
  },
  {
   "cell_type": "code",
   "execution_count": 13,
   "metadata": {},
   "outputs": [
    {
     "name": "stdout",
     "output_type": "stream",
     "text": [
      "Using `minimap2` 2.17-r941 with these options:\n",
      "-A2 -B4 -O12 -E2 --end-bonus=13 --secondary=no --cs\n"
     ]
    }
   ],
   "source": [
    "mapper = alignparse.minimap2.Mapper(alignparse.minimap2.OPTIONS_CODON_DMS)\n",
    "\n",
    "print(f\"Using `minimap2` {mapper.version} with these options:\\n\" +\n",
    "      ' '.join(mapper.options))"
   ]
  },
  {
   "cell_type": "markdown",
   "metadata": {},
   "source": [
    "Now use this mapper to do the alignments to a SAM file.\n",
    "First, add the names of the desired alignment files to our data frame:"
   ]
  },
  {
   "cell_type": "code",
   "execution_count": 14,
   "metadata": {},
   "outputs": [
    {
     "data": {
      "text/html": [
       "<div>\n",
       "<style scoped>\n",
       "    .dataframe tbody tr th:only-of-type {\n",
       "        vertical-align: middle;\n",
       "    }\n",
       "\n",
       "    .dataframe tbody tr th {\n",
       "        vertical-align: top;\n",
       "    }\n",
       "\n",
       "    .dataframe thead th {\n",
       "        text-align: right;\n",
       "    }\n",
       "</style>\n",
       "<table border=\"1\" class=\"dataframe\">\n",
       "  <thead>\n",
       "    <tr style=\"text-align: right;\">\n",
       "      <th></th>\n",
       "      <th>name</th>\n",
       "      <th>report</th>\n",
       "      <th>fastq</th>\n",
       "      <th>alignments</th>\n",
       "    </tr>\n",
       "  </thead>\n",
       "  <tbody>\n",
       "    <tr>\n",
       "      <td>0</td>\n",
       "      <td>vep_pilot</td>\n",
       "      <td>input_files/vep_pilot_report.txt</td>\n",
       "      <td>input_files/vep_pilot_ccs.fastq</td>\n",
       "      <td>./output_files/vep_pilot_alignments.sam</td>\n",
       "    </tr>\n",
       "  </tbody>\n",
       "</table>\n",
       "</div>"
      ],
      "text/plain": [
       "        name                            report  \\\n",
       "0  vep_pilot  input_files/vep_pilot_report.txt   \n",
       "\n",
       "                             fastq                               alignments  \n",
       "0  input_files/vep_pilot_ccs.fastq  ./output_files/vep_pilot_alignments.sam  "
      ]
     },
     "execution_count": 14,
     "metadata": {},
     "output_type": "execute_result"
    }
   ],
   "source": [
    "pacbio_runs = pacbio_runs.assign(alignments=lambda x: outdir + x['name'] + '_alignments.sam')\n",
    "\n",
    "pacbio_runs"
   ]
  },
  {
   "cell_type": "markdown",
   "metadata": {},
   "source": [
    "Now use the mapper to actually align the FASTQ queries to the target:"
   ]
  },
  {
   "cell_type": "code",
   "execution_count": 15,
   "metadata": {},
   "outputs": [
    {
     "name": "stdout",
     "output_type": "stream",
     "text": [
      "Aligning input_files/vep_pilot_ccs.fastq to create ./output_files/vep_pilot_alignments.sam...\n"
     ]
    }
   ],
   "source": [
    "for tup in pacbio_runs.itertuples(index=False):\n",
    "    print(f\"Aligning {tup.fastq} to create {tup.alignments}...\")\n",
    "    targets.align(queryfile=tup.fastq,\n",
    "                  alignmentfile=tup.alignments,\n",
    "                  mapper=mapper)"
   ]
  },
  {
   "cell_type": "markdown",
   "metadata": {},
   "source": [
    "These SAM files now contain the alignments along with the [`cs` tag](https://github.com/lh3/minimap2#cs), which contains details on the mutations:"
   ]
  },
  {
   "cell_type": "code",
   "execution_count": 16,
   "metadata": {
    "scrolled": true
   },
   "outputs": [
    {
     "name": "stdout",
     "output_type": "stream",
     "text": [
      "First alignment in ./output_files/vep_pilot_alignments.sam has `cs` tag:\n",
      ":8*nt*nc*nc*ng*nt*nt:19*nc:117\n"
     ]
    }
   ],
   "source": [
    "for fname in pacbio_runs['alignments'][:1]:\n",
    "    with pysam.AlignmentFile(fname) as f:\n",
    "        a = next(f)\n",
    "        print(f\"First alignment in {fname} has `cs` tag:\\n\" + a.get_tag('cs'))"
   ]
  },
  {
   "cell_type": "markdown",
   "metadata": {},
   "source": [
    "## Parse the alignments\n",
    "Now we use `Targets.parse_alignments` to parse the SAM files to get the information we specified for return.\n",
    "This function returns a data frames (`readstats`) on the overall parsing stats, plus dicts keyed by the names of each target in `Targets` giving data frames on the aligned and filtered reads.\n",
    "We concatenate the data frames for each PacBio run and then look at them together:"
   ]
  },
  {
   "cell_type": "code",
   "execution_count": 17,
   "metadata": {},
   "outputs": [
    {
     "name": "stdout",
     "output_type": "stream",
     "text": [
      "Parsing PacBio run vep_pilot\n"
     ]
    }
   ],
   "source": [
    "readstats = []\n",
    "aligned = {targetname: [] for targetname in targets.target_names}\n",
    "filtered = {targetname: [] for targetname in targets.target_names}\n",
    "\n",
    "for run in pacbio_runs.itertuples():\n",
    "    \n",
    "    print(f\"Parsing PacBio run {run.name}\")\n",
    "    run_readstats, run_aligned, run_filtered = targets.parse_alignment(run.alignments)\n",
    "    \n",
    "    # when concatenating add the run name to keep track of runs for results\n",
    "    readstats.append(run_readstats\n",
    "                     .assign(run_name=run.name)\n",
    "                     )\n",
    "    for targetname in targets.target_names:\n",
    "        aligned[targetname].append(run_aligned[targetname]\n",
    "                                   .assign(run_name=run.name)\n",
    "                                   )\n",
    "        filtered[targetname].append(run_filtered[targetname]\n",
    "                                    .assign(run_name=run.name)\n",
    "                                    )\n",
    "        \n",
    "# now concatenate the data frames for each run\n",
    "readstats = pd.concat(readstats, ignore_index=True, sort=False)\n",
    "for targetname in targets.target_names:\n",
    "    aligned[targetname] = pd.concat(aligned[targetname], ignore_index=True, sort=False)\n",
    "    filtered[targetname] = pd.concat(filtered[targetname], ignore_index=True, sort=False)"
   ]
  },
  {
   "cell_type": "markdown",
   "metadata": {},
   "source": [
    "First lets look at the read stats:"
   ]
  },
  {
   "cell_type": "code",
   "execution_count": 18,
   "metadata": {},
   "outputs": [
    {
     "data": {
      "text/html": [
       "<div>\n",
       "<style scoped>\n",
       "    .dataframe tbody tr th:only-of-type {\n",
       "        vertical-align: middle;\n",
       "    }\n",
       "\n",
       "    .dataframe tbody tr th {\n",
       "        vertical-align: top;\n",
       "    }\n",
       "\n",
       "    .dataframe thead th {\n",
       "        text-align: right;\n",
       "    }\n",
       "</style>\n",
       "<table border=\"1\" class=\"dataframe\">\n",
       "  <thead>\n",
       "    <tr style=\"text-align: right;\">\n",
       "      <th></th>\n",
       "      <th>category</th>\n",
       "      <th>count</th>\n",
       "      <th>run_name</th>\n",
       "    </tr>\n",
       "  </thead>\n",
       "  <tbody>\n",
       "    <tr>\n",
       "      <td>0</td>\n",
       "      <td>filtered LASV_G1959_WT</td>\n",
       "      <td>97</td>\n",
       "      <td>vep_pilot</td>\n",
       "    </tr>\n",
       "    <tr>\n",
       "      <td>1</td>\n",
       "      <td>aligned LASV_G1959_WT</td>\n",
       "      <td>24</td>\n",
       "      <td>vep_pilot</td>\n",
       "    </tr>\n",
       "    <tr>\n",
       "      <td>2</td>\n",
       "      <td>filtered LASV_G1959_OPT</td>\n",
       "      <td>110</td>\n",
       "      <td>vep_pilot</td>\n",
       "    </tr>\n",
       "    <tr>\n",
       "      <td>3</td>\n",
       "      <td>aligned LASV_G1959_OPT</td>\n",
       "      <td>45</td>\n",
       "      <td>vep_pilot</td>\n",
       "    </tr>\n",
       "    <tr>\n",
       "      <td>4</td>\n",
       "      <td>unmapped</td>\n",
       "      <td>2</td>\n",
       "      <td>vep_pilot</td>\n",
       "    </tr>\n",
       "  </tbody>\n",
       "</table>\n",
       "</div>"
      ],
      "text/plain": [
       "                  category  count   run_name\n",
       "0   filtered LASV_G1959_WT     97  vep_pilot\n",
       "1    aligned LASV_G1959_WT     24  vep_pilot\n",
       "2  filtered LASV_G1959_OPT    110  vep_pilot\n",
       "3   aligned LASV_G1959_OPT     45  vep_pilot\n",
       "4                 unmapped      2  vep_pilot"
      ]
     },
     "execution_count": 18,
     "metadata": {},
     "output_type": "execute_result"
    }
   ],
   "source": [
    "readstats"
   ]
  },
  {
   "cell_type": "code",
   "execution_count": 19,
   "metadata": {},
   "outputs": [
    {
     "data": {
      "image/png": "[encoded data removed]",
      "text/plain": [
       "<Figure size 150x250 with 1 Axes>"
      ]
     },
     "metadata": {},
     "output_type": "display_data"
    }
   ],
   "source": [
    "p = (\n",
    "    ggplot(readstats, aes('category', 'count')) +\n",
    "    geom_bar(stat='identity') +\n",
    "    facet_wrap('~ run_name', nrow=1) +\n",
    "    theme(axis_text_x=element_text(angle=90),\n",
    "          figure_size=(1.5 * len(pacbio_runs), 2.5)\n",
    "          )\n",
    "    )\n",
    "_ = p.draw()"
   ]
  },
  {
   "cell_type": "markdown",
   "metadata": {},
   "source": [
    "Now look at the information on the filtered reads.\n",
    "This is a bigger data frame, so we just look at the first few lines for the first target (of which there is only one anyway):"
   ]
  },
  {
   "cell_type": "code",
   "execution_count": 20,
   "metadata": {},
   "outputs": [
    {
     "data": {
      "text/html": [
       "<div>\n",
       "<style scoped>\n",
       "    .dataframe tbody tr th:only-of-type {\n",
       "        vertical-align: middle;\n",
       "    }\n",
       "\n",
       "    .dataframe tbody tr th {\n",
       "        vertical-align: top;\n",
       "    }\n",
       "\n",
       "    .dataframe thead th {\n",
       "        text-align: right;\n",
       "    }\n",
       "</style>\n",
       "<table border=\"1\" class=\"dataframe\">\n",
       "  <thead>\n",
       "    <tr style=\"text-align: right;\">\n",
       "      <th></th>\n",
       "      <th>query_name</th>\n",
       "      <th>filter_reason</th>\n",
       "      <th>run_name</th>\n",
       "    </tr>\n",
       "  </thead>\n",
       "  <tbody>\n",
       "    <tr>\n",
       "      <td>0</td>\n",
       "      <td>m54228_190605_190010/4194436/ccs</td>\n",
       "      <td>gene mutation_nt_count</td>\n",
       "      <td>vep_pilot</td>\n",
       "    </tr>\n",
       "    <tr>\n",
       "      <td>1</td>\n",
       "      <td>m54228_190605_190010/4194440/ccs</td>\n",
       "      <td>query_clip5</td>\n",
       "      <td>vep_pilot</td>\n",
       "    </tr>\n",
       "    <tr>\n",
       "      <td>2</td>\n",
       "      <td>m54228_190605_190010/4194442/ccs</td>\n",
       "      <td>termini5 clip5</td>\n",
       "      <td>vep_pilot</td>\n",
       "    </tr>\n",
       "    <tr>\n",
       "      <td>3</td>\n",
       "      <td>m54228_190605_190010/4194449/ccs</td>\n",
       "      <td>query_clip3</td>\n",
       "      <td>vep_pilot</td>\n",
       "    </tr>\n",
       "    <tr>\n",
       "      <td>4</td>\n",
       "      <td>m54228_190605_190010/4194452/ccs</td>\n",
       "      <td>query_clip5</td>\n",
       "      <td>vep_pilot</td>\n",
       "    </tr>\n",
       "  </tbody>\n",
       "</table>\n",
       "</div>"
      ],
      "text/plain": [
       "                         query_name           filter_reason   run_name\n",
       "0  m54228_190605_190010/4194436/ccs  gene mutation_nt_count  vep_pilot\n",
       "1  m54228_190605_190010/4194440/ccs             query_clip5  vep_pilot\n",
       "2  m54228_190605_190010/4194442/ccs          termini5 clip5  vep_pilot\n",
       "3  m54228_190605_190010/4194449/ccs             query_clip3  vep_pilot\n",
       "4  m54228_190605_190010/4194452/ccs             query_clip5  vep_pilot"
      ]
     },
     "execution_count": 20,
     "metadata": {},
     "output_type": "execute_result"
    }
   ],
   "source": [
    "filtered[targets.target_names[0]].head()"
   ]
  },
  {
   "cell_type": "code",
   "execution_count": 21,
   "metadata": {},
   "outputs": [
    {
     "data": {
      "image/png": "[encoded data removed]",
      "text/plain": [
       "<Figure size 150x250 with 1 Axes>"
      ]
     },
     "metadata": {},
     "output_type": "display_data"
    },
    {
     "data": {
      "image/png": "[encoded data removed]",
      "text/plain": [
       "<Figure size 120x250 with 1 Axes>"
      ]
     },
     "metadata": {},
     "output_type": "display_data"
    }
   ],
   "source": [
    "for targetname in targets.target_names:\n",
    "    target_filtered = filtered[targetname]\n",
    "    nreasons = target_filtered['filter_reason'].nunique()\n",
    "    p = (\n",
    "        ggplot(target_filtered, aes('filter_reason')) +\n",
    "        geom_bar() +\n",
    "        facet_wrap('~ run_name', nrow=1) +\n",
    "        labs(title=targetname) +\n",
    "        theme(axis_text_x=element_text(angle=90),\n",
    "              figure_size=(0.3 * nreasons * len(pacbio_runs), 2.5),\n",
    "              )\n",
    "        )\n",
    "    _ = p.draw()"
   ]
  },
  {
   "cell_type": "markdown",
   "metadata": {},
   "source": [
    "Finally, we can look at the information for the validly aligned (not filtered) reads.\n",
    "First just look at the first few entries in the data frame for the first target:"
   ]
  },
  {
   "cell_type": "code",
   "execution_count": 22,
   "metadata": {},
   "outputs": [
    {
     "name": "stdout",
     "output_type": "stream",
     "text": [
      "LASV_G1959_WT\n"
     ]
    },
    {
     "data": {
      "text/html": [
       "<div>\n",
       "<style scoped>\n",
       "    .dataframe tbody tr th:only-of-type {\n",
       "        vertical-align: middle;\n",
       "    }\n",
       "\n",
       "    .dataframe tbody tr th {\n",
       "        vertical-align: top;\n",
       "    }\n",
       "\n",
       "    .dataframe thead th {\n",
       "        text-align: right;\n",
       "    }\n",
       "</style>\n",
       "<table border=\"1\" class=\"dataframe\">\n",
       "  <thead>\n",
       "    <tr style=\"text-align: right;\">\n",
       "      <th></th>\n",
       "      <th>query_name</th>\n",
       "      <th>query_clip5</th>\n",
       "      <th>query_clip3</th>\n",
       "      <th>gene_mutations</th>\n",
       "      <th>index_sequence</th>\n",
       "      <th>variant_tag5_sequence</th>\n",
       "      <th>variant_tag3_sequence</th>\n",
       "      <th>run_name</th>\n",
       "    </tr>\n",
       "  </thead>\n",
       "  <tbody>\n",
       "    <tr>\n",
       "      <td>0</td>\n",
       "      <td>m54228_190605_190010/4194411/ccs</td>\n",
       "      <td>0</td>\n",
       "      <td>0</td>\n",
       "      <td></td>\n",
       "      <td>GTCCGA</td>\n",
       "      <td>T</td>\n",
       "      <td>G</td>\n",
       "      <td>vep_pilot</td>\n",
       "    </tr>\n",
       "    <tr>\n",
       "      <td>1</td>\n",
       "      <td>m54228_190605_190010/4194422/ccs</td>\n",
       "      <td>0</td>\n",
       "      <td>0</td>\n",
       "      <td>G312A</td>\n",
       "      <td>GTCCGA</td>\n",
       "      <td>T</td>\n",
       "      <td>G</td>\n",
       "      <td>vep_pilot</td>\n",
       "    </tr>\n",
       "    <tr>\n",
       "      <td>2</td>\n",
       "      <td>m54228_190605_190010/4194464/ccs</td>\n",
       "      <td>0</td>\n",
       "      <td>0</td>\n",
       "      <td></td>\n",
       "      <td>ATTCCA</td>\n",
       "      <td>C</td>\n",
       "      <td>A</td>\n",
       "      <td>vep_pilot</td>\n",
       "    </tr>\n",
       "    <tr>\n",
       "      <td>3</td>\n",
       "      <td>m54228_190605_190010/4194470/ccs</td>\n",
       "      <td>0</td>\n",
       "      <td>0</td>\n",
       "      <td></td>\n",
       "      <td>ATTCCA</td>\n",
       "      <td>T</td>\n",
       "      <td>G</td>\n",
       "      <td>vep_pilot</td>\n",
       "    </tr>\n",
       "    <tr>\n",
       "      <td>4</td>\n",
       "      <td>m54228_190605_190010/4194490/ccs</td>\n",
       "      <td>0</td>\n",
       "      <td>0</td>\n",
       "      <td></td>\n",
       "      <td>ATTCCA</td>\n",
       "      <td>C</td>\n",
       "      <td>A</td>\n",
       "      <td>vep_pilot</td>\n",
       "    </tr>\n",
       "  </tbody>\n",
       "</table>\n",
       "</div>"
      ],
      "text/plain": [
       "                         query_name  query_clip5  query_clip3 gene_mutations  \\\n",
       "0  m54228_190605_190010/4194411/ccs            0            0                  \n",
       "1  m54228_190605_190010/4194422/ccs            0            0          G312A   \n",
       "2  m54228_190605_190010/4194464/ccs            0            0                  \n",
       "3  m54228_190605_190010/4194470/ccs            0            0                  \n",
       "4  m54228_190605_190010/4194490/ccs            0            0                  \n",
       "\n",
       "  index_sequence variant_tag5_sequence variant_tag3_sequence   run_name  \n",
       "0         GTCCGA                     T                     G  vep_pilot  \n",
       "1         GTCCGA                     T                     G  vep_pilot  \n",
       "2         ATTCCA                     C                     A  vep_pilot  \n",
       "3         ATTCCA                     T                     G  vep_pilot  \n",
       "4         ATTCCA                     C                     A  vep_pilot  "
      ]
     },
     "execution_count": 22,
     "metadata": {},
     "output_type": "execute_result"
    }
   ],
   "source": [
    "show_target0 = targets.target_names[0]\n",
    "print(show_target0)\n",
    "aligned[show_target0].head()"
   ]
  },
  {
   "cell_type": "code",
   "execution_count": 23,
   "metadata": {},
   "outputs": [
    {
     "name": "stdout",
     "output_type": "stream",
     "text": [
      "LASV_G1959_OPT\n"
     ]
    },
    {
     "data": {
      "text/html": [
       "<div>\n",
       "<style scoped>\n",
       "    .dataframe tbody tr th:only-of-type {\n",
       "        vertical-align: middle;\n",
       "    }\n",
       "\n",
       "    .dataframe tbody tr th {\n",
       "        vertical-align: top;\n",
       "    }\n",
       "\n",
       "    .dataframe thead th {\n",
       "        text-align: right;\n",
       "    }\n",
       "</style>\n",
       "<table border=\"1\" class=\"dataframe\">\n",
       "  <thead>\n",
       "    <tr style=\"text-align: right;\">\n",
       "      <th></th>\n",
       "      <th>query_name</th>\n",
       "      <th>query_clip5</th>\n",
       "      <th>query_clip3</th>\n",
       "      <th>gene_mutations</th>\n",
       "      <th>index_sequence</th>\n",
       "      <th>variant_tag5_sequence</th>\n",
       "      <th>variant_tag3_sequence</th>\n",
       "      <th>run_name</th>\n",
       "    </tr>\n",
       "  </thead>\n",
       "  <tbody>\n",
       "    <tr>\n",
       "      <td>0</td>\n",
       "      <td>m54228_190605_190010/4194386/ccs</td>\n",
       "      <td>0</td>\n",
       "      <td>0</td>\n",
       "      <td></td>\n",
       "      <td>GGAGTC</td>\n",
       "      <td>C</td>\n",
       "      <td>A</td>\n",
       "      <td>vep_pilot</td>\n",
       "    </tr>\n",
       "    <tr>\n",
       "      <td>1</td>\n",
       "      <td>m54228_190605_190010/4194392/ccs</td>\n",
       "      <td>0</td>\n",
       "      <td>0</td>\n",
       "      <td></td>\n",
       "      <td>GGAGTC</td>\n",
       "      <td>A</td>\n",
       "      <td>T</td>\n",
       "      <td>vep_pilot</td>\n",
       "    </tr>\n",
       "    <tr>\n",
       "      <td>2</td>\n",
       "      <td>m54228_190605_190010/4194393/ccs</td>\n",
       "      <td>0</td>\n",
       "      <td>0</td>\n",
       "      <td></td>\n",
       "      <td>GGAGTC</td>\n",
       "      <td>C</td>\n",
       "      <td>A</td>\n",
       "      <td>vep_pilot</td>\n",
       "    </tr>\n",
       "    <tr>\n",
       "      <td>3</td>\n",
       "      <td>m54228_190605_190010/4194415/ccs</td>\n",
       "      <td>0</td>\n",
       "      <td>0</td>\n",
       "      <td>del587to587</td>\n",
       "      <td>AACAGC</td>\n",
       "      <td>T</td>\n",
       "      <td>G</td>\n",
       "      <td>vep_pilot</td>\n",
       "    </tr>\n",
       "    <tr>\n",
       "      <td>4</td>\n",
       "      <td>m54228_190605_190010/4194429/ccs</td>\n",
       "      <td>0</td>\n",
       "      <td>0</td>\n",
       "      <td></td>\n",
       "      <td>GGAGTC</td>\n",
       "      <td>T</td>\n",
       "      <td>G</td>\n",
       "      <td>vep_pilot</td>\n",
       "    </tr>\n",
       "  </tbody>\n",
       "</table>\n",
       "</div>"
      ],
      "text/plain": [
       "                         query_name  query_clip5  query_clip3 gene_mutations  \\\n",
       "0  m54228_190605_190010/4194386/ccs            0            0                  \n",
       "1  m54228_190605_190010/4194392/ccs            0            0                  \n",
       "2  m54228_190605_190010/4194393/ccs            0            0                  \n",
       "3  m54228_190605_190010/4194415/ccs            0            0    del587to587   \n",
       "4  m54228_190605_190010/4194429/ccs            0            0                  \n",
       "\n",
       "  index_sequence variant_tag5_sequence variant_tag3_sequence   run_name  \n",
       "0         GGAGTC                     C                     A  vep_pilot  \n",
       "1         GGAGTC                     A                     T  vep_pilot  \n",
       "2         GGAGTC                     C                     A  vep_pilot  \n",
       "3         AACAGC                     T                     G  vep_pilot  \n",
       "4         GGAGTC                     T                     G  vep_pilot  "
      ]
     },
     "execution_count": 23,
     "metadata": {},
     "output_type": "execute_result"
    }
   ],
   "source": [
    "show_target1 = targets.target_names[1]\n",
    "print(show_target1)\n",
    "aligned[show_target1].head()"
   ]
  }
 ],
 "metadata": {
  "kernelspec": {
   "display_name": "Python 3",
   "language": "python",
   "name": "python3"
  },
  "language_info": {
   "codemirror_mode": {
    "name": "ipython",
    "version": 3
   },
   "file_extension": ".py",
   "mimetype": "text/x-python",
   "name": "python",
   "nbconvert_exporter": "python",
   "pygments_lexer": "ipython3",
   "version": "3.6.7"
  },
  "toc": {
   "nav_menu": {},
   "number_sections": false,
   "sideBar": true,
   "skip_h1_title": false,
   "toc_cell": false,
   "toc_position": {},
   "toc_section_display": true,
   "toc_window_display": true
  }
 },
 "nbformat": 4,
 "nbformat_minor": 2
}
