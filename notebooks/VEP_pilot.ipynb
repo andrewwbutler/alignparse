{
 "cells": [
  {
   "cell_type": "markdown",
   "metadata": {},
   "source": [
    "# VEP pilot PacBio sequencing \n",
    "This example shows how to process PacBio circular consensus sequencing of a PacBio run containing VEP sequences from several different VEPs. \n",
    "\n",
    "Here we only analyzed two VEPs and use only a snippet of the full data set of circular consensus sequences so that the example is small and fast."
   ]
  },
  {
   "cell_type": "markdown",
   "metadata": {},
   "source": [
    "## Set up for analysis\n",
    "Import necessary Python modules:"
   ]
  },
  {
   "cell_type": "code",
   "execution_count": 1,
   "metadata": {},
   "outputs": [],
   "source": [
    "import os\n",
    "import tempfile\n",
    "import warnings\n",
    "\n",
    "import Bio.SeqIO\n",
    "\n",
    "import pandas as pd\n",
    "\n",
    "import pysam\n",
    "\n",
    "import yaml\n",
    "\n",
    "import alignparse.ccs\n",
    "import alignparse.minimap2\n",
    "import alignparse.targets\n",
    "import alignparse.cs_tag"
   ]
  },
  {
   "cell_type": "markdown",
   "metadata": {},
   "source": [
    "Suppress warnings that clutter output:"
   ]
  },
  {
   "cell_type": "code",
   "execution_count": 2,
   "metadata": {},
   "outputs": [],
   "source": [
    "warnings.simplefilter('ignore')"
   ]
  },
  {
   "cell_type": "markdown",
   "metadata": {},
   "source": [
    "Directory for output:"
   ]
  },
  {
   "cell_type": "code",
   "execution_count": 3,
   "metadata": {},
   "outputs": [],
   "source": [
    "outdir = './output_files/'\n",
    "os.makedirs(outdir, exist_ok=True)"
   ]
  },
  {
   "cell_type": "markdown",
   "metadata": {},
   "source": [
    "## Target amplicon\n",
    "We have performed sequencing of several VEP amplicons that include VEP sequences along with a PacBio index and several other features.\n",
    "The amplicons are defined as Genbank files.\n",
    "First, let's just look at the files:"
   ]
  },
  {
   "cell_type": "code",
   "execution_count": 4,
   "metadata": {},
   "outputs": [
    {
     "name": "stdout",
     "output_type": "stream",
     "text": [
      "LOCUS       LASV_G1959_WT           1730 bp ds-DNA     linear       14-JUN-2019\n",
      "DEFINITION  .\n",
      "ACCESSION   \n",
      "VERSION     \n",
      "SOURCE      Kate Dusenbury\n",
      "  ORGANISM  .\n",
      "COMMENT     PacBio amplicon for LASV G1959 WT sequence\n",
      "COMMENT     There are single nucleotide tags in the 5' and 3' termini to measure strand exchange.\n",
      "FEATURES             Location/Qualifiers\n",
      "     T2A             85..147\n",
      "                     /label=\"T2A\"\n",
      "     ZsGreen         15..84\n",
      "                     /label=\"ZsGreen\"\n",
      "     termini3        1639..1730\n",
      "                     /label=\"3'Termini\"\n",
      "     index           9..14\n",
      "                     /label=\"sample_index\"\n",
      "     leader5         1..8\n",
      "                     /label=\"5' leader\"\n",
      "     termini5        1..147\n",
      "                     /label=\"5'Termini\"\n",
      "     variant_tag5    34..34\n",
      "                     /variant_1=T\n",
      "                     /variant_2=C\n",
      "                     /label=\"5'VariantTag\"\n",
      "     variant_tag3    1702..1702\n",
      "                     /variant_1=G\n",
      "                     /variant_2=A\n",
      "                     /label=\"3'VariantTag\"\n",
      "     spacer          1624..1638\n",
      "                     /label=\"3'Spacer\"\n",
      "     gene            148..1623\n",
      "                     /label=\"LASV_G1959_WT\"\n",
      "ORIGIN\n",
      "        1 GACTGATANN NNNNcagcga cgccaagaac cagYagtggc acctgaccga gcacgccatc\n",
      "       61 gcctccggcT CCGCCTTGCC CGCTGGATCC GGCGAGGGCA GAGGAAGTCT GCTAACATGC\n",
      "      121 GGTGACGTCG AGGAGAATCC TGGCCCAATG GGACAGATAG TGACATTCTT CCAGGAAGTA\n",
      "      181 CCTCATGTGA TAGAAGAGGT GATGAACATT GTCCTCATTG CACTGTCTAT ACTAGCAGTG\n",
      "      241 CTGAAAGGTC TGTACAATTT TGCAACATGT GGCCTCGTTG GTTTGGTTAC CTTCCTCCTG\n",
      "      301 TTGTGTGGCA GGTCTTGCAC AACCAGTCTT TACAAAGGGG TCTATGAGCT TCAGACTCTG\n",
      "      361 GAATTAAACA TGGAGACACT CAATATGACC ATGCCCCTCT CCTGTACAAA GAACAACAGT\n",
      "      421 CATCATTATA TTATGGTGGG TAATGAGACA GGTCTAGAGC TGACCTTGAC CAACACGAGC\n",
      "      481 ATCATTAATC ATAAATTTTG CAATCTGTCT GATGCCCACA AAAAGAACCT CTATGATCAC\n",
      "      541 GCTCTTATGA GCATAATTTC AACTTTCCAT CTGTCCATTC CCAACTTCAA TCAGTATGAG\n",
      "      601 GCAATGAGCT GTGATTTCAA TGGGGGAAAG ATTAGTGTGC AGTACAACCT GAGTCACAGT\n",
      "      661 TATGCTGGGG ATGCGGCCAA CCATTGTGGC ACTGTTGCAA ATGGTGTCCT ACAGACCTTC\n",
      "      721 ATGAGGATGG CTTGGGGTGG AAGCTACATT GCTCTTGACT CAGGCCATGG CAGGTGGGAC\n",
      "      781 TGCATTATGA CTAGTTATCA GTACCTGATA ATCCAAAATA CAACCTGGGA AGATCACTGC\n",
      "      841 CAGTTCTCAA GACCATCTCC CATCGGCTAT CTCGGACTCC TCTCACAAAG GACCAGAGAT\n",
      "      901 ATTTATATTA GTAGAAGACT ACTAGGCACA TTCACATGGA CACTGTCAGA TTCTGAAGGT\n",
      "      961 AAGGACACAC CAGGGGGATA TTGTTTGACC AGATGGATGC TAATTGAAGC TGAACTAAAG\n",
      "     1021 TGCTTCGGGA ACACAGCTGT GGCAAAATGT AATGAGAAGC ATGATGAGGA ATTTTGTGAC\n",
      "     1081 ATGCTGAGGC TGTTTGACTT CAACAAACAA GCCATTCAAA GATTGAAAGC TGAAGCACAA\n",
      "     1141 ATGAGCATTC AATTGATCAA CAAGGCAGTA AATGCCTTGA TAAATGACCA GCTTATAATG\n",
      "     1201 AAGAACCATC TACGAGACAT AATGGGAATT CCATACTGTA ATTACAGCAA GTATTGGTAC\n",
      "     1261 CTCAACCACA CAACCACTGG GAAAACATCA CTGCCTAAAT GTTGGCTTGT ATCCAATGGT\n",
      "     1321 TCATACTTGA ATGAGACCCA CTTTTCTGAT GATATTGAAC AACAAGCTGA CAACATGATC\n",
      "     1381 ACTGAGATGT TACAGAAAGA GTACATGGAG AGGCAGGGGA AGACACCATT GGGCCTAGTC\n",
      "     1441 GACCTCTTTG TGTTCAGCAC AAGTTTCTAT CTCATTAGCA TCTTTCTTCA CCTAGTCAAA\n",
      "     1501 ATACCAACTC ATAGACATAT TGTAGGCAAG CCGTGTCCCA AACCTCACAG ATTGAACTAC\n",
      "     1561 ATGGGCATAT GTTCCTGTGG ACTCTACAAA CAGCCCGGTG TGCCTGTGAG ATGGAAGAGA\n",
      "     1621 TGAGCTAGCT AAACGCGTTG ATCCtaatca acctctggat tacaaaattt gtgaaagatt\n",
      "     1681 gactggtatt cttaactatg tRgctccttt tacgctatgt ggatacgctg \n",
      "//\n",
      "\n",
      "LOCUS       LASV_G1959_OPT           1730 bp ds-DNA     linear       14-JUN-2019\n",
      "DEFINITION  .\n",
      "ACCESSION   \n",
      "VERSION     \n",
      "SOURCE      Kate Dusenbury\n",
      "  ORGANISM  .\n",
      "\n",
      "COMMENT     PacBio amplicon for LASV G1959 OPT sequence\n",
      "COMMENT     There are single nucleotide tags in the 5' and 3' termini to measure strand exchange.\n",
      "FEATURES             Location/Qualifiers\n",
      "     T2A             85..147\n",
      "                     /label=\"T2A\"\n",
      "     ZsGreen         15..84\n",
      "                     /label=\"ZsGreen\"\n",
      "     termini3        1639..1730\n",
      "                     /label=\"3'Termini\"\n",
      "     index           9..14\n",
      "                     /label=\"sample_index\"\n",
      "     leader5         1..8\n",
      "                     /label=\"5' leader\"\n",
      "     termini5        1..147\n",
      "                     /label=\"5'Termini\"\n",
      "     variant_tag5    34..34\n",
      "                     /variant_1=T\n",
      "                     /variant_2=C\n",
      "                     /label=\"5'VariantTag\"\n",
      "     variant_tag3    1702..1702\n",
      "                     /variant_1=G\n",
      "                     /variant_2=A\n",
      "                     /label=\"3'VariantTag\"\n",
      "     spacer          1624..1638\n",
      "                     /label=\"3'Spacer\"\n",
      "     gene            148..1623\n",
      "                     /label=\"LASV_G1959_OPT\"\n",
      "ORIGIN\n",
      "        1 GACTGATANN NNNNcagcga cgccaagaac cagYagtggc acctgaccga gcacgccatc\n",
      "       61 gcctccggcT CCGCCTTGCC CGCTGGATCC GGCGAGGGCA GAGGAAGTCT GCTAACATGC\n",
      "      121 GGTGACGTCG AGGAGAATCC TGGCCCAATG GGACAGATCG TCACCTTCTT CCAAGAAGTG\n",
      "      181 CCTCATGTCA TCGAGGAGGT GATGAACATC GTGCTCATCG CTTTAAGCAT CCTCGCCGTT\n",
      "      241 CTTAAAGGTT TATACAACTT CGCCACTTGT GGTTTAGTGG GACTGGTCAC CTTTCTGCTG\n",
      "      301 CTGTGTGGTC GTAGCTGCAC AACCTCTTTA TACAAGGGCG TGTATGAGCT CCAGACTTTA\n",
      "      361 GAGCTGAACA TGGAGACTTT AAACATGACC ATGCCTTTAA GCTGCACAAA GAACAACAGC\n",
      "      421 CACCACTACA TCATGGTGGG CAACGAGACC GGACTCGAGC TGACCCTCAC CAATACCAGC\n",
      "      481 ATTATTAATC ACAAGTTCTG CAATTTAAGC GACGCCCACA AGAAGAATCT CTACGATCAC\n",
      "      541 GCCCTCATGT CCATCATTAG CACCTTCCAT TTAAGCATCC CTAACTTCAA CCAGTATGAA\n",
      "      601 GCCATGAGCT GCGACTTTAA CGGCGGCAAG ATTTCCGTGC AGTACAACCT CTCCCACAGC\n",
      "      661 TATGCCGGAG ACGCCGCCAA TCATTGTGGA ACCGTGGCCA ACGGAGTTCT TCAGACATTT\n",
      "      721 ATGAGGATGG CTTGGGGCGG CTCCTATATC GCTCTGGACT CCGGCCACGG TCGTTGGGAC\n",
      "      781 TGCATCATGA CCAGCTACCA ATATTTAATC ATCCAGAACA CCACTTGGGA GGACCACTGC\n",
      "      841 CAGTTCTCTC GTCCTTCTCC TATCGGATAC CTCGGTTTAC TGAGCCAGAG GACTCGTGAC\n",
      "      901 ATCTATATCT CTCGTAGGCT GCTGGGCACA TTCACTTGGA CTTTAAGCGA TAGCGAGGGC\n",
      "      961 AAGGACACTC CCGGTGGCTA CTGCCTCACT CGTTGGATGC TGATCGAAGC CGAGCTCAAG\n",
      "     1021 TGCTTCGGAA ACACCGCCGT GGCTAAGTGC AACGAGAAGC ACGATGAGGA GTTCTGCGAC\n",
      "     1081 ATGCTGAGGC TGTTTGATTT CAACAAGCAA GCTATCCAGA GGCTGAAAGC CGAAGCCCAG\n",
      "     1141 ATGAGCATCC AGCTGATCAA TAAGGCCGTG AACGCTCTGA TCAACGACCA GCTGATTATG\n",
      "     1201 AAGAATCATT TAAGAGACAT CATGGGCATC CCTTACTGCA ACTACAGCAA GTATTGGTAC\n",
      "     1261 CTCAACCATA CCACCACCGG AAAGACCTCT TTACCTAAAT GCTGGCTGGT GAGCAACGGC\n",
      "     1321 AGCTACCTCA ACGAGACACA TTTCAGCGAC GACATCGAGC AGCAAGCTGA CAACATGATC\n",
      "     1381 ACCGAGATGC TGCAGAAGGA GTATATGGAG AGGCAAGGTA AGACTCCTCT CGGCCTCGTG\n",
      "     1441 GATTTATTCG TGTTCAGCAC CAGCTTCTAC CTCATCAGCA TCTTTCTTCA TCTGGTCAAG\n",
      "     1501 ATTCCTACCC ATAGACACAT CGTGGGCAAG CCTTGTCCCA AGCCTCATAG ACTCAACTAC\n",
      "     1561 ATGGGCATCT GCAGCTGCGG ACTGTACAAG CAACCCGGTG TGCCCGTTAG ATGGAAGAGA\n",
      "     1621 TGAGCTAGCT AAACGCGTTG ATCCtaatca acctctggat tacaaaattt gtgaaagatt\n",
      "     1681 gactggtatt cttaactatg tRgctccttt tacgctatgt ggatacgctg \n",
      "//\n",
      "\n"
     ]
    }
   ],
   "source": [
    "target_file_names = ['LASV_G1959_WT', 'LASV_G1959_OPT']\n",
    "\n",
    "targetfiles = [f\"input_files/{target_file_name}.gb\" for target_file_name in target_file_names]\n",
    "\n",
    "\n",
    "for targetfile in targetfiles:\n",
    "    with open(targetfile) as f:\n",
    "        print(f.read())"
   ]
  },
  {
   "cell_type": "markdown",
   "metadata": {},
   "source": [
    "Read the amplicons into a `Targets` object, specifying the features that we require the target to contain:\n",
    "\n",
    "First, read in the `.yaml` file containing the `feature_parse_specs` for these targets. Here, I specify a T2A `feature_parse_spec` only for the LASV_G1959_WT target to test slightly different `feature_parse_specs` for each target."
   ]
  },
  {
   "cell_type": "code",
   "execution_count": 5,
   "metadata": {},
   "outputs": [],
   "source": [
    "VEP_parse_specs_file = 'input_files/VEP_target_feature_parse_specs.yaml'"
   ]
  },
  {
   "cell_type": "code",
   "execution_count": 6,
   "metadata": {},
   "outputs": [],
   "source": [
    "targets = alignparse.targets.Targets(seqsfile=targetfiles,\n",
    "                  feature_parse_specs=VEP_parse_specs_file,\n",
    "                  allow_extra_features=True)"
   ]
  },
  {
   "cell_type": "markdown",
   "metadata": {},
   "source": [
    "Plot the targets:"
   ]
  },
  {
   "cell_type": "code",
   "execution_count": 7,
   "metadata": {},
   "outputs": [
    {
     "data": {
      "image/png": "[encoded data removed]",
      "text/plain": [
       "<Figure size 720x432 with 2 Axes>"
      ]
     },
     "metadata": {
      "needs_background": "light"
     },
     "output_type": "display_data"
    }
   ],
   "source": [
    "_ = targets.plot(ax_width=10)"
   ]
  },
  {
   "cell_type": "markdown",
   "metadata": {},
   "source": [
    "We can also look at the featue parsing specifications as a dict or YAML string (here we do it as YAML string):"
   ]
  },
  {
   "cell_type": "code",
   "execution_count": 8,
   "metadata": {},
   "outputs": [
    {
     "name": "stdout",
     "output_type": "stream",
     "text": [
      "LASV_G1959_WT: &id001\n",
      "  query_clip5: 4\n",
      "  query_clip3: 4\n",
      "  termini5:\n",
      "    filter:\n",
      "      clip5: 4\n",
      "      mutation_nt_count: 1\n",
      "      mutation_op_count: null\n",
      "      clip3: 0\n",
      "    return: []\n",
      "  T2A:\n",
      "    filter:\n",
      "      mutation_nt_count: 5\n",
      "      mutation_op_count: null\n",
      "      clip5: 0\n",
      "      clip3: 0\n",
      "    return: []\n",
      "  gene:\n",
      "    filter:\n",
      "      mutation_nt_count: 30\n",
      "      clip5: 0\n",
      "      clip3: 0\n",
      "      mutation_op_count: 0\n",
      "    return:\n",
      "    - mutations\n",
      "  spacer:\n",
      "    filter:\n",
      "      mutation_nt_count: 1\n",
      "      mutation_op_count: null\n",
      "      clip5: 0\n",
      "      clip3: 0\n",
      "    return: []\n",
      "  index:\n",
      "    filter:\n",
      "      clip3: 3\n",
      "      clip5: 0\n",
      "      mutation_nt_count: 0\n",
      "      mutation_op_count: 0\n",
      "    return:\n",
      "    - sequence\n",
      "  termini3:\n",
      "    filter:\n",
      "      clip3: 4\n",
      "      mutation_nt_count: 1\n",
      "      mutation_op_count: null\n",
      "      clip5: 0\n",
      "    return: []\n",
      "  variant_tag5:\n",
      "    return:\n",
      "    - sequence\n",
      "    filter:\n",
      "      clip5: 0\n",
      "      clip3: 0\n",
      "      mutation_nt_count: 0\n",
      "      mutation_op_count: 0\n",
      "  variant_tag3:\n",
      "    return:\n",
      "    - sequence\n",
      "    filter:\n",
      "      clip5: 0\n",
      "      clip3: 0\n",
      "      mutation_nt_count: 0\n",
      "      mutation_op_count: 0\n",
      "LASV_G1959_OPT: *id001\n",
      "\n"
     ]
    }
   ],
   "source": [
    "print(targets.feature_parse_specs('yaml'))"
   ]
  },
  {
   "cell_type": "markdown",
   "metadata": {},
   "source": [
    "## PacBio CCSs\n",
    "We will align PacBio circular consensus sequences (CCSs) to the target.\n",
    "First, we want to look at the CCSs.\n",
    "A FASTQ file with these CCSs along with an associated report file were generated using the PacBio `ccs` program (see [here](https://github.com/PacificBiosciences/ccs) for details on `ccs`) using commands like the following (generates report file and BAM of CCSs):\n",
    "\n",
    "    ccs --minLength 50 --maxLength 5000 \\\n",
    "        --minPasses 3  --minPredictedAccuracy 0.999 \\\n",
    "        --reportFile vep_pilot_report.txt \\\n",
    "        --polish --numThreads 16 \\\n",
    "        vep_pilot_subreads.bam vep_pilot_ccs.bam\n",
    "        \n",
    "The BAM file was then converted to a FASTQ file using [samtools](http://www.htslib.org/) with flags to retain the number of passes (`np`) and read quality (`rq`) flags:\n",
    "\n",
    "    samtools bam2fq -T np,rq vep_pilot_ccs.bam > vep_pilot_ccs.fastq\n",
    "    \n",
    "Here is a data frame with the resulting FASTQ and BAM files:"
   ]
  },
  {
   "cell_type": "code",
   "execution_count": 9,
   "metadata": {},
   "outputs": [
    {
     "data": {
      "text/html": [
       "<div>\n",
       "<style scoped>\n",
       "    .dataframe tbody tr th:only-of-type {\n",
       "        vertical-align: middle;\n",
       "    }\n",
       "\n",
       "    .dataframe tbody tr th {\n",
       "        vertical-align: top;\n",
       "    }\n",
       "\n",
       "    .dataframe thead th {\n",
       "        text-align: right;\n",
       "    }\n",
       "</style>\n",
       "<table border=\"1\" class=\"dataframe\">\n",
       "  <thead>\n",
       "    <tr style=\"text-align: right;\">\n",
       "      <th></th>\n",
       "      <th>name</th>\n",
       "      <th>report</th>\n",
       "      <th>fastq</th>\n",
       "    </tr>\n",
       "  </thead>\n",
       "  <tbody>\n",
       "    <tr>\n",
       "      <td>0</td>\n",
       "      <td>vep_pilot</td>\n",
       "      <td>input_files/vep_pilot_report.txt</td>\n",
       "      <td>input_files/vep_pilot_ccs.fastq</td>\n",
       "    </tr>\n",
       "  </tbody>\n",
       "</table>\n",
       "</div>"
      ],
      "text/plain": [
       "        name                            report  \\\n",
       "0  vep_pilot  input_files/vep_pilot_report.txt   \n",
       "\n",
       "                             fastq  \n",
       "0  input_files/vep_pilot_ccs.fastq  "
      ]
     },
     "execution_count": 9,
     "metadata": {},
     "output_type": "execute_result"
    }
   ],
   "source": [
    "run_names = ['vep_pilot']\n",
    "ccs_dir = 'input_files'\n",
    "\n",
    "pacbio_runs = pd.DataFrame(\n",
    "            {'name': run_names,\n",
    "             'report': [f\"{ccs_dir}/{name}_report.txt\" for name in run_names],\n",
    "             'fastq': [f\"{ccs_dir}/{name}_ccs.fastq\" for name in run_names]\n",
    "             })\n",
    "\n",
    "pacbio_runs"
   ]
  },
  {
   "cell_type": "markdown",
   "metadata": {},
   "source": [
    "We create a `Summaries` object for these CCSs:"
   ]
  },
  {
   "cell_type": "code",
   "execution_count": 10,
   "metadata": {},
   "outputs": [],
   "source": [
    "ccs_summaries = alignparse.ccs.Summaries(pacbio_runs)"
   ]
  },
  {
   "cell_type": "markdown",
   "metadata": {},
   "source": [
    "Plot how many ZMWs yielded CCSs:"
   ]
  },
  {
   "cell_type": "code",
   "execution_count": 11,
   "metadata": {},
   "outputs": [
    {
     "data": {
      "image/png": "[encoded data removed]",
      "text/plain": [
       "<Figure size 40x250 with 1 Axes>"
      ]
     },
     "metadata": {},
     "output_type": "display_data"
    }
   ],
   "source": [
    "p = ccs_summaries.plot_zmw_stats()\n",
    "_ = p.draw()"
   ]
  },
  {
   "cell_type": "markdown",
   "metadata": {},
   "source": [
    "Statistics on the CCSs (length, number of subread passes, quality):"
   ]
  },
  {
   "cell_type": "code",
   "execution_count": 12,
   "metadata": {},
   "outputs": [
    {
     "data": {
      "image/png": "[encoded data removed]",
      "text/plain": [
       "<Figure size 175x175 with 1 Axes>"
      ]
     },
     "metadata": {},
     "output_type": "display_data"
    },
    {
     "data": {
      "image/png": "[encoded data removed]",
      "text/plain": [
       "<Figure size 175x175 with 1 Axes>"
      ]
     },
     "metadata": {},
     "output_type": "display_data"
    },
    {
     "data": {
      "image/png": "[encoded data removed]",
      "text/plain": [
       "<Figure size 175x175 with 1 Axes>"
      ]
     },
     "metadata": {},
     "output_type": "display_data"
    }
   ],
   "source": [
    "for stat in ['length', 'passes', 'quality']:\n",
    "    p = ccs_summaries.plot_ccs_stats(stat)\n",
    "    _ = p.draw()"
   ]
  },
  {
   "cell_type": "markdown",
   "metadata": {},
   "source": [
    "## Align CCSs to target\n",
    "Now we use `minimap2` to align the CCSs to the target.\n",
    "\n",
    "First, we create a `Mapper` object to run `minimap2`, using the options for codon-level deep mutational scanning:"
   ]
  },
  {
   "cell_type": "code",
   "execution_count": 13,
   "metadata": {},
   "outputs": [
    {
     "name": "stdout",
     "output_type": "stream",
     "text": [
      "Using `minimap2` 2.17-r941 with these options:\n",
      "-A2 -B4 -O12 -E2 --end-bonus=13 --score-N=4 --secondary=no --cs\n"
     ]
    }
   ],
   "source": [
    "mapper = alignparse.minimap2.Mapper(\n",
    "            options=alignparse.minimap2.OPTIONS_CODON_DMS,\n",
    "            retain_tags=['rq', 'np'])\n",
    "\n",
    "print(f\"Using `minimap2` {mapper.version} with these options:\\n{' '.join(mapper.options)}\")"
   ]
  },
  {
   "cell_type": "markdown",
   "metadata": {},
   "source": [
    "Now use this mapper to do the alignments to a SAM file.\n",
    "First, add the names of the desired alignment files to our data frame:"
   ]
  },
  {
   "cell_type": "code",
   "execution_count": 14,
   "metadata": {},
   "outputs": [
    {
     "data": {
      "text/html": [
       "<div>\n",
       "<style scoped>\n",
       "    .dataframe tbody tr th:only-of-type {\n",
       "        vertical-align: middle;\n",
       "    }\n",
       "\n",
       "    .dataframe tbody tr th {\n",
       "        vertical-align: top;\n",
       "    }\n",
       "\n",
       "    .dataframe thead th {\n",
       "        text-align: right;\n",
       "    }\n",
       "</style>\n",
       "<table border=\"1\" class=\"dataframe\">\n",
       "  <thead>\n",
       "    <tr style=\"text-align: right;\">\n",
       "      <th></th>\n",
       "      <th>name</th>\n",
       "      <th>report</th>\n",
       "      <th>fastq</th>\n",
       "      <th>alignments</th>\n",
       "    </tr>\n",
       "  </thead>\n",
       "  <tbody>\n",
       "    <tr>\n",
       "      <td>0</td>\n",
       "      <td>vep_pilot</td>\n",
       "      <td>input_files/vep_pilot_report.txt</td>\n",
       "      <td>input_files/vep_pilot_ccs.fastq</td>\n",
       "      <td>./output_files/vep_pilot_alignments.sam</td>\n",
       "    </tr>\n",
       "  </tbody>\n",
       "</table>\n",
       "</div>"
      ],
      "text/plain": [
       "        name                            report  \\\n",
       "0  vep_pilot  input_files/vep_pilot_report.txt   \n",
       "\n",
       "                             fastq                               alignments  \n",
       "0  input_files/vep_pilot_ccs.fastq  ./output_files/vep_pilot_alignments.sam  "
      ]
     },
     "execution_count": 14,
     "metadata": {},
     "output_type": "execute_result"
    }
   ],
   "source": [
    "pacbio_runs = pacbio_runs.assign(alignments=lambda x: outdir + x['name'] + '_alignments.sam')\n",
    "\n",
    "pacbio_runs"
   ]
  },
  {
   "cell_type": "markdown",
   "metadata": {},
   "source": [
    "Now use the mapper to actually align the FASTQ queries to the target:"
   ]
  },
  {
   "cell_type": "code",
   "execution_count": 15,
   "metadata": {},
   "outputs": [
    {
     "name": "stdout",
     "output_type": "stream",
     "text": [
      "Aligning input_files/vep_pilot_ccs.fastq to create ./output_files/vep_pilot_alignments.sam...\n"
     ]
    }
   ],
   "source": [
    "for tup in pacbio_runs.itertuples(index=False):\n",
    "    print(f\"Aligning {tup.fastq} to create {tup.alignments}...\")\n",
    "    targets.align(queryfile=tup.fastq,\n",
    "                  alignmentfile=tup.alignments,\n",
    "                  mapper=mapper)"
   ]
  },
  {
   "cell_type": "markdown",
   "metadata": {},
   "source": [
    "These SAM files now contain the alignments along with the [`cs` tag](https://github.com/lh3/minimap2#cs), which contains details on the mutations:"
   ]
  },
  {
   "cell_type": "code",
   "execution_count": 16,
   "metadata": {
    "scrolled": false
   },
   "outputs": [
    {
     "name": "stdout",
     "output_type": "stream",
     "text": [
      "First alignment in ./output_files/vep_pilot_alignments.sam has following `cs` tag:\n",
      "\n",
      ":8*nt*nc*nc*ng*nt*nt:19*nc:117\n",
      "\n",
      "and the following full line:\n",
      "\n",
      "m54228_190605_190010/4194380/ccs\t16\tLASV_G1959_OPT\t1\t0\t151M1678S\t*\t0\t0\tGACTGATATCCGTTCAGCGACGCCAAGAACCAGCAGTGGCACCTGACCGAGCACGCCATCGCCTCCGGCTCCGCCTTGCCCGCTGGATCCGGCGAGGGCAGAGGAAGTCTGCTAACATGCGGTGACGTCGAGGAGAATCCTGGCCCAATGGTTCCTCAGGTTCTTTTGTTTGTACCCCTTCTGGGTTTTTCGTTGTGTTTCGGGAAGTTCCCCATTTACACGATACCAGACGAACTTGGTCCCTGGAGCCCTATTGACATACACCATCTCAGCTGTCCAAATAACCTGGTTGTGGAGGATGAAGGATGTACCAACCTGTCCGAGTTCTCCTACATGGAACTCAAAGTGGGATACATCTCAGCCATCAAAGTGAACGGGTTCACTTGCACAGGTGTTGTGACAGAGGCAGAGACCTACACCAACTTTGTTGGTTATGTCACAACCACATTCAAGAGAAAGCATTTCCGCCCCACCCCAGACGCATGTAGAGCCGCGTATAACTGGAAGATGGCCGGTGACCCCAGATATGAAGAGTCCCTACACAATCCATACCCCGACTACCACTGGCTTCGAACTGTAAGAACCACCAAAGAGTCCCTCATTATCATATCCCCAAGTGTGACAGATTTGGACCCATATGACAAATCCCTTCACTCAAGGGTCTTCCCTGGCGGAAAGTGCTCAGGAATAACGGTGTCCTCTACCTACTGCTCAACTAACCATGATTACACCATTTGGATGCCCGAGGATCCGAGACCAAGGACACCTTGTAACATTTTTACCAATAGCAGAGGGAAGAGAGCATCCAAAGGGAACAAGACTTGCGGCTTTGTGGATGAAAGAGGCCTGTATAAGTCTCTAAAAGGAGCATGCAGGCTCAAGTTATGTGGAGTTCTTGGACTTAGACTTATGGATGGAACATGGGTCGCGATGCAAACATCAGATGAGACCAAATGGTGCCCTCCAGATCAGTTGGTGAATTTGCACGACTTTCACTCAGACGAGATTGAGCATCTCGTTGTGGAGGAGTTAGTCAAGAAAAGAGAGGAATGTCTGGATGCATTAGAGTCCATCATGACCACCAAGTCAGTAAGTTTCAGACGTCTCAGTCACCTGAGAAAACTTGTCCCAGGGTTTGGAAAAGCATATACCATATTCAACAAAACCTTGATGGAGGCTGATGCTCACTACAAGTCAGTCCGGACCTGGAATGAGATCATCCCCTCAAAAGGGTGTTTGAAAGTTGGAGGAAGGTGCCATCCTCATGTGAACGGGGTGTTTTTCAATGGTATAATATTAGGGCCTGACGGCCATGTCCTAATCCCAGAGATGCAATCATCCCTCCTCCAGCAACATATGGAGTTGTTGAAATCTTCAGTTATCCCCCTGATGCACCCCCTGGCAGACCCTTCTACAGTTTTCAAAGAAGGTGATGAGGCTGAGGATTTTGTTGAAGTTCACCTCCCCGATGTGTACAAACGGATCTCAGGGGTTGACCTGGGTCTCCCGAACTGGGGAAAGTATGTATTGATGACTGCAGGGGCCATGATTGGCCTGGTGTTGATATTTTCCCTAATGACATGGTGCAGAAGAGCCAATCGACCAGAATCGAAACAACGCAGTTTTGGAGGGACAGGGAGGAATGTGTCAGTCACTTCCCAAAGCGGAAAAGTCATACCTTCATGGGAATCATATAAGAGTGGAGGTGAGATCAGACTGTAAGCTAGCTAAACGCGTTGATCCTAATCAACCTCTGGATTACAAAATTTGTGAAAGATTGACTGGTATTCTTAACTATGTAGCTCCTTTTACGCTATGTGGATACGCTG\t~~~~~~~~~~~~~R~~~~~~~~~~~h~~}~~y~~~~~~h~~~~~~~~~~~~~~~~~y|~~~~~~~~~~~~~z~~~~~~~~^~~~~~~~~~~~~~~~~i~~~~~m~~~~~~~~~~~~~~~~~u~~~~~~~~~~~~~~~~~~~~~~~k~~~~~~|~~~~~~~~~~~~~K~~~t~~~~~~o~~~~~~n~~~~V~~~~~~~~~X~~~v~~~~~~~~V~~~j~~~|~~~~~~~~~~~~s~~}~p~~~y~~~~~~~q~~~~~~~~~~~~~w~~~~~~~~~~~~~~~d~~~~~~~~~w~~~v~~~~~~~~~~~~~~~~o~~~~~~~~~~~m~Y~~~s~~~~~~~~u~~~~~~~~~~q~~~~~~~~~~~~o~~~~~n~~~~~~~~q~@~~~~~~~~~~~~~~~a~~~~~~~~~u~~~~~~~m~~~~~~~~~~~_~~n~v~z~~~~~~~~M~s~~~~~~~~~~m~~z~~~~~S~~~~~~e~~~~U~~~~~~~~~~~~~~~~~~~~~~~g~~~~~~~~x~j~j~~~~~~~~h~~~~~~~~jx~~~~~[~~~~~~~~~~~~~~~~H~~~~~~{~~~~{~~~~~~~~~~~~{~~Z~u~~~~~`~~~`~~5~~~~~|~~~~~~~~~[~~~~~~~~~~~~~~v~s~~~u~~~~r~~~~x~~~h~|~~~~~~~~~L2~~a~~0y~y~~c~~w~~~~~~~~~~~~~o~~~x~{~p~~~~~~~~~~~~~~~l~~~y~w~~~~~~~~~~~~~~r~|~~~~~lz~~u~~~~~~~~~~~~~~~~~~~~z~~~p~~~~~~B~~s~w~~~~~~~~~^~u~~|~~~~~~~~~d~~W~k~~~~~~~~~~~z~~~R{~~~~~~~~G~~~~~w~~~~~~~~~\\~~~~~~K~~~~~~n~~~~~w~y~~~~[~~~~~~~~~p~~k~w~~~f~~~~~~~~~~~q~w~n~~~~~i~a~~~~j~~~~o~~~~~~~~~~~~~~~~b~~~~~~~Z~~~~y~~y~~~n~t~~~~~~i~~~~~~~~~z~~~~~~t~~~~v~~f~~~~~~~~~~~g~~~z~~~~~~y~~~~~~x~~~N~~~~~p~p~z~~~~~~~~~~~z~~~~~~z~~~~~~~~g~~~~|~~~~~~~~~~~_~~~~~~~~~~~~}~~~~~~~~~~~`~~n~~~~a~~~w~~G~w~~~>~~~~~~~~~~~~~~~~~~~~~I~~~~~~~~~~~o~~~~~~~~~~~~~~~~~~~~~~~p~l~~~~~~~~~~~~~~~~~~~~d~~~~~K~~y~~~~i~~~n~~~~~~~~~~~~~~~~~~~~~~~~~~r~~~~~~m~~~~~~4~~~~~~~~~~~~~~~~~~~~~~~~~~~~j~~~~~w~~~~~~P~~~~~~~~~~~~~~~~k~~v~~~~~~~~~~~~~~~~~~~~~}~~~t~~~~~~~~|~~~~~~N~~~t~~~~~~~S~~~~~~~~~g~~~~~~~~~~~a~~~l~~~~~~~~~~~~~~~{~~~~~~~Y~~`~~~~~~~~~~~~~~j~~~~~~~~~~~x~~~~~~~~~~~~g~~~~~~~~~e~~~~~~~~~~~~~~?~~n~~~~~~~~p~~~~~~~~~~~~~e~~~~~~~~~~~{~~~~~~8~~q~~~~Y~~z~~~~~~~~~~r~m~~~~~~w~~~~~~~~~~~~~~b~~~~~t~~~~~~~~~~~a~f~~~e~~~~~w~~~~~~~~`~~~w~~~~~~~~\\~~q~~~p~~~c~~~~~~~y~~~~~~~\\~d~~~~~~~o~w~~~x~~~~~~l~z~~~~~~~~~~~~~~~~~~~g~~~r~O~~~~~~~~~~~~~~~~~~~~~~~~~~~O~~|~~~~~~~~~~~~~~~~~~~~~~{~~~~~~~~~~~~~}~~~h~~~~~~~~~~~~~~~~r~~\tNM:i:7\tms:i:268\tAS:i:268\tnn:i:7\ttp:A:P\tcm:i:32\ts1:i:167\ts2:i:167\tde:f:0\tcs:Z::8*nt*nc*nc*ng*nt*nt:19*nc:117\trl:i:0\trq:f:0.999954\tnp:i:13\n"
     ]
    }
   ],
   "source": [
    "for fname in pacbio_runs['alignments'][:1]:\n",
    "    with pysam.AlignmentFile(fname) as f:\n",
    "        a = next(f)\n",
    "        print(f\"First alignment in {fname} has following `cs` tag:\\n\\n{a.get_tag('cs')}\\n\\n\"\n",
    "         f\"and the following full line:\\n\\n{a.to_string()}\"\n",
    "         )"
   ]
  },
  {
   "cell_type": "code",
   "execution_count": 17,
   "metadata": {},
   "outputs": [],
   "source": [
    "for fname in pacbio_runs['alignments'][:1]:\n",
    "    d = targets.parse_alignment_cs(fname)"
   ]
  },
  {
   "cell_type": "code",
   "execution_count": 18,
   "metadata": {},
   "outputs": [
    {
     "data": {
      "text/html": [
       "<div>\n",
       "<style scoped>\n",
       "    .dataframe tbody tr th:only-of-type {\n",
       "        vertical-align: middle;\n",
       "    }\n",
       "\n",
       "    .dataframe tbody tr th {\n",
       "        vertical-align: top;\n",
       "    }\n",
       "\n",
       "    .dataframe thead th {\n",
       "        text-align: right;\n",
       "    }\n",
       "</style>\n",
       "<table border=\"1\" class=\"dataframe\">\n",
       "  <thead>\n",
       "    <tr style=\"text-align: right;\">\n",
       "      <th></th>\n",
       "      <th>query_name</th>\n",
       "      <th>query_clip5</th>\n",
       "      <th>query_clip3</th>\n",
       "      <th>termini5_cs</th>\n",
       "      <th>termini5_clip5</th>\n",
       "      <th>termini5_clip3</th>\n",
       "      <th>T2A_cs</th>\n",
       "      <th>T2A_clip5</th>\n",
       "      <th>T2A_clip3</th>\n",
       "      <th>gene_cs</th>\n",
       "      <th>...</th>\n",
       "      <th>index_clip3</th>\n",
       "      <th>termini3_cs</th>\n",
       "      <th>termini3_clip5</th>\n",
       "      <th>termini3_clip3</th>\n",
       "      <th>variant_tag5_cs</th>\n",
       "      <th>variant_tag5_clip5</th>\n",
       "      <th>variant_tag5_clip3</th>\n",
       "      <th>variant_tag3_cs</th>\n",
       "      <th>variant_tag3_clip5</th>\n",
       "      <th>variant_tag3_clip3</th>\n",
       "    </tr>\n",
       "  </thead>\n",
       "  <tbody>\n",
       "    <tr>\n",
       "      <td>0</td>\n",
       "      <td>m54228_190605_190010/4194380/ccs</td>\n",
       "      <td>0</td>\n",
       "      <td>1678</td>\n",
       "      <td>:8*nt*nc*nc*ng*nt*nt:19*nc:113</td>\n",
       "      <td>0</td>\n",
       "      <td>0</td>\n",
       "      <td>:63</td>\n",
       "      <td>0</td>\n",
       "      <td>0</td>\n",
       "      <td>:4</td>\n",
       "      <td>...</td>\n",
       "      <td>0</td>\n",
       "      <td></td>\n",
       "      <td>0</td>\n",
       "      <td>92</td>\n",
       "      <td>*nc</td>\n",
       "      <td>0</td>\n",
       "      <td>0</td>\n",
       "      <td></td>\n",
       "      <td>0</td>\n",
       "      <td>1</td>\n",
       "    </tr>\n",
       "    <tr>\n",
       "      <td>1</td>\n",
       "      <td>m54228_190605_190010/4194382/ccs</td>\n",
       "      <td>0</td>\n",
       "      <td>0</td>\n",
       "      <td>:8*ng*na*ng*na*nc*ng:19*nc:113</td>\n",
       "      <td>0</td>\n",
       "      <td>0</td>\n",
       "      <td>:63</td>\n",
       "      <td>0</td>\n",
       "      <td>0</td>\n",
       "      <td>:5*ac:8*cg:26*cg:2*ct:14*ct:8*cg:12*ag:1*cg:2*...</td>\n",
       "      <td>...</td>\n",
       "      <td>0</td>\n",
       "      <td>:63*na:28</td>\n",
       "      <td>0</td>\n",
       "      <td>0</td>\n",
       "      <td>*nc</td>\n",
       "      <td>0</td>\n",
       "      <td>0</td>\n",
       "      <td>*na</td>\n",
       "      <td>0</td>\n",
       "      <td>0</td>\n",
       "    </tr>\n",
       "    <tr>\n",
       "      <td>2</td>\n",
       "      <td>m54228_190605_190010/4194386/ccs</td>\n",
       "      <td>9</td>\n",
       "      <td>0</td>\n",
       "      <td>:19*nc:113</td>\n",
       "      <td>14</td>\n",
       "      <td>0</td>\n",
       "      <td>:63</td>\n",
       "      <td>0</td>\n",
       "      <td>0</td>\n",
       "      <td>:1476</td>\n",
       "      <td>...</td>\n",
       "      <td>0</td>\n",
       "      <td>:63*na:28</td>\n",
       "      <td>0</td>\n",
       "      <td>0</td>\n",
       "      <td>*nc</td>\n",
       "      <td>0</td>\n",
       "      <td>0</td>\n",
       "      <td>*na</td>\n",
       "      <td>0</td>\n",
       "      <td>0</td>\n",
       "    </tr>\n",
       "    <tr>\n",
       "      <td>3</td>\n",
       "      <td>m54228_190605_190010/4194390/ccs</td>\n",
       "      <td>0</td>\n",
       "      <td>0</td>\n",
       "      <td>:8*na*nc*ng*na*nc*nc:19*nc:113</td>\n",
       "      <td>0</td>\n",
       "      <td>0</td>\n",
       "      <td>:63</td>\n",
       "      <td>0</td>\n",
       "      <td>0</td>\n",
       "      <td>:5*ac:8*cg:26*cg:2*ct:14*ct:8*cg:12*ag:1*cg:2*...</td>\n",
       "      <td>...</td>\n",
       "      <td>0</td>\n",
       "      <td>:63*na:28</td>\n",
       "      <td>0</td>\n",
       "      <td>0</td>\n",
       "      <td>*nc</td>\n",
       "      <td>0</td>\n",
       "      <td>0</td>\n",
       "      <td>*na</td>\n",
       "      <td>0</td>\n",
       "      <td>0</td>\n",
       "    </tr>\n",
       "    <tr>\n",
       "      <td>4</td>\n",
       "      <td>m54228_190605_190010/4194392/ccs</td>\n",
       "      <td>0</td>\n",
       "      <td>0</td>\n",
       "      <td>:8*ng*ng*na*ng*nt*nc:19*na:113</td>\n",
       "      <td>0</td>\n",
       "      <td>0</td>\n",
       "      <td>:63</td>\n",
       "      <td>0</td>\n",
       "      <td>0</td>\n",
       "      <td>:1476</td>\n",
       "      <td>...</td>\n",
       "      <td>0</td>\n",
       "      <td>:63*nt:28</td>\n",
       "      <td>0</td>\n",
       "      <td>0</td>\n",
       "      <td>*na</td>\n",
       "      <td>0</td>\n",
       "      <td>0</td>\n",
       "      <td>*nt</td>\n",
       "      <td>0</td>\n",
       "      <td>0</td>\n",
       "    </tr>\n",
       "  </tbody>\n",
       "</table>\n",
       "<p>5 rows × 27 columns</p>\n",
       "</div>"
      ],
      "text/plain": [
       "                         query_name  query_clip5  query_clip3  \\\n",
       "0  m54228_190605_190010/4194380/ccs            0         1678   \n",
       "1  m54228_190605_190010/4194382/ccs            0            0   \n",
       "2  m54228_190605_190010/4194386/ccs            9            0   \n",
       "3  m54228_190605_190010/4194390/ccs            0            0   \n",
       "4  m54228_190605_190010/4194392/ccs            0            0   \n",
       "\n",
       "                      termini5_cs  termini5_clip5  termini5_clip3 T2A_cs  \\\n",
       "0  :8*nt*nc*nc*ng*nt*nt:19*nc:113               0               0    :63   \n",
       "1  :8*ng*na*ng*na*nc*ng:19*nc:113               0               0    :63   \n",
       "2                      :19*nc:113              14               0    :63   \n",
       "3  :8*na*nc*ng*na*nc*nc:19*nc:113               0               0    :63   \n",
       "4  :8*ng*ng*na*ng*nt*nc:19*na:113               0               0    :63   \n",
       "\n",
       "   T2A_clip5  T2A_clip3                                            gene_cs  \\\n",
       "0          0          0                                                 :4   \n",
       "1          0          0  :5*ac:8*cg:26*cg:2*ct:14*ct:8*cg:12*ag:1*cg:2*...   \n",
       "2          0          0                                              :1476   \n",
       "3          0          0  :5*ac:8*cg:26*cg:2*ct:14*ct:8*cg:12*ag:1*cg:2*...   \n",
       "4          0          0                                              :1476   \n",
       "\n",
       "   ...  index_clip3  termini3_cs termini3_clip5  termini3_clip3  \\\n",
       "0  ...            0                           0              92   \n",
       "1  ...            0    :63*na:28              0               0   \n",
       "2  ...            0    :63*na:28              0               0   \n",
       "3  ...            0    :63*na:28              0               0   \n",
       "4  ...            0    :63*nt:28              0               0   \n",
       "\n",
       "   variant_tag5_cs variant_tag5_clip5  variant_tag5_clip3  variant_tag3_cs  \\\n",
       "0              *nc                  0                   0                    \n",
       "1              *nc                  0                   0              *na   \n",
       "2              *nc                  0                   0              *na   \n",
       "3              *nc                  0                   0              *na   \n",
       "4              *na                  0                   0              *nt   \n",
       "\n",
       "  variant_tag3_clip5  variant_tag3_clip3  \n",
       "0                  0                   1  \n",
       "1                  0                   0  \n",
       "2                  0                   0  \n",
       "3                  0                   0  \n",
       "4                  0                   0  \n",
       "\n",
       "[5 rows x 27 columns]"
      ]
     },
     "execution_count": 18,
     "metadata": {},
     "output_type": "execute_result"
    }
   ],
   "source": [
    "d['LASV_G1959_OPT'].head()"
   ]
  }
 ],
 "metadata": {
  "kernelspec": {
   "display_name": "Python 3",
   "language": "python",
   "name": "python3"
  },
  "language_info": {
   "codemirror_mode": {
    "name": "ipython",
    "version": 3
   },
   "file_extension": ".py",
   "mimetype": "text/x-python",
   "name": "python",
   "nbconvert_exporter": "python",
   "pygments_lexer": "ipython3",
   "version": "3.6.7"
  },
  "toc": {
   "base_numbering": 1,
   "nav_menu": {},
   "number_sections": false,
   "sideBar": true,
   "skip_h1_title": false,
   "title_cell": "Table of Contents",
   "title_sidebar": "Contents",
   "toc_cell": false,
   "toc_position": {},
   "toc_section_display": true,
   "toc_window_display": true
  }
 },
 "nbformat": 4,
 "nbformat_minor": 2
}
