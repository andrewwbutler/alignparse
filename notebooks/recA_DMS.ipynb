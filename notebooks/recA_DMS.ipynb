{
 "cells": [
  {
   "cell_type": "markdown",
   "metadata": {
    "toc": true
   },
   "source": [
    "<h1>Table of Contents<span class=\"tocSkip\"></span></h1>\n",
    "<div class=\"toc\" style=\"margin-top: 1em;\"><ul class=\"toc-item\"><li><span><a href=\"#RecA-deep-mutational-scanning-libraries\" data-toc-modified-id=\"RecA-deep-mutational-scanning-libraries-1\">RecA deep mutational scanning libraries</a></span><ul class=\"toc-item\"><li><span><a href=\"#Set-up-for-analysis\" data-toc-modified-id=\"Set-up-for-analysis-1.1\">Set up for analysis</a></span></li><li><span><a href=\"#Target-amplicon\" data-toc-modified-id=\"Target-amplicon-1.2\">Target amplicon</a></span></li><li><span><a href=\"#PacBio-CCSs\" data-toc-modified-id=\"PacBio-CCSs-1.3\">PacBio CCSs</a></span></li><li><span><a href=\"#Align-CCSs-to-target\" data-toc-modified-id=\"Align-CCSs-to-target-1.4\">Align CCSs to target</a></span></li><li><span><a href=\"#Parse-alignments\" data-toc-modified-id=\"Parse-alignments-1.5\">Parse alignments</a></span></li><li><span><a href=\"#Align-and-parse-several-sets-of-CCSs\" data-toc-modified-id=\"Align-and-parse-several-sets-of-CCSs-1.6\">Align and parse several sets of CCSs</a></span></li></ul></li></ul></div>"
   ]
  },
  {
   "cell_type": "markdown",
   "metadata": {},
   "source": [
    "# RecA deep mutational scanning libraries\n",
    "This example shows how to process PacBio circular consensus sequencing of a barcoded library of RecA variants for deep mutational scanning.\n",
    "Note it just uses a snippet of the full data set of circular consensus sequences so that the example is small and fast."
   ]
  },
  {
   "cell_type": "markdown",
   "metadata": {},
   "source": [
    "## Set up for analysis\n",
    "Import necessary Python modules.\n",
    "We use `alignparse` for most of the operations, [plotnine](https://plotnine.readthedocs.io) for ggplot2-like plotting, and [pysam](https://pysam.readthedocs.io) for handling SAM files:"
   ]
  },
  {
   "cell_type": "code",
   "execution_count": 1,
   "metadata": {},
   "outputs": [],
   "source": [
    "import os\n",
    "import warnings\n",
    "\n",
    "import pandas as pd\n",
    "\n",
    "from plotnine import *\n",
    "\n",
    "import pysam\n",
    "\n",
    "import alignparse.ccs\n",
    "import alignparse.minimap2\n",
    "import alignparse.targets"
   ]
  },
  {
   "cell_type": "markdown",
   "metadata": {},
   "source": [
    "Suppress warnings that clutter output:"
   ]
  },
  {
   "cell_type": "code",
   "execution_count": 2,
   "metadata": {},
   "outputs": [],
   "source": [
    "warnings.simplefilter('ignore')"
   ]
  },
  {
   "cell_type": "markdown",
   "metadata": {},
   "source": [
    "Directory for output:"
   ]
  },
  {
   "cell_type": "code",
   "execution_count": 3,
   "metadata": {},
   "outputs": [],
   "source": [
    "outdir = './output_files/'\n",
    "os.makedirs(outdir, exist_ok=True)"
   ]
  },
  {
   "cell_type": "markdown",
   "metadata": {},
   "source": [
    "## Target amplicon\n",
    "We have performed sequencing of an amplicon that includes the RecA gene along with barcodes and several other features.\n",
    "The amplicon is defined as a Genbank file.\n",
    "First, let's just look at that file.\n",
    "Note the way that it defines the features; this is how they must be defined to be handled by `alignparse`.\n",
    "Note also how there are ambiguous nucleotides in the barcode and variant tag regions:"
   ]
  },
  {
   "cell_type": "code",
   "execution_count": 4,
   "metadata": {},
   "outputs": [
    {
     "name": "stdout",
     "output_type": "stream",
     "text": [
      "LOCUS       RecA_PacBio_amplicon    1342 bp ds-DNA     linear       06-AUG-2018\n",
      "DEFINITION  PacBio amplicon for deep mutational scanning of E. coli RecA.\n",
      "ACCESSION   None\n",
      "VERSION     \n",
      "SOURCE      Danny Lawrence\n",
      "  ORGANISM  .\n",
      "COMMENT     PacBio amplicon for RecA libraries.\n",
      "COMMENT     There are single nucleotide tags in the 5' and 3' termini to measure strand exchange.\n",
      "FEATURES             Location/Qualifiers\n",
      "     termini5        1..147\n",
      "                     /label=\"termini 5' of gene\"\n",
      "     gene            148..1206\n",
      "                     /label=\"RecA gene\"\n",
      "     spacer          1207..1285\n",
      "                     /label=\"spacer between gene & barcode\"\n",
      "     barcode         1286..1303\n",
      "                     /label=\"18 nucleotide barcode\"\n",
      "     termini3        1304..1342\n",
      "                     /label=\"termini 3' of barcode\"\n",
      "     variant_tag5    33..33\n",
      "                     /label=\"5' variant tag\"\n",
      "     variant_tag3    1311..1311\n",
      "                     /label=\"3' variant tag\"\n",
      "ORIGIN\n",
      "        1 gcacggcgtc acactttgct atgccatagc atRtttatcc ataagattag cggatcctac\n",
      "       61 ctgacgcttt ttatcgcaac tctctactgt ttctccataa cagaacatat tgactatccg\n",
      "      121 gtattacccg gcatgacagg agtaaaaATG GCTATCGACG AAAACAAACA GAAAGCGTTG\n",
      "      181 GCGGCAGCAC TGGGCCAGAT TGAGAAACAA TTTGGTAAAG GCTCCATCAT GCGCCTGGGT\n",
      "      241 GAAGACCGTT CCATGGATGT GGAAACCATC TCTACCGGTT CGCTTTCACT GGATATCGCG\n",
      "      301 CTTGGGGCAG GTGGTCTGCC GATGGGCCGT ATCGTCGAAA TCTACGGACC GGAATCTTCC\n",
      "      361 GGTAAAACCA CGCTGACGCT GCAGGTGATC GCCGCAGCGC AGCGTGAAGG TAAAACCTGT\n",
      "      421 GCGTTTATCG ATGCTGAACA CGCGCTGGAC CCAATCTACG CACGTAAACT GGGCGTCGAT\n",
      "      481 ATCGACAACC TGCTGTGCTC CCAGCCGGAC ACCGGCGAGC AGGCACTGGA AATCTGTGAC\n",
      "      541 GCCCTGGCGC GTTCTGGCGC AGTAGACGTT ATCGTCGTTG ACTCCGTGGC GGCACTGACG\n",
      "      601 CCGAAAGCGG AAATCGAAGG CGAAATCGGC GACTCTCATA TGGGCCTTGC GGCACGTATG\n",
      "      661 ATGAGCCAGG CGATGCGTAA GCTGGCGGGT AACCTGAAGC AGTCCAACAC GCTGCTGATC\n",
      "      721 TTCATCAACC AGATCCGTAT GAAAATTGGT GTGATGTTCG GCAACCCGGA AACCACTACC\n",
      "      781 GGTGGTAACG CGCTGAAATT CTACGCCTCT GTTCGTCTCG ACATCCGTCG TATCGGCGCG\n",
      "      841 GTGAAAGAGG GCGAAAACGT GGTGGGTAGC GAAACCCGCG TGAAAGTGGT GAAGAACAAA\n",
      "      901 ATCGCTGCGC CGTTTAAACA GGCTGAATTC CAGATCCTCT ACGGCGAAGG TATCAACTTC\n",
      "      961 TACGGCGAAC TGGTTGACCT GGGCGTAAAA GAGAAGCTGA TCGAGAAAGC AGGCGCGTGG\n",
      "     1021 TACAGCTACA AAGGTGAGAA GATCGGTCAG GGTAAAGCGA ATGCGACTGC CTGGCTGAAA\n",
      "     1081 GATAACCCGG AAACCGCGAA AGAGATCGAG AAGAAAGTAC GTGAGTTGCT GCTGAGCAAC\n",
      "     1141 CCGAACTCAA CGCCGGATTT CTCTGTAGAT GATAGCGAAG GCGTAGCAGA AACTAACGAA\n",
      "     1201 GATTTTTAAt cgtcttgttt gatacacaag ggtcgcatct gcggcccttt tgctttttta\n",
      "     1261 agttgtaagg atatgccatt ctagannnnn nnnnnnnnnn nnnagatcgg Yagagcgtcg\n",
      "     1321 tgtagggaaa gagtgtggta cc   \n",
      "//\n",
      "\n"
     ]
    }
   ],
   "source": [
    "recA_targetfile = 'input_files/recA_amplicon.gb'\n",
    "\n",
    "with open(recA_targetfile) as f:\n",
    "    print(f.read())"
   ]
  },
  {
   "cell_type": "markdown",
   "metadata": {},
   "source": [
    "Along with the Genbank file giving the sequence of the amplicon, we have a YAML file specifying how we filter and parse alignments to this amplicon.\n",
    "Below is the text of the YAML file.\n",
    "\n",
    "It tells us how well alignments must match the target before we filter them.\n",
    "The query clipping indicates how much of the query is clipped at each end prior to the alignment, and for each feature it indicates how much clipping is allowed as well as the number of mutated nucleotides and mutation \"operations\" (independent indels or single-nucleotide substitutions) are allowed.\n",
    "Below the mutation operation filter is all set to `null`, meaning that no filter is applied for these.\n",
    "When filters are missing for a feature, they are automatically set to zero.\n",
    "\n",
    "It also tells us what information we want to return from alignments that are not filtered.\n",
    "In some cases we return nothing, in other cases we return the mutations or the the full sequence of the feature:"
   ]
  },
  {
   "cell_type": "code",
   "execution_count": 5,
   "metadata": {},
   "outputs": [
    {
     "name": "stdout",
     "output_type": "stream",
     "text": [
      "RecA_PacBio_amplicon:\n",
      "  query_clip5: 4\n",
      "  query_clip3: 4\n",
      "  termini5:\n",
      "    filter:\n",
      "      clip5: 4\n",
      "      mutation_nt_count: 1\n",
      "      mutation_op_count: null\n",
      "  gene:\n",
      "    filter:\n",
      "      mutation_nt_count: 30\n",
      "      mutation_op_count: null\n",
      "    return: mutations\n",
      "  spacer:\n",
      "    filter:\n",
      "      mutation_nt_count: 1\n",
      "      mutation_op_count: null\n",
      "  barcode:\n",
      "    filter:\n",
      "      mutation_nt_count: 0\n",
      "      mutation_op_count: null\n",
      "    return: sequence\n",
      "  termini3:\n",
      "    filter:\n",
      "      clip3: 4\n",
      "      mutation_nt_count: 1\n",
      "      mutation_op_count: null\n",
      "  variant_tag5:\n",
      "    return: sequence\n",
      "  variant_tag3:\n",
      "    return: sequence\n",
      "\n"
     ]
    }
   ],
   "source": [
    "recA_parse_specs_file = 'input_files/recA_feature_parse_specs.yaml'\n",
    "with open(recA_parse_specs_file) as f:\n",
    "    print(f.read())"
   ]
  },
  {
   "cell_type": "markdown",
   "metadata": {},
   "source": [
    "We now read the amplicon into a `Targets` object with the feature-parsing specs:"
   ]
  },
  {
   "cell_type": "code",
   "execution_count": 6,
   "metadata": {},
   "outputs": [],
   "source": [
    "targets = alignparse.targets.Targets(\n",
    "                seqsfile=recA_targetfile,\n",
    "                feature_parse_specs=recA_parse_specs_file)"
   ]
  },
  {
   "cell_type": "markdown",
   "metadata": {},
   "source": [
    "We can plot the `Targets` object:"
   ]
  },
  {
   "cell_type": "code",
   "execution_count": 7,
   "metadata": {},
   "outputs": [
    {
     "data": {
      "image/png": "[encoded data removed]",
      "text/plain": [
       "<Figure size 720x216 with 1 Axes>"
      ]
     },
     "metadata": {
      "needs_background": "light"
     },
     "output_type": "display_data"
    }
   ],
   "source": [
    "_ = targets.plot(ax_width=10)"
   ]
  },
  {
   "cell_type": "markdown",
   "metadata": {},
   "source": [
    "We can also look at the featue parsing specifications as a dict or YAML string (here we do it as YAML string).\n",
    "Note that all the defaults that were not specified in the YAML file above have now been filled in:"
   ]
  },
  {
   "cell_type": "code",
   "execution_count": 8,
   "metadata": {},
   "outputs": [
    {
     "name": "stdout",
     "output_type": "stream",
     "text": [
      "RecA_PacBio_amplicon:\n",
      "  query_clip5: 4\n",
      "  query_clip3: 4\n",
      "  termini5:\n",
      "    filter:\n",
      "      clip5: 4\n",
      "      mutation_nt_count: 1\n",
      "      mutation_op_count: null\n",
      "      clip3: 0\n",
      "    return: []\n",
      "  gene:\n",
      "    filter:\n",
      "      mutation_nt_count: 30\n",
      "      mutation_op_count: null\n",
      "      clip5: 0\n",
      "      clip3: 0\n",
      "    return:\n",
      "    - mutations\n",
      "  spacer:\n",
      "    filter:\n",
      "      mutation_nt_count: 1\n",
      "      mutation_op_count: null\n",
      "      clip5: 0\n",
      "      clip3: 0\n",
      "    return: []\n",
      "  barcode:\n",
      "    filter:\n",
      "      mutation_nt_count: 0\n",
      "      mutation_op_count: null\n",
      "      clip5: 0\n",
      "      clip3: 0\n",
      "    return:\n",
      "    - sequence\n",
      "  termini3:\n",
      "    filter:\n",
      "      clip3: 4\n",
      "      mutation_nt_count: 1\n",
      "      mutation_op_count: null\n",
      "      clip5: 0\n",
      "    return: []\n",
      "  variant_tag5:\n",
      "    return:\n",
      "    - sequence\n",
      "    filter:\n",
      "      clip5: 0\n",
      "      clip3: 0\n",
      "      mutation_nt_count: 0\n",
      "      mutation_op_count: 0\n",
      "  variant_tag3:\n",
      "    return:\n",
      "    - sequence\n",
      "    filter:\n",
      "      clip5: 0\n",
      "      clip3: 0\n",
      "      mutation_nt_count: 0\n",
      "      mutation_op_count: 0\n",
      "\n"
     ]
    }
   ],
   "source": [
    "print(targets.feature_parse_specs('yaml'))"
   ]
  },
  {
   "cell_type": "markdown",
   "metadata": {},
   "source": [
    "## PacBio CCSs\n",
    "We will align PacBio circular consensus sequences (CCSs) to the target.\n",
    "First, we want to look at the CCSs.\n",
    "A FASTQ file with these CCSs along with an associated report file were generated using the PacBio `ccs` program (see [here](https://github.com/PacificBiosciences/ccs) for details on `ccs`) using commands like the following (generates report file and BAM of CCSs):\n",
    "\n",
    "    ccs --minLength 50 --maxLength 5000 \\\n",
    "        --minPasses 3  --minPredictedAccuracy 0.999 \\\n",
    "        --reportFile recA_lib-1_report.txt \\\n",
    "        --polish --numThreads 16 \\\n",
    "        recA_lib-1_subreads.bam lib-1_ccs.bam\n",
    "        \n",
    "The BAM file was then converted to a FASTQ file using [samtools](http://www.htslib.org/) with flags to retain the number of passes (`np`) and read quality (`rq`) flags:\n",
    "\n",
    "    samtools bam2fq -T np,rq lib-1_ccs.bam > lib-1_ccs.fastq\n",
    "    \n",
    "Here is a data frame with the resulting FASTQ and BAM files:"
   ]
  },
  {
   "cell_type": "code",
   "execution_count": 9,
   "metadata": {},
   "outputs": [
    {
     "data": {
      "text/html": [
       "<div>\n",
       "<style scoped>\n",
       "    .dataframe tbody tr th:only-of-type {\n",
       "        vertical-align: middle;\n",
       "    }\n",
       "\n",
       "    .dataframe tbody tr th {\n",
       "        vertical-align: top;\n",
       "    }\n",
       "\n",
       "    .dataframe thead th {\n",
       "        text-align: right;\n",
       "    }\n",
       "</style>\n",
       "<table border=\"1\" class=\"dataframe\">\n",
       "  <thead>\n",
       "    <tr style=\"text-align: right;\">\n",
       "      <th></th>\n",
       "      <th>name</th>\n",
       "      <th>library</th>\n",
       "      <th>report</th>\n",
       "      <th>fastq</th>\n",
       "    </tr>\n",
       "  </thead>\n",
       "  <tbody>\n",
       "    <tr>\n",
       "      <td>0</td>\n",
       "      <td>recA_lib-1</td>\n",
       "      <td>lib-1</td>\n",
       "      <td>input_files/recA_lib-1_report.txt</td>\n",
       "      <td>input_files/recA_lib-1_ccs.fastq</td>\n",
       "    </tr>\n",
       "    <tr>\n",
       "      <td>1</td>\n",
       "      <td>recA_lib-2</td>\n",
       "      <td>lib-2</td>\n",
       "      <td>input_files/recA_lib-2_report.txt</td>\n",
       "      <td>input_files/recA_lib-2_ccs.fastq</td>\n",
       "    </tr>\n",
       "  </tbody>\n",
       "</table>\n",
       "</div>"
      ],
      "text/plain": [
       "         name library                             report  \\\n",
       "0  recA_lib-1   lib-1  input_files/recA_lib-1_report.txt   \n",
       "1  recA_lib-2   lib-2  input_files/recA_lib-2_report.txt   \n",
       "\n",
       "                              fastq  \n",
       "0  input_files/recA_lib-1_ccs.fastq  \n",
       "1  input_files/recA_lib-2_ccs.fastq  "
      ]
     },
     "execution_count": 9,
     "metadata": {},
     "output_type": "execute_result"
    }
   ],
   "source": [
    "run_names = ['recA_lib-1', 'recA_lib-2']\n",
    "libraries = ['lib-1', 'lib-2']\n",
    "ccs_dir = 'input_files'\n",
    "\n",
    "pacbio_runs = pd.DataFrame(\n",
    "            {'name': run_names,\n",
    "             'library': libraries,\n",
    "             'report': [f\"{ccs_dir}/{name}_report.txt\" for name in run_names],\n",
    "             'fastq': [f\"{ccs_dir}/{name}_ccs.fastq\" for name in run_names]\n",
    "             })\n",
    "\n",
    "pacbio_runs"
   ]
  },
  {
   "cell_type": "markdown",
   "metadata": {},
   "source": [
    "We create a `Summaries` object for these CCSs:"
   ]
  },
  {
   "cell_type": "code",
   "execution_count": 10,
   "metadata": {},
   "outputs": [],
   "source": [
    "ccs_summaries = alignparse.ccs.Summaries(pacbio_runs)"
   ]
  },
  {
   "cell_type": "markdown",
   "metadata": {},
   "source": [
    "Plot how many ZMWs yielded CCSs:"
   ]
  },
  {
   "cell_type": "code",
   "execution_count": 11,
   "metadata": {},
   "outputs": [
    {
     "data": {
      "image/png": "[encoded data removed]",
      "text/plain": [
       "<Figure size 80x250 with 1 Axes>"
      ]
     },
     "metadata": {},
     "output_type": "display_data"
    }
   ],
   "source": [
    "p = ccs_summaries.plot_zmw_stats()\n",
    "_ = p.draw()"
   ]
  },
  {
   "cell_type": "markdown",
   "metadata": {},
   "source": [
    "Statistics on the CCSs (length, number of subread passes, quality):"
   ]
  },
  {
   "cell_type": "code",
   "execution_count": 12,
   "metadata": {},
   "outputs": [
    {
     "data": {
      "image/png": "[encoded data removed]",
      "text/plain": [
       "<Figure size 350x175 with 2 Axes>"
      ]
     },
     "metadata": {},
     "output_type": "display_data"
    },
    {
     "data": {
      "image/png": "[encoded data removed]",
      "text/plain": [
       "<Figure size 350x175 with 2 Axes>"
      ]
     },
     "metadata": {},
     "output_type": "display_data"
    },
    {
     "data": {
      "image/png": "[encoded data removed]",
      "text/plain": [
       "<Figure size 350x175 with 2 Axes>"
      ]
     },
     "metadata": {},
     "output_type": "display_data"
    }
   ],
   "source": [
    "for stat in ['length', 'passes', 'quality']:\n",
    "    p = ccs_summaries.plot_ccs_stats(stat)\n",
    "    _ = p.draw()"
   ]
  },
  {
   "cell_type": "markdown",
   "metadata": {},
   "source": [
    "## Align CCSs to target\n",
    "Now we use `minimap2` to align the CCSs to the target.\n",
    "\n",
    "First, we create a `Mapper` object to run `minimap2`, using the options for codon-level deep mutational scanning:"
   ]
  },
  {
   "cell_type": "code",
   "execution_count": 13,
   "metadata": {},
   "outputs": [
    {
     "name": "stdout",
     "output_type": "stream",
     "text": [
      "Using `minimap2` 2.17-r941 with these options:\n",
      "-A2 -B4 -O12 -E2 --end-bonus=13 --score-N=4 --secondary=no --cs\n"
     ]
    }
   ],
   "source": [
    "mapper = alignparse.minimap2.Mapper(alignparse.minimap2.OPTIONS_CODON_DMS)\n",
    "\n",
    "print(f\"Using `minimap2` {mapper.version} with these options:\\n\" +\n",
    "      ' '.join(mapper.options))"
   ]
  },
  {
   "cell_type": "markdown",
   "metadata": {},
   "source": [
    "Now use the mapper to actually align the FASTQ queries to the target.\n",
    "We'll do this just for the first PacBio run:"
   ]
  },
  {
   "cell_type": "code",
   "execution_count": 14,
   "metadata": {},
   "outputs": [
    {
     "name": "stdout",
     "output_type": "stream",
     "text": [
      "Aligning input_files/recA_lib-1_ccs.fastq to create ./output_files/alignment.sam\n"
     ]
    }
   ],
   "source": [
    "first_fastq = pacbio_runs.ix[0, 'fastq']\n",
    "alignmentfile = os.path.join(outdir, 'alignment.sam')\n",
    "print(f\"Aligning {first_fastq} to create {alignmentfile}\")\n",
    "targets.align(queryfile=first_fastq,\n",
    "              alignmentfile=alignmentfile,\n",
    "              mapper=mapper)"
   ]
  },
  {
   "cell_type": "markdown",
   "metadata": {},
   "source": [
    "These SAM files now contain the alignments along with the `minimap2`-generated [`cs` tag](https://github.com/lh3/minimap2#cs), which contains details on the mutations.\n",
    "Here is an example of the `cs` tag:"
   ]
  },
  {
   "cell_type": "code",
   "execution_count": 15,
   "metadata": {},
   "outputs": [
    {
     "name": "stdout",
     "output_type": "stream",
     "text": [
      "`cs` tag of first alignment in ./output_files/alignment.sam:\n",
      ":32*ng:234*ag*tg*cg:93+a:268+a:416*ca*at*gt:235*ng*ng*nt*nc*na*nc*nt*na*ng*ng*ng*na*ng*na*ng*nc*nt*nt:7*nc:31\n"
     ]
    }
   ],
   "source": [
    "with pysam.AlignmentFile(alignmentfile) as f:\n",
    "    a = next(f)\n",
    "    print(f\"`cs` tag of first alignment in {alignmentfile}:\\n\" + \n",
    "          a.get_tag('cs'))"
   ]
  },
  {
   "cell_type": "markdown",
   "metadata": {},
   "source": [
    "## Parse alignments\n",
    "We can use `Targets.parse_alignments` to parse the SAM files to get the information we specified for return using `feature_parse_specs`.\n",
    "This function returns a data frames (`readstats`) on the overall parsing stats, plus dicts keyed by the names of each target in `Targets` giving data frames on the aligned and filtered reads:"
   ]
  },
  {
   "cell_type": "code",
   "execution_count": 16,
   "metadata": {},
   "outputs": [],
   "source": [
    "readstats, aligned, filtered = targets.parse_alignment(alignmentfile)"
   ]
  },
  {
   "cell_type": "markdown",
   "metadata": {},
   "source": [
    "Lets look at the read stats:"
   ]
  },
  {
   "cell_type": "code",
   "execution_count": 17,
   "metadata": {},
   "outputs": [
    {
     "data": {
      "text/html": [
       "<div>\n",
       "<style scoped>\n",
       "    .dataframe tbody tr th:only-of-type {\n",
       "        vertical-align: middle;\n",
       "    }\n",
       "\n",
       "    .dataframe tbody tr th {\n",
       "        vertical-align: top;\n",
       "    }\n",
       "\n",
       "    .dataframe thead th {\n",
       "        text-align: right;\n",
       "    }\n",
       "</style>\n",
       "<table border=\"1\" class=\"dataframe\">\n",
       "  <thead>\n",
       "    <tr style=\"text-align: right;\">\n",
       "      <th></th>\n",
       "      <th>category</th>\n",
       "      <th>count</th>\n",
       "    </tr>\n",
       "  </thead>\n",
       "  <tbody>\n",
       "    <tr>\n",
       "      <td>0</td>\n",
       "      <td>aligned RecA_PacBio_amplicon</td>\n",
       "      <td>83</td>\n",
       "    </tr>\n",
       "    <tr>\n",
       "      <td>1</td>\n",
       "      <td>filtered RecA_PacBio_amplicon</td>\n",
       "      <td>17</td>\n",
       "    </tr>\n",
       "    <tr>\n",
       "      <td>2</td>\n",
       "      <td>unmapped</td>\n",
       "      <td>0</td>\n",
       "    </tr>\n",
       "  </tbody>\n",
       "</table>\n",
       "</div>"
      ],
      "text/plain": [
       "                        category  count\n",
       "0   aligned RecA_PacBio_amplicon     83\n",
       "1  filtered RecA_PacBio_amplicon     17\n",
       "2                       unmapped      0"
      ]
     },
     "execution_count": 17,
     "metadata": {},
     "output_type": "execute_result"
    }
   ],
   "source": [
    "readstats"
   ]
  },
  {
   "cell_type": "markdown",
   "metadata": {},
   "source": [
    "We have parsed alignments and filtering information for each target (in this case there is just one target).\n",
    "Let's look at the first few lines of those data frames:"
   ]
  },
  {
   "cell_type": "code",
   "execution_count": 18,
   "metadata": {},
   "outputs": [
    {
     "name": "stdout",
     "output_type": "stream",
     "text": [
      "First few lines of parsed alignments for RecA_PacBio_amplicon\n"
     ]
    },
    {
     "data": {
      "text/html": [
       "<div>\n",
       "<style scoped>\n",
       "    .dataframe tbody tr th:only-of-type {\n",
       "        vertical-align: middle;\n",
       "    }\n",
       "\n",
       "    .dataframe tbody tr th {\n",
       "        vertical-align: top;\n",
       "    }\n",
       "\n",
       "    .dataframe thead th {\n",
       "        text-align: right;\n",
       "    }\n",
       "</style>\n",
       "<table border=\"1\" class=\"dataframe\">\n",
       "  <thead>\n",
       "    <tr style=\"text-align: right;\">\n",
       "      <th></th>\n",
       "      <th>query_name</th>\n",
       "      <th>query_clip5</th>\n",
       "      <th>query_clip3</th>\n",
       "      <th>gene_mutations</th>\n",
       "      <th>barcode_sequence</th>\n",
       "      <th>variant_tag5_sequence</th>\n",
       "      <th>variant_tag3_sequence</th>\n",
       "    </tr>\n",
       "  </thead>\n",
       "  <tbody>\n",
       "    <tr>\n",
       "      <td>0</td>\n",
       "      <td>m54228_181120_212724/4194370/ccs</td>\n",
       "      <td>0</td>\n",
       "      <td>0</td>\n",
       "      <td>A121G T122G C123G ins217A ins485A C901A A902T ...</td>\n",
       "      <td>GGTCACTAGGGAGAGCTT</td>\n",
       "      <td>G</td>\n",
       "      <td>C</td>\n",
       "    </tr>\n",
       "    <tr>\n",
       "      <td>1</td>\n",
       "      <td>m54228_181120_212724/4194376/ccs</td>\n",
       "      <td>0</td>\n",
       "      <td>0</td>\n",
       "      <td>A937T A938T C939A</td>\n",
       "      <td>ACCAGTGTTTGCAGGATC</td>\n",
       "      <td>G</td>\n",
       "      <td>C</td>\n",
       "    </tr>\n",
       "    <tr>\n",
       "      <td>2</td>\n",
       "      <td>m54228_181120_212724/4194377/ccs</td>\n",
       "      <td>0</td>\n",
       "      <td>0</td>\n",
       "      <td>G112A T113A G114A G643T C644G</td>\n",
       "      <td>ATAAACCTAAACGCAGTA</td>\n",
       "      <td>G</td>\n",
       "      <td>C</td>\n",
       "    </tr>\n",
       "    <tr>\n",
       "      <td>3</td>\n",
       "      <td>m54228_181120_212724/4194382/ccs</td>\n",
       "      <td>0</td>\n",
       "      <td>0</td>\n",
       "      <td>ins116A A148T T149G A965C ins1043A</td>\n",
       "      <td>AGACTGACCAACAGGAAG</td>\n",
       "      <td>A</td>\n",
       "      <td>T</td>\n",
       "    </tr>\n",
       "    <tr>\n",
       "      <td>4</td>\n",
       "      <td>m54228_181120_212724/4194386/ccs</td>\n",
       "      <td>0</td>\n",
       "      <td>0</td>\n",
       "      <td>A895C T896C C897T G930A</td>\n",
       "      <td>AACCCAACTGTAAAGGCG</td>\n",
       "      <td>G</td>\n",
       "      <td>C</td>\n",
       "    </tr>\n",
       "  </tbody>\n",
       "</table>\n",
       "</div>"
      ],
      "text/plain": [
       "                         query_name  query_clip5  query_clip3  \\\n",
       "0  m54228_181120_212724/4194370/ccs            0            0   \n",
       "1  m54228_181120_212724/4194376/ccs            0            0   \n",
       "2  m54228_181120_212724/4194377/ccs            0            0   \n",
       "3  m54228_181120_212724/4194382/ccs            0            0   \n",
       "4  m54228_181120_212724/4194386/ccs            0            0   \n",
       "\n",
       "                                      gene_mutations    barcode_sequence  \\\n",
       "0  A121G T122G C123G ins217A ins485A C901A A902T ...  GGTCACTAGGGAGAGCTT   \n",
       "1                                  A937T A938T C939A  ACCAGTGTTTGCAGGATC   \n",
       "2                      G112A T113A G114A G643T C644G  ATAAACCTAAACGCAGTA   \n",
       "3                 ins116A A148T T149G A965C ins1043A  AGACTGACCAACAGGAAG   \n",
       "4                            A895C T896C C897T G930A  AACCCAACTGTAAAGGCG   \n",
       "\n",
       "  variant_tag5_sequence variant_tag3_sequence  \n",
       "0                     G                     C  \n",
       "1                     G                     C  \n",
       "2                     G                     C  \n",
       "3                     A                     T  \n",
       "4                     G                     C  "
      ]
     },
     "metadata": {},
     "output_type": "display_data"
    },
    {
     "name": "stdout",
     "output_type": "stream",
     "text": [
      "First few lines of filtering information for RecA_PacBio_amplicon\n"
     ]
    },
    {
     "data": {
      "text/html": [
       "<div>\n",
       "<style scoped>\n",
       "    .dataframe tbody tr th:only-of-type {\n",
       "        vertical-align: middle;\n",
       "    }\n",
       "\n",
       "    .dataframe tbody tr th {\n",
       "        vertical-align: top;\n",
       "    }\n",
       "\n",
       "    .dataframe thead th {\n",
       "        text-align: right;\n",
       "    }\n",
       "</style>\n",
       "<table border=\"1\" class=\"dataframe\">\n",
       "  <thead>\n",
       "    <tr style=\"text-align: right;\">\n",
       "      <th></th>\n",
       "      <th>query_name</th>\n",
       "      <th>filter_reason</th>\n",
       "    </tr>\n",
       "  </thead>\n",
       "  <tbody>\n",
       "    <tr>\n",
       "      <td>0</td>\n",
       "      <td>m54228_181120_212724/4194398/ccs</td>\n",
       "      <td>query_clip5</td>\n",
       "    </tr>\n",
       "    <tr>\n",
       "      <td>1</td>\n",
       "      <td>m54228_181120_212724/4194398/ccs</td>\n",
       "      <td>termini5 clip5</td>\n",
       "    </tr>\n",
       "    <tr>\n",
       "      <td>2</td>\n",
       "      <td>m54228_181120_212724/4194406/ccs</td>\n",
       "      <td>gene mutation_nt_count</td>\n",
       "    </tr>\n",
       "    <tr>\n",
       "      <td>3</td>\n",
       "      <td>m54228_181120_212724/4194489/ccs</td>\n",
       "      <td>barcode mutation_nt_count</td>\n",
       "    </tr>\n",
       "    <tr>\n",
       "      <td>4</td>\n",
       "      <td>m54228_181120_212724/4194541/ccs</td>\n",
       "      <td>barcode mutation_nt_count</td>\n",
       "    </tr>\n",
       "  </tbody>\n",
       "</table>\n",
       "</div>"
      ],
      "text/plain": [
       "                         query_name              filter_reason\n",
       "0  m54228_181120_212724/4194398/ccs                query_clip5\n",
       "1  m54228_181120_212724/4194398/ccs             termini5 clip5\n",
       "2  m54228_181120_212724/4194406/ccs     gene mutation_nt_count\n",
       "3  m54228_181120_212724/4194489/ccs  barcode mutation_nt_count\n",
       "4  m54228_181120_212724/4194541/ccs  barcode mutation_nt_count"
      ]
     },
     "metadata": {},
     "output_type": "display_data"
    }
   ],
   "source": [
    "for target in targets.target_names:\n",
    "    print(f\"First few lines of parsed alignments for {target}\")\n",
    "    display(aligned[target].head())\n",
    "    print(f\"First few lines of filtering information for {target}\")\n",
    "    display(filtered[target].head())"
   ]
  },
  {
   "cell_type": "markdown",
   "metadata": {},
   "source": [
    "We can see that data frames in `aligned` give the information we want in a nice format.\n",
    "The mutations to the gene are indicated in human readable form (with **1**-based numbering of the gene feature), and we have the sequence of the barcode and the variant tags.\n",
    "\n",
    "The alignment data frames like the ones shown above should be the starting point for your downstream analysis, which will obviously be customized based on what you want to do."
   ]
  },
  {
   "cell_type": "markdown",
   "metadata": {},
   "source": [
    "## Align and parse several sets of CCSs\n",
    "The examples above show how to use `Targets.align` and `Targets.parse_alignments` to align and parse a single set of queries.\n",
    "But often we may have several sets of CCSs, such as from multiple PacBio runs.\n",
    "In that case, `Targets.align_and_parse` can be used to automate the process of aligning and parsing all these sets and then aggregating the results.\n",
    "\n",
    "First, we define a directory to place the created files:"
   ]
  },
  {
   "cell_type": "code",
   "execution_count": 19,
   "metadata": {},
   "outputs": [],
   "source": [
    "align_and_parse_outdir = os.path.join(outdir, 'RecA_align_and_parse')"
   ]
  },
  {
   "cell_type": "markdown",
   "metadata": {},
   "source": [
    "Now we run `Targets.align_and_parse` on all the CCS sets in `pacbio_runs`:"
   ]
  },
  {
   "cell_type": "code",
   "execution_count": 20,
   "metadata": {},
   "outputs": [],
   "source": [
    "readstats, aligned, filtered = targets.align_and_parse(\n",
    "        df=pacbio_runs,\n",
    "        mapper=mapper,\n",
    "        outdir=align_and_parse_outdir,\n",
    "        name_col='name',\n",
    "        queryfile_col='fastq',\n",
    "        group_cols=['library'],\n",
    "        overwrite=True,  # overwrite any existing output\n",
    "        ncpus=-1,  # use all available CPUs\n",
    "        )"
   ]
  },
  {
   "cell_type": "markdown",
   "metadata": {},
   "source": [
    "Now we can see that the read stats are provided for each run:"
   ]
  },
  {
   "cell_type": "code",
   "execution_count": 21,
   "metadata": {},
   "outputs": [
    {
     "data": {
      "text/html": [
       "<div>\n",
       "<style scoped>\n",
       "    .dataframe tbody tr th:only-of-type {\n",
       "        vertical-align: middle;\n",
       "    }\n",
       "\n",
       "    .dataframe tbody tr th {\n",
       "        vertical-align: top;\n",
       "    }\n",
       "\n",
       "    .dataframe thead th {\n",
       "        text-align: right;\n",
       "    }\n",
       "</style>\n",
       "<table border=\"1\" class=\"dataframe\">\n",
       "  <thead>\n",
       "    <tr style=\"text-align: right;\">\n",
       "      <th></th>\n",
       "      <th>library</th>\n",
       "      <th>name</th>\n",
       "      <th>category</th>\n",
       "      <th>count</th>\n",
       "    </tr>\n",
       "  </thead>\n",
       "  <tbody>\n",
       "    <tr>\n",
       "      <td>0</td>\n",
       "      <td>lib-1</td>\n",
       "      <td>recA_lib-1</td>\n",
       "      <td>aligned RecA_PacBio_amplicon</td>\n",
       "      <td>83</td>\n",
       "    </tr>\n",
       "    <tr>\n",
       "      <td>1</td>\n",
       "      <td>lib-1</td>\n",
       "      <td>recA_lib-1</td>\n",
       "      <td>filtered RecA_PacBio_amplicon</td>\n",
       "      <td>17</td>\n",
       "    </tr>\n",
       "    <tr>\n",
       "      <td>2</td>\n",
       "      <td>lib-1</td>\n",
       "      <td>recA_lib-1</td>\n",
       "      <td>unmapped</td>\n",
       "      <td>0</td>\n",
       "    </tr>\n",
       "    <tr>\n",
       "      <td>3</td>\n",
       "      <td>lib-2</td>\n",
       "      <td>recA_lib-2</td>\n",
       "      <td>aligned RecA_PacBio_amplicon</td>\n",
       "      <td>86</td>\n",
       "    </tr>\n",
       "    <tr>\n",
       "      <td>4</td>\n",
       "      <td>lib-2</td>\n",
       "      <td>recA_lib-2</td>\n",
       "      <td>filtered RecA_PacBio_amplicon</td>\n",
       "      <td>16</td>\n",
       "    </tr>\n",
       "    <tr>\n",
       "      <td>5</td>\n",
       "      <td>lib-2</td>\n",
       "      <td>recA_lib-2</td>\n",
       "      <td>unmapped</td>\n",
       "      <td>0</td>\n",
       "    </tr>\n",
       "  </tbody>\n",
       "</table>\n",
       "</div>"
      ],
      "text/plain": [
       "  library        name                       category  count\n",
       "0   lib-1  recA_lib-1   aligned RecA_PacBio_amplicon     83\n",
       "1   lib-1  recA_lib-1  filtered RecA_PacBio_amplicon     17\n",
       "2   lib-1  recA_lib-1                       unmapped      0\n",
       "3   lib-2  recA_lib-2   aligned RecA_PacBio_amplicon     86\n",
       "4   lib-2  recA_lib-2  filtered RecA_PacBio_amplicon     16\n",
       "5   lib-2  recA_lib-2                       unmapped      0"
      ]
     },
     "execution_count": 21,
     "metadata": {},
     "output_type": "execute_result"
    }
   ],
   "source": [
    "readstats"
   ]
  },
  {
   "cell_type": "markdown",
   "metadata": {},
   "source": [
    "And likewise for the information on the parsed alignments and filtered reads:"
   ]
  },
  {
   "cell_type": "code",
   "execution_count": 22,
   "metadata": {},
   "outputs": [
    {
     "name": "stdout",
     "output_type": "stream",
     "text": [
      "First few lines of parsed alignments for RecA_PacBio_amplicon\n"
     ]
    },
    {
     "data": {
      "text/html": [
       "<div>\n",
       "<style scoped>\n",
       "    .dataframe tbody tr th:only-of-type {\n",
       "        vertical-align: middle;\n",
       "    }\n",
       "\n",
       "    .dataframe tbody tr th {\n",
       "        vertical-align: top;\n",
       "    }\n",
       "\n",
       "    .dataframe thead th {\n",
       "        text-align: right;\n",
       "    }\n",
       "</style>\n",
       "<table border=\"1\" class=\"dataframe\">\n",
       "  <thead>\n",
       "    <tr style=\"text-align: right;\">\n",
       "      <th></th>\n",
       "      <th>library</th>\n",
       "      <th>name</th>\n",
       "      <th>query_name</th>\n",
       "      <th>query_clip5</th>\n",
       "      <th>query_clip3</th>\n",
       "      <th>gene_mutations</th>\n",
       "      <th>barcode_sequence</th>\n",
       "      <th>variant_tag5_sequence</th>\n",
       "      <th>variant_tag3_sequence</th>\n",
       "    </tr>\n",
       "  </thead>\n",
       "  <tbody>\n",
       "    <tr>\n",
       "      <td>0</td>\n",
       "      <td>lib-1</td>\n",
       "      <td>recA_lib-1</td>\n",
       "      <td>m54228_181120_212724/4194370/ccs</td>\n",
       "      <td>0</td>\n",
       "      <td>0</td>\n",
       "      <td>A121G T122G C123G ins217A ins485A C901A A902T ...</td>\n",
       "      <td>GGTCACTAGGGAGAGCTT</td>\n",
       "      <td>G</td>\n",
       "      <td>C</td>\n",
       "    </tr>\n",
       "    <tr>\n",
       "      <td>1</td>\n",
       "      <td>lib-1</td>\n",
       "      <td>recA_lib-1</td>\n",
       "      <td>m54228_181120_212724/4194376/ccs</td>\n",
       "      <td>0</td>\n",
       "      <td>0</td>\n",
       "      <td>A937T A938T C939A</td>\n",
       "      <td>ACCAGTGTTTGCAGGATC</td>\n",
       "      <td>G</td>\n",
       "      <td>C</td>\n",
       "    </tr>\n",
       "    <tr>\n",
       "      <td>2</td>\n",
       "      <td>lib-1</td>\n",
       "      <td>recA_lib-1</td>\n",
       "      <td>m54228_181120_212724/4194377/ccs</td>\n",
       "      <td>0</td>\n",
       "      <td>0</td>\n",
       "      <td>G112A T113A G114A G643T C644G</td>\n",
       "      <td>ATAAACCTAAACGCAGTA</td>\n",
       "      <td>G</td>\n",
       "      <td>C</td>\n",
       "    </tr>\n",
       "    <tr>\n",
       "      <td>3</td>\n",
       "      <td>lib-1</td>\n",
       "      <td>recA_lib-1</td>\n",
       "      <td>m54228_181120_212724/4194382/ccs</td>\n",
       "      <td>0</td>\n",
       "      <td>0</td>\n",
       "      <td>ins116A A148T T149G A965C ins1043A</td>\n",
       "      <td>AGACTGACCAACAGGAAG</td>\n",
       "      <td>A</td>\n",
       "      <td>T</td>\n",
       "    </tr>\n",
       "    <tr>\n",
       "      <td>4</td>\n",
       "      <td>lib-1</td>\n",
       "      <td>recA_lib-1</td>\n",
       "      <td>m54228_181120_212724/4194386/ccs</td>\n",
       "      <td>0</td>\n",
       "      <td>0</td>\n",
       "      <td>A895C T896C C897T G930A</td>\n",
       "      <td>AACCCAACTGTAAAGGCG</td>\n",
       "      <td>G</td>\n",
       "      <td>C</td>\n",
       "    </tr>\n",
       "  </tbody>\n",
       "</table>\n",
       "</div>"
      ],
      "text/plain": [
       "  library        name                        query_name  query_clip5  \\\n",
       "0   lib-1  recA_lib-1  m54228_181120_212724/4194370/ccs            0   \n",
       "1   lib-1  recA_lib-1  m54228_181120_212724/4194376/ccs            0   \n",
       "2   lib-1  recA_lib-1  m54228_181120_212724/4194377/ccs            0   \n",
       "3   lib-1  recA_lib-1  m54228_181120_212724/4194382/ccs            0   \n",
       "4   lib-1  recA_lib-1  m54228_181120_212724/4194386/ccs            0   \n",
       "\n",
       "   query_clip3                                     gene_mutations  \\\n",
       "0            0  A121G T122G C123G ins217A ins485A C901A A902T ...   \n",
       "1            0                                  A937T A938T C939A   \n",
       "2            0                      G112A T113A G114A G643T C644G   \n",
       "3            0                 ins116A A148T T149G A965C ins1043A   \n",
       "4            0                            A895C T896C C897T G930A   \n",
       "\n",
       "     barcode_sequence variant_tag5_sequence variant_tag3_sequence  \n",
       "0  GGTCACTAGGGAGAGCTT                     G                     C  \n",
       "1  ACCAGTGTTTGCAGGATC                     G                     C  \n",
       "2  ATAAACCTAAACGCAGTA                     G                     C  \n",
       "3  AGACTGACCAACAGGAAG                     A                     T  \n",
       "4  AACCCAACTGTAAAGGCG                     G                     C  "
      ]
     },
     "metadata": {},
     "output_type": "display_data"
    },
    {
     "name": "stdout",
     "output_type": "stream",
     "text": [
      "First few lines of filtering information for RecA_PacBio_amplicon\n"
     ]
    },
    {
     "data": {
      "text/html": [
       "<div>\n",
       "<style scoped>\n",
       "    .dataframe tbody tr th:only-of-type {\n",
       "        vertical-align: middle;\n",
       "    }\n",
       "\n",
       "    .dataframe tbody tr th {\n",
       "        vertical-align: top;\n",
       "    }\n",
       "\n",
       "    .dataframe thead th {\n",
       "        text-align: right;\n",
       "    }\n",
       "</style>\n",
       "<table border=\"1\" class=\"dataframe\">\n",
       "  <thead>\n",
       "    <tr style=\"text-align: right;\">\n",
       "      <th></th>\n",
       "      <th>library</th>\n",
       "      <th>name</th>\n",
       "      <th>query_name</th>\n",
       "      <th>filter_reason</th>\n",
       "    </tr>\n",
       "  </thead>\n",
       "  <tbody>\n",
       "    <tr>\n",
       "      <td>0</td>\n",
       "      <td>lib-1</td>\n",
       "      <td>recA_lib-1</td>\n",
       "      <td>m54228_181120_212724/4194398/ccs</td>\n",
       "      <td>query_clip5</td>\n",
       "    </tr>\n",
       "    <tr>\n",
       "      <td>1</td>\n",
       "      <td>lib-1</td>\n",
       "      <td>recA_lib-1</td>\n",
       "      <td>m54228_181120_212724/4194398/ccs</td>\n",
       "      <td>termini5 clip5</td>\n",
       "    </tr>\n",
       "    <tr>\n",
       "      <td>2</td>\n",
       "      <td>lib-1</td>\n",
       "      <td>recA_lib-1</td>\n",
       "      <td>m54228_181120_212724/4194406/ccs</td>\n",
       "      <td>gene mutation_nt_count</td>\n",
       "    </tr>\n",
       "    <tr>\n",
       "      <td>3</td>\n",
       "      <td>lib-1</td>\n",
       "      <td>recA_lib-1</td>\n",
       "      <td>m54228_181120_212724/4194489/ccs</td>\n",
       "      <td>barcode mutation_nt_count</td>\n",
       "    </tr>\n",
       "    <tr>\n",
       "      <td>4</td>\n",
       "      <td>lib-1</td>\n",
       "      <td>recA_lib-1</td>\n",
       "      <td>m54228_181120_212724/4194541/ccs</td>\n",
       "      <td>barcode mutation_nt_count</td>\n",
       "    </tr>\n",
       "  </tbody>\n",
       "</table>\n",
       "</div>"
      ],
      "text/plain": [
       "  library        name                        query_name  \\\n",
       "0   lib-1  recA_lib-1  m54228_181120_212724/4194398/ccs   \n",
       "1   lib-1  recA_lib-1  m54228_181120_212724/4194398/ccs   \n",
       "2   lib-1  recA_lib-1  m54228_181120_212724/4194406/ccs   \n",
       "3   lib-1  recA_lib-1  m54228_181120_212724/4194489/ccs   \n",
       "4   lib-1  recA_lib-1  m54228_181120_212724/4194541/ccs   \n",
       "\n",
       "               filter_reason  \n",
       "0                query_clip5  \n",
       "1             termini5 clip5  \n",
       "2     gene mutation_nt_count  \n",
       "3  barcode mutation_nt_count  \n",
       "4  barcode mutation_nt_count  "
      ]
     },
     "metadata": {},
     "output_type": "display_data"
    }
   ],
   "source": [
    "for target in targets.target_names:\n",
    "    print(f\"First few lines of parsed alignments for {target}\")\n",
    "    display(aligned[target].head())\n",
    "    print(f\"First few lines of filtering information for {target}\")\n",
    "    display(filtered[target].head())"
   ]
  },
  {
   "cell_type": "markdown",
   "metadata": {},
   "source": [
    "Plot the read stats:"
   ]
  },
  {
   "cell_type": "code",
   "execution_count": 23,
   "metadata": {},
   "outputs": [
    {
     "data": {
      "image/png": "[encoded data removed]",
      "text/plain": [
       "<Figure size 300x250 with 2 Axes>"
      ]
     },
     "metadata": {},
     "output_type": "display_data"
    }
   ],
   "source": [
    "p = (\n",
    "    ggplot(readstats, aes('category', 'count')) +\n",
    "    geom_bar(stat='identity') +\n",
    "    facet_wrap('~ name', nrow=1) +\n",
    "    theme(axis_text_x=element_text(angle=90),\n",
    "          figure_size=(1.5 * len(pacbio_runs), 2.5)\n",
    "          )\n",
    "    )\n",
    "_ = p.draw()"
   ]
  },
  {
   "cell_type": "markdown",
   "metadata": {},
   "source": [
    "Plot the various reasons reads were filtered:"
   ]
  },
  {
   "cell_type": "code",
   "execution_count": 24,
   "metadata": {},
   "outputs": [
    {
     "data": {
      "image/png": "[encoded data removed]",
      "text/plain": [
       "<Figure size 660x250 with 2 Axes>"
      ]
     },
     "metadata": {},
     "output_type": "display_data"
    }
   ],
   "source": [
    "for targetname in targets.target_names:\n",
    "    target_filtered = filtered[targetname]\n",
    "    nreasons = target_filtered['filter_reason'].nunique()\n",
    "    p = (\n",
    "        ggplot(target_filtered, aes('filter_reason')) +\n",
    "        geom_bar() +\n",
    "        facet_wrap('~ name', nrow=1) +\n",
    "        labs(title=targetname) +\n",
    "        theme(axis_text_x=element_text(angle=90),\n",
    "              figure_size=(0.3 * nreasons * len(pacbio_runs), 2.5),\n",
    "              )\n",
    "        )\n",
    "    _ = p.draw()"
   ]
  },
  {
   "cell_type": "markdown",
   "metadata": {},
   "source": [
    "We can also look at all the files created by running `Targets.align_and_parse`, which include the SAM alignments and parsing results for each run:"
   ]
  },
  {
   "cell_type": "code",
   "execution_count": 25,
   "metadata": {},
   "outputs": [
    {
     "name": "stdout",
     "output_type": "stream",
     "text": [
      "Contents of ./output_files/RecA_align_and_parse:\n",
      "------------------------------------------------\n",
      "  RecA_PacBio_amplicon_aligned.csv\n",
      "  RecA_PacBio_amplicon_filtered.csv\n",
      "  lib-1_recA_lib-1/alignments.sam\n",
      "  lib-1_recA_lib-1/RecA_PacBio_amplicon_aligned.csv\n",
      "  lib-1_recA_lib-1/RecA_PacBio_amplicon_filtered.csv\n",
      "  lib-2_recA_lib-2/alignments.sam\n",
      "  lib-2_recA_lib-2/RecA_PacBio_amplicon_aligned.csv\n",
      "  lib-2_recA_lib-2/RecA_PacBio_amplicon_filtered.csv\n"
     ]
    }
   ],
   "source": [
    "print(f\"Contents of {align_and_parse_outdir}:\\n\" + '-' * 48)\n",
    "for d, _, fs in os.walk(align_and_parse_outdir):\n",
    "    for f in fs:\n",
    "        print('  ' + os.path.relpath(os.path.join(d, f),\n",
    "                                     align_and_parse_outdir))"
   ]
  },
  {
   "cell_type": "markdown",
   "metadata": {},
   "source": [
    "The above example read all of the information on the parsed alignments into data frames.\n",
    "For large data sets, these data frames might be very large.\n",
    "If you don't want to read them into memory, then use the `to_csv` option.\n",
    "In that case, the returned values from `Targets.align_and_parse` simply gives the locations of CSV files with the information in the data frames:"
   ]
  },
  {
   "cell_type": "code",
   "execution_count": 26,
   "metadata": {},
   "outputs": [],
   "source": [
    "readstats_csv, aligned_csv, filtered_csv = targets.align_and_parse(\n",
    "        df=pacbio_runs,\n",
    "        mapper=mapper,\n",
    "        outdir=align_and_parse_outdir,\n",
    "        name_col='name',\n",
    "        queryfile_col='fastq',\n",
    "        group_cols=['library'],\n",
    "        to_csv=True,\n",
    "        overwrite=True,  # overwrite any existing output\n",
    "        ncpus=-1,  # use all available CPUs\n",
    "        )"
   ]
  },
  {
   "cell_type": "markdown",
   "metadata": {},
   "source": [
    "Now the returned information on the parsed alignments and filtering just gives the locations of the CSV files:"
   ]
  },
  {
   "cell_type": "code",
   "execution_count": 27,
   "metadata": {},
   "outputs": [
    {
     "name": "stdout",
     "output_type": "stream",
     "text": [
      "{'RecA_PacBio_amplicon': './output_files/RecA_align_and_parse/RecA_PacBio_amplicon_aligned.csv'}\n",
      "{'RecA_PacBio_amplicon': './output_files/RecA_align_and_parse/RecA_PacBio_amplicon_filtered.csv'}\n"
     ]
    }
   ],
   "source": [
    "print(aligned_csv)\n",
    "print(filtered_csv)"
   ]
  }
 ],
 "metadata": {
  "kernelspec": {
   "display_name": "Python 3",
   "language": "python",
   "name": "python3"
  },
  "language_info": {
   "codemirror_mode": {
    "name": "ipython",
    "version": 3
   },
   "file_extension": ".py",
   "mimetype": "text/x-python",
   "name": "python",
   "nbconvert_exporter": "python",
   "pygments_lexer": "ipython3",
   "version": "3.6.7"
  },
  "toc": {
   "nav_menu": {},
   "number_sections": false,
   "sideBar": true,
   "skip_h1_title": false,
   "toc_cell": true,
   "toc_position": {},
   "toc_section_display": true,
   "toc_window_display": true
  }
 },
 "nbformat": 4,
 "nbformat_minor": 2
}
